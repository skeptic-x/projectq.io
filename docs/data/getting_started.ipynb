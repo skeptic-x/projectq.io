{
 "cells": [
  {
   "cell_type": "markdown",
   "metadata": {
    "cell_id": "fa73a8c7cb5c4e78b6c73949d78b8372",
    "deepnote_app_coordinates": {
     "h": 5,
     "w": 12,
     "x": 0,
     "y": 1
    },
    "deepnote_cell_type": "text-cell-h1",
    "formattedRanges": [],
    "is_collapsed": false,
    "owner_user_id": "5d8bd30b-51f4-4304-a9aa-9aea47b57159",
    "tags": []
   },
   "source": [
    "# Getting Started"
   ]
  },
  {
   "cell_type": "markdown",
   "metadata": {
    "cell_id": "9819aa7108f549799c98cf06c4f34fa7",
    "deepnote_app_coordinates": {
     "h": 5,
     "w": 12,
     "x": 0,
     "y": 91
    },
    "deepnote_cell_height": 52.399993896484375,
    "deepnote_cell_type": "markdown",
    "tags": []
   },
   "source": [
    "This notebook demonstrates how to read source data from [projectq.io/data](https://projectq.io/data)"
   ]
  },
  {
   "cell_type": "markdown",
   "metadata": {
    "cell_id": "c03d023f4b0c4bc0b351b1320bfad443",
    "deepnote_app_coordinates": {
     "h": 5,
     "w": 12,
     "x": 0,
     "y": 7
    },
    "deepnote_cell_height": 130.8000030517578,
    "deepnote_cell_type": "markdown",
    "tags": []
   },
   "source": [
    "## Reading Source Data from projectq.io\n",
    "You can read data directly from projectq.io into your dataframe via python.  Here are some examples to get you started"
   ]
  },
  {
   "cell_type": "markdown",
   "metadata": {
    "cell_id": "2da5b2f60f214d5a8c87338f147d8428",
    "deepnote_app_coordinates": {
     "h": 5,
     "w": 12,
     "x": 0,
     "y": 0
    },
    "deepnote_cell_type": "text-cell-h2",
    "formattedRanges": [],
    "is_collapsed": false,
    "tags": []
   },
   "source": [
    "## Reading Chapter List"
   ]
  },
  {
   "cell_type": "code",
   "execution_count": 1,
   "metadata": {
    "cell_id": "a19307ac-45ff-4d3d-9635-3ec0dd5f91ce",
    "deepnote_app_coordinates": {
     "h": 5,
     "w": 12,
     "x": 0,
     "y": 19
    },
    "deepnote_cell_height": 654,
    "deepnote_cell_type": "code",
    "deepnote_to_be_reexecuted": false,
    "execution_millis": 338,
    "execution_start": 1658115710422,
    "source_hash": "e20fa27d",
    "tags": []
   },
   "outputs": [
    {
     "data": {
      "application/vnd.deepnote.dataframe.v3+json": {
       "column_count": 6,
       "columns": [
        {
         "dtype": "int64",
         "name": "id",
         "stats": {
          "histogram": [
           {
            "bin_end": 12.3,
            "bin_start": 1,
            "count": 12
           },
           {
            "bin_end": 23.6,
            "bin_start": 12.3,
            "count": 11
           },
           {
            "bin_end": 34.900000000000006,
            "bin_start": 23.6,
            "count": 11
           },
           {
            "bin_end": 46.2,
            "bin_start": 34.900000000000006,
            "count": 12
           },
           {
            "bin_end": 57.5,
            "bin_start": 46.2,
            "count": 11
           },
           {
            "bin_end": 68.80000000000001,
            "bin_start": 57.5,
            "count": 11
           },
           {
            "bin_end": 80.10000000000001,
            "bin_start": 68.80000000000001,
            "count": 12
           },
           {
            "bin_end": 91.4,
            "bin_start": 80.10000000000001,
            "count": 11
           },
           {
            "bin_end": 102.7,
            "bin_start": 91.4,
            "count": 11
           },
           {
            "bin_end": 114,
            "bin_start": 102.7,
            "count": 12
           }
          ],
          "max": "114",
          "min": "1",
          "nan_count": 0,
          "unique_count": 114
         }
        },
        {
         "dtype": "object",
         "name": "name",
         "stats": {
          "categories": [
           {
            "count": 1,
            "name": "الفاتحة"
           },
           {
            "count": 1,
            "name": "البقرة"
           },
           {
            "count": 112,
            "name": "112 others"
           }
          ],
          "nan_count": 0,
          "unique_count": 114
         }
        },
        {
         "dtype": "object",
         "name": "transliteration",
         "stats": {
          "categories": [
           {
            "count": 1,
            "name": "Al-Fatihah"
           },
           {
            "count": 1,
            "name": "Al-Baqarah"
           },
           {
            "count": 112,
            "name": "112 others"
           }
          ],
          "nan_count": 0,
          "unique_count": 114
         }
        },
        {
         "dtype": "object",
         "name": "translation",
         "stats": {
          "categories": [
           {
            "count": 1,
            "name": "The Opener"
           },
           {
            "count": 1,
            "name": "The Cow"
           },
           {
            "count": 112,
            "name": "112 others"
           }
          ],
          "nan_count": 0,
          "unique_count": 114
         }
        },
        {
         "dtype": "object",
         "name": "type",
         "stats": {
          "categories": [
           {
            "count": 86,
            "name": "meccan"
           },
           {
            "count": 28,
            "name": "medinan"
           }
          ],
          "nan_count": 0,
          "unique_count": 2
         }
        },
        {
         "dtype": "int64",
         "name": "total_verses",
         "stats": {
          "histogram": [
           {
            "bin_end": 31.3,
            "bin_start": 3,
            "count": 52
           },
           {
            "bin_end": 59.6,
            "bin_start": 31.3,
            "count": 24
           },
           {
            "bin_end": 87.9,
            "bin_start": 59.6,
            "count": 13
           },
           {
            "bin_end": 116.2,
            "bin_start": 87.9,
            "count": 12
           },
           {
            "bin_end": 144.5,
            "bin_start": 116.2,
            "count": 6
           },
           {
            "bin_end": 172.8,
            "bin_start": 144.5,
            "count": 1
           },
           {
            "bin_end": 201.1,
            "bin_start": 172.8,
            "count": 3
           },
           {
            "bin_end": 229.4,
            "bin_start": 201.1,
            "count": 2
           },
           {
            "bin_end": 257.70000000000005,
            "bin_start": 229.4,
            "count": 0
           },
           {
            "bin_end": 286,
            "bin_start": 257.70000000000005,
            "count": 1
           }
          ],
          "max": "286",
          "min": "3",
          "nan_count": 0,
          "unique_count": 77
         }
        },
        {
         "dtype": "int64",
         "name": "_deepnote_index_column"
        }
       ],
       "row_count": 114,
       "rows": [
        {
         "_deepnote_index_column": 0,
         "id": 1,
         "name": "الفاتحة",
         "total_verses": 7,
         "translation": "The Opener",
         "transliteration": "Al-Fatihah",
         "type": "meccan"
        },
        {
         "_deepnote_index_column": 1,
         "id": 2,
         "name": "البقرة",
         "total_verses": 286,
         "translation": "The Cow",
         "transliteration": "Al-Baqarah",
         "type": "medinan"
        },
        {
         "_deepnote_index_column": 2,
         "id": 3,
         "name": "آل عمران",
         "total_verses": 200,
         "translation": "Family of Imran",
         "transliteration": "Ali 'Imran",
         "type": "medinan"
        },
        {
         "_deepnote_index_column": 3,
         "id": 4,
         "name": "النساء",
         "total_verses": 176,
         "translation": "The Women",
         "transliteration": "An-Nisa",
         "type": "medinan"
        },
        {
         "_deepnote_index_column": 4,
         "id": 5,
         "name": "المائدة",
         "total_verses": 120,
         "translation": "The Table Spread",
         "transliteration": "Al-Ma'idah",
         "type": "medinan"
        },
        {
         "_deepnote_index_column": 5,
         "id": 6,
         "name": "الأنعام",
         "total_verses": 165,
         "translation": "The Cattle",
         "transliteration": "Al-An'am",
         "type": "meccan"
        },
        {
         "_deepnote_index_column": 6,
         "id": 7,
         "name": "الأعراف",
         "total_verses": 206,
         "translation": "The Heights",
         "transliteration": "Al-A'raf",
         "type": "meccan"
        },
        {
         "_deepnote_index_column": 7,
         "id": 8,
         "name": "الأنفال",
         "total_verses": 75,
         "translation": "The Spoils of War",
         "transliteration": "Al-Anfal",
         "type": "medinan"
        },
        {
         "_deepnote_index_column": 8,
         "id": 9,
         "name": "التوبة",
         "total_verses": 129,
         "translation": "The Repentance",
         "transliteration": "At-Tawbah",
         "type": "medinan"
        },
        {
         "_deepnote_index_column": 9,
         "id": 10,
         "name": "يونس",
         "total_verses": 109,
         "translation": "Jonah",
         "transliteration": "Yunus",
         "type": "meccan"
        }
       ]
      },
      "text/html": [
       "<div>\n",
       "<style scoped>\n",
       "    .dataframe tbody tr th:only-of-type {\n",
       "        vertical-align: middle;\n",
       "    }\n",
       "\n",
       "    .dataframe tbody tr th {\n",
       "        vertical-align: top;\n",
       "    }\n",
       "\n",
       "    .dataframe thead th {\n",
       "        text-align: right;\n",
       "    }\n",
       "</style>\n",
       "<table border=\"1\" class=\"dataframe\">\n",
       "  <thead>\n",
       "    <tr style=\"text-align: right;\">\n",
       "      <th></th>\n",
       "      <th>id</th>\n",
       "      <th>name</th>\n",
       "      <th>transliteration</th>\n",
       "      <th>translation</th>\n",
       "      <th>type</th>\n",
       "      <th>total_verses</th>\n",
       "    </tr>\n",
       "  </thead>\n",
       "  <tbody>\n",
       "    <tr>\n",
       "      <th>0</th>\n",
       "      <td>1</td>\n",
       "      <td>الفاتحة</td>\n",
       "      <td>Al-Fatihah</td>\n",
       "      <td>The Opener</td>\n",
       "      <td>meccan</td>\n",
       "      <td>7</td>\n",
       "    </tr>\n",
       "    <tr>\n",
       "      <th>1</th>\n",
       "      <td>2</td>\n",
       "      <td>البقرة</td>\n",
       "      <td>Al-Baqarah</td>\n",
       "      <td>The Cow</td>\n",
       "      <td>medinan</td>\n",
       "      <td>286</td>\n",
       "    </tr>\n",
       "    <tr>\n",
       "      <th>2</th>\n",
       "      <td>3</td>\n",
       "      <td>آل عمران</td>\n",
       "      <td>Ali 'Imran</td>\n",
       "      <td>Family of Imran</td>\n",
       "      <td>medinan</td>\n",
       "      <td>200</td>\n",
       "    </tr>\n",
       "    <tr>\n",
       "      <th>3</th>\n",
       "      <td>4</td>\n",
       "      <td>النساء</td>\n",
       "      <td>An-Nisa</td>\n",
       "      <td>The Women</td>\n",
       "      <td>medinan</td>\n",
       "      <td>176</td>\n",
       "    </tr>\n",
       "    <tr>\n",
       "      <th>4</th>\n",
       "      <td>5</td>\n",
       "      <td>المائدة</td>\n",
       "      <td>Al-Ma'idah</td>\n",
       "      <td>The Table Spread</td>\n",
       "      <td>medinan</td>\n",
       "      <td>120</td>\n",
       "    </tr>\n",
       "    <tr>\n",
       "      <th>...</th>\n",
       "      <td>...</td>\n",
       "      <td>...</td>\n",
       "      <td>...</td>\n",
       "      <td>...</td>\n",
       "      <td>...</td>\n",
       "      <td>...</td>\n",
       "    </tr>\n",
       "    <tr>\n",
       "      <th>109</th>\n",
       "      <td>110</td>\n",
       "      <td>النصر</td>\n",
       "      <td>An-Nasr</td>\n",
       "      <td>The Divine Support</td>\n",
       "      <td>medinan</td>\n",
       "      <td>3</td>\n",
       "    </tr>\n",
       "    <tr>\n",
       "      <th>110</th>\n",
       "      <td>111</td>\n",
       "      <td>المسد</td>\n",
       "      <td>Al-Masad</td>\n",
       "      <td>The Palm Fiber</td>\n",
       "      <td>meccan</td>\n",
       "      <td>5</td>\n",
       "    </tr>\n",
       "    <tr>\n",
       "      <th>111</th>\n",
       "      <td>112</td>\n",
       "      <td>الإخلاص</td>\n",
       "      <td>Al-Ikhlas</td>\n",
       "      <td>The Sincerity</td>\n",
       "      <td>meccan</td>\n",
       "      <td>4</td>\n",
       "    </tr>\n",
       "    <tr>\n",
       "      <th>112</th>\n",
       "      <td>113</td>\n",
       "      <td>الفلق</td>\n",
       "      <td>Al-Falaq</td>\n",
       "      <td>The Daybreak</td>\n",
       "      <td>meccan</td>\n",
       "      <td>5</td>\n",
       "    </tr>\n",
       "    <tr>\n",
       "      <th>113</th>\n",
       "      <td>114</td>\n",
       "      <td>الناس</td>\n",
       "      <td>An-Nas</td>\n",
       "      <td>Mankind</td>\n",
       "      <td>meccan</td>\n",
       "      <td>6</td>\n",
       "    </tr>\n",
       "  </tbody>\n",
       "</table>\n",
       "<p>114 rows × 6 columns</p>\n",
       "</div>"
      ],
      "text/plain": [
       "      id      name transliteration         translation     type  total_verses\n",
       "0      1   الفاتحة      Al-Fatihah          The Opener   meccan             7\n",
       "1      2    البقرة      Al-Baqarah             The Cow  medinan           286\n",
       "2      3  آل عمران      Ali 'Imran     Family of Imran  medinan           200\n",
       "3      4    النساء         An-Nisa           The Women  medinan           176\n",
       "4      5   المائدة      Al-Ma'idah    The Table Spread  medinan           120\n",
       "..   ...       ...             ...                 ...      ...           ...\n",
       "109  110     النصر         An-Nasr  The Divine Support  medinan             3\n",
       "110  111     المسد        Al-Masad      The Palm Fiber   meccan             5\n",
       "111  112   الإخلاص       Al-Ikhlas       The Sincerity   meccan             4\n",
       "112  113     الفلق        Al-Falaq        The Daybreak   meccan             5\n",
       "113  114     الناس          An-Nas             Mankind   meccan             6\n",
       "\n",
       "[114 rows x 6 columns]"
      ]
     },
     "execution_count": 1,
     "metadata": {},
     "output_type": "execute_result"
    }
   ],
   "source": [
    "import pandas as pd\n",
    "# Dataset: List of Chapters\n",
    "chapters = pd.read_json('https://projectq.io/data/source/chapters.json')\n",
    "chapters"
   ]
  },
  {
   "cell_type": "markdown",
   "metadata": {
    "cell_id": "1f0f40042b7647f5bb0bef6706716b04",
    "deepnote_app_coordinates": {
     "h": 5,
     "w": 12,
     "x": 0,
     "y": 25
    },
    "deepnote_cell_type": "text-cell-h2",
    "formattedRanges": [],
    "is_collapsed": false,
    "tags": []
   },
   "source": [
    "## Reading Single Chapter with verses"
   ]
  },
  {
   "cell_type": "code",
   "execution_count": 2,
   "metadata": {
    "cell_id": "20fc02f42d3644f7a72ef5ff2e2e61d9",
    "deepnote_app_coordinates": {
     "h": 5,
     "w": 12,
     "x": 0,
     "y": 31
    },
    "deepnote_cell_height": 513,
    "deepnote_cell_type": "code",
    "deepnote_to_be_reexecuted": false,
    "execution_millis": 420,
    "execution_start": 1658115710762,
    "source_hash": "6c8080b9",
    "tags": []
   },
   "outputs": [
    {
     "data": {
      "application/vnd.deepnote.dataframe.v3+json": {
       "column_count": 7,
       "columns": [
        {
         "dtype": "int64",
         "name": "id",
         "stats": {
          "histogram": [
           {
            "bin_end": 0.6,
            "bin_start": 0.5,
            "count": 0
           },
           {
            "bin_end": 0.7,
            "bin_start": 0.6,
            "count": 0
           },
           {
            "bin_end": 0.8,
            "bin_start": 0.7,
            "count": 0
           },
           {
            "bin_end": 0.9,
            "bin_start": 0.8,
            "count": 0
           },
           {
            "bin_end": 1,
            "bin_start": 0.9,
            "count": 0
           },
           {
            "bin_end": 1.1,
            "bin_start": 1,
            "count": 7
           },
           {
            "bin_end": 1.2000000000000002,
            "bin_start": 1.1,
            "count": 0
           },
           {
            "bin_end": 1.3,
            "bin_start": 1.2000000000000002,
            "count": 0
           },
           {
            "bin_end": 1.4,
            "bin_start": 1.3,
            "count": 0
           },
           {
            "bin_end": 1.5,
            "bin_start": 1.4,
            "count": 0
           }
          ],
          "max": "1",
          "min": "1",
          "nan_count": 0,
          "unique_count": 1
         }
        },
        {
         "dtype": "object",
         "name": "name",
         "stats": {
          "categories": [
           {
            "count": 7,
            "name": "الفاتحة"
           }
          ],
          "nan_count": 0,
          "unique_count": 1
         }
        },
        {
         "dtype": "object",
         "name": "transliteration",
         "stats": {
          "categories": [
           {
            "count": 7,
            "name": "Al-Fatihah"
           }
          ],
          "nan_count": 0,
          "unique_count": 1
         }
        },
        {
         "dtype": "object",
         "name": "translation",
         "stats": {
          "categories": [
           {
            "count": 7,
            "name": "The Opener"
           }
          ],
          "nan_count": 0,
          "unique_count": 1
         }
        },
        {
         "dtype": "object",
         "name": "type",
         "stats": {
          "categories": [
           {
            "count": 7,
            "name": "meccan"
           }
          ],
          "nan_count": 0,
          "unique_count": 1
         }
        },
        {
         "dtype": "int64",
         "name": "total_verses",
         "stats": {
          "histogram": [
           {
            "bin_end": 6.6,
            "bin_start": 6.5,
            "count": 0
           },
           {
            "bin_end": 6.7,
            "bin_start": 6.6,
            "count": 0
           },
           {
            "bin_end": 6.8,
            "bin_start": 6.7,
            "count": 0
           },
           {
            "bin_end": 6.9,
            "bin_start": 6.8,
            "count": 0
           },
           {
            "bin_end": 7,
            "bin_start": 6.9,
            "count": 0
           },
           {
            "bin_end": 7.1,
            "bin_start": 7,
            "count": 7
           },
           {
            "bin_end": 7.2,
            "bin_start": 7.1,
            "count": 0
           },
           {
            "bin_end": 7.3,
            "bin_start": 7.2,
            "count": 0
           },
           {
            "bin_end": 7.4,
            "bin_start": 7.3,
            "count": 0
           },
           {
            "bin_end": 7.5,
            "bin_start": 7.4,
            "count": 0
           }
          ],
          "max": "7",
          "min": "7",
          "nan_count": 0,
          "unique_count": 1
         }
        },
        {
         "dtype": "object",
         "name": "verses",
         "stats": {
          "categories": [
           {
            "count": 1,
            "name": "{'id': 1, 'text': 'بِسۡمِ ٱللَّهِ ٱلرَّحۡمَٰنِ ٱلرَّحِيمِ', 'translation': 'In the name of Allah, the Entirely Merciful, the Especially Merciful', 'transliteration': 'Bismi Allahi alrrahmani alrraheemi'}"
           },
           {
            "count": 1,
            "name": "{'id': 2, 'text': 'ٱلۡحَمۡدُ لِلَّهِ رَبِّ ٱلۡعَٰلَمِينَ', 'translation': '[All] praise is [due] to Allah, Lord of the worlds', 'transliteration': 'Alhamdu lillahi rabbi alAAalameena'}"
           },
           {
            "count": 5,
            "name": "5 others"
           }
          ],
          "nan_count": 0,
          "unique_count": 7
         }
        },
        {
         "dtype": "int64",
         "name": "_deepnote_index_column"
        }
       ],
       "row_count": 7,
       "rows": [
        {
         "_deepnote_index_column": 0,
         "id": 1,
         "name": "الفاتحة",
         "total_verses": 7,
         "translation": "The Opener",
         "transliteration": "Al-Fatihah",
         "type": "meccan",
         "verses": "{'id': 1, 'text': 'بِسۡمِ ٱللَّهِ ٱلرَّحۡمَٰنِ ٱلرَّحِيمِ', 'translation': 'In the name of Allah, the Entirely Merciful, the Especially Merciful', 'transliteration': 'Bismi Allahi alrrahmani alrraheemi'}"
        },
        {
         "_deepnote_index_column": 1,
         "id": 1,
         "name": "الفاتحة",
         "total_verses": 7,
         "translation": "The Opener",
         "transliteration": "Al-Fatihah",
         "type": "meccan",
         "verses": "{'id': 2, 'text': 'ٱلۡحَمۡدُ لِلَّهِ رَبِّ ٱلۡعَٰلَمِينَ', 'translation': '[All] praise is [due] to Allah, Lord of the worlds', 'transliteration': 'Alhamdu lillahi rabbi alAAalameena'}"
        },
        {
         "_deepnote_index_column": 2,
         "id": 1,
         "name": "الفاتحة",
         "total_verses": 7,
         "translation": "The Opener",
         "transliteration": "Al-Fatihah",
         "type": "meccan",
         "verses": "{'id': 3, 'text': 'ٱلرَّحۡمَٰنِ ٱلرَّحِيمِ', 'translation': 'The Entirely Merciful, the Especially Merciful', 'transliteration': 'Alrrahmani alrraheemi'}"
        },
        {
         "_deepnote_index_column": 3,
         "id": 1,
         "name": "الفاتحة",
         "total_verses": 7,
         "translation": "The Opener",
         "transliteration": "Al-Fatihah",
         "type": "meccan",
         "verses": "{'id': 4, 'text': 'مَٰلِكِ يَوۡمِ ٱلدِّينِ', 'translation': 'Sovereign of the Day of Recompense', 'transliteration': 'Maliki yawmi alddeeni'}"
        },
        {
         "_deepnote_index_column": 4,
         "id": 1,
         "name": "الفاتحة",
         "total_verses": 7,
         "translation": "The Opener",
         "transliteration": "Al-Fatihah",
         "type": "meccan",
         "verses": "{'id': 5, 'text': 'إِيَّاكَ نَعۡبُدُ وَإِيَّاكَ نَسۡتَعِينُ', 'translation': 'It is You we worship and You we ask for help', 'transliteration': 'Iyyaka naAAbudu waiyyaka nastaAAeenu'}"
        },
        {
         "_deepnote_index_column": 5,
         "id": 1,
         "name": "الفاتحة",
         "total_verses": 7,
         "translation": "The Opener",
         "transliteration": "Al-Fatihah",
         "type": "meccan",
         "verses": "{'id': 6, 'text': 'ٱهۡدِنَا ٱلصِّرَٰطَ ٱلۡمُسۡتَقِيمَ', 'translation': 'Guide us to the straight path', 'transliteration': 'Ihdina alssirata almustaqeema'}"
        },
        {
         "_deepnote_index_column": 6,
         "id": 1,
         "name": "الفاتحة",
         "total_verses": 7,
         "translation": "The Opener",
         "transliteration": "Al-Fatihah",
         "type": "meccan",
         "verses": "{'id': 7, 'text': 'صِرَٰطَ ٱلَّذِينَ أَنۡعَمۡتَ عَلَيۡهِمۡ غَيۡرِ ٱلۡمَغۡضُوبِ عَلَيۡهِمۡ وَلَا ٱلضَّآلِّينَ', 'translation': 'The path of those upon whom You have bestowed favor, not of those who have evoked [Your] anger or of those who are astray', 'transliteration': 'Sirata allatheena anAAamta AAalayhim ghayri almaghdoobi AAalayhim wala alddalleena'}"
        }
       ]
      },
      "text/html": [
       "<div>\n",
       "<style scoped>\n",
       "    .dataframe tbody tr th:only-of-type {\n",
       "        vertical-align: middle;\n",
       "    }\n",
       "\n",
       "    .dataframe tbody tr th {\n",
       "        vertical-align: top;\n",
       "    }\n",
       "\n",
       "    .dataframe thead th {\n",
       "        text-align: right;\n",
       "    }\n",
       "</style>\n",
       "<table border=\"1\" class=\"dataframe\">\n",
       "  <thead>\n",
       "    <tr style=\"text-align: right;\">\n",
       "      <th></th>\n",
       "      <th>id</th>\n",
       "      <th>name</th>\n",
       "      <th>transliteration</th>\n",
       "      <th>translation</th>\n",
       "      <th>type</th>\n",
       "      <th>total_verses</th>\n",
       "      <th>verses</th>\n",
       "    </tr>\n",
       "  </thead>\n",
       "  <tbody>\n",
       "    <tr>\n",
       "      <th>0</th>\n",
       "      <td>1</td>\n",
       "      <td>الفاتحة</td>\n",
       "      <td>Al-Fatihah</td>\n",
       "      <td>The Opener</td>\n",
       "      <td>meccan</td>\n",
       "      <td>7</td>\n",
       "      <td>{'id': 1, 'text': 'بِسۡمِ ٱللَّهِ ٱلرَّحۡمَٰنِ...</td>\n",
       "    </tr>\n",
       "    <tr>\n",
       "      <th>1</th>\n",
       "      <td>1</td>\n",
       "      <td>الفاتحة</td>\n",
       "      <td>Al-Fatihah</td>\n",
       "      <td>The Opener</td>\n",
       "      <td>meccan</td>\n",
       "      <td>7</td>\n",
       "      <td>{'id': 2, 'text': 'ٱلۡحَمۡدُ لِلَّهِ رَبِّ ٱلۡ...</td>\n",
       "    </tr>\n",
       "    <tr>\n",
       "      <th>2</th>\n",
       "      <td>1</td>\n",
       "      <td>الفاتحة</td>\n",
       "      <td>Al-Fatihah</td>\n",
       "      <td>The Opener</td>\n",
       "      <td>meccan</td>\n",
       "      <td>7</td>\n",
       "      <td>{'id': 3, 'text': 'ٱلرَّحۡمَٰنِ ٱلرَّحِيمِ', '...</td>\n",
       "    </tr>\n",
       "    <tr>\n",
       "      <th>3</th>\n",
       "      <td>1</td>\n",
       "      <td>الفاتحة</td>\n",
       "      <td>Al-Fatihah</td>\n",
       "      <td>The Opener</td>\n",
       "      <td>meccan</td>\n",
       "      <td>7</td>\n",
       "      <td>{'id': 4, 'text': 'مَٰلِكِ يَوۡمِ ٱلدِّينِ', '...</td>\n",
       "    </tr>\n",
       "    <tr>\n",
       "      <th>4</th>\n",
       "      <td>1</td>\n",
       "      <td>الفاتحة</td>\n",
       "      <td>Al-Fatihah</td>\n",
       "      <td>The Opener</td>\n",
       "      <td>meccan</td>\n",
       "      <td>7</td>\n",
       "      <td>{'id': 5, 'text': 'إِيَّاكَ نَعۡبُدُ وَإِيَّاك...</td>\n",
       "    </tr>\n",
       "    <tr>\n",
       "      <th>5</th>\n",
       "      <td>1</td>\n",
       "      <td>الفاتحة</td>\n",
       "      <td>Al-Fatihah</td>\n",
       "      <td>The Opener</td>\n",
       "      <td>meccan</td>\n",
       "      <td>7</td>\n",
       "      <td>{'id': 6, 'text': 'ٱهۡدِنَا ٱلصِّرَٰطَ ٱلۡمُسۡ...</td>\n",
       "    </tr>\n",
       "    <tr>\n",
       "      <th>6</th>\n",
       "      <td>1</td>\n",
       "      <td>الفاتحة</td>\n",
       "      <td>Al-Fatihah</td>\n",
       "      <td>The Opener</td>\n",
       "      <td>meccan</td>\n",
       "      <td>7</td>\n",
       "      <td>{'id': 7, 'text': 'صِرَٰطَ ٱلَّذِينَ أَنۡعَمۡت...</td>\n",
       "    </tr>\n",
       "  </tbody>\n",
       "</table>\n",
       "</div>"
      ],
      "text/plain": [
       "   id     name transliteration translation    type  total_verses  \\\n",
       "0   1  الفاتحة      Al-Fatihah  The Opener  meccan             7   \n",
       "1   1  الفاتحة      Al-Fatihah  The Opener  meccan             7   \n",
       "2   1  الفاتحة      Al-Fatihah  The Opener  meccan             7   \n",
       "3   1  الفاتحة      Al-Fatihah  The Opener  meccan             7   \n",
       "4   1  الفاتحة      Al-Fatihah  The Opener  meccan             7   \n",
       "5   1  الفاتحة      Al-Fatihah  The Opener  meccan             7   \n",
       "6   1  الفاتحة      Al-Fatihah  The Opener  meccan             7   \n",
       "\n",
       "                                              verses  \n",
       "0  {'id': 1, 'text': 'بِسۡمِ ٱللَّهِ ٱلرَّحۡمَٰنِ...  \n",
       "1  {'id': 2, 'text': 'ٱلۡحَمۡدُ لِلَّهِ رَبِّ ٱلۡ...  \n",
       "2  {'id': 3, 'text': 'ٱلرَّحۡمَٰنِ ٱلرَّحِيمِ', '...  \n",
       "3  {'id': 4, 'text': 'مَٰلِكِ يَوۡمِ ٱلدِّينِ', '...  \n",
       "4  {'id': 5, 'text': 'إِيَّاكَ نَعۡبُدُ وَإِيَّاك...  \n",
       "5  {'id': 6, 'text': 'ٱهۡدِنَا ٱلصِّرَٰطَ ٱلۡمُسۡ...  \n",
       "6  {'id': 7, 'text': 'صِرَٰطَ ٱلَّذِينَ أَنۡعَمۡت...  "
      ]
     },
     "execution_count": 2,
     "metadata": {},
     "output_type": "execute_result"
    }
   ],
   "source": [
    "# Dataset: Single Chapter with verses\n",
    "c1 = pd.read_json('https://projectq.io/data/source/chapters/1.json')\n",
    "c1"
   ]
  },
  {
   "cell_type": "markdown",
   "metadata": {
    "cell_id": "0b4484f94387415bb43b5a9bead428ec",
    "deepnote_app_coordinates": {
     "h": 5,
     "w": 12,
     "x": 0,
     "y": 37
    },
    "deepnote_cell_type": "text-cell-h3",
    "formattedRanges": [],
    "is_collapsed": false,
    "tags": []
   },
   "source": [
    "### Expanding Verses Column"
   ]
  },
  {
   "cell_type": "code",
   "execution_count": 3,
   "metadata": {
    "cell_id": "4b314f862e7b4f588d77c019bb14eeb5",
    "deepnote_app_coordinates": {
     "h": 5,
     "w": 12,
     "x": 0,
     "y": 43
    },
    "deepnote_cell_height": 549,
    "deepnote_cell_type": "code",
    "deepnote_to_be_reexecuted": false,
    "execution_millis": 581,
    "execution_start": 1658115710932,
    "source_hash": "6e6111e9",
    "tags": []
   },
   "outputs": [
    {
     "data": {
      "application/vnd.deepnote.dataframe.v3+json": {
       "column_count": 10,
       "columns": [
        {
         "dtype": "int64",
         "name": "id",
         "stats": {
          "histogram": [
           {
            "bin_end": 0.6,
            "bin_start": 0.5,
            "count": 0
           },
           {
            "bin_end": 0.7,
            "bin_start": 0.6,
            "count": 0
           },
           {
            "bin_end": 0.8,
            "bin_start": 0.7,
            "count": 0
           },
           {
            "bin_end": 0.9,
            "bin_start": 0.8,
            "count": 0
           },
           {
            "bin_end": 1,
            "bin_start": 0.9,
            "count": 0
           },
           {
            "bin_end": 1.1,
            "bin_start": 1,
            "count": 7
           },
           {
            "bin_end": 1.2000000000000002,
            "bin_start": 1.1,
            "count": 0
           },
           {
            "bin_end": 1.3,
            "bin_start": 1.2000000000000002,
            "count": 0
           },
           {
            "bin_end": 1.4,
            "bin_start": 1.3,
            "count": 0
           },
           {
            "bin_end": 1.5,
            "bin_start": 1.4,
            "count": 0
           }
          ],
          "max": "1",
          "min": "1",
          "nan_count": 0,
          "unique_count": 1
         }
        },
        {
         "dtype": "object",
         "name": "name",
         "stats": {
          "categories": [
           {
            "count": 7,
            "name": "الفاتحة"
           }
          ],
          "nan_count": 0,
          "unique_count": 1
         }
        },
        {
         "dtype": "object",
         "name": "transliteration",
         "stats": {
          "categories": [
           {
            "count": 7,
            "name": "Al-Fatihah"
           }
          ],
          "nan_count": 0,
          "unique_count": 1
         }
        },
        {
         "dtype": "object",
         "name": "translation",
         "stats": {
          "categories": [
           {
            "count": 7,
            "name": "The Opener"
           }
          ],
          "nan_count": 0,
          "unique_count": 1
         }
        },
        {
         "dtype": "object",
         "name": "type",
         "stats": {
          "categories": [
           {
            "count": 7,
            "name": "meccan"
           }
          ],
          "nan_count": 0,
          "unique_count": 1
         }
        },
        {
         "dtype": "int64",
         "name": "total_verses",
         "stats": {
          "histogram": [
           {
            "bin_end": 6.6,
            "bin_start": 6.5,
            "count": 0
           },
           {
            "bin_end": 6.7,
            "bin_start": 6.6,
            "count": 0
           },
           {
            "bin_end": 6.8,
            "bin_start": 6.7,
            "count": 0
           },
           {
            "bin_end": 6.9,
            "bin_start": 6.8,
            "count": 0
           },
           {
            "bin_end": 7,
            "bin_start": 6.9,
            "count": 0
           },
           {
            "bin_end": 7.1,
            "bin_start": 7,
            "count": 7
           },
           {
            "bin_end": 7.2,
            "bin_start": 7.1,
            "count": 0
           },
           {
            "bin_end": 7.3,
            "bin_start": 7.2,
            "count": 0
           },
           {
            "bin_end": 7.4,
            "bin_start": 7.3,
            "count": 0
           },
           {
            "bin_end": 7.5,
            "bin_start": 7.4,
            "count": 0
           }
          ],
          "max": "7",
          "min": "7",
          "nan_count": 0,
          "unique_count": 1
         }
        },
        {
         "dtype": "int64",
         "name": "id_of_verse",
         "stats": {
          "histogram": [
           {
            "bin_end": 1.6,
            "bin_start": 1,
            "count": 1
           },
           {
            "bin_end": 2.2,
            "bin_start": 1.6,
            "count": 1
           },
           {
            "bin_end": 2.8,
            "bin_start": 2.2,
            "count": 0
           },
           {
            "bin_end": 3.4,
            "bin_start": 2.8,
            "count": 1
           },
           {
            "bin_end": 4,
            "bin_start": 3.4,
            "count": 0
           },
           {
            "bin_end": 4.6,
            "bin_start": 4,
            "count": 1
           },
           {
            "bin_end": 5.2,
            "bin_start": 4.6,
            "count": 1
           },
           {
            "bin_end": 5.8,
            "bin_start": 5.2,
            "count": 0
           },
           {
            "bin_end": 6.3999999999999995,
            "bin_start": 5.8,
            "count": 1
           },
           {
            "bin_end": 7,
            "bin_start": 6.3999999999999995,
            "count": 1
           }
          ],
          "max": "7",
          "min": "1",
          "nan_count": 0,
          "unique_count": 7
         }
        },
        {
         "dtype": "object",
         "name": "text",
         "stats": {
          "categories": [
           {
            "count": 1,
            "name": "بِسۡمِ ٱللَّهِ ٱلرَّحۡمَٰنِ ٱلرَّحِيمِ"
           },
           {
            "count": 1,
            "name": "ٱلۡحَمۡدُ لِلَّهِ رَبِّ ٱلۡعَٰلَمِينَ"
           },
           {
            "count": 5,
            "name": "5 others"
           }
          ],
          "nan_count": 0,
          "unique_count": 7
         }
        },
        {
         "dtype": "object",
         "name": "translation_of_verse",
         "stats": {
          "categories": [
           {
            "count": 1,
            "name": "In the name of Allah, the Entirely Merciful, the Especially Merciful"
           },
           {
            "count": 1,
            "name": "[All] praise is [due] to Allah, Lord of the worlds"
           },
           {
            "count": 5,
            "name": "5 others"
           }
          ],
          "nan_count": 0,
          "unique_count": 7
         }
        },
        {
         "dtype": "object",
         "name": "transliteration_of_verse",
         "stats": {
          "categories": [
           {
            "count": 1,
            "name": "Bismi Allahi alrrahmani alrraheemi"
           },
           {
            "count": 1,
            "name": "Alhamdu lillahi rabbi alAAalameena"
           },
           {
            "count": 5,
            "name": "5 others"
           }
          ],
          "nan_count": 0,
          "unique_count": 7
         }
        },
        {
         "dtype": "int64",
         "name": "_deepnote_index_column"
        }
       ],
       "row_count": 7,
       "rows": [
        {
         "_deepnote_index_column": 0,
         "id": 1,
         "id_of_verse": 1,
         "name": "الفاتحة",
         "text": "بِسۡمِ ٱللَّهِ ٱلرَّحۡمَٰنِ ٱلرَّحِيمِ",
         "total_verses": 7,
         "translation": "The Opener",
         "translation_of_verse": "In the name of Allah, the Entirely Merciful, the Especially Merciful",
         "transliteration": "Al-Fatihah",
         "transliteration_of_verse": "Bismi Allahi alrrahmani alrraheemi",
         "type": "meccan"
        },
        {
         "_deepnote_index_column": 1,
         "id": 1,
         "id_of_verse": 2,
         "name": "الفاتحة",
         "text": "ٱلۡحَمۡدُ لِلَّهِ رَبِّ ٱلۡعَٰلَمِينَ",
         "total_verses": 7,
         "translation": "The Opener",
         "translation_of_verse": "[All] praise is [due] to Allah, Lord of the worlds",
         "transliteration": "Al-Fatihah",
         "transliteration_of_verse": "Alhamdu lillahi rabbi alAAalameena",
         "type": "meccan"
        },
        {
         "_deepnote_index_column": 2,
         "id": 1,
         "id_of_verse": 3,
         "name": "الفاتحة",
         "text": "ٱلرَّحۡمَٰنِ ٱلرَّحِيمِ",
         "total_verses": 7,
         "translation": "The Opener",
         "translation_of_verse": "The Entirely Merciful, the Especially Merciful",
         "transliteration": "Al-Fatihah",
         "transliteration_of_verse": "Alrrahmani alrraheemi",
         "type": "meccan"
        },
        {
         "_deepnote_index_column": 3,
         "id": 1,
         "id_of_verse": 4,
         "name": "الفاتحة",
         "text": "مَٰلِكِ يَوۡمِ ٱلدِّينِ",
         "total_verses": 7,
         "translation": "The Opener",
         "translation_of_verse": "Sovereign of the Day of Recompense",
         "transliteration": "Al-Fatihah",
         "transliteration_of_verse": "Maliki yawmi alddeeni",
         "type": "meccan"
        },
        {
         "_deepnote_index_column": 4,
         "id": 1,
         "id_of_verse": 5,
         "name": "الفاتحة",
         "text": "إِيَّاكَ نَعۡبُدُ وَإِيَّاكَ نَسۡتَعِينُ",
         "total_verses": 7,
         "translation": "The Opener",
         "translation_of_verse": "It is You we worship and You we ask for help",
         "transliteration": "Al-Fatihah",
         "transliteration_of_verse": "Iyyaka naAAbudu waiyyaka nastaAAeenu",
         "type": "meccan"
        },
        {
         "_deepnote_index_column": 5,
         "id": 1,
         "id_of_verse": 6,
         "name": "الفاتحة",
         "text": "ٱهۡدِنَا ٱلصِّرَٰطَ ٱلۡمُسۡتَقِيمَ",
         "total_verses": 7,
         "translation": "The Opener",
         "translation_of_verse": "Guide us to the straight path",
         "transliteration": "Al-Fatihah",
         "transliteration_of_verse": "Ihdina alssirata almustaqeema",
         "type": "meccan"
        },
        {
         "_deepnote_index_column": 6,
         "id": 1,
         "id_of_verse": 7,
         "name": "الفاتحة",
         "text": "صِرَٰطَ ٱلَّذِينَ أَنۡعَمۡتَ عَلَيۡهِمۡ غَيۡرِ ٱلۡمَغۡضُوبِ عَلَيۡهِمۡ وَلَا ٱلضَّآلِّينَ",
         "total_verses": 7,
         "translation": "The Opener",
         "translation_of_verse": "The path of those upon whom You have bestowed favor, not of those who have evoked [Your] anger or of those who are astray",
         "transliteration": "Al-Fatihah",
         "transliteration_of_verse": "Sirata allatheena anAAamta AAalayhim ghayri almaghdoobi AAalayhim wala alddalleena",
         "type": "meccan"
        }
       ]
      },
      "text/html": [
       "<div>\n",
       "<style scoped>\n",
       "    .dataframe tbody tr th:only-of-type {\n",
       "        vertical-align: middle;\n",
       "    }\n",
       "\n",
       "    .dataframe tbody tr th {\n",
       "        vertical-align: top;\n",
       "    }\n",
       "\n",
       "    .dataframe thead th {\n",
       "        text-align: right;\n",
       "    }\n",
       "</style>\n",
       "<table border=\"1\" class=\"dataframe\">\n",
       "  <thead>\n",
       "    <tr style=\"text-align: right;\">\n",
       "      <th></th>\n",
       "      <th>id</th>\n",
       "      <th>name</th>\n",
       "      <th>transliteration</th>\n",
       "      <th>translation</th>\n",
       "      <th>type</th>\n",
       "      <th>total_verses</th>\n",
       "      <th>id_of_verse</th>\n",
       "      <th>text</th>\n",
       "      <th>translation_of_verse</th>\n",
       "      <th>transliteration_of_verse</th>\n",
       "    </tr>\n",
       "  </thead>\n",
       "  <tbody>\n",
       "    <tr>\n",
       "      <th>0</th>\n",
       "      <td>1</td>\n",
       "      <td>الفاتحة</td>\n",
       "      <td>Al-Fatihah</td>\n",
       "      <td>The Opener</td>\n",
       "      <td>meccan</td>\n",
       "      <td>7</td>\n",
       "      <td>1</td>\n",
       "      <td>بِسۡمِ ٱللَّهِ ٱلرَّحۡمَٰنِ ٱلرَّحِيمِ</td>\n",
       "      <td>In the name of Allah, the Entirely Merciful, t...</td>\n",
       "      <td>Bismi Allahi alrrahmani alrraheemi</td>\n",
       "    </tr>\n",
       "    <tr>\n",
       "      <th>1</th>\n",
       "      <td>1</td>\n",
       "      <td>الفاتحة</td>\n",
       "      <td>Al-Fatihah</td>\n",
       "      <td>The Opener</td>\n",
       "      <td>meccan</td>\n",
       "      <td>7</td>\n",
       "      <td>2</td>\n",
       "      <td>ٱلۡحَمۡدُ لِلَّهِ رَبِّ ٱلۡعَٰلَمِينَ</td>\n",
       "      <td>[All] praise is [due] to Allah, Lord of the wo...</td>\n",
       "      <td>Alhamdu lillahi rabbi alAAalameena</td>\n",
       "    </tr>\n",
       "    <tr>\n",
       "      <th>2</th>\n",
       "      <td>1</td>\n",
       "      <td>الفاتحة</td>\n",
       "      <td>Al-Fatihah</td>\n",
       "      <td>The Opener</td>\n",
       "      <td>meccan</td>\n",
       "      <td>7</td>\n",
       "      <td>3</td>\n",
       "      <td>ٱلرَّحۡمَٰنِ ٱلرَّحِيمِ</td>\n",
       "      <td>The Entirely Merciful, the Especially Merciful</td>\n",
       "      <td>Alrrahmani alrraheemi</td>\n",
       "    </tr>\n",
       "    <tr>\n",
       "      <th>3</th>\n",
       "      <td>1</td>\n",
       "      <td>الفاتحة</td>\n",
       "      <td>Al-Fatihah</td>\n",
       "      <td>The Opener</td>\n",
       "      <td>meccan</td>\n",
       "      <td>7</td>\n",
       "      <td>4</td>\n",
       "      <td>مَٰلِكِ يَوۡمِ ٱلدِّينِ</td>\n",
       "      <td>Sovereign of the Day of Recompense</td>\n",
       "      <td>Maliki yawmi alddeeni</td>\n",
       "    </tr>\n",
       "    <tr>\n",
       "      <th>4</th>\n",
       "      <td>1</td>\n",
       "      <td>الفاتحة</td>\n",
       "      <td>Al-Fatihah</td>\n",
       "      <td>The Opener</td>\n",
       "      <td>meccan</td>\n",
       "      <td>7</td>\n",
       "      <td>5</td>\n",
       "      <td>إِيَّاكَ نَعۡبُدُ وَإِيَّاكَ نَسۡتَعِينُ</td>\n",
       "      <td>It is You we worship and You we ask for help</td>\n",
       "      <td>Iyyaka naAAbudu waiyyaka nastaAAeenu</td>\n",
       "    </tr>\n",
       "    <tr>\n",
       "      <th>5</th>\n",
       "      <td>1</td>\n",
       "      <td>الفاتحة</td>\n",
       "      <td>Al-Fatihah</td>\n",
       "      <td>The Opener</td>\n",
       "      <td>meccan</td>\n",
       "      <td>7</td>\n",
       "      <td>6</td>\n",
       "      <td>ٱهۡدِنَا ٱلصِّرَٰطَ ٱلۡمُسۡتَقِيمَ</td>\n",
       "      <td>Guide us to the straight path</td>\n",
       "      <td>Ihdina alssirata almustaqeema</td>\n",
       "    </tr>\n",
       "    <tr>\n",
       "      <th>6</th>\n",
       "      <td>1</td>\n",
       "      <td>الفاتحة</td>\n",
       "      <td>Al-Fatihah</td>\n",
       "      <td>The Opener</td>\n",
       "      <td>meccan</td>\n",
       "      <td>7</td>\n",
       "      <td>7</td>\n",
       "      <td>صِرَٰطَ ٱلَّذِينَ أَنۡعَمۡتَ عَلَيۡهِمۡ غَيۡرِ...</td>\n",
       "      <td>The path of those upon whom You have bestowed ...</td>\n",
       "      <td>Sirata allatheena anAAamta AAalayhim ghayri al...</td>\n",
       "    </tr>\n",
       "  </tbody>\n",
       "</table>\n",
       "</div>"
      ],
      "text/plain": [
       "   id     name transliteration translation    type  total_verses  id_of_verse  \\\n",
       "0   1  الفاتحة      Al-Fatihah  The Opener  meccan             7            1   \n",
       "1   1  الفاتحة      Al-Fatihah  The Opener  meccan             7            2   \n",
       "2   1  الفاتحة      Al-Fatihah  The Opener  meccan             7            3   \n",
       "3   1  الفاتحة      Al-Fatihah  The Opener  meccan             7            4   \n",
       "4   1  الفاتحة      Al-Fatihah  The Opener  meccan             7            5   \n",
       "5   1  الفاتحة      Al-Fatihah  The Opener  meccan             7            6   \n",
       "6   1  الفاتحة      Al-Fatihah  The Opener  meccan             7            7   \n",
       "\n",
       "                                                text  \\\n",
       "0             بِسۡمِ ٱللَّهِ ٱلرَّحۡمَٰنِ ٱلرَّحِيمِ   \n",
       "1              ٱلۡحَمۡدُ لِلَّهِ رَبِّ ٱلۡعَٰلَمِينَ   \n",
       "2                            ٱلرَّحۡمَٰنِ ٱلرَّحِيمِ   \n",
       "3                            مَٰلِكِ يَوۡمِ ٱلدِّينِ   \n",
       "4           إِيَّاكَ نَعۡبُدُ وَإِيَّاكَ نَسۡتَعِينُ   \n",
       "5                 ٱهۡدِنَا ٱلصِّرَٰطَ ٱلۡمُسۡتَقِيمَ   \n",
       "6  صِرَٰطَ ٱلَّذِينَ أَنۡعَمۡتَ عَلَيۡهِمۡ غَيۡرِ...   \n",
       "\n",
       "                                translation_of_verse  \\\n",
       "0  In the name of Allah, the Entirely Merciful, t...   \n",
       "1  [All] praise is [due] to Allah, Lord of the wo...   \n",
       "2     The Entirely Merciful, the Especially Merciful   \n",
       "3                 Sovereign of the Day of Recompense   \n",
       "4       It is You we worship and You we ask for help   \n",
       "5                      Guide us to the straight path   \n",
       "6  The path of those upon whom You have bestowed ...   \n",
       "\n",
       "                            transliteration_of_verse  \n",
       "0                 Bismi Allahi alrrahmani alrraheemi  \n",
       "1                 Alhamdu lillahi rabbi alAAalameena  \n",
       "2                              Alrrahmani alrraheemi  \n",
       "3                              Maliki yawmi alddeeni  \n",
       "4               Iyyaka naAAbudu waiyyaka nastaAAeenu  \n",
       "5                      Ihdina alssirata almustaqeema  \n",
       "6  Sirata allatheena anAAamta AAalayhim ghayri al...  "
      ]
     },
     "execution_count": 3,
     "metadata": {},
     "output_type": "execute_result"
    }
   ],
   "source": [
    "# Expanding verses column\n",
    "c1 = c1.join(pd.json_normalize(c1.verses), rsuffix=\"_of_verse\")\n",
    "# dropping verses columns\n",
    "c1.drop(columns=['verses'], inplace=True)\n",
    "c1"
   ]
  },
  {
   "cell_type": "markdown",
   "metadata": {
    "cell_id": "f01c8b93d14f487a9e68604f8d19a460",
    "deepnote_app_coordinates": {
     "h": 5,
     "w": 12,
     "x": 0,
     "y": 49
    },
    "deepnote_cell_type": "text-cell-h2",
    "formattedRanges": [],
    "is_collapsed": false,
    "tags": []
   },
   "source": [
    "## Reading Individual Verses with Multilingual Translations"
   ]
  },
  {
   "cell_type": "code",
   "execution_count": 4,
   "metadata": {
    "cell_id": "b1a7b3d49b0943d58557ee737953f51d",
    "deepnote_app_coordinates": {
     "h": 5,
     "w": 12,
     "x": 0,
     "y": 55
    },
    "deepnote_cell_height": 636,
    "deepnote_cell_type": "code",
    "deepnote_to_be_reexecuted": false,
    "execution_millis": 580,
    "execution_start": 1658115710973,
    "source_hash": "f59a1b3a",
    "tags": []
   },
   "outputs": [
    {
     "data": {
      "application/vnd.deepnote.dataframe.v3+json": {
       "column_count": 6,
       "columns": [
        {
         "dtype": "int64",
         "name": "id",
         "stats": {
          "histogram": [
           {
            "bin_end": 526.6,
            "bin_start": 526.5,
            "count": 0
           },
           {
            "bin_end": 526.7,
            "bin_start": 526.6,
            "count": 0
           },
           {
            "bin_end": 526.8,
            "bin_start": 526.7,
            "count": 0
           },
           {
            "bin_end": 526.9,
            "bin_start": 526.8,
            "count": 0
           },
           {
            "bin_end": 527,
            "bin_start": 526.9,
            "count": 0
           },
           {
            "bin_end": 527.1,
            "bin_start": 527,
            "count": 13
           },
           {
            "bin_end": 527.2,
            "bin_start": 527.1,
            "count": 0
           },
           {
            "bin_end": 527.3,
            "bin_start": 527.2,
            "count": 0
           },
           {
            "bin_end": 527.4,
            "bin_start": 527.3,
            "count": 0
           },
           {
            "bin_end": 527.5,
            "bin_start": 527.4,
            "count": 0
           }
          ],
          "max": "527",
          "min": "527",
          "nan_count": 0,
          "unique_count": 1
         }
        },
        {
         "dtype": "int64",
         "name": "number",
         "stats": {
          "histogram": [
           {
            "bin_end": 33.6,
            "bin_start": 33.5,
            "count": 0
           },
           {
            "bin_end": 33.7,
            "bin_start": 33.6,
            "count": 0
           },
           {
            "bin_end": 33.8,
            "bin_start": 33.7,
            "count": 0
           },
           {
            "bin_end": 33.9,
            "bin_start": 33.8,
            "count": 0
           },
           {
            "bin_end": 34,
            "bin_start": 33.9,
            "count": 0
           },
           {
            "bin_end": 34.1,
            "bin_start": 34,
            "count": 13
           },
           {
            "bin_end": 34.2,
            "bin_start": 34.1,
            "count": 0
           },
           {
            "bin_end": 34.3,
            "bin_start": 34.2,
            "count": 0
           },
           {
            "bin_end": 34.4,
            "bin_start": 34.3,
            "count": 0
           },
           {
            "bin_end": 34.5,
            "bin_start": 34.4,
            "count": 0
           }
          ],
          "max": "34",
          "min": "34",
          "nan_count": 0,
          "unique_count": 1
         }
        },
        {
         "dtype": "object",
         "name": "text",
         "stats": {
          "categories": [
           {
            "count": 13,
            "name": "ٱلرِّجَالُ قَوَّـٰمُونَ عَلَى ٱلنِّسَآءِ بِمَا فَضَّلَ ٱللَّهُ بَعۡضَهُمۡ عَلَىٰ بَعۡضٖ وَبِمَآ أَنفَقُواْ مِنۡ أَمۡوَٰلِهِمۡۚ فَٱلصَّـٰلِحَٰتُ قَٰنِتَٰتٌ حَٰفِظَٰتٞ لِّلۡغَيۡبِ بِمَا حَفِظَ ٱللَّهُۚ وَٱلَّـٰتِي تَخَافُونَ نُشُوزَهُنَّ فَعِظُوهُنَّ وَٱهۡجُرُوهُنَّ فِي ٱلۡمَضَاجِعِ وَٱضۡرِبُوهُنَّۖ فَإِنۡ أَطَعۡنَكُمۡ فَلَا تَبۡغُواْ عَلَيۡهِنَّ سَبِيلًاۗ إِنَّ ٱللَّهَ كَانَ عَلِيّٗا كَبِيرٗا"
           }
          ],
          "nan_count": 0,
          "unique_count": 1
         }
        },
        {
         "dtype": "object",
         "name": "translations",
         "stats": {
          "categories": [
           {
            "count": 1,
            "name": "Men are in charge of women by [right of] what Allah has given one over the other and what they spend [for maintenance] from their wealth. So righteous women are devoutly obedient, guarding in [the husband's] absence what Allah would have them guard. But those [wives] from whom you fear arrogance - [first] advise them; [then if they persist], forsake them in bed; and [finally], strike them. But if they obey you [once more], seek no means against them. Indeed, Allah is ever Exalted and Grand"
           },
           {
            "count": 8,
            "name": "8 others"
           },
           {
            "count": 4,
            "name": "Missing"
           }
          ],
          "nan_count": 4,
          "unique_count": 9
         }
        },
        {
         "dtype": "object",
         "name": "transliteration",
         "stats": {
          "categories": [
           {
            "count": 13,
            "name": "Alrrijalu qawwamoona AAala alnnisai bima faddala Allahu baAAdahum AAala baAAdin wabima anfaqoo min amwalihim faalssalihatu qanitatun hafithatun lilghaybi bima hafitha Allahu waallatee takhafoona nushoozahunna faAAithoohunna waohjuroohunna fee almadajiAAi waidriboohunna fain ataAAnakum fala tabghoo AAalayhinna sabeelan inna Allaha kana AAaliyyan kabeeran"
           }
          ],
          "nan_count": 0,
          "unique_count": 1
         }
        },
        {
         "dtype": "object",
         "name": "chapter",
         "stats": {
          "categories": [
           {
            "count": 1,
            "name": "4"
           },
           {
            "count": 4,
            "name": "4 others"
           },
           {
            "count": 8,
            "name": "Missing"
           }
          ],
          "nan_count": 8,
          "unique_count": 13
         }
        },
        {
         "dtype": "object",
         "name": "_deepnote_index_column"
        }
       ],
       "row_count": 13,
       "rows": [
        {
         "_deepnote_index_column": "en",
         "chapter": "nan",
         "id": 527,
         "number": 34,
         "text": "ٱلرِّجَالُ قَوَّـٰمُونَ عَلَى ٱلنِّسَآءِ بِمَا فَضَّلَ ٱللَّهُ بَعۡضَهُمۡ عَلَىٰ بَعۡضٖ وَبِمَآ أَنفَقُواْ مِنۡ أَمۡوَٰلِهِمۡۚ فَٱلصَّـٰلِحَٰتُ قَٰنِتَٰتٌ حَٰفِظَٰتٞ لِّلۡغَيۡبِ بِمَا حَفِظَ ٱللَّهُۚ وَٱلَّـٰتِي تَخَافُونَ نُشُوزَهُنَّ فَعِظُوهُنَّ وَٱهۡجُرُوهُنَّ فِي ٱلۡمَضَاجِعِ وَٱضۡرِبُوهُنَّۖ فَإِنۡ أَطَعۡنَكُمۡ فَلَا تَبۡغُواْ عَلَيۡهِنَّ سَبِيلًاۗ إِنَّ ٱللَّهَ كَانَ عَلِيّٗا كَبِيرٗا",
         "translations": "Men are in charge of women by [right of] what Allah has given one over the other and what they spend [for maintenance] from their wealth. So righteous women are devoutly obedient, guarding in [the husband's] absence what Allah would have them guard. But those [wives] from whom you fear arrogance - [first] advise them; [then if they persist], forsake them in bed; and [finally], strike them. But if they obey you [once more], seek no means against them. Indeed, Allah is ever Exalted and Grand",
         "transliteration": "Alrrijalu qawwamoona AAala alnnisai bima faddala Allahu baAAdahum AAala baAAdin wabima anfaqoo min amwalihim faalssalihatu qanitatun hafithatun lilghaybi bima hafitha Allahu waallatee takhafoona nushoozahunna faAAithoohunna waohjuroohunna fee almadajiAAi waidriboohunna fain ataAAnakum fala tabghoo AAalayhinna sabeelan inna Allaha kana AAaliyyan kabeeran"
        },
        {
         "_deepnote_index_column": "es",
         "chapter": "nan",
         "id": 527,
         "number": 34,
         "text": "ٱلرِّجَالُ قَوَّـٰمُونَ عَلَى ٱلنِّسَآءِ بِمَا فَضَّلَ ٱللَّهُ بَعۡضَهُمۡ عَلَىٰ بَعۡضٖ وَبِمَآ أَنفَقُواْ مِنۡ أَمۡوَٰلِهِمۡۚ فَٱلصَّـٰلِحَٰتُ قَٰنِتَٰتٌ حَٰفِظَٰتٞ لِّلۡغَيۡبِ بِمَا حَفِظَ ٱللَّهُۚ وَٱلَّـٰتِي تَخَافُونَ نُشُوزَهُنَّ فَعِظُوهُنَّ وَٱهۡجُرُوهُنَّ فِي ٱلۡمَضَاجِعِ وَٱضۡرِبُوهُنَّۖ فَإِنۡ أَطَعۡنَكُمۡ فَلَا تَبۡغُواْ عَلَيۡهِنَّ سَبِيلًاۗ إِنَّ ٱللَّهَ كَانَ عَلِيّٗا كَبِيرٗا",
         "translations": "Los hombres son responsables del cuidado de las mujeres debido a las diferencias [físicas] que Dios ha puesto entre ellos, y por su obligación de mantenerlas con sus bienes materiales. Las mujeres piadosas e íntegras obedecen a Dios y en ausencia de su marido se mantienen fieles, tal como Dios manda. A aquellas de quienes teman maltrato y animadversión, exhórtenlas, tomen distancia no compartiendo el lecho, y por último pongan un límite físico; si les obedecen [en lo que Dios ordena], no les reclamen ni recriminen más. Dios es Sublime, Grande",
         "transliteration": "Alrrijalu qawwamoona AAala alnnisai bima faddala Allahu baAAdahum AAala baAAdin wabima anfaqoo min amwalihim faalssalihatu qanitatun hafithatun lilghaybi bima hafitha Allahu waallatee takhafoona nushoozahunna faAAithoohunna waohjuroohunna fee almadajiAAi waidriboohunna fain ataAAnakum fala tabghoo AAalayhinna sabeelan inna Allaha kana AAaliyyan kabeeran"
        },
        {
         "_deepnote_index_column": "fr",
         "chapter": "nan",
         "id": 527,
         "number": 34,
         "text": "ٱلرِّجَالُ قَوَّـٰمُونَ عَلَى ٱلنِّسَآءِ بِمَا فَضَّلَ ٱللَّهُ بَعۡضَهُمۡ عَلَىٰ بَعۡضٖ وَبِمَآ أَنفَقُواْ مِنۡ أَمۡوَٰلِهِمۡۚ فَٱلصَّـٰلِحَٰتُ قَٰنِتَٰتٌ حَٰفِظَٰتٞ لِّلۡغَيۡبِ بِمَا حَفِظَ ٱللَّهُۚ وَٱلَّـٰتِي تَخَافُونَ نُشُوزَهُنَّ فَعِظُوهُنَّ وَٱهۡجُرُوهُنَّ فِي ٱلۡمَضَاجِعِ وَٱضۡرِبُوهُنَّۖ فَإِنۡ أَطَعۡنَكُمۡ فَلَا تَبۡغُواْ عَلَيۡهِنَّ سَبِيلًاۗ إِنَّ ٱللَّهَ كَانَ عَلِيّٗا كَبِيرٗا",
         "translations": "Les hommes ont autorité sur les femmes, en raison des faveurs qu'Allah accorde à ceux-là sur celles-ci, et aussi à cause des dépenses qu'ils font de leurs biens. Les femmes vertueuses sont obéissantes (à leurs maris), et protègent ce qui doit être protégé, pendant l'absence de leurs époux, avec la protection d'Allah. Et quant à celles dont vous craignez la désobéissance, exhortez-les, éloignez-vous d'elles dans leurs lits et frappez-les. Si elles arrivent à vous obéir, alors ne cherchez plus de voie contre elles, car Allah est certes, Haut et Grand",
         "transliteration": "Alrrijalu qawwamoona AAala alnnisai bima faddala Allahu baAAdahum AAala baAAdin wabima anfaqoo min amwalihim faalssalihatu qanitatun hafithatun lilghaybi bima hafitha Allahu waallatee takhafoona nushoozahunna faAAithoohunna waohjuroohunna fee almadajiAAi waidriboohunna fain ataAAnakum fala tabghoo AAalayhinna sabeelan inna Allaha kana AAaliyyan kabeeran"
        },
        {
         "_deepnote_index_column": "id",
         "chapter": "4",
         "id": 527,
         "number": 34,
         "text": "ٱلرِّجَالُ قَوَّـٰمُونَ عَلَى ٱلنِّسَآءِ بِمَا فَضَّلَ ٱللَّهُ بَعۡضَهُمۡ عَلَىٰ بَعۡضٖ وَبِمَآ أَنفَقُواْ مِنۡ أَمۡوَٰلِهِمۡۚ فَٱلصَّـٰلِحَٰتُ قَٰنِتَٰتٌ حَٰفِظَٰتٞ لِّلۡغَيۡبِ بِمَا حَفِظَ ٱللَّهُۚ وَٱلَّـٰتِي تَخَافُونَ نُشُوزَهُنَّ فَعِظُوهُنَّ وَٱهۡجُرُوهُنَّ فِي ٱلۡمَضَاجِعِ وَٱضۡرِبُوهُنَّۖ فَإِنۡ أَطَعۡنَكُمۡ فَلَا تَبۡغُواْ عَلَيۡهِنَّ سَبِيلًاۗ إِنَّ ٱللَّهَ كَانَ عَلِيّٗا كَبِيرٗا",
         "translations": "Laki-laki (suami) itu pelindung bagi perempuan (istri), karena Allah telah melebihkan sebagian mereka (laki-laki) atas sebagian yang lain (perempuan), dan karena mereka (laki-laki) telah memberikan nafkah dari hartanya. Maka perempuan-perempuan yang saleh, adalah mereka yang taat (kepada Allah) dan menjaga diri ketika (suaminya) tidak ada, karena Allah telah menjaga (mereka).191) Perempuan-perempuan yang kamu khawatirkan akan nusyuz,192) hendaklah kamu beri nasihat kepada mereka, tinggalkanlah mereka di tempat tidur (pisah ranjang), dan (kalau perlu) pukullah mereka. Tetapi jika mereka menaatimu, maka janganlah kamu mencari-cari alasan untuk menyusahkannya. Sungguh, Allah Mahatinggi, Mahabesar",
         "transliteration": "Alrrijalu qawwamoona AAala alnnisai bima faddala Allahu baAAdahum AAala baAAdin wabima anfaqoo min amwalihim faalssalihatu qanitatun hafithatun lilghaybi bima hafitha Allahu waallatee takhafoona nushoozahunna faAAithoohunna waohjuroohunna fee almadajiAAi waidriboohunna fain ataAAnakum fala tabghoo AAalayhinna sabeelan inna Allaha kana AAaliyyan kabeeran"
        },
        {
         "_deepnote_index_column": "ru",
         "chapter": "nan",
         "id": 527,
         "number": 34,
         "text": "ٱلرِّجَالُ قَوَّـٰمُونَ عَلَى ٱلنِّسَآءِ بِمَا فَضَّلَ ٱللَّهُ بَعۡضَهُمۡ عَلَىٰ بَعۡضٖ وَبِمَآ أَنفَقُواْ مِنۡ أَمۡوَٰلِهِمۡۚ فَٱلصَّـٰلِحَٰتُ قَٰنِتَٰتٌ حَٰفِظَٰتٞ لِّلۡغَيۡبِ بِمَا حَفِظَ ٱللَّهُۚ وَٱلَّـٰتِي تَخَافُونَ نُشُوزَهُنَّ فَعِظُوهُنَّ وَٱهۡجُرُوهُنَّ فِي ٱلۡمَضَاجِعِ وَٱضۡرِبُوهُنَّۖ فَإِنۡ أَطَعۡنَكُمۡ فَلَا تَبۡغُواْ عَلَيۡهِنَّ سَبِيلًاۗ إِنَّ ٱللَّهَ كَانَ عَلِيّٗا كَبِيرٗا",
         "translations": "Мужчины являются попечителями женщин, потому что Аллах дал одним из них преимущество перед другими, и потому что они расходуют из своего имущества. Праведные женщины покорны и хранят то, что положено хранить, в отсутствие мужей, благодаря заботе Аллаха. А тех женщин, непокорности которых вы опасаетесь, увещевайте, избегайте на супружеском ложе и побивайте. Если же они будут покорны вам, то не ищите пути против них. Воистину, Аллах - Возвышенный, Большой",
         "transliteration": "Alrrijalu qawwamoona AAala alnnisai bima faddala Allahu baAAdahum AAala baAAdin wabima anfaqoo min amwalihim faalssalihatu qanitatun hafithatun lilghaybi bima hafitha Allahu waallatee takhafoona nushoozahunna faAAithoohunna waohjuroohunna fee almadajiAAi waidriboohunna fain ataAAnakum fala tabghoo AAalayhinna sabeelan inna Allaha kana AAaliyyan kabeeran"
        },
        {
         "_deepnote_index_column": "sv",
         "chapter": "nan",
         "id": 527,
         "number": 34,
         "text": "ٱلرِّجَالُ قَوَّـٰمُونَ عَلَى ٱلنِّسَآءِ بِمَا فَضَّلَ ٱللَّهُ بَعۡضَهُمۡ عَلَىٰ بَعۡضٖ وَبِمَآ أَنفَقُواْ مِنۡ أَمۡوَٰلِهِمۡۚ فَٱلصَّـٰلِحَٰتُ قَٰنِتَٰتٌ حَٰفِظَٰتٞ لِّلۡغَيۡبِ بِمَا حَفِظَ ٱللَّهُۚ وَٱلَّـٰتِي تَخَافُونَ نُشُوزَهُنَّ فَعِظُوهُنَّ وَٱهۡجُرُوهُنَّ فِي ٱلۡمَضَاجِعِ وَٱضۡرِبُوهُنَّۖ فَإِنۡ أَطَعۡنَكُمۡ فَلَا تَبۡغُواْ عَلَيۡهِنَّ سَبِيلًاۗ إِنَّ ٱللَّهَ كَانَ عَلِيّٗا كَبِيرٗا",
         "translations": "MÄNNEN SKALL ha ansvar för och omsorg om kvinnorna med [den styrka och] de andra företräden som Gud har gett dem, och i egenskap av [kvinnornas] försörjare. Rättfärdiga kvinnor förrättar ödmjukt sin andakt [inför Gud] och döljer [för andra] det som Gud har dolt. Om ni ser tecken på illvilja hos dem, förmana dem då och varna dem och [om detta inte hjälper] håll er borta från deras nattläger och [som sista utväg] tillrättavisa dem handgripligen. Om de sedan visar sig medgörliga, sök då inte sak med dem. Gud är upphöjd, stor [i försvaret av de svagare]",
         "transliteration": "Alrrijalu qawwamoona AAala alnnisai bima faddala Allahu baAAdahum AAala baAAdin wabima anfaqoo min amwalihim faalssalihatu qanitatun hafithatun lilghaybi bima hafitha Allahu waallatee takhafoona nushoozahunna faAAithoohunna waohjuroohunna fee almadajiAAi waidriboohunna fain ataAAnakum fala tabghoo AAalayhinna sabeelan inna Allaha kana AAaliyyan kabeeran"
        },
        {
         "_deepnote_index_column": "tr",
         "chapter": "nan",
         "id": 527,
         "number": 34,
         "text": "ٱلرِّجَالُ قَوَّـٰمُونَ عَلَى ٱلنِّسَآءِ بِمَا فَضَّلَ ٱللَّهُ بَعۡضَهُمۡ عَلَىٰ بَعۡضٖ وَبِمَآ أَنفَقُواْ مِنۡ أَمۡوَٰلِهِمۡۚ فَٱلصَّـٰلِحَٰتُ قَٰنِتَٰتٌ حَٰفِظَٰتٞ لِّلۡغَيۡبِ بِمَا حَفِظَ ٱللَّهُۚ وَٱلَّـٰتِي تَخَافُونَ نُشُوزَهُنَّ فَعِظُوهُنَّ وَٱهۡجُرُوهُنَّ فِي ٱلۡمَضَاجِعِ وَٱضۡرِبُوهُنَّۖ فَإِنۡ أَطَعۡنَكُمۡ فَلَا تَبۡغُواْ عَلَيۡهِنَّ سَبِيلًاۗ إِنَّ ٱللَّهَ كَانَ عَلِيّٗا كَبِيرٗا",
         "translations": "Allah'ın kimini kimine üstün kılmasından ötürü ve erkeklerin, mallarından sarfetmelerinden dolayı erkekler kadınlar üzerine hakimdirler. İyi kadınlar, gönülden boyun eğenler ve Allah'ın korunmasını emrettiğini, kocasının bulunmadığı zaman da koruyanlardır. Serkeşlik etmelerinden endişelendiğiniz kadınlara öğüt verin, yataklarında onları yalnız bırakın, nihayet dövün. Size itaat ediyorlarsa aleyhlerine yol aramayın. Doğrusu Allah Yüce'dir, Büyük'tür",
         "transliteration": "Alrrijalu qawwamoona AAala alnnisai bima faddala Allahu baAAdahum AAala baAAdin wabima anfaqoo min amwalihim faalssalihatu qanitatun hafithatun lilghaybi bima hafitha Allahu waallatee takhafoona nushoozahunna faAAithoohunna waohjuroohunna fee almadajiAAi waidriboohunna fain ataAAnakum fala tabghoo AAalayhinna sabeelan inna Allaha kana AAaliyyan kabeeran"
        },
        {
         "_deepnote_index_column": "ur",
         "chapter": "nan",
         "id": 527,
         "number": 34,
         "text": "ٱلرِّجَالُ قَوَّـٰمُونَ عَلَى ٱلنِّسَآءِ بِمَا فَضَّلَ ٱللَّهُ بَعۡضَهُمۡ عَلَىٰ بَعۡضٖ وَبِمَآ أَنفَقُواْ مِنۡ أَمۡوَٰلِهِمۡۚ فَٱلصَّـٰلِحَٰتُ قَٰنِتَٰتٌ حَٰفِظَٰتٞ لِّلۡغَيۡبِ بِمَا حَفِظَ ٱللَّهُۚ وَٱلَّـٰتِي تَخَافُونَ نُشُوزَهُنَّ فَعِظُوهُنَّ وَٱهۡجُرُوهُنَّ فِي ٱلۡمَضَاجِعِ وَٱضۡرِبُوهُنَّۖ فَإِنۡ أَطَعۡنَكُمۡ فَلَا تَبۡغُواْ عَلَيۡهِنَّ سَبِيلًاۗ إِنَّ ٱللَّهَ كَانَ عَلِيّٗا كَبِيرٗا",
         "translations": "مرد عورتوں پر قوام ہیں، اس بنا پر کہ اللہ نے اُن میں سے ایک کو دوسرے پر فضیلت دی ہے، اور اس بنا پر کہ مرد اپنے مال خرچ کرتے ہیں پس جو صالح عورتیں ہیں وہ اطاعت شعار ہوتی ہیں اور مردوں کے پیچھے اللہ کی حفاظت و نگرانی میں اُن کے حقوق کی حفاظت کرتی ہیں اور جن عورتوں سے تمہیں سرکشی کا اندیشہ ہو انہیں سمجھاؤ، خواب گاہوں میں اُن سے علیحدہ رہو اور مارو، پھر اگر تم وہ تمہاری مطیع ہو جائیں تو خواہ مخواہ ان پر دست درازی کے لیے بہانے تلاش نہ کرو، یقین رکھو کہ اوپر اللہ موجود ہے جو بڑا اور بالا تر ہے",
         "transliteration": "Alrrijalu qawwamoona AAala alnnisai bima faddala Allahu baAAdahum AAala baAAdin wabima anfaqoo min amwalihim faalssalihatu qanitatun hafithatun lilghaybi bima hafitha Allahu waallatee takhafoona nushoozahunna faAAithoohunna waohjuroohunna fee almadajiAAi waidriboohunna fain ataAAnakum fala tabghoo AAalayhinna sabeelan inna Allaha kana AAaliyyan kabeeran"
        },
        {
         "_deepnote_index_column": "zh",
         "chapter": "nan",
         "id": 527,
         "number": 34,
         "text": "ٱلرِّجَالُ قَوَّـٰمُونَ عَلَى ٱلنِّسَآءِ بِمَا فَضَّلَ ٱللَّهُ بَعۡضَهُمۡ عَلَىٰ بَعۡضٖ وَبِمَآ أَنفَقُواْ مِنۡ أَمۡوَٰلِهِمۡۚ فَٱلصَّـٰلِحَٰتُ قَٰنِتَٰتٌ حَٰفِظَٰتٞ لِّلۡغَيۡبِ بِمَا حَفِظَ ٱللَّهُۚ وَٱلَّـٰتِي تَخَافُونَ نُشُوزَهُنَّ فَعِظُوهُنَّ وَٱهۡجُرُوهُنَّ فِي ٱلۡمَضَاجِعِ وَٱضۡرِبُوهُنَّۖ فَإِنۡ أَطَعۡنَكُمۡ فَلَا تَبۡغُواْ عَلَيۡهِنَّ سَبِيلًاۗ إِنَّ ٱللَّهَ كَانَ عَلِيّٗا كَبِيرٗا",
         "translations": "男人是维护妇女的，因为安拉使他们比她们更优越，又因为他们所费的财产。贤淑的女子是服从的，是借安拉的保佑而保守隐微的。你们怕她们执拗的妇女，你们可以劝戒她们，可以和她们同床异被，可以打她们。如果她们服从你们，那么，你们不要再想法欺负她们。安拉确是至高的主，确是至大的。",
         "transliteration": "Alrrijalu qawwamoona AAala alnnisai bima faddala Allahu baAAdahum AAala baAAdin wabima anfaqoo min amwalihim faalssalihatu qanitatun hafithatun lilghaybi bima hafitha Allahu waallatee takhafoona nushoozahunna faAAithoohunna waohjuroohunna fee almadajiAAi waidriboohunna fain ataAAnakum fala tabghoo AAalayhinna sabeelan inna Allaha kana AAaliyyan kabeeran"
        },
        {
         "_deepnote_index_column": "name",
         "chapter": "النساء",
         "id": 527,
         "number": 34,
         "text": "ٱلرِّجَالُ قَوَّـٰمُونَ عَلَى ٱلنِّسَآءِ بِمَا فَضَّلَ ٱللَّهُ بَعۡضَهُمۡ عَلَىٰ بَعۡضٖ وَبِمَآ أَنفَقُواْ مِنۡ أَمۡوَٰلِهِمۡۚ فَٱلصَّـٰلِحَٰتُ قَٰنِتَٰتٌ حَٰفِظَٰتٞ لِّلۡغَيۡبِ بِمَا حَفِظَ ٱللَّهُۚ وَٱلَّـٰتِي تَخَافُونَ نُشُوزَهُنَّ فَعِظُوهُنَّ وَٱهۡجُرُوهُنَّ فِي ٱلۡمَضَاجِعِ وَٱضۡرِبُوهُنَّۖ فَإِنۡ أَطَعۡنَكُمۡ فَلَا تَبۡغُواْ عَلَيۡهِنَّ سَبِيلًاۗ إِنَّ ٱللَّهَ كَانَ عَلِيّٗا كَبِيرٗا",
         "translations": "nan",
         "transliteration": "Alrrijalu qawwamoona AAala alnnisai bima faddala Allahu baAAdahum AAala baAAdin wabima anfaqoo min amwalihim faalssalihatu qanitatun hafithatun lilghaybi bima hafitha Allahu waallatee takhafoona nushoozahunna faAAithoohunna waohjuroohunna fee almadajiAAi waidriboohunna fain ataAAnakum fala tabghoo AAalayhinna sabeelan inna Allaha kana AAaliyyan kabeeran"
        }
       ]
      },
      "text/html": [
       "<div>\n",
       "<style scoped>\n",
       "    .dataframe tbody tr th:only-of-type {\n",
       "        vertical-align: middle;\n",
       "    }\n",
       "\n",
       "    .dataframe tbody tr th {\n",
       "        vertical-align: top;\n",
       "    }\n",
       "\n",
       "    .dataframe thead th {\n",
       "        text-align: right;\n",
       "    }\n",
       "</style>\n",
       "<table border=\"1\" class=\"dataframe\">\n",
       "  <thead>\n",
       "    <tr style=\"text-align: right;\">\n",
       "      <th></th>\n",
       "      <th>id</th>\n",
       "      <th>number</th>\n",
       "      <th>text</th>\n",
       "      <th>translations</th>\n",
       "      <th>transliteration</th>\n",
       "      <th>chapter</th>\n",
       "    </tr>\n",
       "  </thead>\n",
       "  <tbody>\n",
       "    <tr>\n",
       "      <th>en</th>\n",
       "      <td>527</td>\n",
       "      <td>34</td>\n",
       "      <td>ٱلرِّجَالُ قَوَّـٰمُونَ عَلَى ٱلنِّسَآءِ بِمَ...</td>\n",
       "      <td>Men are in charge of women by [right of] what ...</td>\n",
       "      <td>Alrrijalu qawwamoona AAala alnnisai bima fadda...</td>\n",
       "      <td>NaN</td>\n",
       "    </tr>\n",
       "    <tr>\n",
       "      <th>es</th>\n",
       "      <td>527</td>\n",
       "      <td>34</td>\n",
       "      <td>ٱلرِّجَالُ قَوَّـٰمُونَ عَلَى ٱلنِّسَآءِ بِمَ...</td>\n",
       "      <td>Los hombres son responsables del cuidado de la...</td>\n",
       "      <td>Alrrijalu qawwamoona AAala alnnisai bima fadda...</td>\n",
       "      <td>NaN</td>\n",
       "    </tr>\n",
       "    <tr>\n",
       "      <th>fr</th>\n",
       "      <td>527</td>\n",
       "      <td>34</td>\n",
       "      <td>ٱلرِّجَالُ قَوَّـٰمُونَ عَلَى ٱلنِّسَآءِ بِمَ...</td>\n",
       "      <td>Les hommes ont autorité sur les femmes, en rai...</td>\n",
       "      <td>Alrrijalu qawwamoona AAala alnnisai bima fadda...</td>\n",
       "      <td>NaN</td>\n",
       "    </tr>\n",
       "    <tr>\n",
       "      <th>id</th>\n",
       "      <td>527</td>\n",
       "      <td>34</td>\n",
       "      <td>ٱلرِّجَالُ قَوَّـٰمُونَ عَلَى ٱلنِّسَآءِ بِمَ...</td>\n",
       "      <td>Laki-laki (suami) itu pelindung bagi perempuan...</td>\n",
       "      <td>Alrrijalu qawwamoona AAala alnnisai bima fadda...</td>\n",
       "      <td>4</td>\n",
       "    </tr>\n",
       "    <tr>\n",
       "      <th>ru</th>\n",
       "      <td>527</td>\n",
       "      <td>34</td>\n",
       "      <td>ٱلرِّجَالُ قَوَّـٰمُونَ عَلَى ٱلنِّسَآءِ بِمَ...</td>\n",
       "      <td>Мужчины являются попечителями женщин, потому ч...</td>\n",
       "      <td>Alrrijalu qawwamoona AAala alnnisai bima fadda...</td>\n",
       "      <td>NaN</td>\n",
       "    </tr>\n",
       "    <tr>\n",
       "      <th>sv</th>\n",
       "      <td>527</td>\n",
       "      <td>34</td>\n",
       "      <td>ٱلرِّجَالُ قَوَّـٰمُونَ عَلَى ٱلنِّسَآءِ بِمَ...</td>\n",
       "      <td>MÄNNEN SKALL ha ansvar för och omsorg om kvinn...</td>\n",
       "      <td>Alrrijalu qawwamoona AAala alnnisai bima fadda...</td>\n",
       "      <td>NaN</td>\n",
       "    </tr>\n",
       "    <tr>\n",
       "      <th>tr</th>\n",
       "      <td>527</td>\n",
       "      <td>34</td>\n",
       "      <td>ٱلرِّجَالُ قَوَّـٰمُونَ عَلَى ٱلنِّسَآءِ بِمَ...</td>\n",
       "      <td>Allah'ın kimini kimine üstün kılmasından ötürü...</td>\n",
       "      <td>Alrrijalu qawwamoona AAala alnnisai bima fadda...</td>\n",
       "      <td>NaN</td>\n",
       "    </tr>\n",
       "    <tr>\n",
       "      <th>ur</th>\n",
       "      <td>527</td>\n",
       "      <td>34</td>\n",
       "      <td>ٱلرِّجَالُ قَوَّـٰمُونَ عَلَى ٱلنِّسَآءِ بِمَ...</td>\n",
       "      <td>مرد عورتوں پر قوام ہیں، اس بنا پر کہ اللہ نے ا...</td>\n",
       "      <td>Alrrijalu qawwamoona AAala alnnisai bima fadda...</td>\n",
       "      <td>NaN</td>\n",
       "    </tr>\n",
       "    <tr>\n",
       "      <th>zh</th>\n",
       "      <td>527</td>\n",
       "      <td>34</td>\n",
       "      <td>ٱلرِّجَالُ قَوَّـٰمُونَ عَلَى ٱلنِّسَآءِ بِمَ...</td>\n",
       "      <td>男人是维护妇女的，因为安拉使他们比她们更优越，又因为他们所费的财产。贤淑的女子是服从的，是借...</td>\n",
       "      <td>Alrrijalu qawwamoona AAala alnnisai bima fadda...</td>\n",
       "      <td>NaN</td>\n",
       "    </tr>\n",
       "    <tr>\n",
       "      <th>name</th>\n",
       "      <td>527</td>\n",
       "      <td>34</td>\n",
       "      <td>ٱلرِّجَالُ قَوَّـٰمُونَ عَلَى ٱلنِّسَآءِ بِمَ...</td>\n",
       "      <td>NaN</td>\n",
       "      <td>Alrrijalu qawwamoona AAala alnnisai bima fadda...</td>\n",
       "      <td>النساء</td>\n",
       "    </tr>\n",
       "    <tr>\n",
       "      <th>transliteration</th>\n",
       "      <td>527</td>\n",
       "      <td>34</td>\n",
       "      <td>ٱلرِّجَالُ قَوَّـٰمُونَ عَلَى ٱلنِّسَآءِ بِمَ...</td>\n",
       "      <td>NaN</td>\n",
       "      <td>Alrrijalu qawwamoona AAala alnnisai bima fadda...</td>\n",
       "      <td>An-Nisa</td>\n",
       "    </tr>\n",
       "    <tr>\n",
       "      <th>translations</th>\n",
       "      <td>527</td>\n",
       "      <td>34</td>\n",
       "      <td>ٱلرِّجَالُ قَوَّـٰمُونَ عَلَى ٱلنِّسَآءِ بِمَ...</td>\n",
       "      <td>NaN</td>\n",
       "      <td>Alrrijalu qawwamoona AAala alnnisai bima fadda...</td>\n",
       "      <td>{'en': 'The Women', 'es': 'Las Mujeres', 'fr':...</td>\n",
       "    </tr>\n",
       "    <tr>\n",
       "      <th>type</th>\n",
       "      <td>527</td>\n",
       "      <td>34</td>\n",
       "      <td>ٱلرِّجَالُ قَوَّـٰمُونَ عَلَى ٱلنِّسَآءِ بِمَ...</td>\n",
       "      <td>NaN</td>\n",
       "      <td>Alrrijalu qawwamoona AAala alnnisai bima fadda...</td>\n",
       "      <td>medinan</td>\n",
       "    </tr>\n",
       "  </tbody>\n",
       "</table>\n",
       "</div>"
      ],
      "text/plain": [
       "                  id  number  \\\n",
       "en               527      34   \n",
       "es               527      34   \n",
       "fr               527      34   \n",
       "id               527      34   \n",
       "ru               527      34   \n",
       "sv               527      34   \n",
       "tr               527      34   \n",
       "ur               527      34   \n",
       "zh               527      34   \n",
       "name             527      34   \n",
       "transliteration  527      34   \n",
       "translations     527      34   \n",
       "type             527      34   \n",
       "\n",
       "                                                              text  \\\n",
       "en               ٱلرِّجَالُ قَوَّـٰمُونَ عَلَى ٱلنِّسَآءِ بِمَ...   \n",
       "es               ٱلرِّجَالُ قَوَّـٰمُونَ عَلَى ٱلنِّسَآءِ بِمَ...   \n",
       "fr               ٱلرِّجَالُ قَوَّـٰمُونَ عَلَى ٱلنِّسَآءِ بِمَ...   \n",
       "id               ٱلرِّجَالُ قَوَّـٰمُونَ عَلَى ٱلنِّسَآءِ بِمَ...   \n",
       "ru               ٱلرِّجَالُ قَوَّـٰمُونَ عَلَى ٱلنِّسَآءِ بِمَ...   \n",
       "sv               ٱلرِّجَالُ قَوَّـٰمُونَ عَلَى ٱلنِّسَآءِ بِمَ...   \n",
       "tr               ٱلرِّجَالُ قَوَّـٰمُونَ عَلَى ٱلنِّسَآءِ بِمَ...   \n",
       "ur               ٱلرِّجَالُ قَوَّـٰمُونَ عَلَى ٱلنِّسَآءِ بِمَ...   \n",
       "zh               ٱلرِّجَالُ قَوَّـٰمُونَ عَلَى ٱلنِّسَآءِ بِمَ...   \n",
       "name             ٱلرِّجَالُ قَوَّـٰمُونَ عَلَى ٱلنِّسَآءِ بِمَ...   \n",
       "transliteration  ٱلرِّجَالُ قَوَّـٰمُونَ عَلَى ٱلنِّسَآءِ بِمَ...   \n",
       "translations     ٱلرِّجَالُ قَوَّـٰمُونَ عَلَى ٱلنِّسَآءِ بِمَ...   \n",
       "type             ٱلرِّجَالُ قَوَّـٰمُونَ عَلَى ٱلنِّسَآءِ بِمَ...   \n",
       "\n",
       "                                                      translations  \\\n",
       "en               Men are in charge of women by [right of] what ...   \n",
       "es               Los hombres son responsables del cuidado de la...   \n",
       "fr               Les hommes ont autorité sur les femmes, en rai...   \n",
       "id               Laki-laki (suami) itu pelindung bagi perempuan...   \n",
       "ru               Мужчины являются попечителями женщин, потому ч...   \n",
       "sv               MÄNNEN SKALL ha ansvar för och omsorg om kvinn...   \n",
       "tr               Allah'ın kimini kimine üstün kılmasından ötürü...   \n",
       "ur               مرد عورتوں پر قوام ہیں، اس بنا پر کہ اللہ نے ا...   \n",
       "zh               男人是维护妇女的，因为安拉使他们比她们更优越，又因为他们所费的财产。贤淑的女子是服从的，是借...   \n",
       "name                                                           NaN   \n",
       "transliteration                                                NaN   \n",
       "translations                                                   NaN   \n",
       "type                                                           NaN   \n",
       "\n",
       "                                                   transliteration  \\\n",
       "en               Alrrijalu qawwamoona AAala alnnisai bima fadda...   \n",
       "es               Alrrijalu qawwamoona AAala alnnisai bima fadda...   \n",
       "fr               Alrrijalu qawwamoona AAala alnnisai bima fadda...   \n",
       "id               Alrrijalu qawwamoona AAala alnnisai bima fadda...   \n",
       "ru               Alrrijalu qawwamoona AAala alnnisai bima fadda...   \n",
       "sv               Alrrijalu qawwamoona AAala alnnisai bima fadda...   \n",
       "tr               Alrrijalu qawwamoona AAala alnnisai bima fadda...   \n",
       "ur               Alrrijalu qawwamoona AAala alnnisai bima fadda...   \n",
       "zh               Alrrijalu qawwamoona AAala alnnisai bima fadda...   \n",
       "name             Alrrijalu qawwamoona AAala alnnisai bima fadda...   \n",
       "transliteration  Alrrijalu qawwamoona AAala alnnisai bima fadda...   \n",
       "translations     Alrrijalu qawwamoona AAala alnnisai bima fadda...   \n",
       "type             Alrrijalu qawwamoona AAala alnnisai bima fadda...   \n",
       "\n",
       "                                                           chapter  \n",
       "en                                                             NaN  \n",
       "es                                                             NaN  \n",
       "fr                                                             NaN  \n",
       "id                                                               4  \n",
       "ru                                                             NaN  \n",
       "sv                                                             NaN  \n",
       "tr                                                             NaN  \n",
       "ur                                                             NaN  \n",
       "zh                                                             NaN  \n",
       "name                                                        النساء  \n",
       "transliteration                                            An-Nisa  \n",
       "translations     {'en': 'The Women', 'es': 'Las Mujeres', 'fr':...  \n",
       "type                                                       medinan  "
      ]
     },
     "execution_count": 4,
     "metadata": {},
     "output_type": "execute_result"
    }
   ],
   "source": [
    "# Dataset: Individual Verses\n",
    "v527 = pd.read_json('https://projectq.io/data/source/verses/527.json')\n",
    "v527"
   ]
  },
  {
   "cell_type": "markdown",
   "metadata": {
    "cell_id": "2c31290878ea489a9e3928f26d28caee",
    "deepnote_app_coordinates": {
     "h": 5,
     "w": 12,
     "x": 0,
     "y": 61
    },
    "deepnote_cell_type": "text-cell-h3",
    "formattedRanges": [],
    "is_collapsed": false,
    "tags": []
   },
   "source": [
    "### Filtering to single translation"
   ]
  },
  {
   "cell_type": "code",
   "execution_count": 5,
   "metadata": {
    "cell_id": "5569cb8d28f04ed680babbdf458f3b1d",
    "deepnote_app_coordinates": {
     "h": 5,
     "w": 12,
     "x": 0,
     "y": 67
    },
    "deepnote_cell_height": 231,
    "deepnote_cell_type": "code",
    "deepnote_to_be_reexecuted": false,
    "execution_millis": 249,
    "execution_start": 1658115711313,
    "source_hash": "cadd6cb",
    "tags": []
   },
   "outputs": [
    {
     "data": {
      "application/vnd.deepnote.dataframe.v3+json": {
       "column_count": 6,
       "columns": [
        {
         "dtype": "int64",
         "name": "id",
         "stats": {
          "histogram": [
           {
            "bin_end": 526.6,
            "bin_start": 526.5,
            "count": 0
           },
           {
            "bin_end": 526.7,
            "bin_start": 526.6,
            "count": 0
           },
           {
            "bin_end": 526.8,
            "bin_start": 526.7,
            "count": 0
           },
           {
            "bin_end": 526.9,
            "bin_start": 526.8,
            "count": 0
           },
           {
            "bin_end": 527,
            "bin_start": 526.9,
            "count": 0
           },
           {
            "bin_end": 527.1,
            "bin_start": 527,
            "count": 1
           },
           {
            "bin_end": 527.2,
            "bin_start": 527.1,
            "count": 0
           },
           {
            "bin_end": 527.3,
            "bin_start": 527.2,
            "count": 0
           },
           {
            "bin_end": 527.4,
            "bin_start": 527.3,
            "count": 0
           },
           {
            "bin_end": 527.5,
            "bin_start": 527.4,
            "count": 0
           }
          ],
          "max": "527",
          "min": "527",
          "nan_count": 0,
          "unique_count": 1
         }
        },
        {
         "dtype": "int64",
         "name": "number",
         "stats": {
          "histogram": [
           {
            "bin_end": 33.6,
            "bin_start": 33.5,
            "count": 0
           },
           {
            "bin_end": 33.7,
            "bin_start": 33.6,
            "count": 0
           },
           {
            "bin_end": 33.8,
            "bin_start": 33.7,
            "count": 0
           },
           {
            "bin_end": 33.9,
            "bin_start": 33.8,
            "count": 0
           },
           {
            "bin_end": 34,
            "bin_start": 33.9,
            "count": 0
           },
           {
            "bin_end": 34.1,
            "bin_start": 34,
            "count": 1
           },
           {
            "bin_end": 34.2,
            "bin_start": 34.1,
            "count": 0
           },
           {
            "bin_end": 34.3,
            "bin_start": 34.2,
            "count": 0
           },
           {
            "bin_end": 34.4,
            "bin_start": 34.3,
            "count": 0
           },
           {
            "bin_end": 34.5,
            "bin_start": 34.4,
            "count": 0
           }
          ],
          "max": "34",
          "min": "34",
          "nan_count": 0,
          "unique_count": 1
         }
        },
        {
         "dtype": "object",
         "name": "text",
         "stats": {
          "categories": [
           {
            "count": 1,
            "name": "ٱلرِّجَالُ قَوَّـٰمُونَ عَلَى ٱلنِّسَآءِ بِمَا فَضَّلَ ٱللَّهُ بَعۡضَهُمۡ عَلَىٰ بَعۡضٖ وَبِمَآ أَنفَقُواْ مِنۡ أَمۡوَٰلِهِمۡۚ فَٱلصَّـٰلِحَٰتُ قَٰنِتَٰتٌ حَٰفِظَٰتٞ لِّلۡغَيۡبِ بِمَا حَفِظَ ٱللَّهُۚ وَٱلَّـٰتِي تَخَافُونَ نُشُوزَهُنَّ فَعِظُوهُنَّ وَٱهۡجُرُوهُنَّ فِي ٱلۡمَضَاجِعِ وَٱضۡرِبُوهُنَّۖ فَإِنۡ أَطَعۡنَكُمۡ فَلَا تَبۡغُواْ عَلَيۡهِنَّ سَبِيلًاۗ إِنَّ ٱللَّهَ كَانَ عَلِيّٗا كَبِيرٗا"
           }
          ],
          "nan_count": 0,
          "unique_count": 1
         }
        },
        {
         "dtype": "object",
         "name": "translations",
         "stats": {
          "categories": [
           {
            "count": 1,
            "name": "Men are in charge of women by [right of] what Allah has given one over the other and what they spend [for maintenance] from their wealth. So righteous women are devoutly obedient, guarding in [the husband's] absence what Allah would have them guard. But those [wives] from whom you fear arrogance - [first] advise them; [then if they persist], forsake them in bed; and [finally], strike them. But if they obey you [once more], seek no means against them. Indeed, Allah is ever Exalted and Grand"
           }
          ],
          "nan_count": 0,
          "unique_count": 1
         }
        },
        {
         "dtype": "object",
         "name": "transliteration",
         "stats": {
          "categories": [
           {
            "count": 1,
            "name": "Alrrijalu qawwamoona AAala alnnisai bima faddala Allahu baAAdahum AAala baAAdin wabima anfaqoo min amwalihim faalssalihatu qanitatun hafithatun lilghaybi bima hafitha Allahu waallatee takhafoona nushoozahunna faAAithoohunna waohjuroohunna fee almadajiAAi waidriboohunna fain ataAAnakum fala tabghoo AAalayhinna sabeelan inna Allaha kana AAaliyyan kabeeran"
           }
          ],
          "nan_count": 0,
          "unique_count": 1
         }
        },
        {
         "dtype": "object",
         "name": "chapter",
         "stats": {
          "categories": [
           {
            "count": 1,
            "name": "Missing"
           }
          ],
          "nan_count": 1,
          "unique_count": 0
         }
        },
        {
         "dtype": "object",
         "name": "_deepnote_index_column"
        }
       ],
       "row_count": 1,
       "rows": [
        {
         "_deepnote_index_column": "en",
         "chapter": "nan",
         "id": 527,
         "number": 34,
         "text": "ٱلرِّجَالُ قَوَّـٰمُونَ عَلَى ٱلنِّسَآءِ بِمَا فَضَّلَ ٱللَّهُ بَعۡضَهُمۡ عَلَىٰ بَعۡضٖ وَبِمَآ أَنفَقُواْ مِنۡ أَمۡوَٰلِهِمۡۚ فَٱلصَّـٰلِحَٰتُ قَٰنِتَٰتٌ حَٰفِظَٰتٞ لِّلۡغَيۡبِ بِمَا حَفِظَ ٱللَّهُۚ وَٱلَّـٰتِي تَخَافُونَ نُشُوزَهُنَّ فَعِظُوهُنَّ وَٱهۡجُرُوهُنَّ فِي ٱلۡمَضَاجِعِ وَٱضۡرِبُوهُنَّۖ فَإِنۡ أَطَعۡنَكُمۡ فَلَا تَبۡغُواْ عَلَيۡهِنَّ سَبِيلًاۗ إِنَّ ٱللَّهَ كَانَ عَلِيّٗا كَبِيرٗا",
         "translations": "Men are in charge of women by [right of] what Allah has given one over the other and what they spend [for maintenance] from their wealth. So righteous women are devoutly obedient, guarding in [the husband's] absence what Allah would have them guard. But those [wives] from whom you fear arrogance - [first] advise them; [then if they persist], forsake them in bed; and [finally], strike them. But if they obey you [once more], seek no means against them. Indeed, Allah is ever Exalted and Grand",
         "transliteration": "Alrrijalu qawwamoona AAala alnnisai bima faddala Allahu baAAdahum AAala baAAdin wabima anfaqoo min amwalihim faalssalihatu qanitatun hafithatun lilghaybi bima hafitha Allahu waallatee takhafoona nushoozahunna faAAithoohunna waohjuroohunna fee almadajiAAi waidriboohunna fain ataAAnakum fala tabghoo AAalayhinna sabeelan inna Allaha kana AAaliyyan kabeeran"
        }
       ]
      },
      "text/html": [
       "<div>\n",
       "<style scoped>\n",
       "    .dataframe tbody tr th:only-of-type {\n",
       "        vertical-align: middle;\n",
       "    }\n",
       "\n",
       "    .dataframe tbody tr th {\n",
       "        vertical-align: top;\n",
       "    }\n",
       "\n",
       "    .dataframe thead th {\n",
       "        text-align: right;\n",
       "    }\n",
       "</style>\n",
       "<table border=\"1\" class=\"dataframe\">\n",
       "  <thead>\n",
       "    <tr style=\"text-align: right;\">\n",
       "      <th></th>\n",
       "      <th>id</th>\n",
       "      <th>number</th>\n",
       "      <th>text</th>\n",
       "      <th>translations</th>\n",
       "      <th>transliteration</th>\n",
       "      <th>chapter</th>\n",
       "    </tr>\n",
       "  </thead>\n",
       "  <tbody>\n",
       "    <tr>\n",
       "      <th>en</th>\n",
       "      <td>527</td>\n",
       "      <td>34</td>\n",
       "      <td>ٱلرِّجَالُ قَوَّـٰمُونَ عَلَى ٱلنِّسَآءِ بِمَ...</td>\n",
       "      <td>Men are in charge of women by [right of] what ...</td>\n",
       "      <td>Alrrijalu qawwamoona AAala alnnisai bima fadda...</td>\n",
       "      <td>NaN</td>\n",
       "    </tr>\n",
       "  </tbody>\n",
       "</table>\n",
       "</div>"
      ],
      "text/plain": [
       "     id  number                                               text  \\\n",
       "en  527      34  ٱلرِّجَالُ قَوَّـٰمُونَ عَلَى ٱلنِّسَآءِ بِمَ...   \n",
       "\n",
       "                                         translations  \\\n",
       "en  Men are in charge of women by [right of] what ...   \n",
       "\n",
       "                                      transliteration chapter  \n",
       "en  Alrrijalu qawwamoona AAala alnnisai bima fadda...     NaN  "
      ]
     },
     "execution_count": 5,
     "metadata": {},
     "output_type": "execute_result"
    }
   ],
   "source": [
    "v527.loc[['en']]"
   ]
  },
  {
   "cell_type": "markdown",
   "metadata": {
    "cell_id": "1a83ae8d66e444aa8154b7c90e3e3268",
    "deepnote_app_coordinates": {
     "h": 5,
     "w": 12,
     "x": 0,
     "y": 73
    },
    "deepnote_cell_type": "text-cell-h2",
    "formattedRanges": [],
    "is_collapsed": false,
    "tags": []
   },
   "source": [
    "## Reading All Verses with Extended Translations"
   ]
  },
  {
   "cell_type": "code",
   "execution_count": 6,
   "metadata": {
    "cell_id": "7fee412a9fb44a7abdbd661877646bf8",
    "deepnote_app_coordinates": {
     "h": 5,
     "w": 12,
     "x": 0,
     "y": 79
    },
    "deepnote_cell_height": 636,
    "deepnote_cell_type": "code",
    "deepnote_to_be_reexecuted": false,
    "execution_millis": 589,
    "execution_start": 1658115711400,
    "source_hash": "f2e4f894",
    "tags": []
   },
   "outputs": [
    {
     "data": {
      "application/vnd.deepnote.dataframe.v3+json": {
       "column_count": 8,
       "columns": [
        {
         "dtype": "int64",
         "name": "id",
         "stats": {
          "histogram": [
           {
            "bin_end": 624.5,
            "bin_start": 1,
            "count": 624
           },
           {
            "bin_end": 1248,
            "bin_start": 624.5,
            "count": 623
           },
           {
            "bin_end": 1871.5,
            "bin_start": 1248,
            "count": 624
           },
           {
            "bin_end": 2495,
            "bin_start": 1871.5,
            "count": 623
           },
           {
            "bin_end": 3118.5,
            "bin_start": 2495,
            "count": 624
           },
           {
            "bin_end": 3742,
            "bin_start": 3118.5,
            "count": 623
           },
           {
            "bin_end": 4365.5,
            "bin_start": 3742,
            "count": 624
           },
           {
            "bin_end": 4989,
            "bin_start": 4365.5,
            "count": 623
           },
           {
            "bin_end": 5612.5,
            "bin_start": 4989,
            "count": 624
           },
           {
            "bin_end": 6236,
            "bin_start": 5612.5,
            "count": 624
           }
          ],
          "max": "6236",
          "min": "1",
          "nan_count": 0,
          "unique_count": 6236
         }
        },
        {
         "dtype": "int64",
         "name": "chapter",
         "stats": {
          "histogram": [
           {
            "bin_end": 12.3,
            "bin_start": 1,
            "count": 1707
           },
           {
            "bin_end": 23.6,
            "bin_start": 12.3,
            "count": 1084
           },
           {
            "bin_end": 34.900000000000006,
            "bin_start": 23.6,
            "count": 869
           },
           {
            "bin_end": 46.2,
            "bin_start": 34.900000000000006,
            "count": 885
           },
           {
            "bin_end": 57.5,
            "bin_start": 46.2,
            "count": 559
           },
           {
            "bin_end": 68.80000000000001,
            "bin_start": 57.5,
            "count": 219
           },
           {
            "bin_end": 80.10000000000001,
            "bin_start": 68.80000000000001,
            "count": 477
           },
           {
            "bin_end": 91.4,
            "bin_start": 80.10000000000001,
            "count": 258
           },
           {
            "bin_end": 102.7,
            "bin_start": 91.4,
            "count": 118
           },
           {
            "bin_end": 114,
            "bin_start": 102.7,
            "count": 60
           }
          ],
          "max": "114",
          "min": "1",
          "nan_count": 0,
          "unique_count": 114
         }
        },
        {
         "dtype": "int64",
         "name": "verse",
         "stats": {
          "histogram": [
           {
            "bin_end": 29.5,
            "bin_start": 1,
            "count": 2580
           },
           {
            "bin_end": 58,
            "bin_start": 29.5,
            "count": 1482
           },
           {
            "bin_end": 86.5,
            "bin_start": 58,
            "count": 925
           },
           {
            "bin_end": 115,
            "bin_start": 86.5,
            "count": 536
           },
           {
            "bin_end": 143.5,
            "bin_start": 115,
            "count": 272
           },
           {
            "bin_end": 172,
            "bin_start": 143.5,
            "count": 190
           },
           {
            "bin_end": 200.5,
            "bin_start": 172,
            "count": 132
           },
           {
            "bin_end": 229,
            "bin_start": 200.5,
            "count": 61
           },
           {
            "bin_end": 257.5,
            "bin_start": 229,
            "count": 29
           },
           {
            "bin_end": 286,
            "bin_start": 257.5,
            "count": 29
           }
          ],
          "max": "286",
          "min": "1",
          "nan_count": 0,
          "unique_count": 286
         }
        },
        {
         "dtype": "object",
         "name": "Sahih_International",
         "stats": {
          "categories": [
           {
            "count": 24,
            "name": "So which of the favors of your Lord would you deny?"
           },
           {
            "count": 10,
            "name": "Woe, that Day, to the deniers."
           },
           {
            "count": 6202,
            "name": "6109 others"
           }
          ],
          "nan_count": 0,
          "unique_count": 6111
         }
        },
        {
         "dtype": "object",
         "name": "Yusuf_Ali",
         "stats": {
          "categories": [
           {
            "count": 23,
            "name": "Then which of the favours of your Lord will ye deny?"
           },
           {
            "count": 9,
            "name": "Ah woe, that Day, to the Rejecters of Truth!"
           },
           {
            "count": 6204,
            "name": "6153 others"
           }
          ],
          "nan_count": 0,
          "unique_count": 6155
         }
        },
        {
         "dtype": "object",
         "name": "Shakir",
         "stats": {
          "categories": [
           {
            "count": 31,
            "name": "Which then of the bounties of your Lord will you deny?"
           },
           {
            "count": 10,
            "name": "Woe on that day to the rejecters."
           },
           {
            "count": 6195,
            "name": "6140 others"
           }
          ],
          "nan_count": 0,
          "unique_count": 6142
         }
        },
        {
         "dtype": "object",
         "name": "Muhammad_Sarwar",
         "stats": {
          "categories": [
           {
            "count": 15,
            "name": "(Jinn and mankind) - which of the favors of your Lord would you then deny?"
           },
           {
            "count": 8,
            "name": "(Jinn and mankind) - which of the favors of your Lord do you then deny?"
           },
           {
            "count": 6213,
            "name": "6166 others"
           }
          ],
          "nan_count": 0,
          "unique_count": 6168
         }
        },
        {
         "dtype": "object",
         "name": "Mohsin_Khan",
         "stats": {
          "categories": [
           {
            "count": 31,
            "name": "Then which of the Blessings of your Lord will you both (jinns and men) deny?"
           },
           {
            "count": 10,
            "name": "Woe that Day to the deniers (of the Day of Resurrection)!"
           },
           {
            "count": 6195,
            "name": "6160 others"
           }
          ],
          "nan_count": 0,
          "unique_count": 6162
         }
        },
        {
         "dtype": "int64",
         "name": "_deepnote_index_column"
        }
       ],
       "row_count": 6236,
       "rows": [
        {
         "Mohsin_Khan": "In the Name of Allah, the Most Beneficent, the Most Merciful.",
         "Muhammad_Sarwar": "In the Name of Allah, the Beneficent, the Merciful",
         "Sahih_International": "In the name of Allah , the Entirely Merciful, the Especially Merciful.",
         "Shakir": "In the name of Allah, the Beneficent, the Merciful.",
         "Yusuf_Ali": "In the name of Allah, Most Gracious, Most Merciful.",
         "_deepnote_index_column": 0,
         "chapter": 1,
         "id": 1,
         "verse": 1
        },
        {
         "Mohsin_Khan": "All the praises and thanks be to Allah, the Lord of the 'Alamin (mankind, jinns and all that exists).",
         "Muhammad_Sarwar": "All praise belongs to God, Lord of the Universe,",
         "Sahih_International": "[All] praise is [due] to Allah , Lord of the worlds -",
         "Shakir": "All praise is due to Allah, the Lord of the Worlds.",
         "Yusuf_Ali": "Praise be to Allah, the Cherisher and Sustainer of the worlds;",
         "_deepnote_index_column": 1,
         "chapter": 1,
         "id": 2,
         "verse": 2
        },
        {
         "Mohsin_Khan": "The Most Beneficent, the Most Merciful.",
         "Muhammad_Sarwar": "the Beneficent, the Merciful",
         "Sahih_International": "The Entirely Merciful, the Especially Merciful,",
         "Shakir": "The Beneficent, the Merciful.",
         "Yusuf_Ali": "Most Gracious, Most Merciful;",
         "_deepnote_index_column": 2,
         "chapter": 1,
         "id": 3,
         "verse": 3
        },
        {
         "Mohsin_Khan": "The Only Owner (and the Only Ruling Judge) of the Day of Recompense (i.e. the Day of Resurrection)",
         "Muhammad_Sarwar": "and Master of the Day of Judgment",
         "Sahih_International": "Sovereign of the Day of Recompense.",
         "Shakir": "Master of the Day of Judgment.",
         "Yusuf_Ali": "Master of the Day of Judgment.",
         "_deepnote_index_column": 3,
         "chapter": 1,
         "id": 4,
         "verse": 4
        },
        {
         "Mohsin_Khan": "You (Alone) we worship, and You (Alone) we ask for help (for each and everything).",
         "Muhammad_Sarwar": "(Lord), You alone We do worship and from You alone we do seek assistance",
         "Sahih_International": "It is You we worship and You we ask for help.",
         "Shakir": "Thee do we serve and Thee do we beseech for help.",
         "Yusuf_Ali": "Thee do we worship, and Thine aid we seek.",
         "_deepnote_index_column": 4,
         "chapter": 1,
         "id": 5,
         "verse": 5
        },
        {
         "Mohsin_Khan": "Guide us to the Straight Way",
         "Muhammad_Sarwar": "(Lord), guide us to the right path,",
         "Sahih_International": "Guide us to the straight path -",
         "Shakir": "Keep us on the right path.",
         "Yusuf_Ali": "Show us the straight way,",
         "_deepnote_index_column": 5,
         "chapter": 1,
         "id": 6,
         "verse": 6
        },
        {
         "Mohsin_Khan": "The Way of those on whom You have bestowed Your Grace , not (the way) of those who earned Your Anger (such as the Jews), nor of those who went astray (such as the Christians).",
         "Muhammad_Sarwar": "the path of those to whom You have granted blessings, those who are neither subject to Your anger nor have gone astray.",
         "Sahih_International": "The path of those upon whom You have bestowed favor, not of those who have evoked [Your] anger or of those who are astray.",
         "Shakir": "The path of those upon whom Thou hast bestowed favors. Not (the path) of those upon whom Thy wrath is brought down, nor of those who go astray.",
         "Yusuf_Ali": "The way of those on whom Thou hast bestowed Thy Grace, those whose (portion) is not wrath, and who go not astray.",
         "_deepnote_index_column": 6,
         "chapter": 1,
         "id": 7,
         "verse": 7
        },
        {
         "Mohsin_Khan": "Alif-Lam-Mim. [These letters are one of the miracles of the Quran and none but Allah (Alone) knows their meanings].",
         "Muhammad_Sarwar": "Alif. Lam. Mim.",
         "Sahih_International": "Alif, Lam, Meem.",
         "Shakir": "Alif Lam Mim.",
         "Yusuf_Ali": "A.L.M.",
         "_deepnote_index_column": 7,
         "chapter": 2,
         "id": 8,
         "verse": 1
        },
        {
         "Mohsin_Khan": "This is the Book (the Quran), whereof there is no doubt, a guidance to those who are Al-Muttaqun [the pious and righteous persons who fear Allah much (abstain from all kinds of sins and evil deeds which He has forbidden) and love Allah much (perform all kinds of good deeds which He has ordained)].",
         "Muhammad_Sarwar": "There is no doubt that this book is a guide for the pious;",
         "Sahih_International": "This is the Book about which there is no doubt, a guidance for those conscious of Allah -",
         "Shakir": "This Book, there is no doubt in it, is a guide to those who guard (against evil).",
         "Yusuf_Ali": "This is the Book; in it is guidance sure, without doubt, to those who fear Allah;",
         "_deepnote_index_column": 8,
         "chapter": 2,
         "id": 9,
         "verse": 2
        },
        {
         "Mohsin_Khan": "Who believe in the Ghaib and perform As-Salat (Iqamat-as-Salat), and spend out of what we have provided for them [i.e. give Zakat , spend on themselves, their parents, their children, their wives, etc., and also give charity to the poor and also in Allah's Cause - Jihad, etc.].",
         "Muhammad_Sarwar": "the pious who believe in the unseen, attend to prayer, give in charity part of what We have granted them;",
         "Sahih_International": "Who believe in the unseen, establish prayer, and spend out of what We have provided for them,",
         "Shakir": "Those who believe in the unseen and keep up prayer and spend out of what We have given them.",
         "Yusuf_Ali": "Who believe in the Unseen, are steadfast in prayer, and spend out of what We have provided for them;",
         "_deepnote_index_column": 9,
         "chapter": 2,
         "id": 10,
         "verse": 3
        }
       ]
      },
      "text/html": [
       "<div>\n",
       "<style scoped>\n",
       "    .dataframe tbody tr th:only-of-type {\n",
       "        vertical-align: middle;\n",
       "    }\n",
       "\n",
       "    .dataframe tbody tr th {\n",
       "        vertical-align: top;\n",
       "    }\n",
       "\n",
       "    .dataframe thead th {\n",
       "        text-align: right;\n",
       "    }\n",
       "</style>\n",
       "<table border=\"1\" class=\"dataframe\">\n",
       "  <thead>\n",
       "    <tr style=\"text-align: right;\">\n",
       "      <th></th>\n",
       "      <th>id</th>\n",
       "      <th>chapter</th>\n",
       "      <th>verse</th>\n",
       "      <th>Sahih_International</th>\n",
       "      <th>Yusuf_Ali</th>\n",
       "      <th>Shakir</th>\n",
       "      <th>Muhammad_Sarwar</th>\n",
       "      <th>Mohsin_Khan</th>\n",
       "    </tr>\n",
       "  </thead>\n",
       "  <tbody>\n",
       "    <tr>\n",
       "      <th>0</th>\n",
       "      <td>1</td>\n",
       "      <td>1</td>\n",
       "      <td>1</td>\n",
       "      <td>In the name of Allah , the Entirely Merciful, ...</td>\n",
       "      <td>In the name of Allah, Most Gracious, Most Merc...</td>\n",
       "      <td>In the name of Allah, the Beneficent, the Merc...</td>\n",
       "      <td>In the Name of Allah, the Beneficent, the Merc...</td>\n",
       "      <td>In the Name of Allah, the Most Beneficent, the...</td>\n",
       "    </tr>\n",
       "    <tr>\n",
       "      <th>1</th>\n",
       "      <td>2</td>\n",
       "      <td>1</td>\n",
       "      <td>2</td>\n",
       "      <td>[All] praise is [due] to Allah , Lord of the w...</td>\n",
       "      <td>Praise be to Allah, the Cherisher and Sustaine...</td>\n",
       "      <td>All praise is due to Allah, the Lord of the Wo...</td>\n",
       "      <td>All praise belongs to God, Lord of the Universe,</td>\n",
       "      <td>All the praises and thanks be to Allah, the Lo...</td>\n",
       "    </tr>\n",
       "    <tr>\n",
       "      <th>2</th>\n",
       "      <td>3</td>\n",
       "      <td>1</td>\n",
       "      <td>3</td>\n",
       "      <td>The Entirely Merciful, the Especially Merciful,</td>\n",
       "      <td>Most Gracious, Most Merciful;</td>\n",
       "      <td>The Beneficent, the Merciful.</td>\n",
       "      <td>the Beneficent, the Merciful</td>\n",
       "      <td>The Most Beneficent, the Most Merciful.</td>\n",
       "    </tr>\n",
       "    <tr>\n",
       "      <th>3</th>\n",
       "      <td>4</td>\n",
       "      <td>1</td>\n",
       "      <td>4</td>\n",
       "      <td>Sovereign of the Day of Recompense.</td>\n",
       "      <td>Master of the Day of Judgment.</td>\n",
       "      <td>Master of the Day of Judgment.</td>\n",
       "      <td>and Master of the Day of Judgment</td>\n",
       "      <td>The Only Owner (and the Only Ruling Judge) of ...</td>\n",
       "    </tr>\n",
       "    <tr>\n",
       "      <th>4</th>\n",
       "      <td>5</td>\n",
       "      <td>1</td>\n",
       "      <td>5</td>\n",
       "      <td>It is You we worship and You we ask for help.</td>\n",
       "      <td>Thee do we worship, and Thine aid we seek.</td>\n",
       "      <td>Thee do we serve and Thee do we beseech for help.</td>\n",
       "      <td>(Lord), You alone We do worship and from You a...</td>\n",
       "      <td>You (Alone) we worship, and You (Alone) we ask...</td>\n",
       "    </tr>\n",
       "    <tr>\n",
       "      <th>...</th>\n",
       "      <td>...</td>\n",
       "      <td>...</td>\n",
       "      <td>...</td>\n",
       "      <td>...</td>\n",
       "      <td>...</td>\n",
       "      <td>...</td>\n",
       "      <td>...</td>\n",
       "      <td>...</td>\n",
       "    </tr>\n",
       "    <tr>\n",
       "      <th>6231</th>\n",
       "      <td>6232</td>\n",
       "      <td>114</td>\n",
       "      <td>2</td>\n",
       "      <td>The Sovereign of mankind.</td>\n",
       "      <td>The King (or Ruler) of Mankind,</td>\n",
       "      <td>The King of men,</td>\n",
       "      <td>the King of mankind,</td>\n",
       "      <td>\"The King of mankind,</td>\n",
       "    </tr>\n",
       "    <tr>\n",
       "      <th>6232</th>\n",
       "      <td>6233</td>\n",
       "      <td>114</td>\n",
       "      <td>3</td>\n",
       "      <td>The God of mankind,</td>\n",
       "      <td>The god (or judge) of Mankind,-</td>\n",
       "      <td>The god of men,</td>\n",
       "      <td>the Lord of mankind</td>\n",
       "      <td>\"The Ilah (God) of mankind,</td>\n",
       "    </tr>\n",
       "    <tr>\n",
       "      <th>6233</th>\n",
       "      <td>6234</td>\n",
       "      <td>114</td>\n",
       "      <td>4</td>\n",
       "      <td>From the evil of the retreating whisperer -</td>\n",
       "      <td>From the mischief of the Whisperer (of Evil), ...</td>\n",
       "      <td>From the evil of the whisperings of the slinki...</td>\n",
       "      <td>against the evil of the temptations of the sat...</td>\n",
       "      <td>\"From the evil of the whisperer (devil who whi...</td>\n",
       "    </tr>\n",
       "    <tr>\n",
       "      <th>6234</th>\n",
       "      <td>6235</td>\n",
       "      <td>114</td>\n",
       "      <td>5</td>\n",
       "      <td>Who whispers [evil] into the breasts of mankind -</td>\n",
       "      <td>(The same) who whispers into the hearts of Man...</td>\n",
       "      <td>Who whispers into the hearts of men,</td>\n",
       "      <td>of jinn and human beings</td>\n",
       "      <td>\"Who whispers in the breasts of mankind,</td>\n",
       "    </tr>\n",
       "    <tr>\n",
       "      <th>6235</th>\n",
       "      <td>6236</td>\n",
       "      <td>114</td>\n",
       "      <td>6</td>\n",
       "      <td>From among the jinn and mankind.\"</td>\n",
       "      <td>Among Jinns and among men.</td>\n",
       "      <td>From among the jinn and the men.</td>\n",
       "      <td>who induce temptation into the hearts of mankind.</td>\n",
       "      <td>\"Of jinns and men.\"</td>\n",
       "    </tr>\n",
       "  </tbody>\n",
       "</table>\n",
       "<p>6236 rows × 8 columns</p>\n",
       "</div>"
      ],
      "text/plain": [
       "        id  chapter  verse                                Sahih_International  \\\n",
       "0        1        1      1  In the name of Allah , the Entirely Merciful, ...   \n",
       "1        2        1      2  [All] praise is [due] to Allah , Lord of the w...   \n",
       "2        3        1      3    The Entirely Merciful, the Especially Merciful,   \n",
       "3        4        1      4                Sovereign of the Day of Recompense.   \n",
       "4        5        1      5      It is You we worship and You we ask for help.   \n",
       "...    ...      ...    ...                                                ...   \n",
       "6231  6232      114      2                          The Sovereign of mankind.   \n",
       "6232  6233      114      3                                The God of mankind,   \n",
       "6233  6234      114      4        From the evil of the retreating whisperer -   \n",
       "6234  6235      114      5  Who whispers [evil] into the breasts of mankind -   \n",
       "6235  6236      114      6                  From among the jinn and mankind.\"   \n",
       "\n",
       "                                              Yusuf_Ali  \\\n",
       "0     In the name of Allah, Most Gracious, Most Merc...   \n",
       "1     Praise be to Allah, the Cherisher and Sustaine...   \n",
       "2                         Most Gracious, Most Merciful;   \n",
       "3                        Master of the Day of Judgment.   \n",
       "4            Thee do we worship, and Thine aid we seek.   \n",
       "...                                                 ...   \n",
       "6231                    The King (or Ruler) of Mankind,   \n",
       "6232                    The god (or judge) of Mankind,-   \n",
       "6233  From the mischief of the Whisperer (of Evil), ...   \n",
       "6234  (The same) who whispers into the hearts of Man...   \n",
       "6235                         Among Jinns and among men.   \n",
       "\n",
       "                                                 Shakir  \\\n",
       "0     In the name of Allah, the Beneficent, the Merc...   \n",
       "1     All praise is due to Allah, the Lord of the Wo...   \n",
       "2                         The Beneficent, the Merciful.   \n",
       "3                        Master of the Day of Judgment.   \n",
       "4     Thee do we serve and Thee do we beseech for help.   \n",
       "...                                                 ...   \n",
       "6231                                   The King of men,   \n",
       "6232                                    The god of men,   \n",
       "6233  From the evil of the whisperings of the slinki...   \n",
       "6234               Who whispers into the hearts of men,   \n",
       "6235                   From among the jinn and the men.   \n",
       "\n",
       "                                        Muhammad_Sarwar  \\\n",
       "0     In the Name of Allah, the Beneficent, the Merc...   \n",
       "1      All praise belongs to God, Lord of the Universe,   \n",
       "2                          the Beneficent, the Merciful   \n",
       "3                     and Master of the Day of Judgment   \n",
       "4     (Lord), You alone We do worship and from You a...   \n",
       "...                                                 ...   \n",
       "6231                               the King of mankind,   \n",
       "6232                                the Lord of mankind   \n",
       "6233  against the evil of the temptations of the sat...   \n",
       "6234                           of jinn and human beings   \n",
       "6235  who induce temptation into the hearts of mankind.   \n",
       "\n",
       "                                            Mohsin_Khan  \n",
       "0     In the Name of Allah, the Most Beneficent, the...  \n",
       "1     All the praises and thanks be to Allah, the Lo...  \n",
       "2               The Most Beneficent, the Most Merciful.  \n",
       "3     The Only Owner (and the Only Ruling Judge) of ...  \n",
       "4     You (Alone) we worship, and You (Alone) we ask...  \n",
       "...                                                 ...  \n",
       "6231                              \"The King of mankind,  \n",
       "6232                        \"The Ilah (God) of mankind,  \n",
       "6233  \"From the evil of the whisperer (devil who whi...  \n",
       "6234           \"Who whispers in the breasts of mankind,  \n",
       "6235                                \"Of jinns and men.\"  \n",
       "\n",
       "[6236 rows x 8 columns]"
      ]
     },
     "execution_count": 6,
     "metadata": {},
     "output_type": "execute_result"
    }
   ],
   "source": [
    "# Dataset: Verses with Extended Translations\n",
    "verses = pd.read_json('https://projectq.io/data/source/verses.json')\n",
    "verses"
   ]
  },
  {
   "cell_type": "markdown",
   "metadata": {
    "cell_id": "a91206225e6f4d4699928a38e68ac46c",
    "deepnote_app_coordinates": {
     "h": 5,
     "w": 12,
     "x": 0,
     "y": 97
    },
    "deepnote_cell_type": "text-cell-h3",
    "formattedRanges": [],
    "is_collapsed": false,
    "tags": []
   },
   "source": [
    "### Filtering on single Verse"
   ]
  },
  {
   "cell_type": "code",
   "execution_count": 7,
   "metadata": {
    "cell_id": "49d8edaeee1248ae8f17cd12eca28292",
    "deepnote_app_coordinates": {
     "h": 5,
     "w": 12,
     "x": 0,
     "y": 85
    },
    "deepnote_cell_height": 231,
    "deepnote_cell_type": "code",
    "deepnote_to_be_reexecuted": false,
    "execution_millis": 50,
    "execution_start": 1658115712000,
    "source_hash": "843db445",
    "tags": []
   },
   "outputs": [
    {
     "data": {
      "application/vnd.deepnote.dataframe.v3+json": {
       "column_count": 8,
       "columns": [
        {
         "dtype": "int64",
         "name": "id",
         "stats": {
          "histogram": [
           {
            "bin_end": 526.6,
            "bin_start": 526.5,
            "count": 0
           },
           {
            "bin_end": 526.7,
            "bin_start": 526.6,
            "count": 0
           },
           {
            "bin_end": 526.8,
            "bin_start": 526.7,
            "count": 0
           },
           {
            "bin_end": 526.9,
            "bin_start": 526.8,
            "count": 0
           },
           {
            "bin_end": 527,
            "bin_start": 526.9,
            "count": 0
           },
           {
            "bin_end": 527.1,
            "bin_start": 527,
            "count": 1
           },
           {
            "bin_end": 527.2,
            "bin_start": 527.1,
            "count": 0
           },
           {
            "bin_end": 527.3,
            "bin_start": 527.2,
            "count": 0
           },
           {
            "bin_end": 527.4,
            "bin_start": 527.3,
            "count": 0
           },
           {
            "bin_end": 527.5,
            "bin_start": 527.4,
            "count": 0
           }
          ],
          "max": "527",
          "min": "527",
          "nan_count": 0,
          "unique_count": 1
         }
        },
        {
         "dtype": "int64",
         "name": "chapter",
         "stats": {
          "histogram": [
           {
            "bin_end": 3.6,
            "bin_start": 3.5,
            "count": 0
           },
           {
            "bin_end": 3.7,
            "bin_start": 3.6,
            "count": 0
           },
           {
            "bin_end": 3.8,
            "bin_start": 3.7,
            "count": 0
           },
           {
            "bin_end": 3.9,
            "bin_start": 3.8,
            "count": 0
           },
           {
            "bin_end": 4,
            "bin_start": 3.9,
            "count": 0
           },
           {
            "bin_end": 4.1,
            "bin_start": 4,
            "count": 1
           },
           {
            "bin_end": 4.2,
            "bin_start": 4.1,
            "count": 0
           },
           {
            "bin_end": 4.3,
            "bin_start": 4.2,
            "count": 0
           },
           {
            "bin_end": 4.4,
            "bin_start": 4.3,
            "count": 0
           },
           {
            "bin_end": 4.5,
            "bin_start": 4.4,
            "count": 0
           }
          ],
          "max": "4",
          "min": "4",
          "nan_count": 0,
          "unique_count": 1
         }
        },
        {
         "dtype": "int64",
         "name": "verse",
         "stats": {
          "histogram": [
           {
            "bin_end": 33.6,
            "bin_start": 33.5,
            "count": 0
           },
           {
            "bin_end": 33.7,
            "bin_start": 33.6,
            "count": 0
           },
           {
            "bin_end": 33.8,
            "bin_start": 33.7,
            "count": 0
           },
           {
            "bin_end": 33.9,
            "bin_start": 33.8,
            "count": 0
           },
           {
            "bin_end": 34,
            "bin_start": 33.9,
            "count": 0
           },
           {
            "bin_end": 34.1,
            "bin_start": 34,
            "count": 1
           },
           {
            "bin_end": 34.2,
            "bin_start": 34.1,
            "count": 0
           },
           {
            "bin_end": 34.3,
            "bin_start": 34.2,
            "count": 0
           },
           {
            "bin_end": 34.4,
            "bin_start": 34.3,
            "count": 0
           },
           {
            "bin_end": 34.5,
            "bin_start": 34.4,
            "count": 0
           }
          ],
          "max": "34",
          "min": "34",
          "nan_count": 0,
          "unique_count": 1
         }
        },
        {
         "dtype": "object",
         "name": "Sahih_International",
         "stats": {
          "categories": [
           {
            "count": 1,
            "name": "Men are in charge of women by [right of] what Allah has given one over the other and what they spend [for maintenance] from their wealth. So righteous women are devoutly obedient, guarding in [the husband's] absence what Allah would have them guard. But those [wives] from whom you fear arrogance - [first] advise them; [then if they persist], forsake them in bed; and [finally], strike them. But if they obey you [once more], seek no means against them. Indeed, Allah is ever Exalted and Grand."
           }
          ],
          "nan_count": 0,
          "unique_count": 1
         }
        },
        {
         "dtype": "object",
         "name": "Yusuf_Ali",
         "stats": {
          "categories": [
           {
            "count": 1,
            "name": "Men are the protectors and maintainers of women, because Allah has given the one more (strength) than the other, and because they support them from their means. Therefore the righteous women are devoutly obedient, and guard in (the husband's) absence what Allah would have them guard. As to those women on whose part ye fear disloyalty and ill-conduct, admonish them (first), (Next), refuse to share their beds, (And last) beat them (lightly); but if they return to obedience, seek not against them Means (of annoyance): For Allah is Most High, great (above you all)."
           }
          ],
          "nan_count": 0,
          "unique_count": 1
         }
        },
        {
         "dtype": "object",
         "name": "Shakir",
         "stats": {
          "categories": [
           {
            "count": 1,
            "name": "Men are the maintainers of women because Allah has made some of them to excel others and because they spend out of their property; the good women are therefore obedient, guarding the unseen as Allah has guarded; and (as to) those on whose part you fear desertion, admonish them, and leave them alone in the sleeping-places and beat them; then if they obey you, do not seek a way against them; surely Allah is High, Great."
           }
          ],
          "nan_count": 0,
          "unique_count": 1
         }
        },
        {
         "dtype": "object",
         "name": "Muhammad_Sarwar",
         "stats": {
          "categories": [
           {
            "count": 1,
            "name": "Men are the protectors of women because of the greater preference that God has given to some of them and because they financially support them. Among virtuous women are those who are steadfast in prayer and dependable in keeping the secrets that God has protected. Admonish women who disobey (God's laws), do not sleep with them and beat them. If they obey (the laws of God), do not try to find fault in them. God is High and Supreme."
           }
          ],
          "nan_count": 0,
          "unique_count": 1
         }
        },
        {
         "dtype": "object",
         "name": "Mohsin_Khan",
         "stats": {
          "categories": [
           {
            "count": 1,
            "name": "Men are the protectors and maintainers of women, because Allah has made one of them to excel the other, and because they spend (to support them) from their means. Therefore the righteous women are devoutly obedient (to Allah and to their husbands), and guard in the husband's absence what Allah orders them to guard (e.g. their chastity, their husband's property, etc.). As to those women on whose part you see ill­conduct, admonish them (first), (next), refuse to share their beds, (and last) beat them (lightly, if it is useful), but if they return to obedience, seek not against them means (of annoyance). Surely, Allah is Ever Most High, Most Great."
           }
          ],
          "nan_count": 0,
          "unique_count": 1
         }
        },
        {
         "dtype": "int64",
         "name": "_deepnote_index_column"
        }
       ],
       "row_count": 1,
       "rows": [
        {
         "Mohsin_Khan": "Men are the protectors and maintainers of women, because Allah has made one of them to excel the other, and because they spend (to support them) from their means. Therefore the righteous women are devoutly obedient (to Allah and to their husbands), and guard in the husband's absence what Allah orders them to guard (e.g. their chastity, their husband's property, etc.). As to those women on whose part you see ill­conduct, admonish them (first), (next), refuse to share their beds, (and last) beat them (lightly, if it is useful), but if they return to obedience, seek not against them means (of annoyance). Surely, Allah is Ever Most High, Most Great.",
         "Muhammad_Sarwar": "Men are the protectors of women because of the greater preference that God has given to some of them and because they financially support them. Among virtuous women are those who are steadfast in prayer and dependable in keeping the secrets that God has protected. Admonish women who disobey (God's laws), do not sleep with them and beat them. If they obey (the laws of God), do not try to find fault in them. God is High and Supreme.",
         "Sahih_International": "Men are in charge of women by [right of] what Allah has given one over the other and what they spend [for maintenance] from their wealth. So righteous women are devoutly obedient, guarding in [the husband's] absence what Allah would have them guard. But those [wives] from whom you fear arrogance - [first] advise them; [then if they persist], forsake them in bed; and [finally], strike them. But if they obey you [once more], seek no means against them. Indeed, Allah is ever Exalted and Grand.",
         "Shakir": "Men are the maintainers of women because Allah has made some of them to excel others and because they spend out of their property; the good women are therefore obedient, guarding the unseen as Allah has guarded; and (as to) those on whose part you fear desertion, admonish them, and leave them alone in the sleeping-places and beat them; then if they obey you, do not seek a way against them; surely Allah is High, Great.",
         "Yusuf_Ali": "Men are the protectors and maintainers of women, because Allah has given the one more (strength) than the other, and because they support them from their means. Therefore the righteous women are devoutly obedient, and guard in (the husband's) absence what Allah would have them guard. As to those women on whose part ye fear disloyalty and ill-conduct, admonish them (first), (Next), refuse to share their beds, (And last) beat them (lightly); but if they return to obedience, seek not against them Means (of annoyance): For Allah is Most High, great (above you all).",
         "_deepnote_index_column": 526,
         "chapter": 4,
         "id": 527,
         "verse": 34
        }
       ]
      },
      "text/html": [
       "<div>\n",
       "<style scoped>\n",
       "    .dataframe tbody tr th:only-of-type {\n",
       "        vertical-align: middle;\n",
       "    }\n",
       "\n",
       "    .dataframe tbody tr th {\n",
       "        vertical-align: top;\n",
       "    }\n",
       "\n",
       "    .dataframe thead th {\n",
       "        text-align: right;\n",
       "    }\n",
       "</style>\n",
       "<table border=\"1\" class=\"dataframe\">\n",
       "  <thead>\n",
       "    <tr style=\"text-align: right;\">\n",
       "      <th></th>\n",
       "      <th>id</th>\n",
       "      <th>chapter</th>\n",
       "      <th>verse</th>\n",
       "      <th>Sahih_International</th>\n",
       "      <th>Yusuf_Ali</th>\n",
       "      <th>Shakir</th>\n",
       "      <th>Muhammad_Sarwar</th>\n",
       "      <th>Mohsin_Khan</th>\n",
       "    </tr>\n",
       "  </thead>\n",
       "  <tbody>\n",
       "    <tr>\n",
       "      <th>526</th>\n",
       "      <td>527</td>\n",
       "      <td>4</td>\n",
       "      <td>34</td>\n",
       "      <td>Men are in charge of women by [right of] what ...</td>\n",
       "      <td>Men are the protectors and maintainers of wome...</td>\n",
       "      <td>Men are the maintainers of women because Allah...</td>\n",
       "      <td>Men are the protectors of women because of the...</td>\n",
       "      <td>Men are the protectors and maintainers of wome...</td>\n",
       "    </tr>\n",
       "  </tbody>\n",
       "</table>\n",
       "</div>"
      ],
      "text/plain": [
       "      id  chapter  verse                                Sahih_International  \\\n",
       "526  527        4     34  Men are in charge of women by [right of] what ...   \n",
       "\n",
       "                                             Yusuf_Ali  \\\n",
       "526  Men are the protectors and maintainers of wome...   \n",
       "\n",
       "                                                Shakir  \\\n",
       "526  Men are the maintainers of women because Allah...   \n",
       "\n",
       "                                       Muhammad_Sarwar  \\\n",
       "526  Men are the protectors of women because of the...   \n",
       "\n",
       "                                           Mohsin_Khan  \n",
       "526  Men are the protectors and maintainers of wome...  "
      ]
     },
     "execution_count": 7,
     "metadata": {},
     "output_type": "execute_result"
    }
   ],
   "source": [
    "verses[verses.id==527]"
   ]
  },
  {
   "cell_type": "markdown",
   "metadata": {
    "created_in_deepnote_cell": true,
    "deepnote_cell_type": "markdown",
    "tags": []
   },
   "source": [
    "<a style='text-decoration:none;line-height:16px;display:flex;color:#5B5B62;padding:10px;justify-content:end;' href='https://deepnote.com?utm_source=created-in-deepnote-cell&projectId=bde230b6-0e7f-496d-9e8b-b7ffaeec8999' target=\"_blank\">\n",
    "<img alt='Created in deepnote.com' style='display:inline;max-height:16px;margin:0px;margin-right:7.5px;' src='data:image/svg+xml;base64,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' > </img>\n",
    "Created in <span style='font-weight:600;margin-left:4px;'>Deepnote</span></a>"
   ]
  }
 ],
 "metadata": {
  "deepnote": {},
  "deepnote_app_layout": "article",
  "deepnote_execution_queue": [],
  "deepnote_notebook_id": "f93e8e6b-efbd-41d8-9bcd-8dff25a050d7",
  "kernelspec": {
   "display_name": "Python 3.8.9 ('.venv': venv)",
   "language": "python",
   "name": "python3"
  },
  "language_info": {
   "name": "python",
   "version": "3.8.9"
  },
  "orig_nbformat": 2,
  "vscode": {
   "interpreter": {
    "hash": "1c7f51ca0c2d4cc210165460bc211810f6fbfb96981cfb5dea1e40d14e8ca866"
   }
  }
 },
 "nbformat": 4,
 "nbformat_minor": 2
}
