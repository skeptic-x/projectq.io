{
 "cells": [
  {
   "cell_type": "code",
   "metadata": {
    "tags": [],
    "cell_id": "451c1280-a2cc-4756-b79e-5d925c865a4f",
    "deepnote_to_be_reexecuted": false,
    "source_hash": "85152a31",
    "execution_start": 1659765682425,
    "execution_millis": 1167,
    "deepnote_cell_type": "code",
    "deepnote_cell_height": 487.375
   },
   "source": "import pandas as pd\nimport re\n\nimport nltk\nnltk.download('punkt')\nfrom nltk.tokenize import word_tokenize\n\ndef clean(text):\n# Removes all special characters and numericals leaving the alphabets\n    text = re.sub('[^A-Za-z]+', ' ', text)\n    return text.lower()\n\ndef find_match(sentence, word_list):\n    find_in_words = word_tokenize(sentence.lower())\n    r = set(word_list).intersection(find_in_words)\n    return list(r)\n\nsynonyms = ['eve', 'mary', 'maryam', 'female', 'woman','women','she','her','mother','sister','daughter','wife','aunt', \n            'queen', 'lady', 'fairy','virgin','womans','womens','hers','mothers',\n            'sisters','daughters','wives','wifes','aunts', 'queens', 'ladys',\n             'ladies', 'fairies','fairys', 'fairy','virgins']",
   "execution_count": 1,
   "outputs": [
    {
     "name": "stderr",
     "text": "[nltk_data] Downloading package punkt to /root/nltk_data...\n[nltk_data]   Package punkt is already up-to-date!\n",
     "output_type": "stream"
    }
   ]
  },
  {
   "cell_type": "code",
   "metadata": {
    "cell_id": "288f323ad48544b3b30d45de2656003a",
    "tags": [],
    "deepnote_to_be_reexecuted": false,
    "source_hash": "56c53168",
    "execution_start": 1659765683600,
    "execution_millis": 130,
    "deepnote_cell_type": "code",
    "deepnote_cell_height": 703
   },
   "source": "# If you have cloned the project, you can read this data locally:\nverses = pd.read_json('../../data/source/verses.json')\n# else use the following:\n# verses = pd.read_json('https://projectq.io/data/source/verses.json')\n\nverses = verses[verses.chapter==4]\nverses",
   "execution_count": 2,
   "outputs": [
    {
     "output_type": "execute_result",
     "execution_count": 2,
     "data": {
      "application/vnd.deepnote.dataframe.v3+json": {
       "column_count": 8,
       "row_count": 176,
       "columns": [
        {
         "name": "id",
         "dtype": "int64",
         "stats": {
          "unique_count": 176,
          "nan_count": 0,
          "min": "494",
          "max": "669",
          "histogram": [
           {
            "bin_start": 494,
            "bin_end": 511.5,
            "count": 18
           },
           {
            "bin_start": 511.5,
            "bin_end": 529,
            "count": 17
           },
           {
            "bin_start": 529,
            "bin_end": 546.5,
            "count": 18
           },
           {
            "bin_start": 546.5,
            "bin_end": 564,
            "count": 17
           },
           {
            "bin_start": 564,
            "bin_end": 581.5,
            "count": 18
           },
           {
            "bin_start": 581.5,
            "bin_end": 599,
            "count": 17
           },
           {
            "bin_start": 599,
            "bin_end": 616.5,
            "count": 18
           },
           {
            "bin_start": 616.5,
            "bin_end": 634,
            "count": 17
           },
           {
            "bin_start": 634,
            "bin_end": 651.5,
            "count": 18
           },
           {
            "bin_start": 651.5,
            "bin_end": 669,
            "count": 18
           }
          ]
         }
        },
        {
         "name": "chapter",
         "dtype": "int64",
         "stats": {
          "unique_count": 1,
          "nan_count": 0,
          "min": "4",
          "max": "4",
          "histogram": [
           {
            "bin_start": 3.5,
            "bin_end": 3.6,
            "count": 0
           },
           {
            "bin_start": 3.6,
            "bin_end": 3.7,
            "count": 0
           },
           {
            "bin_start": 3.7,
            "bin_end": 3.8,
            "count": 0
           },
           {
            "bin_start": 3.8,
            "bin_end": 3.9,
            "count": 0
           },
           {
            "bin_start": 3.9,
            "bin_end": 4,
            "count": 0
           },
           {
            "bin_start": 4,
            "bin_end": 4.1,
            "count": 176
           },
           {
            "bin_start": 4.1,
            "bin_end": 4.2,
            "count": 0
           },
           {
            "bin_start": 4.2,
            "bin_end": 4.3,
            "count": 0
           },
           {
            "bin_start": 4.3,
            "bin_end": 4.4,
            "count": 0
           },
           {
            "bin_start": 4.4,
            "bin_end": 4.5,
            "count": 0
           }
          ]
         }
        },
        {
         "name": "verse",
         "dtype": "int64",
         "stats": {
          "unique_count": 176,
          "nan_count": 0,
          "min": "1",
          "max": "176",
          "histogram": [
           {
            "bin_start": 1,
            "bin_end": 18.5,
            "count": 18
           },
           {
            "bin_start": 18.5,
            "bin_end": 36,
            "count": 17
           },
           {
            "bin_start": 36,
            "bin_end": 53.5,
            "count": 18
           },
           {
            "bin_start": 53.5,
            "bin_end": 71,
            "count": 17
           },
           {
            "bin_start": 71,
            "bin_end": 88.5,
            "count": 18
           },
           {
            "bin_start": 88.5,
            "bin_end": 106,
            "count": 17
           },
           {
            "bin_start": 106,
            "bin_end": 123.5,
            "count": 18
           },
           {
            "bin_start": 123.5,
            "bin_end": 141,
            "count": 17
           },
           {
            "bin_start": 141,
            "bin_end": 158.5,
            "count": 18
           },
           {
            "bin_start": 158.5,
            "bin_end": 176,
            "count": 18
           }
          ]
         }
        },
        {
         "name": "Sahih_International",
         "dtype": "object",
         "stats": {
          "unique_count": 176,
          "nan_count": 0,
          "categories": [
           {
            "name": "O mankind, fear your Lord, who created you from one soul and created from it its mate and dispersed from both of them many men and women. And fear Allah , through whom you ask one another, and the wombs. Indeed Allah is ever, over you, an Observer.",
            "count": 1
           },
           {
            "name": "And give to the orphans their properties and do not substitute the defective [of your own] for the good [of theirs]. And do not consume their properties into your own. Indeed, that is ever a great sin.",
            "count": 1
           },
           {
            "name": "174 others",
            "count": 174
           }
          ]
         }
        },
        {
         "name": "Yusuf_Ali",
         "dtype": "object",
         "stats": {
          "unique_count": 176,
          "nan_count": 0,
          "categories": [
           {
            "name": "O mankind! reverence your Guardian-Lord, who created you from a single person, created, of like nature, His mate, and from them twain scattered (like seeds) countless men and women;- reverence Allah, through whom ye demand your mutual (rights), and (reverence) the wombs (That bore you): for Allah ever watches over you.",
            "count": 1
           },
           {
            "name": "To orphans restore their property (When they reach their age), nor substitute (your) worthless things for (their) good ones; and devour not their substance (by mixing it up) with your own. For this is indeed a great sin.",
            "count": 1
           },
           {
            "name": "174 others",
            "count": 174
           }
          ]
         }
        },
        {
         "name": "Shakir",
         "dtype": "object",
         "stats": {
          "unique_count": 176,
          "nan_count": 0,
          "categories": [
           {
            "name": "O people! be careful of (your duty to) your Lord, Who created you from a single being and created its mate of the same (kind) and spread from these two, many men and women; and be careful of (your duty to) Allah, by Whom you demand one of another (your rights), and (to) the ties of relationship; surely Allah ever watches over you.",
            "count": 1
           },
           {
            "name": "And give to the orphans their property, and do not substitute worthless (things) for (their) good (ones), and do not devour their property (as an addition) to your own property; this is surely a great crime.",
            "count": 1
           },
           {
            "name": "174 others",
            "count": 174
           }
          ]
         }
        },
        {
         "name": "Muhammad_Sarwar",
         "dtype": "object",
         "stats": {
          "unique_count": 176,
          "nan_count": 0,
          "categories": [
           {
            "name": "People, have fear of your Lord who has created you from a single soul. From it He created your spouse and through them He populated the land with many men and women. Have fear of the One by whose Name you swear to settle your differences and have respect for your relatives. God certainly keeps watch over you.",
            "count": 1
           },
           {
            "name": "Give to the orphans their property. Do not exchange the pure for the filthy and do not spend the property of orphans along with your own; this would be a great sin.",
            "count": 1
           },
           {
            "name": "174 others",
            "count": 174
           }
          ]
         }
        },
        {
         "name": "Mohsin_Khan",
         "dtype": "object",
         "stats": {
          "unique_count": 176,
          "nan_count": 0,
          "categories": [
           {
            "name": "O mankind! Be dutiful to your Lord, Who created you from a single person (Adam), and from him (Adam) He created his wife [Hawwa (Eve)], and from them both He created many men and women and fear Allah through Whom you demand your mutual (rights), and (do not cut the relations of) the wombs (kinship). Surely, Allah is Ever an All­Watcher over you.",
            "count": 1
           },
           {
            "name": "And give unto orphans their property and do not exchange (your) bad things for (their) good ones; and devour not their substance (by adding it) to your substance. Surely, this is a great sin.",
            "count": 1
           },
           {
            "name": "174 others",
            "count": 174
           }
          ]
         }
        },
        {
         "name": "_deepnote_index_column",
         "dtype": "int64"
        }
       ],
       "rows": [
        {
         "id": 494,
         "chapter": 4,
         "verse": 1,
         "Sahih_International": "O mankind, fear your Lord, who created you from one soul and created from it its mate and dispersed from both of them many men and women. And fear Allah , through whom you ask one another, and the wombs. Indeed Allah is ever, over you, an Observer.",
         "Yusuf_Ali": "O mankind! reverence your Guardian-Lord, who created you from a single person, created, of like nature, His mate, and from them twain scattered (like seeds) countless men and women;- reverence Allah, through whom ye demand your mutual (rights), and (reverence) the wombs (That bore you): for Allah ever watches over you.",
         "Shakir": "O people! be careful of (your duty to) your Lord, Who created you from a single being and created its mate of the same (kind) and spread from these two, many men and women; and be careful of (your duty to) Allah, by Whom you demand one of another (your rights), and (to) the ties of relationship; surely Allah ever watches over you.",
         "Muhammad_Sarwar": "People, have fear of your Lord who has created you from a single soul. From it He created your spouse and through them He populated the land with many men and women. Have fear of the One by whose Name you swear to settle your differences and have respect for your relatives. God certainly keeps watch over you.",
         "Mohsin_Khan": "O mankind! Be dutiful to your Lord, Who created you from a single person (Adam), and from him (Adam) He created his wife [Hawwa (Eve)], and from them both He created many men and women and fear Allah through Whom you demand your mutual (rights), and (do not cut the relations of) the wombs (kinship). Surely, Allah is Ever an All­Watcher over you.",
         "_deepnote_index_column": 493
        },
        {
         "id": 495,
         "chapter": 4,
         "verse": 2,
         "Sahih_International": "And give to the orphans their properties and do not substitute the defective [of your own] for the good [of theirs]. And do not consume their properties into your own. Indeed, that is ever a great sin.",
         "Yusuf_Ali": "To orphans restore their property (When they reach their age), nor substitute (your) worthless things for (their) good ones; and devour not their substance (by mixing it up) with your own. For this is indeed a great sin.",
         "Shakir": "And give to the orphans their property, and do not substitute worthless (things) for (their) good (ones), and do not devour their property (as an addition) to your own property; this is surely a great crime.",
         "Muhammad_Sarwar": "Give to the orphans their property. Do not exchange the pure for the filthy and do not spend the property of orphans along with your own; this would be a great sin.",
         "Mohsin_Khan": "And give unto orphans their property and do not exchange (your) bad things for (their) good ones; and devour not their substance (by adding it) to your substance. Surely, this is a great sin.",
         "_deepnote_index_column": 494
        },
        {
         "id": 496,
         "chapter": 4,
         "verse": 3,
         "Sahih_International": "And if you fear that you will not deal justly with the orphan girls, then marry those that please you of [other] women, two or three or four. But if you fear that you will not be just, then [marry only] one or those your right hand possesses. That is more suitable that you may not incline [to injustice].",
         "Yusuf_Ali": "If ye fear that ye shall not be able to deal justly with the orphans, Marry women of your choice, Two or three or four; but if ye fear that ye shall not be able to deal justly (with them), then only one, or (a captive) that your right hands possess, that will be more suitable, to prevent you from doing injustice.",
         "Shakir": "And if you fear that you cannot act equitably towards orphans, then marry such women as seem good to you, two and three and four; but if you fear that you will not do justice (between them), then (marry) only one or what your right hands possess; this is more proper, that you may not deviate from the right course.",
         "Muhammad_Sarwar": "With respect to marrying widows, if you are afraid of not being able to maintain justice with her children, marry another woman of your choice or two or three or four (who have no children). If you cannot maintain equality with more than one wife, marry only one or your slave-girl. This keeps you from acting against justice.",
         "Mohsin_Khan": "And if you fear that you shall not be able to deal justly with the orphan­girls, then marry (other) women of your choice, two or three, or four but if you fear that you shall not be able to deal justly (with them), then only one or (the captives and the slaves) that your right hands possess. That is nearer to prevent you from doing injustice.",
         "_deepnote_index_column": 495
        },
        {
         "id": 497,
         "chapter": 4,
         "verse": 4,
         "Sahih_International": "And give the women [upon marriage] their [bridal] gifts graciously. But if they give up willingly to you anything of it, then take it in satisfaction and ease.",
         "Yusuf_Ali": "And give the women (on marriage) their dower as a free gift; but if they, of their own good pleasure, remit any part of it to you, Take it and enjoy it with right good cheer.",
         "Shakir": "And give women their dowries as a free gift, but if they of themselves be pleased to give up to you a portion of it, then eat it with enjoyment and with wholesome result.",
         "Muhammad_Sarwar": "Pay the women their dowry as though it were a gift. However, if they allow you to keep a part of it as a favor to you, you may spend it with pleasure.",
         "Mohsin_Khan": "And give to the women (whom you marry) their Mahr (obligatory bridal money given by the husband to his wife at the time of marriage) with a good heart, but if they, of their own good pleasure, remit any part of it to you, take it, and enjoy it without fear of any harm (as Allah has made it lawful).",
         "_deepnote_index_column": 496
        },
        {
         "id": 498,
         "chapter": 4,
         "verse": 5,
         "Sahih_International": "And do not give the weak-minded your property, which Allah has made a means of sustenance for you, but provide for them with it and clothe them and speak to them words of appropriate kindness.",
         "Yusuf_Ali": "To those weak of understanding Make not over your property, which Allah hath made a means of support for you, but feed and clothe them therewith, and speak to them words of kindness and justice.",
         "Shakir": "And do not give away your property which Allah has made for you a (means of) support to the weak of understanding, and maintain them out of (the profits of) it, and clothe them and speak to them words of honest advice.",
         "Muhammad_Sarwar": "Do not give to people weak of understanding your property for which God has made you to supervise. Feed and clothe such people and speak to them in a reasonable way.",
         "Mohsin_Khan": "And give not unto the foolish your property which Allah has made a means of support for you, but feed and clothe them therewith, and speak to them words of kindness and justice.",
         "_deepnote_index_column": 497
        },
        {
         "id": 499,
         "chapter": 4,
         "verse": 6,
         "Sahih_International": "And test the orphans [in their abilities] until they reach marriageable age. Then if you perceive in them sound judgement, release their property to them. And do not consume it excessively and quickly, [anticipating] that they will grow up. And whoever, [when acting as guardian], is self-sufficient should refrain [from taking a fee]; and whoever is poor - let him take according to what is acceptable. Then when you release their property to them, bring witnesses upon them. And sufficient is Allah as Accountant.",
         "Yusuf_Ali": "Make trial of orphans until they reach the age of marriage; if then ye find sound judgment in them, release their property to them; but consume it not wastefully, nor in haste against their growing up. If the guardian is well-off, Let him claim no remuneration, but if he is poor, let him have for himself what is just and reasonable. When ye release their property to them, take witnesses in their presence: But all-sufficient is Allah in taking account.",
         "Shakir": "And test the orphans until they attain puberty; then if you find in them maturity of intellect, make over to them their property, and do not consume it extravagantly and hastily, lest they attain to full age; and whoever is rich, let him abstain altogether, and whoever is poor, let him eat reasonably; then when you make over to them their property, call witnesses in their presence; and Allah is enough as a Reckoner.",
         "Muhammad_Sarwar": "Before returning orphan's property to them, make sure that they have reached maturity. Do not consume their property wastefully until such a time. The rich (guardian) should not take any of his ward's property. However, a poor (guardian) may use a reasonable portion. When you return their property, make sure you have witness. God is a perfect in taking accounts.",
         "Mohsin_Khan": "And try orphans (as regards their intelligence) until they reach the age of marriage; if then you find sound judgement in them, release their property to them, but consume it not wastefully, and hastily fearing that they should grow up, and whoever amongst guardians is rich, he should take no wages, but if he is poor, let him have for himself what is just and reasonable (according to his work). And when you release their property to them, take witness in their presence; and Allah is All­Sufficient in taking account.",
         "_deepnote_index_column": 498
        },
        {
         "id": 500,
         "chapter": 4,
         "verse": 7,
         "Sahih_International": "For men is a share of what the parents and close relatives leave, and for women is a share of what the parents and close relatives leave, be it little or much - an obligatory share.",
         "Yusuf_Ali": "From what is left by parents and those nearest related there is a share for men and a share for women, whether the property be small or large,-a determinate share.",
         "Shakir": "Men shall have a portion of what the parents and the near relatives leave, and women shall have a portion of what the parents and the near relatives leave, whether there is little or much of it; a stated portion.",
         "Muhammad_Sarwar": "Male and female are entitled to their legal share in the legacy of their parents and relatives, whether it be small or large.",
         "Mohsin_Khan": "There is a share for men and a share for women from what is left by parents and those nearest related, whether, the property be small or large - a legal share.",
         "_deepnote_index_column": 499
        },
        {
         "id": 501,
         "chapter": 4,
         "verse": 8,
         "Sahih_International": "And when [other] relatives and orphans and the needy are present at the [time of] division, then provide for them [something] out of the estate and speak to them words of appropriate kindness.",
         "Yusuf_Ali": "But if at the time of division other relatives, or orphans or poor, are present, feed them out of the (property), and speak to them words of kindness and justice.",
         "Shakir": "And when there are present at the division the relatives and the orphans and the needy, give them (something) out of it and speak to them kind words.",
         "Muhammad_Sarwar": "If relatives, orphans or destitute people, are present at the distribution of the legacy, give them something and speak kindly to them.",
         "Mohsin_Khan": "And when the relatives and the orphans and Al­Masakin (the poor) are present at the time of division, give them out of the property, and speak to them words of kindness and justice.",
         "_deepnote_index_column": 500
        },
        {
         "id": 502,
         "chapter": 4,
         "verse": 9,
         "Sahih_International": "And let those [executors and guardians] fear [injustice] as if they [themselves] had left weak offspring behind and feared for them. So let them fear Allah and speak words of appropriate justice.",
         "Yusuf_Ali": "Let those (disposing of an estate) have the same fear in their minds as they would have for their own if they had left a helpless family behind: Let them fear Allah, and speak words of appropriate (comfort).",
         "Shakir": "And let those fear who, should they leave behind them weakly offspring, would fear on their account, so let them be careful of (their duty to) Allah, and let them speak right words.",
         "Muhammad_Sarwar": "Those who are concerned about the welfare of their own children after their death, should have fear of God (when dealing with the orphans) and guide them properly.",
         "Mohsin_Khan": "And let those (executors and guardians) have the same fear in their minds as they would have for their own, if they had left weak offspring behind. So let them fear Allah and speak right words.",
         "_deepnote_index_column": 501
        },
        {
         "id": 503,
         "chapter": 4,
         "verse": 10,
         "Sahih_International": "Indeed, those who devour the property of orphans unjustly are only consuming into their bellies fire. And they will be burned in a Blaze.",
         "Yusuf_Ali": "Those who unjustly eat up the property of orphans, eat up a Fire into their own bodies: They will soon be enduring a Blazing Fire!",
         "Shakir": "(As for) those who swallow the property of the orphans unjustly, surely they only swallow fire into their bellies and they shall enter burning fire.",
         "Muhammad_Sarwar": "Those who wrongfully consume the property of orphans are, in fact, consuming fire in their bellies and they will suffer the blazing fire.",
         "Mohsin_Khan": "Verily, those who unjustly eat up the property of orphans, they eat up only a fire into their bellies, and they will be burnt in the blazing Fire!",
         "_deepnote_index_column": 502
        }
       ]
      },
      "text/plain": "      id  chapter  verse                                Sahih_International  \\\n493  494        4      1  O mankind, fear your Lord, who created you fro...   \n494  495        4      2  And give to the orphans their properties and d...   \n495  496        4      3  And if you fear that you will not deal justly ...   \n496  497        4      4  And give the women [upon marriage] their [brid...   \n497  498        4      5  And do not give the weak-minded your property,...   \n..   ...      ...    ...                                                ...   \n664  665        4    172  Never would the Messiah disdain to be a servan...   \n665  666        4    173  And as for those who believed and did righteou...   \n666  667        4    174  O mankind, there has come to you a conclusive ...   \n667  668        4    175  So those who believe in Allah and hold fast to...   \n668  669        4    176  They request from you a [legal] ruling. Say, \"...   \n\n                                             Yusuf_Ali  \\\n493  O mankind! reverence your Guardian-Lord, who c...   \n494  To orphans restore their property (When they r...   \n495  If ye fear that ye shall not be able to deal j...   \n496  And give the women (on marriage) their dower a...   \n497  To those weak of understanding Make not over y...   \n..                                                 ...   \n664  Christ disdaineth nor to serve and worship All...   \n665  But to those who believe and do deeds of right...   \n666  O mankind! verily there hath come to you a con...   \n667  Then those who believe in Allah, and hold fast...   \n668  They ask thee for a legal decision. Say: Allah...   \n\n                                                Shakir  \\\n493  O people! be careful of (your duty to) your Lo...   \n494  And give to the orphans their property, and do...   \n495  And if you fear that you cannot act equitably ...   \n496  And give women their dowries as a free gift, b...   \n497  And do not give away your property which Allah...   \n..                                                 ...   \n664  The Messiah does by no means disdain that he s...   \n665  Then as for those who believe and do good, He ...   \n666  O people! surely there has come to you manifes...   \n667  Then as for those who believe in Allah and hol...   \n668  They ask you for a decision of the law. Say: A...   \n\n                                       Muhammad_Sarwar  \\\n493  People, have fear of your Lord who has created...   \n494  Give to the orphans their property. Do not exc...   \n495  With respect to marrying widows, if you are af...   \n496  Pay the women their dowry as though it were a ...   \n497  Do not give to people weak of understanding yo...   \n..                                                 ...   \n664  Jesus never disdained the worship of God nor d...   \n665  The righteously striving believers will receiv...   \n666  Mankind, an undeniable proof has certainly com...   \n667  Those who believe in God and seek His protecti...   \n668  (Muhammad), they seek your verdict. Tell them,...   \n\n                                           Mohsin_Khan  \n493  O mankind! Be dutiful to your Lord, Who create...  \n494  And give unto orphans their property and do no...  \n495  And if you fear that you shall not be able to ...  \n496  And give to the women (whom you marry) their M...  \n497  And give not unto the foolish your property wh...  \n..                                                 ...  \n664  The Messiah will never be proud to reject to b...  \n665  So, as for those who believed (in the Oneness ...  \n666  O mankind! Verily, there has come to you a con...  \n667  So, as for those who believed in Allah and hel...  \n668  They ask you for a legal verdict. Say: \"Allah ...  \n\n[176 rows x 8 columns]",
      "text/html": "<div>\n<style scoped>\n    .dataframe tbody tr th:only-of-type {\n        vertical-align: middle;\n    }\n\n    .dataframe tbody tr th {\n        vertical-align: top;\n    }\n\n    .dataframe thead th {\n        text-align: right;\n    }\n</style>\n<table border=\"1\" class=\"dataframe\">\n  <thead>\n    <tr style=\"text-align: right;\">\n      <th></th>\n      <th>id</th>\n      <th>chapter</th>\n      <th>verse</th>\n      <th>Sahih_International</th>\n      <th>Yusuf_Ali</th>\n      <th>Shakir</th>\n      <th>Muhammad_Sarwar</th>\n      <th>Mohsin_Khan</th>\n    </tr>\n  </thead>\n  <tbody>\n    <tr>\n      <th>493</th>\n      <td>494</td>\n      <td>4</td>\n      <td>1</td>\n      <td>O mankind, fear your Lord, who created you fro...</td>\n      <td>O mankind! reverence your Guardian-Lord, who c...</td>\n      <td>O people! be careful of (your duty to) your Lo...</td>\n      <td>People, have fear of your Lord who has created...</td>\n      <td>O mankind! Be dutiful to your Lord, Who create...</td>\n    </tr>\n    <tr>\n      <th>494</th>\n      <td>495</td>\n      <td>4</td>\n      <td>2</td>\n      <td>And give to the orphans their properties and d...</td>\n      <td>To orphans restore their property (When they r...</td>\n      <td>And give to the orphans their property, and do...</td>\n      <td>Give to the orphans their property. Do not exc...</td>\n      <td>And give unto orphans their property and do no...</td>\n    </tr>\n    <tr>\n      <th>495</th>\n      <td>496</td>\n      <td>4</td>\n      <td>3</td>\n      <td>And if you fear that you will not deal justly ...</td>\n      <td>If ye fear that ye shall not be able to deal j...</td>\n      <td>And if you fear that you cannot act equitably ...</td>\n      <td>With respect to marrying widows, if you are af...</td>\n      <td>And if you fear that you shall not be able to ...</td>\n    </tr>\n    <tr>\n      <th>496</th>\n      <td>497</td>\n      <td>4</td>\n      <td>4</td>\n      <td>And give the women [upon marriage] their [brid...</td>\n      <td>And give the women (on marriage) their dower a...</td>\n      <td>And give women their dowries as a free gift, b...</td>\n      <td>Pay the women their dowry as though it were a ...</td>\n      <td>And give to the women (whom you marry) their M...</td>\n    </tr>\n    <tr>\n      <th>497</th>\n      <td>498</td>\n      <td>4</td>\n      <td>5</td>\n      <td>And do not give the weak-minded your property,...</td>\n      <td>To those weak of understanding Make not over y...</td>\n      <td>And do not give away your property which Allah...</td>\n      <td>Do not give to people weak of understanding yo...</td>\n      <td>And give not unto the foolish your property wh...</td>\n    </tr>\n    <tr>\n      <th>...</th>\n      <td>...</td>\n      <td>...</td>\n      <td>...</td>\n      <td>...</td>\n      <td>...</td>\n      <td>...</td>\n      <td>...</td>\n      <td>...</td>\n    </tr>\n    <tr>\n      <th>664</th>\n      <td>665</td>\n      <td>4</td>\n      <td>172</td>\n      <td>Never would the Messiah disdain to be a servan...</td>\n      <td>Christ disdaineth nor to serve and worship All...</td>\n      <td>The Messiah does by no means disdain that he s...</td>\n      <td>Jesus never disdained the worship of God nor d...</td>\n      <td>The Messiah will never be proud to reject to b...</td>\n    </tr>\n    <tr>\n      <th>665</th>\n      <td>666</td>\n      <td>4</td>\n      <td>173</td>\n      <td>And as for those who believed and did righteou...</td>\n      <td>But to those who believe and do deeds of right...</td>\n      <td>Then as for those who believe and do good, He ...</td>\n      <td>The righteously striving believers will receiv...</td>\n      <td>So, as for those who believed (in the Oneness ...</td>\n    </tr>\n    <tr>\n      <th>666</th>\n      <td>667</td>\n      <td>4</td>\n      <td>174</td>\n      <td>O mankind, there has come to you a conclusive ...</td>\n      <td>O mankind! verily there hath come to you a con...</td>\n      <td>O people! surely there has come to you manifes...</td>\n      <td>Mankind, an undeniable proof has certainly com...</td>\n      <td>O mankind! Verily, there has come to you a con...</td>\n    </tr>\n    <tr>\n      <th>667</th>\n      <td>668</td>\n      <td>4</td>\n      <td>175</td>\n      <td>So those who believe in Allah and hold fast to...</td>\n      <td>Then those who believe in Allah, and hold fast...</td>\n      <td>Then as for those who believe in Allah and hol...</td>\n      <td>Those who believe in God and seek His protecti...</td>\n      <td>So, as for those who believed in Allah and hel...</td>\n    </tr>\n    <tr>\n      <th>668</th>\n      <td>669</td>\n      <td>4</td>\n      <td>176</td>\n      <td>They request from you a [legal] ruling. Say, \"...</td>\n      <td>They ask thee for a legal decision. Say: Allah...</td>\n      <td>They ask you for a decision of the law. Say: A...</td>\n      <td>(Muhammad), they seek your verdict. Tell them,...</td>\n      <td>They ask you for a legal verdict. Say: \"Allah ...</td>\n    </tr>\n  </tbody>\n</table>\n<p>176 rows × 8 columns</p>\n</div>"
     },
     "metadata": {}
    }
   ]
  },
  {
   "cell_type": "code",
   "metadata": {
    "cell_id": "ae5eaceb77014a7c859a14ff0d45bfe0",
    "tags": [],
    "deepnote_to_be_reexecuted": false,
    "source_hash": "1243bdbc",
    "execution_start": 1659765683778,
    "execution_millis": 24188,
    "deepnote_cell_type": "code",
    "deepnote_cell_height": 225.9375,
    "deepnote_output_heights": [
     97.9375
    ]
   },
   "source": "# extract name of translators\ntranslators = [c for c in verses.keys() if c not in ['id','chapter','verse']]\ntranslators",
   "execution_count": 3,
   "outputs": [
    {
     "output_type": "execute_result",
     "execution_count": 3,
     "data": {
      "text/plain": "['Sahih_International',\n 'Yusuf_Ali',\n 'Shakir',\n 'Muhammad_Sarwar',\n 'Mohsin_Khan']"
     },
     "metadata": {}
    }
   ]
  },
  {
   "cell_type": "code",
   "metadata": {
    "cell_id": "31541aea11ea4ea78041f39e1fe390d2",
    "tags": [],
    "deepnote_to_be_reexecuted": false,
    "source_hash": "37aec211",
    "execution_start": 1659765683778,
    "execution_millis": 539,
    "deepnote_cell_type": "code",
    "deepnote_cell_height": 667
   },
   "source": "for trans in translators:\n    verses[trans+'_tag'] = verses[trans].apply(find_match, word_list=synonyms)\n    verses[trans+'_found'] = verses.apply(lambda x: False if x[trans+'_tag'] == [] else True,axis=1) \n\nverses",
   "execution_count": 4,
   "outputs": [
    {
     "output_type": "execute_result",
     "execution_count": 4,
     "data": {
      "application/vnd.deepnote.dataframe.v3+json": {
       "column_count": 18,
       "row_count": 176,
       "columns": [
        {
         "name": "id",
         "dtype": "int64",
         "stats": {
          "unique_count": 176,
          "nan_count": 0,
          "min": "494",
          "max": "669",
          "histogram": [
           {
            "bin_start": 494,
            "bin_end": 511.5,
            "count": 18
           },
           {
            "bin_start": 511.5,
            "bin_end": 529,
            "count": 17
           },
           {
            "bin_start": 529,
            "bin_end": 546.5,
            "count": 18
           },
           {
            "bin_start": 546.5,
            "bin_end": 564,
            "count": 17
           },
           {
            "bin_start": 564,
            "bin_end": 581.5,
            "count": 18
           },
           {
            "bin_start": 581.5,
            "bin_end": 599,
            "count": 17
           },
           {
            "bin_start": 599,
            "bin_end": 616.5,
            "count": 18
           },
           {
            "bin_start": 616.5,
            "bin_end": 634,
            "count": 17
           },
           {
            "bin_start": 634,
            "bin_end": 651.5,
            "count": 18
           },
           {
            "bin_start": 651.5,
            "bin_end": 669,
            "count": 18
           }
          ]
         }
        },
        {
         "name": "chapter",
         "dtype": "int64",
         "stats": {
          "unique_count": 1,
          "nan_count": 0,
          "min": "4",
          "max": "4",
          "histogram": [
           {
            "bin_start": 3.5,
            "bin_end": 3.6,
            "count": 0
           },
           {
            "bin_start": 3.6,
            "bin_end": 3.7,
            "count": 0
           },
           {
            "bin_start": 3.7,
            "bin_end": 3.8,
            "count": 0
           },
           {
            "bin_start": 3.8,
            "bin_end": 3.9,
            "count": 0
           },
           {
            "bin_start": 3.9,
            "bin_end": 4,
            "count": 0
           },
           {
            "bin_start": 4,
            "bin_end": 4.1,
            "count": 176
           },
           {
            "bin_start": 4.1,
            "bin_end": 4.2,
            "count": 0
           },
           {
            "bin_start": 4.2,
            "bin_end": 4.3,
            "count": 0
           },
           {
            "bin_start": 4.3,
            "bin_end": 4.4,
            "count": 0
           },
           {
            "bin_start": 4.4,
            "bin_end": 4.5,
            "count": 0
           }
          ]
         }
        },
        {
         "name": "verse",
         "dtype": "int64",
         "stats": {
          "unique_count": 176,
          "nan_count": 0,
          "min": "1",
          "max": "176",
          "histogram": [
           {
            "bin_start": 1,
            "bin_end": 18.5,
            "count": 18
           },
           {
            "bin_start": 18.5,
            "bin_end": 36,
            "count": 17
           },
           {
            "bin_start": 36,
            "bin_end": 53.5,
            "count": 18
           },
           {
            "bin_start": 53.5,
            "bin_end": 71,
            "count": 17
           },
           {
            "bin_start": 71,
            "bin_end": 88.5,
            "count": 18
           },
           {
            "bin_start": 88.5,
            "bin_end": 106,
            "count": 17
           },
           {
            "bin_start": 106,
            "bin_end": 123.5,
            "count": 18
           },
           {
            "bin_start": 123.5,
            "bin_end": 141,
            "count": 17
           },
           {
            "bin_start": 141,
            "bin_end": 158.5,
            "count": 18
           },
           {
            "bin_start": 158.5,
            "bin_end": 176,
            "count": 18
           }
          ]
         }
        },
        {
         "name": "Sahih_International",
         "dtype": "object",
         "stats": {
          "unique_count": 176,
          "nan_count": 0,
          "categories": [
           {
            "name": "O mankind, fear your Lord, who created you from one soul and created from it its mate and dispersed from both of them many men and women. And fear Allah , through whom you ask one another, and the wombs. Indeed Allah is ever, over you, an Observer.",
            "count": 1
           },
           {
            "name": "And give to the orphans their properties and do not substitute the defective [of your own] for the good [of theirs]. And do not consume their properties into your own. Indeed, that is ever a great sin.",
            "count": 1
           },
           {
            "name": "174 others",
            "count": 174
           }
          ]
         }
        },
        {
         "name": "Yusuf_Ali",
         "dtype": "object",
         "stats": {
          "unique_count": 176,
          "nan_count": 0,
          "categories": [
           {
            "name": "O mankind! reverence your Guardian-Lord, who created you from a single person, created, of like nature, His mate, and from them twain scattered (like seeds) countless men and women;- reverence Allah, through whom ye demand your mutual (rights), and (reverence) the wombs (That bore you): for Allah ever watches over you.",
            "count": 1
           },
           {
            "name": "To orphans restore their property (When they reach their age), nor substitute (your) worthless things for (their) good ones; and devour not their substance (by mixing it up) with your own. For this is indeed a great sin.",
            "count": 1
           },
           {
            "name": "174 others",
            "count": 174
           }
          ]
         }
        },
        {
         "name": "Shakir",
         "dtype": "object",
         "stats": {
          "unique_count": 176,
          "nan_count": 0,
          "categories": [
           {
            "name": "O people! be careful of (your duty to) your Lord, Who created you from a single being and created its mate of the same (kind) and spread from these two, many men and women; and be careful of (your duty to) Allah, by Whom you demand one of another (your rights), and (to) the ties of relationship; surely Allah ever watches over you.",
            "count": 1
           },
           {
            "name": "And give to the orphans their property, and do not substitute worthless (things) for (their) good (ones), and do not devour their property (as an addition) to your own property; this is surely a great crime.",
            "count": 1
           },
           {
            "name": "174 others",
            "count": 174
           }
          ]
         }
        },
        {
         "name": "Muhammad_Sarwar",
         "dtype": "object",
         "stats": {
          "unique_count": 176,
          "nan_count": 0,
          "categories": [
           {
            "name": "People, have fear of your Lord who has created you from a single soul. From it He created your spouse and through them He populated the land with many men and women. Have fear of the One by whose Name you swear to settle your differences and have respect for your relatives. God certainly keeps watch over you.",
            "count": 1
           },
           {
            "name": "Give to the orphans their property. Do not exchange the pure for the filthy and do not spend the property of orphans along with your own; this would be a great sin.",
            "count": 1
           },
           {
            "name": "174 others",
            "count": 174
           }
          ]
         }
        },
        {
         "name": "Mohsin_Khan",
         "dtype": "object",
         "stats": {
          "unique_count": 176,
          "nan_count": 0,
          "categories": [
           {
            "name": "O mankind! Be dutiful to your Lord, Who created you from a single person (Adam), and from him (Adam) He created his wife [Hawwa (Eve)], and from them both He created many men and women and fear Allah through Whom you demand your mutual (rights), and (do not cut the relations of) the wombs (kinship). Surely, Allah is Ever an All­Watcher over you.",
            "count": 1
           },
           {
            "name": "And give unto orphans their property and do not exchange (your) bad things for (their) good ones; and devour not their substance (by adding it) to your substance. Surely, this is a great sin.",
            "count": 1
           },
           {
            "name": "174 others",
            "count": 174
           }
          ]
         }
        },
        {
         "name": "Sahih_International_tag",
         "dtype": "object",
         "stats": {
          "unique_count": 176,
          "nan_count": 0,
          "categories": [
           {
            "name": "[]",
            "count": 148
           },
           {
            "name": "['women']",
            "count": 14
           },
           {
            "name": "11 others",
            "count": 14
           }
          ]
         }
        },
        {
         "name": "Sahih_International_found",
         "dtype": "bool",
         "stats": {
          "unique_count": 2,
          "nan_count": 0,
          "categories": [
           {
            "name": "False",
            "count": 148
           },
           {
            "name": "True",
            "count": 28
           }
          ]
         }
        },
        {
         "name": "Yusuf_Ali_tag",
         "dtype": "object",
         "stats": {
          "unique_count": 176,
          "nan_count": 0,
          "categories": [
           {
            "name": "[]",
            "count": 148
           },
           {
            "name": "['women']",
            "count": 15
           },
           {
            "name": "10 others",
            "count": 13
           }
          ]
         }
        },
        {
         "name": "Yusuf_Ali_found",
         "dtype": "bool",
         "stats": {
          "unique_count": 2,
          "nan_count": 0,
          "categories": [
           {
            "name": "False",
            "count": 148
           },
           {
            "name": "True",
            "count": 28
           }
          ]
         }
        },
        {
         "name": "Shakir_tag",
         "dtype": "object",
         "stats": {
          "unique_count": 176,
          "nan_count": 0,
          "categories": [
           {
            "name": "[]",
            "count": 153
           },
           {
            "name": "['women']",
            "count": 12
           },
           {
            "name": "11 others",
            "count": 11
           }
          ]
         }
        },
        {
         "name": "Shakir_found",
         "dtype": "bool",
         "stats": {
          "unique_count": 2,
          "nan_count": 0,
          "categories": [
           {
            "name": "False",
            "count": 153
           },
           {
            "name": "True",
            "count": 23
           }
          ]
         }
        },
        {
         "name": "Muhammad_Sarwar_tag",
         "dtype": "object",
         "stats": {
          "unique_count": 176,
          "nan_count": 0,
          "categories": [
           {
            "name": "[]",
            "count": 151
           },
           {
            "name": "['women']",
            "count": 9
           },
           {
            "name": "12 others",
            "count": 16
           }
          ]
         }
        },
        {
         "name": "Muhammad_Sarwar_found",
         "dtype": "bool",
         "stats": {
          "unique_count": 2,
          "nan_count": 0,
          "categories": [
           {
            "name": "False",
            "count": 151
           },
           {
            "name": "True",
            "count": 25
           }
          ]
         }
        },
        {
         "name": "Mohsin_Khan_tag",
         "dtype": "object",
         "stats": {
          "unique_count": 176,
          "nan_count": 0,
          "categories": [
           {
            "name": "[]",
            "count": 144
           },
           {
            "name": "['women']",
            "count": 12
           },
           {
            "name": "15 others",
            "count": 20
           }
          ]
         }
        },
        {
         "name": "Mohsin_Khan_found",
         "dtype": "bool",
         "stats": {
          "unique_count": 2,
          "nan_count": 0,
          "categories": [
           {
            "name": "False",
            "count": 144
           },
           {
            "name": "True",
            "count": 32
           }
          ]
         }
        },
        {
         "name": "_deepnote_index_column",
         "dtype": "int64"
        }
       ],
       "rows": [
        {
         "id": 494,
         "chapter": 4,
         "verse": 1,
         "Sahih_International": "O mankind, fear your Lord, who created you from one soul and created from it its mate and dispersed from both of them many men and women. And fear Allah , through whom you ask one another, and the wombs. Indeed Allah is ever, over you, an Observer.",
         "Yusuf_Ali": "O mankind! reverence your Guardian-Lord, who created you from a single person, created, of like nature, His mate, and from them twain scattered (like seeds) countless men and women;- reverence Allah, through whom ye demand your mutual (rights), and (reverence) the wombs (That bore you): for Allah ever watches over you.",
         "Shakir": "O people! be careful of (your duty to) your Lord, Who created you from a single being and created its mate of the same (kind) and spread from these two, many men and women; and be careful of (your duty to) Allah, by Whom you demand one of another (your rights), and (to) the ties of relationship; surely Allah ever watches over you.",
         "Muhammad_Sarwar": "People, have fear of your Lord who has created you from a single soul. From it He created your spouse and through them He populated the land with many men and women. Have fear of the One by whose Name you swear to settle your differences and have respect for your relatives. God certainly keeps watch over you.",
         "Mohsin_Khan": "O mankind! Be dutiful to your Lord, Who created you from a single person (Adam), and from him (Adam) He created his wife [Hawwa (Eve)], and from them both He created many men and women and fear Allah through Whom you demand your mutual (rights), and (do not cut the relations of) the wombs (kinship). Surely, Allah is Ever an All­Watcher over you.",
         "Sahih_International_tag": "['women']",
         "Sahih_International_found": true,
         "Yusuf_Ali_tag": "['women']",
         "Yusuf_Ali_found": true,
         "Shakir_tag": "['women']",
         "Shakir_found": true,
         "Muhammad_Sarwar_tag": "['women']",
         "Muhammad_Sarwar_found": true,
         "Mohsin_Khan_tag": "['women', 'eve', 'wife']",
         "Mohsin_Khan_found": true,
         "_deepnote_index_column": 493
        },
        {
         "id": 495,
         "chapter": 4,
         "verse": 2,
         "Sahih_International": "And give to the orphans their properties and do not substitute the defective [of your own] for the good [of theirs]. And do not consume their properties into your own. Indeed, that is ever a great sin.",
         "Yusuf_Ali": "To orphans restore their property (When they reach their age), nor substitute (your) worthless things for (their) good ones; and devour not their substance (by mixing it up) with your own. For this is indeed a great sin.",
         "Shakir": "And give to the orphans their property, and do not substitute worthless (things) for (their) good (ones), and do not devour their property (as an addition) to your own property; this is surely a great crime.",
         "Muhammad_Sarwar": "Give to the orphans their property. Do not exchange the pure for the filthy and do not spend the property of orphans along with your own; this would be a great sin.",
         "Mohsin_Khan": "And give unto orphans their property and do not exchange (your) bad things for (their) good ones; and devour not their substance (by adding it) to your substance. Surely, this is a great sin.",
         "Sahih_International_tag": "[]",
         "Sahih_International_found": false,
         "Yusuf_Ali_tag": "[]",
         "Yusuf_Ali_found": false,
         "Shakir_tag": "[]",
         "Shakir_found": false,
         "Muhammad_Sarwar_tag": "[]",
         "Muhammad_Sarwar_found": false,
         "Mohsin_Khan_tag": "[]",
         "Mohsin_Khan_found": false,
         "_deepnote_index_column": 494
        },
        {
         "id": 496,
         "chapter": 4,
         "verse": 3,
         "Sahih_International": "And if you fear that you will not deal justly with the orphan girls, then marry those that please you of [other] women, two or three or four. But if you fear that you will not be just, then [marry only] one or those your right hand possesses. That is more suitable that you may not incline [to injustice].",
         "Yusuf_Ali": "If ye fear that ye shall not be able to deal justly with the orphans, Marry women of your choice, Two or three or four; but if ye fear that ye shall not be able to deal justly (with them), then only one, or (a captive) that your right hands possess, that will be more suitable, to prevent you from doing injustice.",
         "Shakir": "And if you fear that you cannot act equitably towards orphans, then marry such women as seem good to you, two and three and four; but if you fear that you will not do justice (between them), then (marry) only one or what your right hands possess; this is more proper, that you may not deviate from the right course.",
         "Muhammad_Sarwar": "With respect to marrying widows, if you are afraid of not being able to maintain justice with her children, marry another woman of your choice or two or three or four (who have no children). If you cannot maintain equality with more than one wife, marry only one or your slave-girl. This keeps you from acting against justice.",
         "Mohsin_Khan": "And if you fear that you shall not be able to deal justly with the orphan­girls, then marry (other) women of your choice, two or three, or four but if you fear that you shall not be able to deal justly (with them), then only one or (the captives and the slaves) that your right hands possess. That is nearer to prevent you from doing injustice.",
         "Sahih_International_tag": "['women']",
         "Sahih_International_found": true,
         "Yusuf_Ali_tag": "['women']",
         "Yusuf_Ali_found": true,
         "Shakir_tag": "['women']",
         "Shakir_found": true,
         "Muhammad_Sarwar_tag": "['her', 'woman', 'wife']",
         "Muhammad_Sarwar_found": true,
         "Mohsin_Khan_tag": "['women']",
         "Mohsin_Khan_found": true,
         "_deepnote_index_column": 495
        },
        {
         "id": 497,
         "chapter": 4,
         "verse": 4,
         "Sahih_International": "And give the women [upon marriage] their [bridal] gifts graciously. But if they give up willingly to you anything of it, then take it in satisfaction and ease.",
         "Yusuf_Ali": "And give the women (on marriage) their dower as a free gift; but if they, of their own good pleasure, remit any part of it to you, Take it and enjoy it with right good cheer.",
         "Shakir": "And give women their dowries as a free gift, but if they of themselves be pleased to give up to you a portion of it, then eat it with enjoyment and with wholesome result.",
         "Muhammad_Sarwar": "Pay the women their dowry as though it were a gift. However, if they allow you to keep a part of it as a favor to you, you may spend it with pleasure.",
         "Mohsin_Khan": "And give to the women (whom you marry) their Mahr (obligatory bridal money given by the husband to his wife at the time of marriage) with a good heart, but if they, of their own good pleasure, remit any part of it to you, take it, and enjoy it without fear of any harm (as Allah has made it lawful).",
         "Sahih_International_tag": "['women']",
         "Sahih_International_found": true,
         "Yusuf_Ali_tag": "['women']",
         "Yusuf_Ali_found": true,
         "Shakir_tag": "['women']",
         "Shakir_found": true,
         "Muhammad_Sarwar_tag": "['women']",
         "Muhammad_Sarwar_found": true,
         "Mohsin_Khan_tag": "['women', 'wife']",
         "Mohsin_Khan_found": true,
         "_deepnote_index_column": 496
        },
        {
         "id": 498,
         "chapter": 4,
         "verse": 5,
         "Sahih_International": "And do not give the weak-minded your property, which Allah has made a means of sustenance for you, but provide for them with it and clothe them and speak to them words of appropriate kindness.",
         "Yusuf_Ali": "To those weak of understanding Make not over your property, which Allah hath made a means of support for you, but feed and clothe them therewith, and speak to them words of kindness and justice.",
         "Shakir": "And do not give away your property which Allah has made for you a (means of) support to the weak of understanding, and maintain them out of (the profits of) it, and clothe them and speak to them words of honest advice.",
         "Muhammad_Sarwar": "Do not give to people weak of understanding your property for which God has made you to supervise. Feed and clothe such people and speak to them in a reasonable way.",
         "Mohsin_Khan": "And give not unto the foolish your property which Allah has made a means of support for you, but feed and clothe them therewith, and speak to them words of kindness and justice.",
         "Sahih_International_tag": "[]",
         "Sahih_International_found": false,
         "Yusuf_Ali_tag": "[]",
         "Yusuf_Ali_found": false,
         "Shakir_tag": "[]",
         "Shakir_found": false,
         "Muhammad_Sarwar_tag": "[]",
         "Muhammad_Sarwar_found": false,
         "Mohsin_Khan_tag": "[]",
         "Mohsin_Khan_found": false,
         "_deepnote_index_column": 497
        },
        {
         "id": 499,
         "chapter": 4,
         "verse": 6,
         "Sahih_International": "And test the orphans [in their abilities] until they reach marriageable age. Then if you perceive in them sound judgement, release their property to them. And do not consume it excessively and quickly, [anticipating] that they will grow up. And whoever, [when acting as guardian], is self-sufficient should refrain [from taking a fee]; and whoever is poor - let him take according to what is acceptable. Then when you release their property to them, bring witnesses upon them. And sufficient is Allah as Accountant.",
         "Yusuf_Ali": "Make trial of orphans until they reach the age of marriage; if then ye find sound judgment in them, release their property to them; but consume it not wastefully, nor in haste against their growing up. If the guardian is well-off, Let him claim no remuneration, but if he is poor, let him have for himself what is just and reasonable. When ye release their property to them, take witnesses in their presence: But all-sufficient is Allah in taking account.",
         "Shakir": "And test the orphans until they attain puberty; then if you find in them maturity of intellect, make over to them their property, and do not consume it extravagantly and hastily, lest they attain to full age; and whoever is rich, let him abstain altogether, and whoever is poor, let him eat reasonably; then when you make over to them their property, call witnesses in their presence; and Allah is enough as a Reckoner.",
         "Muhammad_Sarwar": "Before returning orphan's property to them, make sure that they have reached maturity. Do not consume their property wastefully until such a time. The rich (guardian) should not take any of his ward's property. However, a poor (guardian) may use a reasonable portion. When you return their property, make sure you have witness. God is a perfect in taking accounts.",
         "Mohsin_Khan": "And try orphans (as regards their intelligence) until they reach the age of marriage; if then you find sound judgement in them, release their property to them, but consume it not wastefully, and hastily fearing that they should grow up, and whoever amongst guardians is rich, he should take no wages, but if he is poor, let him have for himself what is just and reasonable (according to his work). And when you release their property to them, take witness in their presence; and Allah is All­Sufficient in taking account.",
         "Sahih_International_tag": "[]",
         "Sahih_International_found": false,
         "Yusuf_Ali_tag": "[]",
         "Yusuf_Ali_found": false,
         "Shakir_tag": "[]",
         "Shakir_found": false,
         "Muhammad_Sarwar_tag": "[]",
         "Muhammad_Sarwar_found": false,
         "Mohsin_Khan_tag": "[]",
         "Mohsin_Khan_found": false,
         "_deepnote_index_column": 498
        },
        {
         "id": 500,
         "chapter": 4,
         "verse": 7,
         "Sahih_International": "For men is a share of what the parents and close relatives leave, and for women is a share of what the parents and close relatives leave, be it little or much - an obligatory share.",
         "Yusuf_Ali": "From what is left by parents and those nearest related there is a share for men and a share for women, whether the property be small or large,-a determinate share.",
         "Shakir": "Men shall have a portion of what the parents and the near relatives leave, and women shall have a portion of what the parents and the near relatives leave, whether there is little or much of it; a stated portion.",
         "Muhammad_Sarwar": "Male and female are entitled to their legal share in the legacy of their parents and relatives, whether it be small or large.",
         "Mohsin_Khan": "There is a share for men and a share for women from what is left by parents and those nearest related, whether, the property be small or large - a legal share.",
         "Sahih_International_tag": "['women']",
         "Sahih_International_found": true,
         "Yusuf_Ali_tag": "['women']",
         "Yusuf_Ali_found": true,
         "Shakir_tag": "['women']",
         "Shakir_found": true,
         "Muhammad_Sarwar_tag": "['female']",
         "Muhammad_Sarwar_found": true,
         "Mohsin_Khan_tag": "['women']",
         "Mohsin_Khan_found": true,
         "_deepnote_index_column": 499
        },
        {
         "id": 501,
         "chapter": 4,
         "verse": 8,
         "Sahih_International": "And when [other] relatives and orphans and the needy are present at the [time of] division, then provide for them [something] out of the estate and speak to them words of appropriate kindness.",
         "Yusuf_Ali": "But if at the time of division other relatives, or orphans or poor, are present, feed them out of the (property), and speak to them words of kindness and justice.",
         "Shakir": "And when there are present at the division the relatives and the orphans and the needy, give them (something) out of it and speak to them kind words.",
         "Muhammad_Sarwar": "If relatives, orphans or destitute people, are present at the distribution of the legacy, give them something and speak kindly to them.",
         "Mohsin_Khan": "And when the relatives and the orphans and Al­Masakin (the poor) are present at the time of division, give them out of the property, and speak to them words of kindness and justice.",
         "Sahih_International_tag": "[]",
         "Sahih_International_found": false,
         "Yusuf_Ali_tag": "[]",
         "Yusuf_Ali_found": false,
         "Shakir_tag": "[]",
         "Shakir_found": false,
         "Muhammad_Sarwar_tag": "[]",
         "Muhammad_Sarwar_found": false,
         "Mohsin_Khan_tag": "[]",
         "Mohsin_Khan_found": false,
         "_deepnote_index_column": 500
        },
        {
         "id": 502,
         "chapter": 4,
         "verse": 9,
         "Sahih_International": "And let those [executors and guardians] fear [injustice] as if they [themselves] had left weak offspring behind and feared for them. So let them fear Allah and speak words of appropriate justice.",
         "Yusuf_Ali": "Let those (disposing of an estate) have the same fear in their minds as they would have for their own if they had left a helpless family behind: Let them fear Allah, and speak words of appropriate (comfort).",
         "Shakir": "And let those fear who, should they leave behind them weakly offspring, would fear on their account, so let them be careful of (their duty to) Allah, and let them speak right words.",
         "Muhammad_Sarwar": "Those who are concerned about the welfare of their own children after their death, should have fear of God (when dealing with the orphans) and guide them properly.",
         "Mohsin_Khan": "And let those (executors and guardians) have the same fear in their minds as they would have for their own, if they had left weak offspring behind. So let them fear Allah and speak right words.",
         "Sahih_International_tag": "[]",
         "Sahih_International_found": false,
         "Yusuf_Ali_tag": "[]",
         "Yusuf_Ali_found": false,
         "Shakir_tag": "[]",
         "Shakir_found": false,
         "Muhammad_Sarwar_tag": "[]",
         "Muhammad_Sarwar_found": false,
         "Mohsin_Khan_tag": "[]",
         "Mohsin_Khan_found": false,
         "_deepnote_index_column": 501
        },
        {
         "id": 503,
         "chapter": 4,
         "verse": 10,
         "Sahih_International": "Indeed, those who devour the property of orphans unjustly are only consuming into their bellies fire. And they will be burned in a Blaze.",
         "Yusuf_Ali": "Those who unjustly eat up the property of orphans, eat up a Fire into their own bodies: They will soon be enduring a Blazing Fire!",
         "Shakir": "(As for) those who swallow the property of the orphans unjustly, surely they only swallow fire into their bellies and they shall enter burning fire.",
         "Muhammad_Sarwar": "Those who wrongfully consume the property of orphans are, in fact, consuming fire in their bellies and they will suffer the blazing fire.",
         "Mohsin_Khan": "Verily, those who unjustly eat up the property of orphans, they eat up only a fire into their bellies, and they will be burnt in the blazing Fire!",
         "Sahih_International_tag": "[]",
         "Sahih_International_found": false,
         "Yusuf_Ali_tag": "[]",
         "Yusuf_Ali_found": false,
         "Shakir_tag": "[]",
         "Shakir_found": false,
         "Muhammad_Sarwar_tag": "[]",
         "Muhammad_Sarwar_found": false,
         "Mohsin_Khan_tag": "[]",
         "Mohsin_Khan_found": false,
         "_deepnote_index_column": 502
        }
       ]
      },
      "text/plain": "      id  chapter  verse                                Sahih_International  \\\n493  494        4      1  O mankind, fear your Lord, who created you fro...   \n494  495        4      2  And give to the orphans their properties and d...   \n495  496        4      3  And if you fear that you will not deal justly ...   \n496  497        4      4  And give the women [upon marriage] their [brid...   \n497  498        4      5  And do not give the weak-minded your property,...   \n..   ...      ...    ...                                                ...   \n664  665        4    172  Never would the Messiah disdain to be a servan...   \n665  666        4    173  And as for those who believed and did righteou...   \n666  667        4    174  O mankind, there has come to you a conclusive ...   \n667  668        4    175  So those who believe in Allah and hold fast to...   \n668  669        4    176  They request from you a [legal] ruling. Say, \"...   \n\n                                             Yusuf_Ali  \\\n493  O mankind! reverence your Guardian-Lord, who c...   \n494  To orphans restore their property (When they r...   \n495  If ye fear that ye shall not be able to deal j...   \n496  And give the women (on marriage) their dower a...   \n497  To those weak of understanding Make not over y...   \n..                                                 ...   \n664  Christ disdaineth nor to serve and worship All...   \n665  But to those who believe and do deeds of right...   \n666  O mankind! verily there hath come to you a con...   \n667  Then those who believe in Allah, and hold fast...   \n668  They ask thee for a legal decision. Say: Allah...   \n\n                                                Shakir  \\\n493  O people! be careful of (your duty to) your Lo...   \n494  And give to the orphans their property, and do...   \n495  And if you fear that you cannot act equitably ...   \n496  And give women their dowries as a free gift, b...   \n497  And do not give away your property which Allah...   \n..                                                 ...   \n664  The Messiah does by no means disdain that he s...   \n665  Then as for those who believe and do good, He ...   \n666  O people! surely there has come to you manifes...   \n667  Then as for those who believe in Allah and hol...   \n668  They ask you for a decision of the law. Say: A...   \n\n                                       Muhammad_Sarwar  \\\n493  People, have fear of your Lord who has created...   \n494  Give to the orphans their property. Do not exc...   \n495  With respect to marrying widows, if you are af...   \n496  Pay the women their dowry as though it were a ...   \n497  Do not give to people weak of understanding yo...   \n..                                                 ...   \n664  Jesus never disdained the worship of God nor d...   \n665  The righteously striving believers will receiv...   \n666  Mankind, an undeniable proof has certainly com...   \n667  Those who believe in God and seek His protecti...   \n668  (Muhammad), they seek your verdict. Tell them,...   \n\n                                           Mohsin_Khan  \\\n493  O mankind! Be dutiful to your Lord, Who create...   \n494  And give unto orphans their property and do no...   \n495  And if you fear that you shall not be able to ...   \n496  And give to the women (whom you marry) their M...   \n497  And give not unto the foolish your property wh...   \n..                                                 ...   \n664  The Messiah will never be proud to reject to b...   \n665  So, as for those who believed (in the Oneness ...   \n666  O mankind! Verily, there has come to you a con...   \n667  So, as for those who believed in Allah and hel...   \n668  They ask you for a legal verdict. Say: \"Allah ...   \n\n         Sahih_International_tag  Sahih_International_found  \\\n493                      [women]                       True   \n494                           []                      False   \n495                      [women]                       True   \n496                      [women]                       True   \n497                           []                      False   \n..                           ...                        ...   \n664                           []                      False   \n665                           []                      False   \n666                           []                      False   \n667                           []                      False   \n668  [sisters, her, sister, she]                       True   \n\n                                  Yusuf_Ali_tag  Yusuf_Ali_found  \\\n493                                     [women]             True   \n494                                          []            False   \n495                                     [women]             True   \n496                                     [women]             True   \n497                                          []            False   \n..                                          ...              ...   \n664                                          []            False   \n665                                          []            False   \n666                                          []            False   \n667                                          []            False   \n668  [woman, her, sister, female, she, sisters]             True   \n\n                             Shakir_tag  Shakir_found  \\\n493                             [women]          True   \n494                                  []         False   \n495                             [women]          True   \n496                             [women]          True   \n497                                  []         False   \n..                                  ...           ...   \n664                                  []         False   \n665                                  []         False   \n666                                  []         False   \n667                                  []         False   \n668  [her, sister, women, she, sisters]          True   \n\n                            Muhammad_Sarwar_tag  Muhammad_Sarwar_found  \\\n493                                     [women]                   True   \n494                                          []                  False   \n495                          [her, woman, wife]                   True   \n496                                     [women]                   True   \n497                                          []                  False   \n..                                          ...                    ...   \n664                                          []                  False   \n665                                          []                  False   \n666                                          []                  False   \n667                                          []                  False   \n668  [woman, her, sister, female, she, sisters]                   True   \n\n                                Mohsin_Khan_tag  Mohsin_Khan_found  \n493                          [women, eve, wife]               True  \n494                                          []              False  \n495                                     [women]               True  \n496                               [women, wife]               True  \n497                                          []              False  \n..                                          ...                ...  \n664                                          []              False  \n665                                          []              False  \n666                                          []              False  \n667                                          []              False  \n668  [woman, her, sister, female, she, sisters]               True  \n\n[176 rows x 18 columns]",
      "text/html": "<div>\n<style scoped>\n    .dataframe tbody tr th:only-of-type {\n        vertical-align: middle;\n    }\n\n    .dataframe tbody tr th {\n        vertical-align: top;\n    }\n\n    .dataframe thead th {\n        text-align: right;\n    }\n</style>\n<table border=\"1\" class=\"dataframe\">\n  <thead>\n    <tr style=\"text-align: right;\">\n      <th></th>\n      <th>id</th>\n      <th>chapter</th>\n      <th>verse</th>\n      <th>Sahih_International</th>\n      <th>Yusuf_Ali</th>\n      <th>Shakir</th>\n      <th>Muhammad_Sarwar</th>\n      <th>Mohsin_Khan</th>\n      <th>Sahih_International_tag</th>\n      <th>Sahih_International_found</th>\n      <th>Yusuf_Ali_tag</th>\n      <th>Yusuf_Ali_found</th>\n      <th>Shakir_tag</th>\n      <th>Shakir_found</th>\n      <th>Muhammad_Sarwar_tag</th>\n      <th>Muhammad_Sarwar_found</th>\n      <th>Mohsin_Khan_tag</th>\n      <th>Mohsin_Khan_found</th>\n    </tr>\n  </thead>\n  <tbody>\n    <tr>\n      <th>493</th>\n      <td>494</td>\n      <td>4</td>\n      <td>1</td>\n      <td>O mankind, fear your Lord, who created you fro...</td>\n      <td>O mankind! reverence your Guardian-Lord, who c...</td>\n      <td>O people! be careful of (your duty to) your Lo...</td>\n      <td>People, have fear of your Lord who has created...</td>\n      <td>O mankind! Be dutiful to your Lord, Who create...</td>\n      <td>[women]</td>\n      <td>True</td>\n      <td>[women]</td>\n      <td>True</td>\n      <td>[women]</td>\n      <td>True</td>\n      <td>[women]</td>\n      <td>True</td>\n      <td>[women, eve, wife]</td>\n      <td>True</td>\n    </tr>\n    <tr>\n      <th>494</th>\n      <td>495</td>\n      <td>4</td>\n      <td>2</td>\n      <td>And give to the orphans their properties and d...</td>\n      <td>To orphans restore their property (When they r...</td>\n      <td>And give to the orphans their property, and do...</td>\n      <td>Give to the orphans their property. Do not exc...</td>\n      <td>And give unto orphans their property and do no...</td>\n      <td>[]</td>\n      <td>False</td>\n      <td>[]</td>\n      <td>False</td>\n      <td>[]</td>\n      <td>False</td>\n      <td>[]</td>\n      <td>False</td>\n      <td>[]</td>\n      <td>False</td>\n    </tr>\n    <tr>\n      <th>495</th>\n      <td>496</td>\n      <td>4</td>\n      <td>3</td>\n      <td>And if you fear that you will not deal justly ...</td>\n      <td>If ye fear that ye shall not be able to deal j...</td>\n      <td>And if you fear that you cannot act equitably ...</td>\n      <td>With respect to marrying widows, if you are af...</td>\n      <td>And if you fear that you shall not be able to ...</td>\n      <td>[women]</td>\n      <td>True</td>\n      <td>[women]</td>\n      <td>True</td>\n      <td>[women]</td>\n      <td>True</td>\n      <td>[her, woman, wife]</td>\n      <td>True</td>\n      <td>[women]</td>\n      <td>True</td>\n    </tr>\n    <tr>\n      <th>496</th>\n      <td>497</td>\n      <td>4</td>\n      <td>4</td>\n      <td>And give the women [upon marriage] their [brid...</td>\n      <td>And give the women (on marriage) their dower a...</td>\n      <td>And give women their dowries as a free gift, b...</td>\n      <td>Pay the women their dowry as though it were a ...</td>\n      <td>And give to the women (whom you marry) their M...</td>\n      <td>[women]</td>\n      <td>True</td>\n      <td>[women]</td>\n      <td>True</td>\n      <td>[women]</td>\n      <td>True</td>\n      <td>[women]</td>\n      <td>True</td>\n      <td>[women, wife]</td>\n      <td>True</td>\n    </tr>\n    <tr>\n      <th>497</th>\n      <td>498</td>\n      <td>4</td>\n      <td>5</td>\n      <td>And do not give the weak-minded your property,...</td>\n      <td>To those weak of understanding Make not over y...</td>\n      <td>And do not give away your property which Allah...</td>\n      <td>Do not give to people weak of understanding yo...</td>\n      <td>And give not unto the foolish your property wh...</td>\n      <td>[]</td>\n      <td>False</td>\n      <td>[]</td>\n      <td>False</td>\n      <td>[]</td>\n      <td>False</td>\n      <td>[]</td>\n      <td>False</td>\n      <td>[]</td>\n      <td>False</td>\n    </tr>\n    <tr>\n      <th>...</th>\n      <td>...</td>\n      <td>...</td>\n      <td>...</td>\n      <td>...</td>\n      <td>...</td>\n      <td>...</td>\n      <td>...</td>\n      <td>...</td>\n      <td>...</td>\n      <td>...</td>\n      <td>...</td>\n      <td>...</td>\n      <td>...</td>\n      <td>...</td>\n      <td>...</td>\n      <td>...</td>\n      <td>...</td>\n      <td>...</td>\n    </tr>\n    <tr>\n      <th>664</th>\n      <td>665</td>\n      <td>4</td>\n      <td>172</td>\n      <td>Never would the Messiah disdain to be a servan...</td>\n      <td>Christ disdaineth nor to serve and worship All...</td>\n      <td>The Messiah does by no means disdain that he s...</td>\n      <td>Jesus never disdained the worship of God nor d...</td>\n      <td>The Messiah will never be proud to reject to b...</td>\n      <td>[]</td>\n      <td>False</td>\n      <td>[]</td>\n      <td>False</td>\n      <td>[]</td>\n      <td>False</td>\n      <td>[]</td>\n      <td>False</td>\n      <td>[]</td>\n      <td>False</td>\n    </tr>\n    <tr>\n      <th>665</th>\n      <td>666</td>\n      <td>4</td>\n      <td>173</td>\n      <td>And as for those who believed and did righteou...</td>\n      <td>But to those who believe and do deeds of right...</td>\n      <td>Then as for those who believe and do good, He ...</td>\n      <td>The righteously striving believers will receiv...</td>\n      <td>So, as for those who believed (in the Oneness ...</td>\n      <td>[]</td>\n      <td>False</td>\n      <td>[]</td>\n      <td>False</td>\n      <td>[]</td>\n      <td>False</td>\n      <td>[]</td>\n      <td>False</td>\n      <td>[]</td>\n      <td>False</td>\n    </tr>\n    <tr>\n      <th>666</th>\n      <td>667</td>\n      <td>4</td>\n      <td>174</td>\n      <td>O mankind, there has come to you a conclusive ...</td>\n      <td>O mankind! verily there hath come to you a con...</td>\n      <td>O people! surely there has come to you manifes...</td>\n      <td>Mankind, an undeniable proof has certainly com...</td>\n      <td>O mankind! Verily, there has come to you a con...</td>\n      <td>[]</td>\n      <td>False</td>\n      <td>[]</td>\n      <td>False</td>\n      <td>[]</td>\n      <td>False</td>\n      <td>[]</td>\n      <td>False</td>\n      <td>[]</td>\n      <td>False</td>\n    </tr>\n    <tr>\n      <th>667</th>\n      <td>668</td>\n      <td>4</td>\n      <td>175</td>\n      <td>So those who believe in Allah and hold fast to...</td>\n      <td>Then those who believe in Allah, and hold fast...</td>\n      <td>Then as for those who believe in Allah and hol...</td>\n      <td>Those who believe in God and seek His protecti...</td>\n      <td>So, as for those who believed in Allah and hel...</td>\n      <td>[]</td>\n      <td>False</td>\n      <td>[]</td>\n      <td>False</td>\n      <td>[]</td>\n      <td>False</td>\n      <td>[]</td>\n      <td>False</td>\n      <td>[]</td>\n      <td>False</td>\n    </tr>\n    <tr>\n      <th>668</th>\n      <td>669</td>\n      <td>4</td>\n      <td>176</td>\n      <td>They request from you a [legal] ruling. Say, \"...</td>\n      <td>They ask thee for a legal decision. Say: Allah...</td>\n      <td>They ask you for a decision of the law. Say: A...</td>\n      <td>(Muhammad), they seek your verdict. Tell them,...</td>\n      <td>They ask you for a legal verdict. Say: \"Allah ...</td>\n      <td>[sisters, her, sister, she]</td>\n      <td>True</td>\n      <td>[woman, her, sister, female, she, sisters]</td>\n      <td>True</td>\n      <td>[her, sister, women, she, sisters]</td>\n      <td>True</td>\n      <td>[woman, her, sister, female, she, sisters]</td>\n      <td>True</td>\n      <td>[woman, her, sister, female, she, sisters]</td>\n      <td>True</td>\n    </tr>\n  </tbody>\n</table>\n<p>176 rows × 18 columns</p>\n</div>"
     },
     "metadata": {}
    }
   ]
  },
  {
   "cell_type": "code",
   "metadata": {
    "cell_id": "3e0c28774412478695740b051a250489",
    "tags": [],
    "deepnote_to_be_reexecuted": false,
    "source_hash": "703c6696",
    "execution_start": 1659765684318,
    "execution_millis": 29,
    "deepnote_cell_type": "code",
    "deepnote_cell_height": 263.125,
    "deepnote_output_heights": [
     117.125
    ]
   },
   "source": "match_cols = [c for c in verses.keys() if c[-5:] == \"found\"]\nverses['total_found'] = verses[match_cols].sum(axis=1)\n\nverses[match_cols].sum()",
   "execution_count": 5,
   "outputs": [
    {
     "output_type": "execute_result",
     "execution_count": 5,
     "data": {
      "text/plain": "Sahih_International_found    28\nYusuf_Ali_found              28\nShakir_found                 23\nMuhammad_Sarwar_found        25\nMohsin_Khan_found            32\ndtype: int64"
     },
     "metadata": {}
    }
   ]
  },
  {
   "cell_type": "code",
   "metadata": {
    "cell_id": "93add6d94ffb4863b7250f3cfd27e074",
    "tags": [],
    "deepnote_to_be_reexecuted": false,
    "source_hash": "dd95968e",
    "execution_start": 1659765684403,
    "execution_millis": 773,
    "deepnote_cell_type": "code",
    "deepnote_cell_height": 439
   },
   "source": "all_true = (verses[match_cols]==True).all(axis=\"columns\")\nat_least_one_true = (verses[match_cols]==True).any(axis=\"columns\")\n\n# Exclude where all are true but include where at least one is True\nexceptions = verses[ ~(all_true) & (at_least_one_true) ]\nexceptions[exceptions.total_found<3]",
   "execution_count": 6,
   "outputs": [
    {
     "output_type": "execute_result",
     "execution_count": 6,
     "data": {
      "application/vnd.deepnote.dataframe.v3+json": {
       "column_count": 19,
       "row_count": 4,
       "columns": [
        {
         "name": "id",
         "dtype": "int64",
         "stats": {
          "unique_count": 4,
          "nan_count": 0,
          "min": "509",
          "max": "652",
          "histogram": [
           {
            "bin_start": 509,
            "bin_end": 523.3,
            "count": 2
           },
           {
            "bin_start": 523.3,
            "bin_end": 537.6,
            "count": 0
           },
           {
            "bin_start": 537.6,
            "bin_end": 551.9,
            "count": 1
           },
           {
            "bin_start": 551.9,
            "bin_end": 566.2,
            "count": 0
           },
           {
            "bin_start": 566.2,
            "bin_end": 580.5,
            "count": 0
           },
           {
            "bin_start": 580.5,
            "bin_end": 594.8,
            "count": 0
           },
           {
            "bin_start": 594.8,
            "bin_end": 609.1,
            "count": 0
           },
           {
            "bin_start": 609.1,
            "bin_end": 623.4,
            "count": 0
           },
           {
            "bin_start": 623.4,
            "bin_end": 637.7,
            "count": 0
           },
           {
            "bin_start": 637.7,
            "bin_end": 652,
            "count": 1
           }
          ]
         }
        },
        {
         "name": "chapter",
         "dtype": "int64",
         "stats": {
          "unique_count": 1,
          "nan_count": 0,
          "min": "4",
          "max": "4",
          "histogram": [
           {
            "bin_start": 3.5,
            "bin_end": 3.6,
            "count": 0
           },
           {
            "bin_start": 3.6,
            "bin_end": 3.7,
            "count": 0
           },
           {
            "bin_start": 3.7,
            "bin_end": 3.8,
            "count": 0
           },
           {
            "bin_start": 3.8,
            "bin_end": 3.9,
            "count": 0
           },
           {
            "bin_start": 3.9,
            "bin_end": 4,
            "count": 0
           },
           {
            "bin_start": 4,
            "bin_end": 4.1,
            "count": 4
           },
           {
            "bin_start": 4.1,
            "bin_end": 4.2,
            "count": 0
           },
           {
            "bin_start": 4.2,
            "bin_end": 4.3,
            "count": 0
           },
           {
            "bin_start": 4.3,
            "bin_end": 4.4,
            "count": 0
           },
           {
            "bin_start": 4.4,
            "bin_end": 4.5,
            "count": 0
           }
          ]
         }
        },
        {
         "name": "verse",
         "dtype": "int64",
         "stats": {
          "unique_count": 4,
          "nan_count": 0,
          "min": "16",
          "max": "159",
          "histogram": [
           {
            "bin_start": 16,
            "bin_end": 30.3,
            "count": 2
           },
           {
            "bin_start": 30.3,
            "bin_end": 44.6,
            "count": 0
           },
           {
            "bin_start": 44.6,
            "bin_end": 58.900000000000006,
            "count": 1
           },
           {
            "bin_start": 58.900000000000006,
            "bin_end": 73.2,
            "count": 0
           },
           {
            "bin_start": 73.2,
            "bin_end": 87.5,
            "count": 0
           },
           {
            "bin_start": 87.5,
            "bin_end": 101.80000000000001,
            "count": 0
           },
           {
            "bin_start": 101.80000000000001,
            "bin_end": 116.10000000000001,
            "count": 0
           },
           {
            "bin_start": 116.10000000000001,
            "bin_end": 130.4,
            "count": 0
           },
           {
            "bin_start": 130.4,
            "bin_end": 144.70000000000002,
            "count": 0
           },
           {
            "bin_start": 144.70000000000002,
            "bin_end": 159,
            "count": 1
           }
          ]
         }
        },
        {
         "name": "Sahih_International",
         "dtype": "object",
         "stats": {
          "unique_count": 4,
          "nan_count": 0,
          "categories": [
           {
            "name": "And the two who commit it among you, dishonor them both. But if they repent and correct themselves, leave them alone. Indeed, Allah is ever Accepting of repentance and Merciful.",
            "count": 1
           },
           {
            "name": "And Allah wants to lighten for you [your difficulties]; and mankind was created weak.",
            "count": 1
           },
           {
            "name": "2 others",
            "count": 2
           }
          ]
         }
        },
        {
         "name": "Yusuf_Ali",
         "dtype": "object",
         "stats": {
          "unique_count": 4,
          "nan_count": 0,
          "categories": [
           {
            "name": "If two men among you are guilty of lewdness, punish them both. If they repent and amend, Leave them alone; for Allah is Oft-returning, Most Merciful.",
            "count": 1
           },
           {
            "name": "Allah doth wish to lighten your (difficulties): For man was created Weak (in flesh).",
            "count": 1
           },
           {
            "name": "2 others",
            "count": 2
           }
          ]
         }
        },
        {
         "name": "Shakir",
         "dtype": "object",
         "stats": {
          "unique_count": 4,
          "nan_count": 0,
          "categories": [
           {
            "name": "And as for the two who are guilty of indecency from among you, give them both a punishment; then if they repent and amend, turn aside from them; surely Allah is Oft-returning (to mercy), the Merciful.",
            "count": 1
           },
           {
            "name": "Allah desires that He should make light your burdens, and man is created weak.",
            "count": 1
           },
           {
            "name": "2 others",
            "count": 2
           }
          ]
         }
        },
        {
         "name": "Muhammad_Sarwar",
         "dtype": "object",
         "stats": {
          "unique_count": 4,
          "nan_count": 0,
          "categories": [
           {
            "name": "If any two people commit fornication, punish them. If they repent and reform, let them go. God is All-forgiving and All-merciful.",
            "count": 1
           },
           {
            "name": "God wants to relieve you of your burden; all human beings were created weak.",
            "count": 1
           },
           {
            "name": "2 others",
            "count": 2
           }
          ]
         }
        },
        {
         "name": "Mohsin_Khan",
         "dtype": "object",
         "stats": {
          "unique_count": 4,
          "nan_count": 0,
          "categories": [
           {
            "name": "And the two persons (man and woman) among you who commit illegal sexual intercourse, punish them both. And if they repent (promise Allah that they will never repeat, i.e. commit illegal sexual intercourse and other similar sins) and do righteous good deeds, leave them alone. Surely, Allah is Ever the One Who accepts repentance, (and He is) Most Merciful.",
            "count": 1
           },
           {
            "name": "Allah wishes to lighten (the burden) for you; and man was created weak (cannot be patient to leave sexual intercourse with woman).",
            "count": 1
           },
           {
            "name": "2 others",
            "count": 2
           }
          ]
         }
        },
        {
         "name": "Sahih_International_tag",
         "dtype": "object",
         "stats": {
          "unique_count": 4,
          "nan_count": 0,
          "categories": [
           {
            "name": "[]",
            "count": 4
           }
          ]
         }
        },
        {
         "name": "Sahih_International_found",
         "dtype": "bool",
         "stats": {
          "unique_count": 1,
          "nan_count": 0,
          "categories": [
           {
            "name": "False",
            "count": 4
           }
          ]
         }
        },
        {
         "name": "Yusuf_Ali_tag",
         "dtype": "object",
         "stats": {
          "unique_count": 4,
          "nan_count": 0,
          "categories": [
           {
            "name": "[]",
            "count": 4
           }
          ]
         }
        },
        {
         "name": "Yusuf_Ali_found",
         "dtype": "bool",
         "stats": {
          "unique_count": 1,
          "nan_count": 0,
          "categories": [
           {
            "name": "False",
            "count": 4
           }
          ]
         }
        },
        {
         "name": "Shakir_tag",
         "dtype": "object",
         "stats": {
          "unique_count": 4,
          "nan_count": 0,
          "categories": [
           {
            "name": "[]",
            "count": 4
           }
          ]
         }
        },
        {
         "name": "Shakir_found",
         "dtype": "bool",
         "stats": {
          "unique_count": 1,
          "nan_count": 0,
          "categories": [
           {
            "name": "False",
            "count": 4
           }
          ]
         }
        },
        {
         "name": "Muhammad_Sarwar_tag",
         "dtype": "object",
         "stats": {
          "unique_count": 4,
          "nan_count": 0,
          "categories": [
           {
            "name": "[]",
            "count": 4
           }
          ]
         }
        },
        {
         "name": "Muhammad_Sarwar_found",
         "dtype": "bool",
         "stats": {
          "unique_count": 1,
          "nan_count": 0,
          "categories": [
           {
            "name": "False",
            "count": 4
           }
          ]
         }
        },
        {
         "name": "Mohsin_Khan_tag",
         "dtype": "object",
         "stats": {
          "unique_count": 4,
          "nan_count": 0,
          "categories": [
           {
            "name": "['woman']",
            "count": 2
           },
           {
            "name": "['wives']",
            "count": 1
           },
           {
            "name": "['maryam', 'mary']",
            "count": 1
           }
          ]
         }
        },
        {
         "name": "Mohsin_Khan_found",
         "dtype": "bool",
         "stats": {
          "unique_count": 1,
          "nan_count": 0,
          "categories": [
           {
            "name": "True",
            "count": 4
           }
          ]
         }
        },
        {
         "name": "total_found",
         "dtype": "int64",
         "stats": {
          "unique_count": 1,
          "nan_count": 0,
          "min": "1",
          "max": "1",
          "histogram": [
           {
            "bin_start": 0.5,
            "bin_end": 0.6,
            "count": 0
           },
           {
            "bin_start": 0.6,
            "bin_end": 0.7,
            "count": 0
           },
           {
            "bin_start": 0.7,
            "bin_end": 0.8,
            "count": 0
           },
           {
            "bin_start": 0.8,
            "bin_end": 0.9,
            "count": 0
           },
           {
            "bin_start": 0.9,
            "bin_end": 1,
            "count": 0
           },
           {
            "bin_start": 1,
            "bin_end": 1.1,
            "count": 4
           },
           {
            "bin_start": 1.1,
            "bin_end": 1.2000000000000002,
            "count": 0
           },
           {
            "bin_start": 1.2000000000000002,
            "bin_end": 1.3,
            "count": 0
           },
           {
            "bin_start": 1.3,
            "bin_end": 1.4,
            "count": 0
           },
           {
            "bin_start": 1.4,
            "bin_end": 1.5,
            "count": 0
           }
          ]
         }
        },
        {
         "name": "_deepnote_index_column",
         "dtype": "int64"
        }
       ],
       "rows": [
        {
         "id": 509,
         "chapter": 4,
         "verse": 16,
         "Sahih_International": "And the two who commit it among you, dishonor them both. But if they repent and correct themselves, leave them alone. Indeed, Allah is ever Accepting of repentance and Merciful.",
         "Yusuf_Ali": "If two men among you are guilty of lewdness, punish them both. If they repent and amend, Leave them alone; for Allah is Oft-returning, Most Merciful.",
         "Shakir": "And as for the two who are guilty of indecency from among you, give them both a punishment; then if they repent and amend, turn aside from them; surely Allah is Oft-returning (to mercy), the Merciful.",
         "Muhammad_Sarwar": "If any two people commit fornication, punish them. If they repent and reform, let them go. God is All-forgiving and All-merciful.",
         "Mohsin_Khan": "And the two persons (man and woman) among you who commit illegal sexual intercourse, punish them both. And if they repent (promise Allah that they will never repeat, i.e. commit illegal sexual intercourse and other similar sins) and do righteous good deeds, leave them alone. Surely, Allah is Ever the One Who accepts repentance, (and He is) Most Merciful.",
         "Sahih_International_tag": "[]",
         "Sahih_International_found": false,
         "Yusuf_Ali_tag": "[]",
         "Yusuf_Ali_found": false,
         "Shakir_tag": "[]",
         "Shakir_found": false,
         "Muhammad_Sarwar_tag": "[]",
         "Muhammad_Sarwar_found": false,
         "Mohsin_Khan_tag": "['woman']",
         "Mohsin_Khan_found": true,
         "total_found": 1,
         "_deepnote_index_column": 508
        },
        {
         "id": 521,
         "chapter": 4,
         "verse": 28,
         "Sahih_International": "And Allah wants to lighten for you [your difficulties]; and mankind was created weak.",
         "Yusuf_Ali": "Allah doth wish to lighten your (difficulties): For man was created Weak (in flesh).",
         "Shakir": "Allah desires that He should make light your burdens, and man is created weak.",
         "Muhammad_Sarwar": "God wants to relieve you of your burden; all human beings were created weak.",
         "Mohsin_Khan": "Allah wishes to lighten (the burden) for you; and man was created weak (cannot be patient to leave sexual intercourse with woman).",
         "Sahih_International_tag": "[]",
         "Sahih_International_found": false,
         "Yusuf_Ali_tag": "[]",
         "Yusuf_Ali_found": false,
         "Shakir_tag": "[]",
         "Shakir_found": false,
         "Muhammad_Sarwar_tag": "[]",
         "Muhammad_Sarwar_found": false,
         "Mohsin_Khan_tag": "['woman']",
         "Mohsin_Khan_found": true,
         "total_found": 1,
         "_deepnote_index_column": 520
        },
        {
         "id": 550,
         "chapter": 4,
         "verse": 57,
         "Sahih_International": "But those who believe and do righteous deeds - We will admit them to gardens beneath which rivers flow, wherein they abide forever. For them therein are purified spouses, and We will admit them to deepening shade.",
         "Yusuf_Ali": "But those who believe and do deeds of righteousness, We shall soon admit to Gardens, with rivers flowing beneath,- their eternal home: Therein shall they have companions pure and holy: We shall admit them to shades, cool and ever deepening.",
         "Shakir": "And (as for) those who believe and do good deeds, We will make them enter gardens beneath which rivers flow, to abide in them for ever; they shall have therein pure mates, and We shall make them enter a dense shade.",
         "Muhammad_Sarwar": "We will admit the righteously striving believers into the gardens wherein streams flow. They will live therein forever in a cool shade with their pure spouses.",
         "Mohsin_Khan": "But those who believe (in the Oneness of Allah - Islamic Monotheism) and do deeds of righteousness, We shall admit them to Gardens under which rivers flow (Paradise), abiding therein forever. Therein they shall have Azwajun Mutahharatun [purified mates or wives (having no menses, stools, urine, etc.)] and We shall admit them to shades wide and ever deepening (Paradise).",
         "Sahih_International_tag": "[]",
         "Sahih_International_found": false,
         "Yusuf_Ali_tag": "[]",
         "Yusuf_Ali_found": false,
         "Shakir_tag": "[]",
         "Shakir_found": false,
         "Muhammad_Sarwar_tag": "[]",
         "Muhammad_Sarwar_found": false,
         "Mohsin_Khan_tag": "['wives']",
         "Mohsin_Khan_found": true,
         "total_found": 1,
         "_deepnote_index_column": 549
        },
        {
         "id": 652,
         "chapter": 4,
         "verse": 159,
         "Sahih_International": "And there is none from the People of the Scripture but that he will surely believe in Jesus before his death. And on the Day of Resurrection he will be against them a witness.",
         "Yusuf_Ali": "And there is none of the People of the Book but must believe in him before his death; and on the Day of Judgment he will be a witness against them;-",
         "Shakir": "And there is not one of the followers of the Book but most certainly believes in this before his death, and on the day of resurrection he (Isa) shall be a witness against them.",
         "Muhammad_Sarwar": "There will be no one among the People of the Book who will not believe (a belief of no value) in him (Jesus) before their deaths. On the Day of Judgment, (Jesus) will testify against them.",
         "Mohsin_Khan": "And there is none of the people of the Scripture (Jews and Christians), but must believe in him ['Iesa (Jesus), son of Maryam (Mary), as only a Messenger of Allah and a human being], before his ['Iesa (Jesus) or a Jew's or a Christian's] death (at the time of the appearance of the angel of death). And on the Day of Resurrection, he ['Iesa (Jesus)] will be a witness against them.",
         "Sahih_International_tag": "[]",
         "Sahih_International_found": false,
         "Yusuf_Ali_tag": "[]",
         "Yusuf_Ali_found": false,
         "Shakir_tag": "[]",
         "Shakir_found": false,
         "Muhammad_Sarwar_tag": "[]",
         "Muhammad_Sarwar_found": false,
         "Mohsin_Khan_tag": "['maryam', 'mary']",
         "Mohsin_Khan_found": true,
         "total_found": 1,
         "_deepnote_index_column": 651
        }
       ]
      },
      "text/plain": "      id  chapter  verse                                Sahih_International  \\\n508  509        4     16  And the two who commit it among you, dishonor ...   \n520  521        4     28  And Allah wants to lighten for you [your diffi...   \n549  550        4     57  But those who believe and do righteous deeds -...   \n651  652        4    159  And there is none from the People of the Scrip...   \n\n                                             Yusuf_Ali  \\\n508  If two men among you are guilty of lewdness, p...   \n520  Allah doth wish to lighten your (difficulties)...   \n549  But those who believe and do deeds of righteou...   \n651  And there is none of the People of the Book bu...   \n\n                                                Shakir  \\\n508  And as for the two who are guilty of indecency...   \n520  Allah desires that He should make light your b...   \n549  And (as for) those who believe and do good dee...   \n651  And there is not one of the followers of the B...   \n\n                                       Muhammad_Sarwar  \\\n508  If any two people commit fornication, punish t...   \n520  God wants to relieve you of your burden; all h...   \n549  We will admit the righteously striving believe...   \n651  There will be no one among the People of the B...   \n\n                                           Mohsin_Khan  \\\n508  And the two persons (man and woman) among you ...   \n520  Allah wishes to lighten (the burden) for you; ...   \n549  But those who believe (in the Oneness of Allah...   \n651  And there is none of the people of the Scriptu...   \n\n    Sahih_International_tag  Sahih_International_found Yusuf_Ali_tag  \\\n508                      []                      False            []   \n520                      []                      False            []   \n549                      []                      False            []   \n651                      []                      False            []   \n\n     Yusuf_Ali_found Shakir_tag  Shakir_found Muhammad_Sarwar_tag  \\\n508            False         []         False                  []   \n520            False         []         False                  []   \n549            False         []         False                  []   \n651            False         []         False                  []   \n\n     Muhammad_Sarwar_found Mohsin_Khan_tag  Mohsin_Khan_found  total_found  \n508                  False         [woman]               True            1  \n520                  False         [woman]               True            1  \n549                  False         [wives]               True            1  \n651                  False  [maryam, mary]               True            1  ",
      "text/html": "<div>\n<style scoped>\n    .dataframe tbody tr th:only-of-type {\n        vertical-align: middle;\n    }\n\n    .dataframe tbody tr th {\n        vertical-align: top;\n    }\n\n    .dataframe thead th {\n        text-align: right;\n    }\n</style>\n<table border=\"1\" class=\"dataframe\">\n  <thead>\n    <tr style=\"text-align: right;\">\n      <th></th>\n      <th>id</th>\n      <th>chapter</th>\n      <th>verse</th>\n      <th>Sahih_International</th>\n      <th>Yusuf_Ali</th>\n      <th>Shakir</th>\n      <th>Muhammad_Sarwar</th>\n      <th>Mohsin_Khan</th>\n      <th>Sahih_International_tag</th>\n      <th>Sahih_International_found</th>\n      <th>Yusuf_Ali_tag</th>\n      <th>Yusuf_Ali_found</th>\n      <th>Shakir_tag</th>\n      <th>Shakir_found</th>\n      <th>Muhammad_Sarwar_tag</th>\n      <th>Muhammad_Sarwar_found</th>\n      <th>Mohsin_Khan_tag</th>\n      <th>Mohsin_Khan_found</th>\n      <th>total_found</th>\n    </tr>\n  </thead>\n  <tbody>\n    <tr>\n      <th>508</th>\n      <td>509</td>\n      <td>4</td>\n      <td>16</td>\n      <td>And the two who commit it among you, dishonor ...</td>\n      <td>If two men among you are guilty of lewdness, p...</td>\n      <td>And as for the two who are guilty of indecency...</td>\n      <td>If any two people commit fornication, punish t...</td>\n      <td>And the two persons (man and woman) among you ...</td>\n      <td>[]</td>\n      <td>False</td>\n      <td>[]</td>\n      <td>False</td>\n      <td>[]</td>\n      <td>False</td>\n      <td>[]</td>\n      <td>False</td>\n      <td>[woman]</td>\n      <td>True</td>\n      <td>1</td>\n    </tr>\n    <tr>\n      <th>520</th>\n      <td>521</td>\n      <td>4</td>\n      <td>28</td>\n      <td>And Allah wants to lighten for you [your diffi...</td>\n      <td>Allah doth wish to lighten your (difficulties)...</td>\n      <td>Allah desires that He should make light your b...</td>\n      <td>God wants to relieve you of your burden; all h...</td>\n      <td>Allah wishes to lighten (the burden) for you; ...</td>\n      <td>[]</td>\n      <td>False</td>\n      <td>[]</td>\n      <td>False</td>\n      <td>[]</td>\n      <td>False</td>\n      <td>[]</td>\n      <td>False</td>\n      <td>[woman]</td>\n      <td>True</td>\n      <td>1</td>\n    </tr>\n    <tr>\n      <th>549</th>\n      <td>550</td>\n      <td>4</td>\n      <td>57</td>\n      <td>But those who believe and do righteous deeds -...</td>\n      <td>But those who believe and do deeds of righteou...</td>\n      <td>And (as for) those who believe and do good dee...</td>\n      <td>We will admit the righteously striving believe...</td>\n      <td>But those who believe (in the Oneness of Allah...</td>\n      <td>[]</td>\n      <td>False</td>\n      <td>[]</td>\n      <td>False</td>\n      <td>[]</td>\n      <td>False</td>\n      <td>[]</td>\n      <td>False</td>\n      <td>[wives]</td>\n      <td>True</td>\n      <td>1</td>\n    </tr>\n    <tr>\n      <th>651</th>\n      <td>652</td>\n      <td>4</td>\n      <td>159</td>\n      <td>And there is none from the People of the Scrip...</td>\n      <td>And there is none of the People of the Book bu...</td>\n      <td>And there is not one of the followers of the B...</td>\n      <td>There will be no one among the People of the B...</td>\n      <td>And there is none of the people of the Scriptu...</td>\n      <td>[]</td>\n      <td>False</td>\n      <td>[]</td>\n      <td>False</td>\n      <td>[]</td>\n      <td>False</td>\n      <td>[]</td>\n      <td>False</td>\n      <td>[maryam, mary]</td>\n      <td>True</td>\n      <td>1</td>\n    </tr>\n  </tbody>\n</table>\n</div>"
     },
     "metadata": {}
    }
   ]
  },
  {
   "cell_type": "code",
   "metadata": {
    "cell_id": "898a1f0f2715452fb8325ce56d74e8a4",
    "tags": [],
    "deepnote_to_be_reexecuted": false,
    "source_hash": "3347134d",
    "execution_start": 1659765684420,
    "execution_millis": 5,
    "deepnote_cell_type": "code",
    "deepnote_cell_height": 310
   },
   "source": "# Reviewing the exceptions:\n# 4:159 NO: used 'Mary' to refernce Jesus (son of Mary)\n# 4:57 YES: this is a controversial verse, we will flag this \n# 4:28 NO: used as reference to man\n# 4:16 YES: this is a controversial verse, we will flag this \n\nverses['women_mentioned'] = verses['total_found'].apply(lambda x: True if x > 2 else False)\nverses['controversial'] = False\n\nverses.loc[verses.verse==57, 'women_mentioned'] = True\nverses.loc[verses.verse==57, 'controversial'] = True\n\nverses.loc[verses.verse==16, 'women_mentioned'] = True\nverses.loc[verses.verse==16, 'controversial'] = True",
   "execution_count": 7,
   "outputs": []
  },
  {
   "cell_type": "code",
   "metadata": {
    "cell_id": "90d688bf96b446acb026b0e44fc31b1f",
    "tags": [],
    "deepnote_to_be_reexecuted": false,
    "source_hash": "21b4d294",
    "execution_start": 1659765684428,
    "execution_millis": 750,
    "deepnote_cell_type": "code",
    "deepnote_cell_height": 170.75,
    "deepnote_output_heights": [
     78.75
    ]
   },
   "source": "verses.groupby('women_mentioned').size()",
   "execution_count": 8,
   "outputs": [
    {
     "output_type": "execute_result",
     "execution_count": 8,
     "data": {
      "text/plain": "women_mentioned\nFalse    146\nTrue      30\ndtype: int64"
     },
     "metadata": {}
    }
   ]
  },
  {
   "cell_type": "code",
   "metadata": {
    "cell_id": "8e8775f74fab4a9cbf9a07d5a88bb0e6",
    "tags": [],
    "deepnote_to_be_reexecuted": false,
    "source_hash": "ecf24240",
    "execution_start": 1659765684441,
    "execution_millis": 1123,
    "deepnote_cell_type": "code",
    "deepnote_cell_height": 393.1875,
    "deepnote_output_heights": [
     21.1875,
     249
    ]
   },
   "source": "verses.groupby('women_mentioned').count().plot(kind='pie', y='verse', autopct='%1.0f%%', title='Women Mentioned')",
   "execution_count": 9,
   "outputs": [
    {
     "output_type": "execute_result",
     "execution_count": 9,
     "data": {
      "text/plain": "<AxesSubplot:title={'center':'Women Mentioned'}, ylabel='verse'>"
     },
     "metadata": {}
    },
    {
     "data": {
      "text/plain": "<Figure size 432x288 with 1 Axes>",
      "image/png": "[encoded data removed]"
     },
     "metadata": {
      "image/png": {
       "width": 249,
       "height": 247
      }
     },
     "output_type": "display_data"
    }
   ]
  },
  {
   "cell_type": "code",
   "metadata": {
    "cell_id": "85bfd3fac5eb4bb58c6467b3072ae5ec",
    "tags": [],
    "deepnote_to_be_reexecuted": false,
    "source_hash": "8951017d",
    "execution_start": 1659765685573,
    "execution_millis": 120,
    "deepnote_cell_type": "code",
    "deepnote_cell_height": 595
   },
   "source": "verses[verses.women_mentioned==True]",
   "execution_count": 10,
   "outputs": [
    {
     "output_type": "execute_result",
     "execution_count": 10,
     "data": {
      "application/vnd.deepnote.dataframe.v3+json": {
       "column_count": 21,
       "row_count": 30,
       "columns": [
        {
         "name": "id",
         "dtype": "int64",
         "stats": {
          "unique_count": 30,
          "nan_count": 0,
          "min": "494",
          "max": "669",
          "histogram": [
           {
            "bin_start": 494,
            "bin_end": 511.5,
            "count": 8
           },
           {
            "bin_start": 511.5,
            "bin_end": 529,
            "count": 9
           },
           {
            "bin_start": 529,
            "bin_end": 546.5,
            "count": 1
           },
           {
            "bin_start": 546.5,
            "bin_end": 564,
            "count": 1
           },
           {
            "bin_start": 564,
            "bin_end": 581.5,
            "count": 1
           },
           {
            "bin_start": 581.5,
            "bin_end": 599,
            "count": 1
           },
           {
            "bin_start": 599,
            "bin_end": 616.5,
            "count": 1
           },
           {
            "bin_start": 616.5,
            "bin_end": 634,
            "count": 4
           },
           {
            "bin_start": 634,
            "bin_end": 651.5,
            "count": 2
           },
           {
            "bin_start": 651.5,
            "bin_end": 669,
            "count": 2
           }
          ]
         }
        },
        {
         "name": "chapter",
         "dtype": "int64",
         "stats": {
          "unique_count": 1,
          "nan_count": 0,
          "min": "4",
          "max": "4",
          "histogram": [
           {
            "bin_start": 3.5,
            "bin_end": 3.6,
            "count": 0
           },
           {
            "bin_start": 3.6,
            "bin_end": 3.7,
            "count": 0
           },
           {
            "bin_start": 3.7,
            "bin_end": 3.8,
            "count": 0
           },
           {
            "bin_start": 3.8,
            "bin_end": 3.9,
            "count": 0
           },
           {
            "bin_start": 3.9,
            "bin_end": 4,
            "count": 0
           },
           {
            "bin_start": 4,
            "bin_end": 4.1,
            "count": 30
           },
           {
            "bin_start": 4.1,
            "bin_end": 4.2,
            "count": 0
           },
           {
            "bin_start": 4.2,
            "bin_end": 4.3,
            "count": 0
           },
           {
            "bin_start": 4.3,
            "bin_end": 4.4,
            "count": 0
           },
           {
            "bin_start": 4.4,
            "bin_end": 4.5,
            "count": 0
           }
          ]
         }
        },
        {
         "name": "verse",
         "dtype": "int64",
         "stats": {
          "unique_count": 30,
          "nan_count": 0,
          "min": "1",
          "max": "176",
          "histogram": [
           {
            "bin_start": 1,
            "bin_end": 18.5,
            "count": 8
           },
           {
            "bin_start": 18.5,
            "bin_end": 36,
            "count": 9
           },
           {
            "bin_start": 36,
            "bin_end": 53.5,
            "count": 1
           },
           {
            "bin_start": 53.5,
            "bin_end": 71,
            "count": 1
           },
           {
            "bin_start": 71,
            "bin_end": 88.5,
            "count": 1
           },
           {
            "bin_start": 88.5,
            "bin_end": 106,
            "count": 1
           },
           {
            "bin_start": 106,
            "bin_end": 123.5,
            "count": 1
           },
           {
            "bin_start": 123.5,
            "bin_end": 141,
            "count": 4
           },
           {
            "bin_start": 141,
            "bin_end": 158.5,
            "count": 2
           },
           {
            "bin_start": 158.5,
            "bin_end": 176,
            "count": 2
           }
          ]
         }
        },
        {
         "name": "Sahih_International",
         "dtype": "object",
         "stats": {
          "unique_count": 30,
          "nan_count": 0,
          "categories": [
           {
            "name": "O mankind, fear your Lord, who created you from one soul and created from it its mate and dispersed from both of them many men and women. And fear Allah , through whom you ask one another, and the wombs. Indeed Allah is ever, over you, an Observer.",
            "count": 1
           },
           {
            "name": "And if you fear that you will not deal justly with the orphan girls, then marry those that please you of [other] women, two or three or four. But if you fear that you will not be just, then [marry only] one or those your right hand possesses. That is more suitable that you may not incline [to injustice].",
            "count": 1
           },
           {
            "name": "28 others",
            "count": 28
           }
          ]
         }
        },
        {
         "name": "Yusuf_Ali",
         "dtype": "object",
         "stats": {
          "unique_count": 30,
          "nan_count": 0,
          "categories": [
           {
            "name": "O mankind! reverence your Guardian-Lord, who created you from a single person, created, of like nature, His mate, and from them twain scattered (like seeds) countless men and women;- reverence Allah, through whom ye demand your mutual (rights), and (reverence) the wombs (That bore you): for Allah ever watches over you.",
            "count": 1
           },
           {
            "name": "If ye fear that ye shall not be able to deal justly with the orphans, Marry women of your choice, Two or three or four; but if ye fear that ye shall not be able to deal justly (with them), then only one, or (a captive) that your right hands possess, that will be more suitable, to prevent you from doing injustice.",
            "count": 1
           },
           {
            "name": "28 others",
            "count": 28
           }
          ]
         }
        },
        {
         "name": "Shakir",
         "dtype": "object",
         "stats": {
          "unique_count": 30,
          "nan_count": 0,
          "categories": [
           {
            "name": "O people! be careful of (your duty to) your Lord, Who created you from a single being and created its mate of the same (kind) and spread from these two, many men and women; and be careful of (your duty to) Allah, by Whom you demand one of another (your rights), and (to) the ties of relationship; surely Allah ever watches over you.",
            "count": 1
           },
           {
            "name": "And if you fear that you cannot act equitably towards orphans, then marry such women as seem good to you, two and three and four; but if you fear that you will not do justice (between them), then (marry) only one or what your right hands possess; this is more proper, that you may not deviate from the right course.",
            "count": 1
           },
           {
            "name": "28 others",
            "count": 28
           }
          ]
         }
        },
        {
         "name": "Muhammad_Sarwar",
         "dtype": "object",
         "stats": {
          "unique_count": 30,
          "nan_count": 0,
          "categories": [
           {
            "name": "People, have fear of your Lord who has created you from a single soul. From it He created your spouse and through them He populated the land with many men and women. Have fear of the One by whose Name you swear to settle your differences and have respect for your relatives. God certainly keeps watch over you.",
            "count": 1
           },
           {
            "name": "With respect to marrying widows, if you are afraid of not being able to maintain justice with her children, marry another woman of your choice or two or three or four (who have no children). If you cannot maintain equality with more than one wife, marry only one or your slave-girl. This keeps you from acting against justice.",
            "count": 1
           },
           {
            "name": "28 others",
            "count": 28
           }
          ]
         }
        },
        {
         "name": "Mohsin_Khan",
         "dtype": "object",
         "stats": {
          "unique_count": 30,
          "nan_count": 0,
          "categories": [
           {
            "name": "O mankind! Be dutiful to your Lord, Who created you from a single person (Adam), and from him (Adam) He created his wife [Hawwa (Eve)], and from them both He created many men and women and fear Allah through Whom you demand your mutual (rights), and (do not cut the relations of) the wombs (kinship). Surely, Allah is Ever an All­Watcher over you.",
            "count": 1
           },
           {
            "name": "And if you fear that you shall not be able to deal justly with the orphan­girls, then marry (other) women of your choice, two or three, or four but if you fear that you shall not be able to deal justly (with them), then only one or (the captives and the slaves) that your right hands possess. That is nearer to prevent you from doing injustice.",
            "count": 1
           },
           {
            "name": "28 others",
            "count": 28
           }
          ]
         }
        },
        {
         "name": "Sahih_International_tag",
         "dtype": "object",
         "stats": {
          "unique_count": 30,
          "nan_count": 0,
          "categories": [
           {
            "name": "['women']",
            "count": 14
           },
           {
            "name": "['mary']",
            "count": 3
           },
           {
            "name": "11 others",
            "count": 13
           }
          ]
         }
        },
        {
         "name": "Sahih_International_found",
         "dtype": "bool",
         "stats": {
          "unique_count": 2,
          "nan_count": 0,
          "categories": [
           {
            "name": "True",
            "count": 28
           },
           {
            "name": "False",
            "count": 2
           }
          ]
         }
        },
        {
         "name": "Yusuf_Ali_tag",
         "dtype": "object",
         "stats": {
          "unique_count": 30,
          "nan_count": 0,
          "categories": [
           {
            "name": "['women']",
            "count": 15
           },
           {
            "name": "['mary']",
            "count": 3
           },
           {
            "name": "10 others",
            "count": 12
           }
          ]
         }
        },
        {
         "name": "Yusuf_Ali_found",
         "dtype": "bool",
         "stats": {
          "unique_count": 2,
          "nan_count": 0,
          "categories": [
           {
            "name": "True",
            "count": 28
           },
           {
            "name": "False",
            "count": 2
           }
          ]
         }
        },
        {
         "name": "Shakir_tag",
         "dtype": "object",
         "stats": {
          "unique_count": 30,
          "nan_count": 0,
          "categories": [
           {
            "name": "['women']",
            "count": 12
           },
           {
            "name": "[]",
            "count": 7
           },
           {
            "name": "11 others",
            "count": 11
           }
          ]
         }
        },
        {
         "name": "Shakir_found",
         "dtype": "bool",
         "stats": {
          "unique_count": 2,
          "nan_count": 0,
          "categories": [
           {
            "name": "True",
            "count": 23
           },
           {
            "name": "False",
            "count": 7
           }
          ]
         }
        },
        {
         "name": "Muhammad_Sarwar_tag",
         "dtype": "object",
         "stats": {
          "unique_count": 30,
          "nan_count": 0,
          "categories": [
           {
            "name": "['women']",
            "count": 9
           },
           {
            "name": "[]",
            "count": 5
           },
           {
            "name": "12 others",
            "count": 16
           }
          ]
         }
        },
        {
         "name": "Muhammad_Sarwar_found",
         "dtype": "bool",
         "stats": {
          "unique_count": 2,
          "nan_count": 0,
          "categories": [
           {
            "name": "True",
            "count": 25
           },
           {
            "name": "False",
            "count": 5
           }
          ]
         }
        },
        {
         "name": "Mohsin_Khan_tag",
         "dtype": "object",
         "stats": {
          "unique_count": 30,
          "nan_count": 0,
          "categories": [
           {
            "name": "['women']",
            "count": 12
           },
           {
            "name": "['women', 'wife']",
            "count": 2
           },
           {
            "name": "14 others",
            "count": 16
           }
          ]
         }
        },
        {
         "name": "Mohsin_Khan_found",
         "dtype": "bool",
         "stats": {
          "unique_count": 1,
          "nan_count": 0,
          "categories": [
           {
            "name": "True",
            "count": 30
           }
          ]
         }
        },
        {
         "name": "total_found",
         "dtype": "int64",
         "stats": {
          "unique_count": 4,
          "nan_count": 0,
          "min": "1",
          "max": "5",
          "histogram": [
           {
            "bin_start": 1,
            "bin_end": 1.4,
            "count": 2
           },
           {
            "bin_start": 1.4,
            "bin_end": 1.8,
            "count": 0
           },
           {
            "bin_start": 1.8,
            "bin_end": 2.2,
            "count": 0
           },
           {
            "bin_start": 2.2,
            "bin_end": 2.6,
            "count": 0
           },
           {
            "bin_start": 2.6,
            "bin_end": 3,
            "count": 0
           },
           {
            "bin_start": 3,
            "bin_end": 3.4000000000000004,
            "count": 1
           },
           {
            "bin_start": 3.4000000000000004,
            "bin_end": 3.8000000000000003,
            "count": 0
           },
           {
            "bin_start": 3.8000000000000003,
            "bin_end": 4.2,
            "count": 6
           },
           {
            "bin_start": 4.2,
            "bin_end": 4.6,
            "count": 0
           },
           {
            "bin_start": 4.6,
            "bin_end": 5,
            "count": 21
           }
          ]
         }
        },
        {
         "name": "women_mentioned",
         "dtype": "bool",
         "stats": {
          "unique_count": 1,
          "nan_count": 0,
          "categories": [
           {
            "name": "True",
            "count": 30
           }
          ]
         }
        },
        {
         "name": "controversial",
         "dtype": "bool",
         "stats": {
          "unique_count": 2,
          "nan_count": 0,
          "categories": [
           {
            "name": "False",
            "count": 28
           },
           {
            "name": "True",
            "count": 2
           }
          ]
         }
        },
        {
         "name": "_deepnote_index_column",
         "dtype": "int64"
        }
       ],
       "rows": [
        {
         "id": 494,
         "chapter": 4,
         "verse": 1,
         "Sahih_International": "O mankind, fear your Lord, who created you from one soul and created from it its mate and dispersed from both of them many men and women. And fear Allah , through whom you ask one another, and the wombs. Indeed Allah is ever, over you, an Observer.",
         "Yusuf_Ali": "O mankind! reverence your Guardian-Lord, who created you from a single person, created, of like nature, His mate, and from them twain scattered (like seeds) countless men and women;- reverence Allah, through whom ye demand your mutual (rights), and (reverence) the wombs (That bore you): for Allah ever watches over you.",
         "Shakir": "O people! be careful of (your duty to) your Lord, Who created you from a single being and created its mate of the same (kind) and spread from these two, many men and women; and be careful of (your duty to) Allah, by Whom you demand one of another (your rights), and (to) the ties of relationship; surely Allah ever watches over you.",
         "Muhammad_Sarwar": "People, have fear of your Lord who has created you from a single soul. From it He created your spouse and through them He populated the land with many men and women. Have fear of the One by whose Name you swear to settle your differences and have respect for your relatives. God certainly keeps watch over you.",
         "Mohsin_Khan": "O mankind! Be dutiful to your Lord, Who created you from a single person (Adam), and from him (Adam) He created his wife [Hawwa (Eve)], and from them both He created many men and women and fear Allah through Whom you demand your mutual (rights), and (do not cut the relations of) the wombs (kinship). Surely, Allah is Ever an All­Watcher over you.",
         "Sahih_International_tag": "['women']",
         "Sahih_International_found": true,
         "Yusuf_Ali_tag": "['women']",
         "Yusuf_Ali_found": true,
         "Shakir_tag": "['women']",
         "Shakir_found": true,
         "Muhammad_Sarwar_tag": "['women']",
         "Muhammad_Sarwar_found": true,
         "Mohsin_Khan_tag": "['women', 'eve', 'wife']",
         "Mohsin_Khan_found": true,
         "total_found": 5,
         "women_mentioned": true,
         "controversial": false,
         "_deepnote_index_column": 493
        },
        {
         "id": 496,
         "chapter": 4,
         "verse": 3,
         "Sahih_International": "And if you fear that you will not deal justly with the orphan girls, then marry those that please you of [other] women, two or three or four. But if you fear that you will not be just, then [marry only] one or those your right hand possesses. That is more suitable that you may not incline [to injustice].",
         "Yusuf_Ali": "If ye fear that ye shall not be able to deal justly with the orphans, Marry women of your choice, Two or three or four; but if ye fear that ye shall not be able to deal justly (with them), then only one, or (a captive) that your right hands possess, that will be more suitable, to prevent you from doing injustice.",
         "Shakir": "And if you fear that you cannot act equitably towards orphans, then marry such women as seem good to you, two and three and four; but if you fear that you will not do justice (between them), then (marry) only one or what your right hands possess; this is more proper, that you may not deviate from the right course.",
         "Muhammad_Sarwar": "With respect to marrying widows, if you are afraid of not being able to maintain justice with her children, marry another woman of your choice or two or three or four (who have no children). If you cannot maintain equality with more than one wife, marry only one or your slave-girl. This keeps you from acting against justice.",
         "Mohsin_Khan": "And if you fear that you shall not be able to deal justly with the orphan­girls, then marry (other) women of your choice, two or three, or four but if you fear that you shall not be able to deal justly (with them), then only one or (the captives and the slaves) that your right hands possess. That is nearer to prevent you from doing injustice.",
         "Sahih_International_tag": "['women']",
         "Sahih_International_found": true,
         "Yusuf_Ali_tag": "['women']",
         "Yusuf_Ali_found": true,
         "Shakir_tag": "['women']",
         "Shakir_found": true,
         "Muhammad_Sarwar_tag": "['her', 'woman', 'wife']",
         "Muhammad_Sarwar_found": true,
         "Mohsin_Khan_tag": "['women']",
         "Mohsin_Khan_found": true,
         "total_found": 5,
         "women_mentioned": true,
         "controversial": false,
         "_deepnote_index_column": 495
        },
        {
         "id": 497,
         "chapter": 4,
         "verse": 4,
         "Sahih_International": "And give the women [upon marriage] their [bridal] gifts graciously. But if they give up willingly to you anything of it, then take it in satisfaction and ease.",
         "Yusuf_Ali": "And give the women (on marriage) their dower as a free gift; but if they, of their own good pleasure, remit any part of it to you, Take it and enjoy it with right good cheer.",
         "Shakir": "And give women their dowries as a free gift, but if they of themselves be pleased to give up to you a portion of it, then eat it with enjoyment and with wholesome result.",
         "Muhammad_Sarwar": "Pay the women their dowry as though it were a gift. However, if they allow you to keep a part of it as a favor to you, you may spend it with pleasure.",
         "Mohsin_Khan": "And give to the women (whom you marry) their Mahr (obligatory bridal money given by the husband to his wife at the time of marriage) with a good heart, but if they, of their own good pleasure, remit any part of it to you, take it, and enjoy it without fear of any harm (as Allah has made it lawful).",
         "Sahih_International_tag": "['women']",
         "Sahih_International_found": true,
         "Yusuf_Ali_tag": "['women']",
         "Yusuf_Ali_found": true,
         "Shakir_tag": "['women']",
         "Shakir_found": true,
         "Muhammad_Sarwar_tag": "['women']",
         "Muhammad_Sarwar_found": true,
         "Mohsin_Khan_tag": "['women', 'wife']",
         "Mohsin_Khan_found": true,
         "total_found": 5,
         "women_mentioned": true,
         "controversial": false,
         "_deepnote_index_column": 496
        },
        {
         "id": 500,
         "chapter": 4,
         "verse": 7,
         "Sahih_International": "For men is a share of what the parents and close relatives leave, and for women is a share of what the parents and close relatives leave, be it little or much - an obligatory share.",
         "Yusuf_Ali": "From what is left by parents and those nearest related there is a share for men and a share for women, whether the property be small or large,-a determinate share.",
         "Shakir": "Men shall have a portion of what the parents and the near relatives leave, and women shall have a portion of what the parents and the near relatives leave, whether there is little or much of it; a stated portion.",
         "Muhammad_Sarwar": "Male and female are entitled to their legal share in the legacy of their parents and relatives, whether it be small or large.",
         "Mohsin_Khan": "There is a share for men and a share for women from what is left by parents and those nearest related, whether, the property be small or large - a legal share.",
         "Sahih_International_tag": "['women']",
         "Sahih_International_found": true,
         "Yusuf_Ali_tag": "['women']",
         "Yusuf_Ali_found": true,
         "Shakir_tag": "['women']",
         "Shakir_found": true,
         "Muhammad_Sarwar_tag": "['female']",
         "Muhammad_Sarwar_found": true,
         "Mohsin_Khan_tag": "['women']",
         "Mohsin_Khan_found": true,
         "total_found": 5,
         "women_mentioned": true,
         "controversial": false,
         "_deepnote_index_column": 499
        },
        {
         "id": 504,
         "chapter": 4,
         "verse": 11,
         "Sahih_International": "Allah instructs you concerning your children: for the male, what is equal to the share of two females. But if there are [only] daughters, two or more, for them is two thirds of one's estate. And if there is only one, for her is half. And for one's parents, to each one of them is a sixth of his estate if he left children. But if he had no children and the parents [alone] inherit from him, then for his mother is one third. And if he had brothers [or sisters], for his mother is a sixth, after any bequest he [may have] made or debt. Your parents or your children - you know not which of them are nearest to you in benefit. [These shares are] an obligation [imposed] by Allah. Indeed, Allah is ever Knowing and Wise.",
         "Yusuf_Ali": "Allah (thus) directs you as regards your Children's (Inheritance): to the male, a portion equal to that of two females: if only daughters, two or more, their share is two-thirds of the inheritance; if only one, her share is a half. For parents, a sixth share of the inheritance to each, if the deceased left children; if no children, and the parents are the (only) heirs, the mother has a third; if the deceased Left brothers (or sisters) the mother has a sixth. (The distribution in all cases ('s) after the payment of legacies and debts. Ye know not whether your parents or your children are nearest to you in benefit. These are settled portions ordained by Allah; and Allah is All-knowing, Al-wise.",
         "Shakir": "Allah enjoins you concerning your children: The male shall have the equal of the portion of two females; then if they are more than two females, they shall have two-thirds of what the deceased has left, and if there is one, she shall have the half; and as for his parents, each of them shall have the sixth of what he has left if he has a child, but if he has no child and (only) his two parents inherit him, then his mother shall have the third; but if he has brothers, then his mother shall have the sixth after (the payment of) a bequest he may have bequeathed or a debt; your parents and your children, you know not which of them is the nearer to you in usefulness; this is an ordinance from Allah: Surely Allah is Knowing, Wise.",
         "Muhammad_Sarwar": "This is a commandment from your Lord: After the payment of debts or anything bequeathed, let the male inherit twice as much as the female. If there are more than two girls, they will have two-thirds of the legacy. If there is only one girl, she will inherit half of the legacy. Parents of the deceased will each inherit one-sixth of the legacy, if the deceased has a surviving child, however, if no children survive the deceased, and the heirs are the parents, the mother will receive one-third of the legacy. The mother will receive one-sixth of the legacy if the deceased has more than one surviving brother. These are the decreed shares according to the laws of God. Regardless of how you feel about your parents or children, you do not know which of them is more beneficial to you. God is All-knowing and All-wise.",
         "Mohsin_Khan": "Allah commands you as regards your children's (inheritance); to the male, a portion equal to that of two females; if (there are) only daughters, two or more, their share is two thirds of the inheritance; if only one, her share is half. For parents, a sixth share of inheritance to each if the deceased left children; if no children, and the parents are the (only) heirs, the mother has a third; if the deceased left brothers or (sisters), the mother has a sixth. (The distribution in all cases is) after the payment of legacies he may have bequeathed or debts. You know not which of them, whether your parents or your children, are nearest to you in benefit, (these fixed shares) are ordained by Allah. And Allah is Ever All­Knower, All­Wise.",
         "Sahih_International_tag": "['daughters', 'her', 'sisters', 'mother']",
         "Sahih_International_found": true,
         "Yusuf_Ali_tag": "['daughters', 'her', 'sisters', 'mother']",
         "Yusuf_Ali_found": true,
         "Shakir_tag": "['mother', 'she']",
         "Shakir_found": true,
         "Muhammad_Sarwar_tag": "['female', 'mother', 'she']",
         "Muhammad_Sarwar_found": true,
         "Mohsin_Khan_tag": "['daughters', 'her', 'sisters', 'mother']",
         "Mohsin_Khan_found": true,
         "total_found": 5,
         "women_mentioned": true,
         "controversial": false,
         "_deepnote_index_column": 503
        },
        {
         "id": 505,
         "chapter": 4,
         "verse": 12,
         "Sahih_International": "And for you is half of what your wives leave if they have no child. But if they have a child, for you is one fourth of what they leave, after any bequest they [may have] made or debt. And for the wives is one fourth if you leave no child. But if you leave a child, then for them is an eighth of what you leave, after any bequest you [may have] made or debt. And if a man or woman leaves neither ascendants nor descendants but has a brother or a sister, then for each one of them is a sixth. But if they are more than two, they share a third, after any bequest which was made or debt, as long as there is no detriment [caused]. [This is] an ordinance from Allah , and Allah is Knowing and Forbearing.",
         "Yusuf_Ali": "In what your wives leave, your share is a half, if they leave no child; but if they leave a child, ye get a fourth; after payment of legacies and debts. In what ye leave, their share is a fourth, if ye leave no child; but if ye leave a child, they get an eighth; after payment of legacies and debts. If the man or woman whose inheritance is in question, has left neither ascendants nor descendants, but has left a brother or a sister, each one of the two gets a sixth; but if more than two, they share in a third; after payment of legacies and debts; so that no loss is caused (to any one). Thus is it ordained by Allah; and Allah is All-knowing, Most Forbearing.",
         "Shakir": "And you shall have half of what your wives leave if they have no child, but if they have a child, then you shall have a fourth of what they leave after (payment of) any bequest they may have bequeathed or a debt; and they shall have the fourth of what you leave if you have no child, but if you have a child then they shall have the eighth of what you leave after (payment of) a bequest you may have bequeathed or a debt; and if a man or a woman leaves property to be inherited by neither parents nor offspring, and he (or she) has a brother or a sister, then each of them two shall have the sixth, but if they are more than that, they shall be sharers in the third after (payment of) any bequest that may have been bequeathed or a debt that does not harm (others); this is an ordinance from Allah: and Allah is Knowing, Forbearing.",
         "Muhammad_Sarwar": "If your wives die without any surviving children, you will inherit half of their legacy. If they have children, you will inherit one-fourth of their legacy after the debts and things bequeathed have been excluded from the legacy. After the payment of debts and things bequeathed have been excluded from the legacy, your wives will inherit one-fourth of your legacy if you have no surviving children. If you leave a child, they will inherit one eighth of your legacy. If the deceased, either male or female, has no surviving heirs such as parents or children but has a brother or a sister, the brother or sister will each inherit one-sixth of the legacy. If there are more than just a brother or a sister, they will share one-third of the legacy. This is after the payment of any debts and things bequeathed have been excluded from the legacy, so that no one will be caused to suffer any loss. It is a guide from God, the All-knowing and Forbearing.",
         "Mohsin_Khan": "In that which your wives leave, your share is a half if they have no child; but if they leave a child, you get a fourth of that which they leave after payment of legacies that they may have bequeathed or debts. In that which you leave, their (your wives) share is a fourth if you leave no child; but if you leave a child, they get an eighth of that which you leave after payment of legacies that you may have bequeathed or debts. If the man or woman whose inheritance is in question has left neither ascendants nor descendants, but has left a brother or a sister, each one of the two gets a sixth; but if more than two, they share in a third; after payment of lagacies he (or she) may have bequeathed or debts, so that no loss is caused (to anyone). This is a Commandment from Allah; and Allah is Ever All­Knowing, Most­Forbearing.",
         "Sahih_International_tag": "['sister', 'wives', 'woman']",
         "Sahih_International_found": true,
         "Yusuf_Ali_tag": "['sister', 'wives', 'woman']",
         "Yusuf_Ali_found": true,
         "Shakir_tag": "['sister', 'wives', 'woman', 'she']",
         "Shakir_found": true,
         "Muhammad_Sarwar_tag": "['female', 'sister', 'wives']",
         "Muhammad_Sarwar_found": true,
         "Mohsin_Khan_tag": "['sister', 'wives', 'woman', 'she']",
         "Mohsin_Khan_found": true,
         "total_found": 5,
         "women_mentioned": true,
         "controversial": false,
         "_deepnote_index_column": 504
        },
        {
         "id": 508,
         "chapter": 4,
         "verse": 15,
         "Sahih_International": "Those who commit unlawful sexual intercourse of your women - bring against them four [witnesses] from among you. And if they testify, confine the guilty women to houses until death takes them or Allah ordains for them [another] way.",
         "Yusuf_Ali": "If any of your women are guilty of lewdness, Take the evidence of four (Reliable) witnesses from amongst you against them; and if they testify, confine them to houses until death do claim them, or Allah ordain for them some (other) way.",
         "Shakir": "And as for those who are guilty of an indecency from among your women, call to witnesses against them four (witnesses) from among you; then if they bear witness confine them to the houses until death takes them away or Allah opens some way for them.",
         "Muhammad_Sarwar": "Those of your women who commit fornication, let four (Muslim) witness testify to their act. If there is sufficient testimony, confine them to their homes until they die, or until God provides a way for their freedom.",
         "Mohsin_Khan": "And those of your women who commit illegal sexual intercourse, take the evidence of four witnesses from amongst you against them; and if they testify, confine them (i.e. women) to houses until death comes to them or Allah ordains for them some (other) way.",
         "Sahih_International_tag": "['women']",
         "Sahih_International_found": true,
         "Yusuf_Ali_tag": "['women']",
         "Yusuf_Ali_found": true,
         "Shakir_tag": "['women']",
         "Shakir_found": true,
         "Muhammad_Sarwar_tag": "['women']",
         "Muhammad_Sarwar_found": true,
         "Mohsin_Khan_tag": "['women']",
         "Mohsin_Khan_found": true,
         "total_found": 5,
         "women_mentioned": true,
         "controversial": false,
         "_deepnote_index_column": 507
        },
        {
         "id": 509,
         "chapter": 4,
         "verse": 16,
         "Sahih_International": "And the two who commit it among you, dishonor them both. But if they repent and correct themselves, leave them alone. Indeed, Allah is ever Accepting of repentance and Merciful.",
         "Yusuf_Ali": "If two men among you are guilty of lewdness, punish them both. If they repent and amend, Leave them alone; for Allah is Oft-returning, Most Merciful.",
         "Shakir": "And as for the two who are guilty of indecency from among you, give them both a punishment; then if they repent and amend, turn aside from them; surely Allah is Oft-returning (to mercy), the Merciful.",
         "Muhammad_Sarwar": "If any two people commit fornication, punish them. If they repent and reform, let them go. God is All-forgiving and All-merciful.",
         "Mohsin_Khan": "And the two persons (man and woman) among you who commit illegal sexual intercourse, punish them both. And if they repent (promise Allah that they will never repeat, i.e. commit illegal sexual intercourse and other similar sins) and do righteous good deeds, leave them alone. Surely, Allah is Ever the One Who accepts repentance, (and He is) Most Merciful.",
         "Sahih_International_tag": "[]",
         "Sahih_International_found": false,
         "Yusuf_Ali_tag": "[]",
         "Yusuf_Ali_found": false,
         "Shakir_tag": "[]",
         "Shakir_found": false,
         "Muhammad_Sarwar_tag": "[]",
         "Muhammad_Sarwar_found": false,
         "Mohsin_Khan_tag": "['woman']",
         "Mohsin_Khan_found": true,
         "total_found": 1,
         "women_mentioned": true,
         "controversial": true,
         "_deepnote_index_column": 508
        },
        {
         "id": 512,
         "chapter": 4,
         "verse": 19,
         "Sahih_International": "O you who have believed, it is not lawful for you to inherit women by compulsion. And do not make difficulties for them in order to take [back] part of what you gave them unless they commit a clear immorality. And live with them in kindness. For if you dislike them - perhaps you dislike a thing and Allah makes therein much good.",
         "Yusuf_Ali": "O ye who believe! Ye are forbidden to inherit women against their will. Nor should ye treat them with harshness, that ye may Take away part of the dower ye have given them,-except where they have been guilty of open lewdness; on the contrary live with them on a footing of kindness and equity. If ye take a dislike to them it may be that ye dislike a thing, and Allah brings about through it a great deal of good.",
         "Shakir": "O you who believe! it is not lawful for you that you should take women as heritage against (their) will, and do not straiten them in order that you may take part of what you have given them, unless they are guilty of manifest indecency, and treat them kindly; then if you hate them, it may be that you dislike a thing while Allah has placed abundant good in it.",
         "Muhammad_Sarwar": "Believers, it is not lawful for you to inherit women against their will as part of the legacy. Do not create difficulties for your wives in order to force them to give-up part of what you had given to them to set themselves free from the bond of marriage, unless they have clearly committed adultery. Always treat them reasonably. If you dislike them, you could be disliking that which God has filled with abundant good.",
         "Mohsin_Khan": "O you who believe! You are forbidden to inherit women against their will, and you should not treat them with harshness, that you may take away part of the Mahr you have given them, unless they commit open illegal sexual intercourse. And live with them honourably. If you dislike them, it may be that you dislike a thing and Allah brings through it a great deal of good.",
         "Sahih_International_tag": "['women']",
         "Sahih_International_found": true,
         "Yusuf_Ali_tag": "['women']",
         "Yusuf_Ali_found": true,
         "Shakir_tag": "['women']",
         "Shakir_found": true,
         "Muhammad_Sarwar_tag": "['women', 'wives']",
         "Muhammad_Sarwar_found": true,
         "Mohsin_Khan_tag": "['women']",
         "Mohsin_Khan_found": true,
         "total_found": 5,
         "women_mentioned": true,
         "controversial": false,
         "_deepnote_index_column": 511
        },
        {
         "id": 513,
         "chapter": 4,
         "verse": 20,
         "Sahih_International": "But if you want to replace one wife with another and you have given one of them a great amount [in gifts], do not take [back] from it anything. Would you take it in injustice and manifest sin?",
         "Yusuf_Ali": "But if ye decide to take one wife in place of another, even if ye had given the latter a whole treasure for dower, Take not the least bit of it back: Would ye take it by slander and manifest wrong?",
         "Shakir": "And if you wish to have (one) wife in place of another and you have given one of them a heap of gold, then take not from it anything; would you take it by slandering (her) and (doing her) manifest wrong?",
         "Muhammad_Sarwar": "If you want to divorce a woman so that you can marry another, do not take back the dowry which you had paid even if what you paid was a large amount of gold. To do this is a slanderous act and a manifest sin.",
         "Mohsin_Khan": "But if you intend to replace a wife by another and you have given one of them a Cantar (of gold i.e. a great amount) as Mahr, take not the least bit of it back; would you take it wrongfully without a right and (with) a manifest sin?",
         "Sahih_International_tag": "['wife']",
         "Sahih_International_found": true,
         "Yusuf_Ali_tag": "['wife']",
         "Yusuf_Ali_found": true,
         "Shakir_tag": "['her', 'wife']",
         "Shakir_found": true,
         "Muhammad_Sarwar_tag": "['woman']",
         "Muhammad_Sarwar_found": true,
         "Mohsin_Khan_tag": "['wife']",
         "Mohsin_Khan_found": true,
         "total_found": 5,
         "women_mentioned": true,
         "controversial": false,
         "_deepnote_index_column": 512
        }
       ]
      },
      "text/plain": "      id  chapter  verse                                Sahih_International  \\\n493  494        4      1  O mankind, fear your Lord, who created you fro...   \n495  496        4      3  And if you fear that you will not deal justly ...   \n496  497        4      4  And give the women [upon marriage] their [brid...   \n499  500        4      7  For men is a share of what the parents and clo...   \n503  504        4     11  Allah instructs you concerning your children: ...   \n504  505        4     12  And for you is half of what your wives leave i...   \n507  508        4     15  Those who commit unlawful sexual intercourse o...   \n508  509        4     16  And the two who commit it among you, dishonor ...   \n511  512        4     19  O you who have believed, it is not lawful for ...   \n512  513        4     20  But if you want to replace one wife with anoth...   \n514  515        4     22  And do not marry those [women] whom your fathe...   \n515  516        4     23  Prohibited to you [for marriage] are your moth...   \n516  517        4     24  And [also prohibited to you are all] married w...   \n517  518        4     25  And whoever among you cannot [find] the means ...   \n524  525        4     32  And do not wish for that by which Allah has ma...   \n526  527        4     34  Men are in charge of women by [right of] what ...   \n527  528        4     35  And if you fear dissension between the two, se...   \n535  536        4     43  O you who have believed, do not approach praye...   \n549  550        4     57  But those who believe and do righteous deeds -...   \n567  568        4     75  And what is [the matter] with you that you fig...   \n590  591        4     98  Except for the oppressed among men, women and ...   \n609  610        4    117  They call upon instead of Him none but female ...   \n616  617        4    124  And whoever does righteous deeds, whether male...   \n619  620        4    127  And they request from you, [O Muhammad], a [le...   \n620  621        4    128  And if a woman fears from her husband contempt...   \n621  622        4    129  And you will never be able to be equal [in fee...   \n648  649        4    156  And [We cursed them] for their disbelief and t...   \n649  650        4    157  And [for] their saying, \"Indeed, we have kille...   \n663  664        4    171  O People of the Scripture, do not commit exces...   \n668  669        4    176  They request from you a [legal] ruling. Say, \"...   \n\n                                             Yusuf_Ali  \\\n493  O mankind! reverence your Guardian-Lord, who c...   \n495  If ye fear that ye shall not be able to deal j...   \n496  And give the women (on marriage) their dower a...   \n499  From what is left by parents and those nearest...   \n503  Allah (thus) directs you as regards your Child...   \n504  In what your wives leave, your share is a half...   \n507  If any of your women are guilty of lewdness, T...   \n508  If two men among you are guilty of lewdness, p...   \n511  O ye who believe! Ye are forbidden to inherit ...   \n512  But if ye decide to take one wife in place of ...   \n514  And marry not women whom your fathers married,...   \n515  Prohibited to you (For marriage) are:- Your mo...   \n516  Also (prohibited are) women already married, e...   \n517  If any of you have not the means wherewith to ...   \n524  And in no wise covet those things in which All...   \n526  Men are the protectors and maintainers of wome...   \n527  If ye fear a breach between them twain, appoin...   \n535  O ye who believe! Approach not prayers with a ...   \n549  But those who believe and do deeds of righteou...   \n567  And why should ye not fight in the cause of Al...   \n590  Except those who are (really) weak and oppress...   \n609  (The Pagans), leaving Him, call but upon femal...   \n616  If any do deeds of righteousness,- be they mal...   \n619  They ask thy instruction concerning the women ...   \n620  If a wife fears cruelty or desertion on her hu...   \n621  Ye are never able to be fair and just as betwe...   \n648  That they rejected Faith; that they uttered ag...   \n649  That they said (in boast), \"We killed Christ J...   \n663  O People of the Book! Commit no excesses in yo...   \n668  They ask thee for a legal decision. Say: Allah...   \n\n                                                Shakir  \\\n493  O people! be careful of (your duty to) your Lo...   \n495  And if you fear that you cannot act equitably ...   \n496  And give women their dowries as a free gift, b...   \n499  Men shall have a portion of what the parents a...   \n503  Allah enjoins you concerning your children: Th...   \n504  And you shall have half of what your wives lea...   \n507  And as for those who are guilty of an indecenc...   \n508  And as for the two who are guilty of indecency...   \n511  O you who believe! it is not lawful for you th...   \n512  And if you wish to have (one) wife in place of...   \n514  And marry not woman whom your fathers married,...   \n515  Forbidden to you are your mothers and your dau...   \n516  And all married women except those whom your r...   \n517  And whoever among you has not within his power...   \n524  And do not covet that by which Allah has made ...   \n526  Men are the maintainers of women because Allah...   \n527  And if you fear a breach between the two, then...   \n535  O you who believe! do not go near prayer when ...   \n549  And (as for) those who believe and do good dee...   \n567  And what reason have you that you should not f...   \n590  Except the weak from among the men and the chi...   \n609  They do not call besides Him on anything but i...   \n616  And whoever does good deeds whether male or fe...   \n619  And they ask you a decision about women. Say: ...   \n620  And if a woman fears ill usage or desertion on...   \n621  And you have it not in your power to do justic...   \n648  And for their unbelief and for their having ut...   \n649  And their saying: Surely we have killed the Me...   \n663  O followers of the Book! do not exceed the lim...   \n668  They ask you for a decision of the law. Say: A...   \n\n                                       Muhammad_Sarwar  \\\n493  People, have fear of your Lord who has created...   \n495  With respect to marrying widows, if you are af...   \n496  Pay the women their dowry as though it were a ...   \n499  Male and female are entitled to their legal sh...   \n503  This is a commandment from your Lord: After th...   \n504  If your wives die without any surviving childr...   \n507  Those of your women who commit fornication, le...   \n508  If any two people commit fornication, punish t...   \n511  Believers, it is not lawful for you to inherit...   \n512  If you want to divorce a woman so that you can...   \n514  Do not marry, from now on, the ex-wives of you...   \n515  You are forbidden to marry your mothers, daugh...   \n516  You are forbidden to marry married women excep...   \n517  If any of you do not have the means to marry a...   \n524  Do not envy the favors which God has granted t...   \n526  Men are the protectors of women because of the...   \n527  If there appears to be discord between a wife ...   \n535  Believers, do not pray when you are drunk, but...   \n549  We will admit the righteously striving believe...   \n567  Why do you not fight for the cause of God or s...   \n590  As for the really weak and oppressed men, wome...   \n609  They (the pagans) only worship idols and Satan...   \n616  Any believer, male or female, who acts righteo...   \n619  (Muhammad), they ask you concerning women. Tel...   \n620  If a woman is afraid of her husband's ill trea...   \n621  You will never be able to maintain justice amo...   \n648  Their hearts were also sealed because of their...   \n649  and their statement that they murdered Jesus, ...   \n663  People of the Book, do not exceed the limits o...   \n668  (Muhammad), they seek your verdict. Tell them,...   \n\n                                           Mohsin_Khan  \\\n493  O mankind! Be dutiful to your Lord, Who create...   \n495  And if you fear that you shall not be able to ...   \n496  And give to the women (whom you marry) their M...   \n499  There is a share for men and a share for women...   \n503  Allah commands you as regards your children's ...   \n504  In that which your wives leave, your share is ...   \n507  And those of your women who commit illegal sex...   \n508  And the two persons (man and woman) among you ...   \n511  O you who believe! You are forbidden to inheri...   \n512  But if you intend to replace a wife by another...   \n514  And marry not women whom your fathers married,...   \n515  Forbidden to you (for marriage) are: your moth...   \n516  Also (forbidden are) women already married, ex...   \n517  And whoever of you have not the means wherewit...   \n524  And wish not for the things in which Allah has...   \n526  Men are the protectors and maintainers of wome...   \n527  If you fear a breach between them twain (the m...   \n535  O you who believe! Approach not As­Salat (the ...   \n549  But those who believe (in the Oneness of Allah...   \n567  And what is wrong with you that you fight not ...   \n590  Except the weak ones among men, women and chil...   \n609  They (all those who worship others than Allah)...   \n616  And whoever does righteous good deeds, male or...   \n619  They ask your legal instruction concerning wom...   \n620  And if a woman fears cruelty or desertion on h...   \n621  You will never be able to do perfect justice b...   \n648  And because of their (Jews) disbelief and utte...   \n649  And because of their saying (in boast), \"We ki...   \n663  O people of the Scripture (Jews and Christians...   \n668  They ask you for a legal verdict. Say: \"Allah ...   \n\n                               Sahih_International_tag  \\\n493                                            [women]   \n495                                            [women]   \n496                                            [women]   \n499                                            [women]   \n503                  [daughters, her, sisters, mother]   \n504                             [sister, wives, woman]   \n507                                            [women]   \n508                                                 []   \n511                                            [women]   \n512                                             [wife]   \n514                                            [women]   \n515  [daughters, sister, sisters, mothers, wives, m...   \n516                                            [women]   \n517                                            [women]   \n524                                            [women]   \n526                                     [women, wives]   \n527                                              [her]   \n535                                            [women]   \n549                                                 []   \n567                                            [women]   \n590                                            [women]   \n609                                           [female]   \n616                                           [female]   \n619                                            [women]   \n620                                       [her, woman]   \n621                                            [wives]   \n648                                             [mary]   \n649                                             [mary]   \n663                                             [mary]   \n668                        [sisters, her, sister, she]   \n\n     Sahih_International_found  ... Yusuf_Ali_found  \\\n493                       True  ...            True   \n495                       True  ...            True   \n496                       True  ...            True   \n499                       True  ...            True   \n503                       True  ...            True   \n504                       True  ...            True   \n507                       True  ...            True   \n508                      False  ...           False   \n511                       True  ...            True   \n512                       True  ...            True   \n514                       True  ...            True   \n515                       True  ...            True   \n516                       True  ...            True   \n517                       True  ...            True   \n524                       True  ...            True   \n526                       True  ...            True   \n527                       True  ...            True   \n535                       True  ...            True   \n549                      False  ...           False   \n567                       True  ...            True   \n590                       True  ...            True   \n609                       True  ...            True   \n616                       True  ...            True   \n619                       True  ...            True   \n620                       True  ...            True   \n621                       True  ...            True   \n648                       True  ...            True   \n649                       True  ...            True   \n663                       True  ...            True   \n668                       True  ...            True   \n\n                                      Shakir_tag Shakir_found  \\\n493                                      [women]         True   \n495                                      [women]         True   \n496                                      [women]         True   \n499                                      [women]         True   \n503                                [mother, she]         True   \n504                  [sister, wives, woman, she]         True   \n507                                      [women]         True   \n508                                           []        False   \n511                                      [women]         True   \n512                                  [her, wife]         True   \n514                                      [woman]         True   \n515  [daughters, sisters, aunts, mothers, wives]         True   \n516                                      [women]         True   \n517                                      [women]         True   \n524                                      [women]         True   \n526                                      [women]         True   \n527                                        [her]         True   \n535                                      [women]         True   \n549                                           []        False   \n567                                      [women]         True   \n590                                           []        False   \n609                                           []        False   \n616                                [female, she]         True   \n619                              [female, women]         True   \n620                                 [her, woman]         True   \n621                                 [her, wives]         True   \n648                                           []        False   \n649                                           []        False   \n663                                           []        False   \n668           [her, sister, women, she, sisters]         True   \n\n                                   Muhammad_Sarwar_tag Muhammad_Sarwar_found  \\\n493                                            [women]                  True   \n495                                 [her, woman, wife]                  True   \n496                                            [women]                  True   \n499                                           [female]                  True   \n503                              [female, mother, she]                  True   \n504                            [female, sister, wives]                  True   \n507                                            [women]                  True   \n508                                                 []                 False   \n511                                     [women, wives]                  True   \n512                                            [woman]                  True   \n514                                                 []                 False   \n515  [daughters, her, sisters, aunts, mothers, wive...                  True   \n516                                            [women]                  True   \n517                                            [woman]                  True   \n524                                            [women]                  True   \n526                                            [women]                  True   \n527                                        [her, wife]                  True   \n535                                                 []                 False   \n549                                                 []                 False   \n567                                            [women]                  True   \n590                                            [women]                  True   \n609                                                 []                 False   \n616                                           [female]                  True   \n619                                            [women]                  True   \n620                                       [her, woman]                  True   \n621                                            [wives]                  True   \n648                                             [mary]                  True   \n649                                             [mary]                  True   \n663                                             [mary]                  True   \n668         [woman, her, sister, female, she, sisters]                  True   \n\n                                       Mohsin_Khan_tag Mohsin_Khan_found  \\\n493                                 [women, eve, wife]              True   \n495                                            [women]              True   \n496                                      [women, wife]              True   \n499                                            [women]              True   \n503                  [daughters, her, sisters, mother]              True   \n504                        [sister, wives, woman, she]              True   \n507                                            [women]              True   \n508                                            [woman]              True   \n511                                            [women]              True   \n512                                             [wife]              True   \n514                                            [women]              True   \n515  [daughters, sister, sisters, mothers, wives, m...              True   \n516                                      [women, wife]              True   \n517                                            [women]              True   \n524                                            [women]              True   \n526                                            [women]              True   \n527                                        [her, wife]              True   \n535                                            [women]              True   \n549                                            [wives]              True   \n567                                            [women]              True   \n590                                            [women]              True   \n609                                           [female]              True   \n616                                           [female]              True   \n619                                            [women]              True   \n620                                       [her, woman]              True   \n621                                       [her, wives]              True   \n648                                [she, maryam, mary]              True   \n649                                     [maryam, mary]              True   \n663                                     [maryam, mary]              True   \n668         [woman, her, sister, female, she, sisters]              True   \n\n     total_found  women_mentioned  controversial  \n493            5             True          False  \n495            5             True          False  \n496            5             True          False  \n499            5             True          False  \n503            5             True          False  \n504            5             True          False  \n507            5             True          False  \n508            1             True           True  \n511            5             True          False  \n512            5             True          False  \n514            4             True          False  \n515            5             True          False  \n516            5             True          False  \n517            5             True          False  \n524            5             True          False  \n526            5             True          False  \n527            5             True          False  \n535            4             True          False  \n549            1             True           True  \n567            5             True          False  \n590            4             True          False  \n609            3             True          False  \n616            5             True          False  \n619            5             True          False  \n620            5             True          False  \n621            5             True          False  \n648            4             True          False  \n649            4             True          False  \n663            4             True          False  \n668            5             True          False  \n\n[30 rows x 21 columns]",
      "text/html": "<div>\n<style scoped>\n    .dataframe tbody tr th:only-of-type {\n        vertical-align: middle;\n    }\n\n    .dataframe tbody tr th {\n        vertical-align: top;\n    }\n\n    .dataframe thead th {\n        text-align: right;\n    }\n</style>\n<table border=\"1\" class=\"dataframe\">\n  <thead>\n    <tr style=\"text-align: right;\">\n      <th></th>\n      <th>id</th>\n      <th>chapter</th>\n      <th>verse</th>\n      <th>Sahih_International</th>\n      <th>Yusuf_Ali</th>\n      <th>Shakir</th>\n      <th>Muhammad_Sarwar</th>\n      <th>Mohsin_Khan</th>\n      <th>Sahih_International_tag</th>\n      <th>Sahih_International_found</th>\n      <th>...</th>\n      <th>Yusuf_Ali_found</th>\n      <th>Shakir_tag</th>\n      <th>Shakir_found</th>\n      <th>Muhammad_Sarwar_tag</th>\n      <th>Muhammad_Sarwar_found</th>\n      <th>Mohsin_Khan_tag</th>\n      <th>Mohsin_Khan_found</th>\n      <th>total_found</th>\n      <th>women_mentioned</th>\n      <th>controversial</th>\n    </tr>\n  </thead>\n  <tbody>\n    <tr>\n      <th>493</th>\n      <td>494</td>\n      <td>4</td>\n      <td>1</td>\n      <td>O mankind, fear your Lord, who created you fro...</td>\n      <td>O mankind! reverence your Guardian-Lord, who c...</td>\n      <td>O people! be careful of (your duty to) your Lo...</td>\n      <td>People, have fear of your Lord who has created...</td>\n      <td>O mankind! Be dutiful to your Lord, Who create...</td>\n      <td>[women]</td>\n      <td>True</td>\n      <td>...</td>\n      <td>True</td>\n      <td>[women]</td>\n      <td>True</td>\n      <td>[women]</td>\n      <td>True</td>\n      <td>[women, eve, wife]</td>\n      <td>True</td>\n      <td>5</td>\n      <td>True</td>\n      <td>False</td>\n    </tr>\n    <tr>\n      <th>495</th>\n      <td>496</td>\n      <td>4</td>\n      <td>3</td>\n      <td>And if you fear that you will not deal justly ...</td>\n      <td>If ye fear that ye shall not be able to deal j...</td>\n      <td>And if you fear that you cannot act equitably ...</td>\n      <td>With respect to marrying widows, if you are af...</td>\n      <td>And if you fear that you shall not be able to ...</td>\n      <td>[women]</td>\n      <td>True</td>\n      <td>...</td>\n      <td>True</td>\n      <td>[women]</td>\n      <td>True</td>\n      <td>[her, woman, wife]</td>\n      <td>True</td>\n      <td>[women]</td>\n      <td>True</td>\n      <td>5</td>\n      <td>True</td>\n      <td>False</td>\n    </tr>\n    <tr>\n      <th>496</th>\n      <td>497</td>\n      <td>4</td>\n      <td>4</td>\n      <td>And give the women [upon marriage] their [brid...</td>\n      <td>And give the women (on marriage) their dower a...</td>\n      <td>And give women their dowries as a free gift, b...</td>\n      <td>Pay the women their dowry as though it were a ...</td>\n      <td>And give to the women (whom you marry) their M...</td>\n      <td>[women]</td>\n      <td>True</td>\n      <td>...</td>\n      <td>True</td>\n      <td>[women]</td>\n      <td>True</td>\n      <td>[women]</td>\n      <td>True</td>\n      <td>[women, wife]</td>\n      <td>True</td>\n      <td>5</td>\n      <td>True</td>\n      <td>False</td>\n    </tr>\n    <tr>\n      <th>499</th>\n      <td>500</td>\n      <td>4</td>\n      <td>7</td>\n      <td>For men is a share of what the parents and clo...</td>\n      <td>From what is left by parents and those nearest...</td>\n      <td>Men shall have a portion of what the parents a...</td>\n      <td>Male and female are entitled to their legal sh...</td>\n      <td>There is a share for men and a share for women...</td>\n      <td>[women]</td>\n      <td>True</td>\n      <td>...</td>\n      <td>True</td>\n      <td>[women]</td>\n      <td>True</td>\n      <td>[female]</td>\n      <td>True</td>\n      <td>[women]</td>\n      <td>True</td>\n      <td>5</td>\n      <td>True</td>\n      <td>False</td>\n    </tr>\n    <tr>\n      <th>503</th>\n      <td>504</td>\n      <td>4</td>\n      <td>11</td>\n      <td>Allah instructs you concerning your children: ...</td>\n      <td>Allah (thus) directs you as regards your Child...</td>\n      <td>Allah enjoins you concerning your children: Th...</td>\n      <td>This is a commandment from your Lord: After th...</td>\n      <td>Allah commands you as regards your children's ...</td>\n      <td>[daughters, her, sisters, mother]</td>\n      <td>True</td>\n      <td>...</td>\n      <td>True</td>\n      <td>[mother, she]</td>\n      <td>True</td>\n      <td>[female, mother, she]</td>\n      <td>True</td>\n      <td>[daughters, her, sisters, mother]</td>\n      <td>True</td>\n      <td>5</td>\n      <td>True</td>\n      <td>False</td>\n    </tr>\n    <tr>\n      <th>504</th>\n      <td>505</td>\n      <td>4</td>\n      <td>12</td>\n      <td>And for you is half of what your wives leave i...</td>\n      <td>In what your wives leave, your share is a half...</td>\n      <td>And you shall have half of what your wives lea...</td>\n      <td>If your wives die without any surviving childr...</td>\n      <td>In that which your wives leave, your share is ...</td>\n      <td>[sister, wives, woman]</td>\n      <td>True</td>\n      <td>...</td>\n      <td>True</td>\n      <td>[sister, wives, woman, she]</td>\n      <td>True</td>\n      <td>[female, sister, wives]</td>\n      <td>True</td>\n      <td>[sister, wives, woman, she]</td>\n      <td>True</td>\n      <td>5</td>\n      <td>True</td>\n      <td>False</td>\n    </tr>\n    <tr>\n      <th>507</th>\n      <td>508</td>\n      <td>4</td>\n      <td>15</td>\n      <td>Those who commit unlawful sexual intercourse o...</td>\n      <td>If any of your women are guilty of lewdness, T...</td>\n      <td>And as for those who are guilty of an indecenc...</td>\n      <td>Those of your women who commit fornication, le...</td>\n      <td>And those of your women who commit illegal sex...</td>\n      <td>[women]</td>\n      <td>True</td>\n      <td>...</td>\n      <td>True</td>\n      <td>[women]</td>\n      <td>True</td>\n      <td>[women]</td>\n      <td>True</td>\n      <td>[women]</td>\n      <td>True</td>\n      <td>5</td>\n      <td>True</td>\n      <td>False</td>\n    </tr>\n    <tr>\n      <th>508</th>\n      <td>509</td>\n      <td>4</td>\n      <td>16</td>\n      <td>And the two who commit it among you, dishonor ...</td>\n      <td>If two men among you are guilty of lewdness, p...</td>\n      <td>And as for the two who are guilty of indecency...</td>\n      <td>If any two people commit fornication, punish t...</td>\n      <td>And the two persons (man and woman) among you ...</td>\n      <td>[]</td>\n      <td>False</td>\n      <td>...</td>\n      <td>False</td>\n      <td>[]</td>\n      <td>False</td>\n      <td>[]</td>\n      <td>False</td>\n      <td>[woman]</td>\n      <td>True</td>\n      <td>1</td>\n      <td>True</td>\n      <td>True</td>\n    </tr>\n    <tr>\n      <th>511</th>\n      <td>512</td>\n      <td>4</td>\n      <td>19</td>\n      <td>O you who have believed, it is not lawful for ...</td>\n      <td>O ye who believe! Ye are forbidden to inherit ...</td>\n      <td>O you who believe! it is not lawful for you th...</td>\n      <td>Believers, it is not lawful for you to inherit...</td>\n      <td>O you who believe! You are forbidden to inheri...</td>\n      <td>[women]</td>\n      <td>True</td>\n      <td>...</td>\n      <td>True</td>\n      <td>[women]</td>\n      <td>True</td>\n      <td>[women, wives]</td>\n      <td>True</td>\n      <td>[women]</td>\n      <td>True</td>\n      <td>5</td>\n      <td>True</td>\n      <td>False</td>\n    </tr>\n    <tr>\n      <th>512</th>\n      <td>513</td>\n      <td>4</td>\n      <td>20</td>\n      <td>But if you want to replace one wife with anoth...</td>\n      <td>But if ye decide to take one wife in place of ...</td>\n      <td>And if you wish to have (one) wife in place of...</td>\n      <td>If you want to divorce a woman so that you can...</td>\n      <td>But if you intend to replace a wife by another...</td>\n      <td>[wife]</td>\n      <td>True</td>\n      <td>...</td>\n      <td>True</td>\n      <td>[her, wife]</td>\n      <td>True</td>\n      <td>[woman]</td>\n      <td>True</td>\n      <td>[wife]</td>\n      <td>True</td>\n      <td>5</td>\n      <td>True</td>\n      <td>False</td>\n    </tr>\n    <tr>\n      <th>514</th>\n      <td>515</td>\n      <td>4</td>\n      <td>22</td>\n      <td>And do not marry those [women] whom your fathe...</td>\n      <td>And marry not women whom your fathers married,...</td>\n      <td>And marry not woman whom your fathers married,...</td>\n      <td>Do not marry, from now on, the ex-wives of you...</td>\n      <td>And marry not women whom your fathers married,...</td>\n      <td>[women]</td>\n      <td>True</td>\n      <td>...</td>\n      <td>True</td>\n      <td>[woman]</td>\n      <td>True</td>\n      <td>[]</td>\n      <td>False</td>\n      <td>[women]</td>\n      <td>True</td>\n      <td>4</td>\n      <td>True</td>\n      <td>False</td>\n    </tr>\n    <tr>\n      <th>515</th>\n      <td>516</td>\n      <td>4</td>\n      <td>23</td>\n      <td>Prohibited to you [for marriage] are your moth...</td>\n      <td>Prohibited to you (For marriage) are:- Your mo...</td>\n      <td>Forbidden to you are your mothers and your dau...</td>\n      <td>You are forbidden to marry your mothers, daugh...</td>\n      <td>Forbidden to you (for marriage) are: your moth...</td>\n      <td>[daughters, sister, sisters, mothers, wives, m...</td>\n      <td>True</td>\n      <td>...</td>\n      <td>True</td>\n      <td>[daughters, sisters, aunts, mothers, wives]</td>\n      <td>True</td>\n      <td>[daughters, her, sisters, aunts, mothers, wive...</td>\n      <td>True</td>\n      <td>[daughters, sister, sisters, mothers, wives, m...</td>\n      <td>True</td>\n      <td>5</td>\n      <td>True</td>\n      <td>False</td>\n    </tr>\n    <tr>\n      <th>516</th>\n      <td>517</td>\n      <td>4</td>\n      <td>24</td>\n      <td>And [also prohibited to you are all] married w...</td>\n      <td>Also (prohibited are) women already married, e...</td>\n      <td>And all married women except those whom your r...</td>\n      <td>You are forbidden to marry married women excep...</td>\n      <td>Also (forbidden are) women already married, ex...</td>\n      <td>[women]</td>\n      <td>True</td>\n      <td>...</td>\n      <td>True</td>\n      <td>[women]</td>\n      <td>True</td>\n      <td>[women]</td>\n      <td>True</td>\n      <td>[women, wife]</td>\n      <td>True</td>\n      <td>5</td>\n      <td>True</td>\n      <td>False</td>\n    </tr>\n    <tr>\n      <th>517</th>\n      <td>518</td>\n      <td>4</td>\n      <td>25</td>\n      <td>And whoever among you cannot [find] the means ...</td>\n      <td>If any of you have not the means wherewith to ...</td>\n      <td>And whoever among you has not within his power...</td>\n      <td>If any of you do not have the means to marry a...</td>\n      <td>And whoever of you have not the means wherewit...</td>\n      <td>[women]</td>\n      <td>True</td>\n      <td>...</td>\n      <td>True</td>\n      <td>[women]</td>\n      <td>True</td>\n      <td>[woman]</td>\n      <td>True</td>\n      <td>[women]</td>\n      <td>True</td>\n      <td>5</td>\n      <td>True</td>\n      <td>False</td>\n    </tr>\n    <tr>\n      <th>524</th>\n      <td>525</td>\n      <td>4</td>\n      <td>32</td>\n      <td>And do not wish for that by which Allah has ma...</td>\n      <td>And in no wise covet those things in which All...</td>\n      <td>And do not covet that by which Allah has made ...</td>\n      <td>Do not envy the favors which God has granted t...</td>\n      <td>And wish not for the things in which Allah has...</td>\n      <td>[women]</td>\n      <td>True</td>\n      <td>...</td>\n      <td>True</td>\n      <td>[women]</td>\n      <td>True</td>\n      <td>[women]</td>\n      <td>True</td>\n      <td>[women]</td>\n      <td>True</td>\n      <td>5</td>\n      <td>True</td>\n      <td>False</td>\n    </tr>\n    <tr>\n      <th>526</th>\n      <td>527</td>\n      <td>4</td>\n      <td>34</td>\n      <td>Men are in charge of women by [right of] what ...</td>\n      <td>Men are the protectors and maintainers of wome...</td>\n      <td>Men are the maintainers of women because Allah...</td>\n      <td>Men are the protectors of women because of the...</td>\n      <td>Men are the protectors and maintainers of wome...</td>\n      <td>[women, wives]</td>\n      <td>True</td>\n      <td>...</td>\n      <td>True</td>\n      <td>[women]</td>\n      <td>True</td>\n      <td>[women]</td>\n      <td>True</td>\n      <td>[women]</td>\n      <td>True</td>\n      <td>5</td>\n      <td>True</td>\n      <td>False</td>\n    </tr>\n    <tr>\n      <th>527</th>\n      <td>528</td>\n      <td>4</td>\n      <td>35</td>\n      <td>And if you fear dissension between the two, se...</td>\n      <td>If ye fear a breach between them twain, appoin...</td>\n      <td>And if you fear a breach between the two, then...</td>\n      <td>If there appears to be discord between a wife ...</td>\n      <td>If you fear a breach between them twain (the m...</td>\n      <td>[her]</td>\n      <td>True</td>\n      <td>...</td>\n      <td>True</td>\n      <td>[her]</td>\n      <td>True</td>\n      <td>[her, wife]</td>\n      <td>True</td>\n      <td>[her, wife]</td>\n      <td>True</td>\n      <td>5</td>\n      <td>True</td>\n      <td>False</td>\n    </tr>\n    <tr>\n      <th>535</th>\n      <td>536</td>\n      <td>4</td>\n      <td>43</td>\n      <td>O you who have believed, do not approach praye...</td>\n      <td>O ye who believe! Approach not prayers with a ...</td>\n      <td>O you who believe! do not go near prayer when ...</td>\n      <td>Believers, do not pray when you are drunk, but...</td>\n      <td>O you who believe! Approach not As­Salat (the ...</td>\n      <td>[women]</td>\n      <td>True</td>\n      <td>...</td>\n      <td>True</td>\n      <td>[women]</td>\n      <td>True</td>\n      <td>[]</td>\n      <td>False</td>\n      <td>[women]</td>\n      <td>True</td>\n      <td>4</td>\n      <td>True</td>\n      <td>False</td>\n    </tr>\n    <tr>\n      <th>549</th>\n      <td>550</td>\n      <td>4</td>\n      <td>57</td>\n      <td>But those who believe and do righteous deeds -...</td>\n      <td>But those who believe and do deeds of righteou...</td>\n      <td>And (as for) those who believe and do good dee...</td>\n      <td>We will admit the righteously striving believe...</td>\n      <td>But those who believe (in the Oneness of Allah...</td>\n      <td>[]</td>\n      <td>False</td>\n      <td>...</td>\n      <td>False</td>\n      <td>[]</td>\n      <td>False</td>\n      <td>[]</td>\n      <td>False</td>\n      <td>[wives]</td>\n      <td>True</td>\n      <td>1</td>\n      <td>True</td>\n      <td>True</td>\n    </tr>\n    <tr>\n      <th>567</th>\n      <td>568</td>\n      <td>4</td>\n      <td>75</td>\n      <td>And what is [the matter] with you that you fig...</td>\n      <td>And why should ye not fight in the cause of Al...</td>\n      <td>And what reason have you that you should not f...</td>\n      <td>Why do you not fight for the cause of God or s...</td>\n      <td>And what is wrong with you that you fight not ...</td>\n      <td>[women]</td>\n      <td>True</td>\n      <td>...</td>\n      <td>True</td>\n      <td>[women]</td>\n      <td>True</td>\n      <td>[women]</td>\n      <td>True</td>\n      <td>[women]</td>\n      <td>True</td>\n      <td>5</td>\n      <td>True</td>\n      <td>False</td>\n    </tr>\n    <tr>\n      <th>590</th>\n      <td>591</td>\n      <td>4</td>\n      <td>98</td>\n      <td>Except for the oppressed among men, women and ...</td>\n      <td>Except those who are (really) weak and oppress...</td>\n      <td>Except the weak from among the men and the chi...</td>\n      <td>As for the really weak and oppressed men, wome...</td>\n      <td>Except the weak ones among men, women and chil...</td>\n      <td>[women]</td>\n      <td>True</td>\n      <td>...</td>\n      <td>True</td>\n      <td>[]</td>\n      <td>False</td>\n      <td>[women]</td>\n      <td>True</td>\n      <td>[women]</td>\n      <td>True</td>\n      <td>4</td>\n      <td>True</td>\n      <td>False</td>\n    </tr>\n    <tr>\n      <th>609</th>\n      <td>610</td>\n      <td>4</td>\n      <td>117</td>\n      <td>They call upon instead of Him none but female ...</td>\n      <td>(The Pagans), leaving Him, call but upon femal...</td>\n      <td>They do not call besides Him on anything but i...</td>\n      <td>They (the pagans) only worship idols and Satan...</td>\n      <td>They (all those who worship others than Allah)...</td>\n      <td>[female]</td>\n      <td>True</td>\n      <td>...</td>\n      <td>True</td>\n      <td>[]</td>\n      <td>False</td>\n      <td>[]</td>\n      <td>False</td>\n      <td>[female]</td>\n      <td>True</td>\n      <td>3</td>\n      <td>True</td>\n      <td>False</td>\n    </tr>\n    <tr>\n      <th>616</th>\n      <td>617</td>\n      <td>4</td>\n      <td>124</td>\n      <td>And whoever does righteous deeds, whether male...</td>\n      <td>If any do deeds of righteousness,- be they mal...</td>\n      <td>And whoever does good deeds whether male or fe...</td>\n      <td>Any believer, male or female, who acts righteo...</td>\n      <td>And whoever does righteous good deeds, male or...</td>\n      <td>[female]</td>\n      <td>True</td>\n      <td>...</td>\n      <td>True</td>\n      <td>[female, she]</td>\n      <td>True</td>\n      <td>[female]</td>\n      <td>True</td>\n      <td>[female]</td>\n      <td>True</td>\n      <td>5</td>\n      <td>True</td>\n      <td>False</td>\n    </tr>\n    <tr>\n      <th>619</th>\n      <td>620</td>\n      <td>4</td>\n      <td>127</td>\n      <td>And they request from you, [O Muhammad], a [le...</td>\n      <td>They ask thy instruction concerning the women ...</td>\n      <td>And they ask you a decision about women. Say: ...</td>\n      <td>(Muhammad), they ask you concerning women. Tel...</td>\n      <td>They ask your legal instruction concerning wom...</td>\n      <td>[women]</td>\n      <td>True</td>\n      <td>...</td>\n      <td>True</td>\n      <td>[female, women]</td>\n      <td>True</td>\n      <td>[women]</td>\n      <td>True</td>\n      <td>[women]</td>\n      <td>True</td>\n      <td>5</td>\n      <td>True</td>\n      <td>False</td>\n    </tr>\n    <tr>\n      <th>620</th>\n      <td>621</td>\n      <td>4</td>\n      <td>128</td>\n      <td>And if a woman fears from her husband contempt...</td>\n      <td>If a wife fears cruelty or desertion on her hu...</td>\n      <td>And if a woman fears ill usage or desertion on...</td>\n      <td>If a woman is afraid of her husband's ill trea...</td>\n      <td>And if a woman fears cruelty or desertion on h...</td>\n      <td>[her, woman]</td>\n      <td>True</td>\n      <td>...</td>\n      <td>True</td>\n      <td>[her, woman]</td>\n      <td>True</td>\n      <td>[her, woman]</td>\n      <td>True</td>\n      <td>[her, woman]</td>\n      <td>True</td>\n      <td>5</td>\n      <td>True</td>\n      <td>False</td>\n    </tr>\n    <tr>\n      <th>621</th>\n      <td>622</td>\n      <td>4</td>\n      <td>129</td>\n      <td>And you will never be able to be equal [in fee...</td>\n      <td>Ye are never able to be fair and just as betwe...</td>\n      <td>And you have it not in your power to do justic...</td>\n      <td>You will never be able to maintain justice amo...</td>\n      <td>You will never be able to do perfect justice b...</td>\n      <td>[wives]</td>\n      <td>True</td>\n      <td>...</td>\n      <td>True</td>\n      <td>[her, wives]</td>\n      <td>True</td>\n      <td>[wives]</td>\n      <td>True</td>\n      <td>[her, wives]</td>\n      <td>True</td>\n      <td>5</td>\n      <td>True</td>\n      <td>False</td>\n    </tr>\n    <tr>\n      <th>648</th>\n      <td>649</td>\n      <td>4</td>\n      <td>156</td>\n      <td>And [We cursed them] for their disbelief and t...</td>\n      <td>That they rejected Faith; that they uttered ag...</td>\n      <td>And for their unbelief and for their having ut...</td>\n      <td>Their hearts were also sealed because of their...</td>\n      <td>And because of their (Jews) disbelief and utte...</td>\n      <td>[mary]</td>\n      <td>True</td>\n      <td>...</td>\n      <td>True</td>\n      <td>[]</td>\n      <td>False</td>\n      <td>[mary]</td>\n      <td>True</td>\n      <td>[she, maryam, mary]</td>\n      <td>True</td>\n      <td>4</td>\n      <td>True</td>\n      <td>False</td>\n    </tr>\n    <tr>\n      <th>649</th>\n      <td>650</td>\n      <td>4</td>\n      <td>157</td>\n      <td>And [for] their saying, \"Indeed, we have kille...</td>\n      <td>That they said (in boast), \"We killed Christ J...</td>\n      <td>And their saying: Surely we have killed the Me...</td>\n      <td>and their statement that they murdered Jesus, ...</td>\n      <td>And because of their saying (in boast), \"We ki...</td>\n      <td>[mary]</td>\n      <td>True</td>\n      <td>...</td>\n      <td>True</td>\n      <td>[]</td>\n      <td>False</td>\n      <td>[mary]</td>\n      <td>True</td>\n      <td>[maryam, mary]</td>\n      <td>True</td>\n      <td>4</td>\n      <td>True</td>\n      <td>False</td>\n    </tr>\n    <tr>\n      <th>663</th>\n      <td>664</td>\n      <td>4</td>\n      <td>171</td>\n      <td>O People of the Scripture, do not commit exces...</td>\n      <td>O People of the Book! Commit no excesses in yo...</td>\n      <td>O followers of the Book! do not exceed the lim...</td>\n      <td>People of the Book, do not exceed the limits o...</td>\n      <td>O people of the Scripture (Jews and Christians...</td>\n      <td>[mary]</td>\n      <td>True</td>\n      <td>...</td>\n      <td>True</td>\n      <td>[]</td>\n      <td>False</td>\n      <td>[mary]</td>\n      <td>True</td>\n      <td>[maryam, mary]</td>\n      <td>True</td>\n      <td>4</td>\n      <td>True</td>\n      <td>False</td>\n    </tr>\n    <tr>\n      <th>668</th>\n      <td>669</td>\n      <td>4</td>\n      <td>176</td>\n      <td>They request from you a [legal] ruling. Say, \"...</td>\n      <td>They ask thee for a legal decision. Say: Allah...</td>\n      <td>They ask you for a decision of the law. Say: A...</td>\n      <td>(Muhammad), they seek your verdict. Tell them,...</td>\n      <td>They ask you for a legal verdict. Say: \"Allah ...</td>\n      <td>[sisters, her, sister, she]</td>\n      <td>True</td>\n      <td>...</td>\n      <td>True</td>\n      <td>[her, sister, women, she, sisters]</td>\n      <td>True</td>\n      <td>[woman, her, sister, female, she, sisters]</td>\n      <td>True</td>\n      <td>[woman, her, sister, female, she, sisters]</td>\n      <td>True</td>\n      <td>5</td>\n      <td>True</td>\n      <td>False</td>\n    </tr>\n  </tbody>\n</table>\n<p>30 rows × 21 columns</p>\n</div>"
     },
     "metadata": {}
    }
   ]
  },
  {
   "cell_type": "code",
   "metadata": {
    "cell_id": "e6c6805e1f07483f9057f305037eb836",
    "tags": [],
    "deepnote_to_be_reexecuted": false,
    "source_hash": "ce13b3b9",
    "execution_start": 1659765685695,
    "execution_millis": 7,
    "deepnote_cell_type": "code",
    "deepnote_cell_height": 76
   },
   "source": "verses.to_json('../../data/an_nisa_initial_tagging.json', orient=\"records\")",
   "execution_count": 11,
   "outputs": []
  },
  {
   "cell_type": "markdown",
   "source": "<a style='text-decoration:none;line-height:16px;display:flex;color:#5B5B62;padding:10px;justify-content:end;' href='https://deepnote.com?utm_source=created-in-deepnote-cell&projectId=bde230b6-0e7f-496d-9e8b-b7ffaeec8999' target=\"_blank\">\n<img alt='Created in deepnote.com' style='display:inline;max-height:16px;margin:0px;margin-right:7.5px;' src='data:image/svg+xml;base64,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' > </img>\nCreated in <span style='font-weight:600;margin-left:4px;'>Deepnote</span></a>",
   "metadata": {
    "tags": [],
    "created_in_deepnote_cell": true,
    "deepnote_cell_type": "markdown"
   }
  }
 ],
 "nbformat": 4,
 "nbformat_minor": 2,
 "metadata": {
  "orig_nbformat": 2,
  "deepnote": {},
  "deepnote_notebook_id": "ee675fb5-e369-4ff9-aa65-d4a796a03553",
  "deepnote_execution_queue": []
 }
}