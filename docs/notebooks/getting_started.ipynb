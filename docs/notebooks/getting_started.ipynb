{
 "cells": [
  {
   "cell_type": "markdown",
   "source": "# Getting Started",
   "metadata": {
    "formattedRanges": [],
    "cell_id": "fa73a8c7cb5c4e78b6c73949d78b8372",
    "tags": [],
    "is_collapsed": false,
    "deepnote_app_coordinates": {
     "x": 0,
     "y": 1,
     "w": 12,
     "h": 5
    },
    "owner_user_id": "5d8bd30b-51f4-4304-a9aa-9aea47b57159",
    "deepnote_cell_type": "text-cell-h1"
   }
  },
  {
   "cell_type": "markdown",
   "source": "This notebook demonstrates how to read source data from [projectq.io/data](https://projectq.io/data)",
   "metadata": {
    "cell_id": "9819aa7108f549799c98cf06c4f34fa7",
    "tags": [],
    "deepnote_app_coordinates": {
     "x": 0,
     "y": 91,
     "w": 12,
     "h": 5
    },
    "deepnote_cell_type": "markdown",
    "deepnote_cell_height": 52.390625
   }
  },
  {
   "cell_type": "markdown",
   "source": "## Reading Source Data from projectq.io\nYou can read data directly from projectq.io into your dataframe via python.  Here are some examples to get you started",
   "metadata": {
    "cell_id": "c03d023f4b0c4bc0b351b1320bfad443",
    "tags": [],
    "deepnote_app_coordinates": {
     "x": 0,
     "y": 7,
     "w": 12,
     "h": 5
    },
    "deepnote_cell_type": "markdown",
    "deepnote_cell_height": 108.390625
   }
  },
  {
   "cell_type": "markdown",
   "source": "## Reading Chapter List",
   "metadata": {
    "cell_id": "2da5b2f60f214d5a8c87338f147d8428",
    "tags": [],
    "is_collapsed": false,
    "formattedRanges": [],
    "deepnote_app_coordinates": {
     "x": 0,
     "y": 0,
     "w": 12,
     "h": 5
    },
    "deepnote_cell_type": "text-cell-h2"
   }
  },
  {
   "cell_type": "code",
   "metadata": {
    "tags": [],
    "cell_id": "a19307ac-45ff-4d3d-9635-3ec0dd5f91ce",
    "deepnote_to_be_reexecuted": false,
    "source_hash": "e20fa27d",
    "execution_start": 1657515770129,
    "execution_millis": 269,
    "deepnote_app_coordinates": {
     "x": 0,
     "y": 19,
     "w": 12,
     "h": 5
    },
    "deepnote_cell_type": "code",
    "deepnote_cell_height": 654
   },
   "source": "import pandas as pd\n# Dataset: List of Chapters\nchapters = pd.read_json('https://projectq.io/data/source/chapters.json')\nchapters",
   "execution_count": 1,
   "outputs": [
    {
     "output_type": "execute_result",
     "execution_count": 1,
     "data": {
      "application/vnd.deepnote.dataframe.v3+json": {
       "column_count": 6,
       "row_count": 114,
       "columns": [
        {
         "name": "id",
         "dtype": "int64",
         "stats": {
          "unique_count": 114,
          "nan_count": 0,
          "min": "1",
          "max": "114",
          "histogram": [
           {
            "bin_start": 1,
            "bin_end": 12.3,
            "count": 12
           },
           {
            "bin_start": 12.3,
            "bin_end": 23.6,
            "count": 11
           },
           {
            "bin_start": 23.6,
            "bin_end": 34.900000000000006,
            "count": 11
           },
           {
            "bin_start": 34.900000000000006,
            "bin_end": 46.2,
            "count": 12
           },
           {
            "bin_start": 46.2,
            "bin_end": 57.5,
            "count": 11
           },
           {
            "bin_start": 57.5,
            "bin_end": 68.80000000000001,
            "count": 11
           },
           {
            "bin_start": 68.80000000000001,
            "bin_end": 80.10000000000001,
            "count": 12
           },
           {
            "bin_start": 80.10000000000001,
            "bin_end": 91.4,
            "count": 11
           },
           {
            "bin_start": 91.4,
            "bin_end": 102.7,
            "count": 11
           },
           {
            "bin_start": 102.7,
            "bin_end": 114,
            "count": 12
           }
          ]
         }
        },
        {
         "name": "name",
         "dtype": "object",
         "stats": {
          "unique_count": 114,
          "nan_count": 0,
          "categories": [
           {
            "name": "الفاتحة",
            "count": 1
           },
           {
            "name": "البقرة",
            "count": 1
           },
           {
            "name": "112 others",
            "count": 112
           }
          ]
         }
        },
        {
         "name": "transliteration",
         "dtype": "object",
         "stats": {
          "unique_count": 114,
          "nan_count": 0,
          "categories": [
           {
            "name": "Al-Fatihah",
            "count": 1
           },
           {
            "name": "Al-Baqarah",
            "count": 1
           },
           {
            "name": "112 others",
            "count": 112
           }
          ]
         }
        },
        {
         "name": "translation",
         "dtype": "object",
         "stats": {
          "unique_count": 114,
          "nan_count": 0,
          "categories": [
           {
            "name": "The Opener",
            "count": 1
           },
           {
            "name": "The Cow",
            "count": 1
           },
           {
            "name": "112 others",
            "count": 112
           }
          ]
         }
        },
        {
         "name": "type",
         "dtype": "object",
         "stats": {
          "unique_count": 2,
          "nan_count": 0,
          "categories": [
           {
            "name": "meccan",
            "count": 86
           },
           {
            "name": "medinan",
            "count": 28
           }
          ]
         }
        },
        {
         "name": "total_verses",
         "dtype": "int64",
         "stats": {
          "unique_count": 77,
          "nan_count": 0,
          "min": "3",
          "max": "286",
          "histogram": [
           {
            "bin_start": 3,
            "bin_end": 31.3,
            "count": 52
           },
           {
            "bin_start": 31.3,
            "bin_end": 59.6,
            "count": 24
           },
           {
            "bin_start": 59.6,
            "bin_end": 87.9,
            "count": 13
           },
           {
            "bin_start": 87.9,
            "bin_end": 116.2,
            "count": 12
           },
           {
            "bin_start": 116.2,
            "bin_end": 144.5,
            "count": 6
           },
           {
            "bin_start": 144.5,
            "bin_end": 172.8,
            "count": 1
           },
           {
            "bin_start": 172.8,
            "bin_end": 201.1,
            "count": 3
           },
           {
            "bin_start": 201.1,
            "bin_end": 229.4,
            "count": 2
           },
           {
            "bin_start": 229.4,
            "bin_end": 257.70000000000005,
            "count": 0
           },
           {
            "bin_start": 257.70000000000005,
            "bin_end": 286,
            "count": 1
           }
          ]
         }
        },
        {
         "name": "_deepnote_index_column",
         "dtype": "int64"
        }
       ],
       "rows": [
        {
         "id": 1,
         "name": "الفاتحة",
         "transliteration": "Al-Fatihah",
         "translation": "The Opener",
         "type": "meccan",
         "total_verses": 7,
         "_deepnote_index_column": 0
        },
        {
         "id": 2,
         "name": "البقرة",
         "transliteration": "Al-Baqarah",
         "translation": "The Cow",
         "type": "medinan",
         "total_verses": 286,
         "_deepnote_index_column": 1
        },
        {
         "id": 3,
         "name": "آل عمران",
         "transliteration": "Ali 'Imran",
         "translation": "Family of Imran",
         "type": "medinan",
         "total_verses": 200,
         "_deepnote_index_column": 2
        },
        {
         "id": 4,
         "name": "النساء",
         "transliteration": "An-Nisa",
         "translation": "The Women",
         "type": "medinan",
         "total_verses": 176,
         "_deepnote_index_column": 3
        },
        {
         "id": 5,
         "name": "المائدة",
         "transliteration": "Al-Ma'idah",
         "translation": "The Table Spread",
         "type": "medinan",
         "total_verses": 120,
         "_deepnote_index_column": 4
        },
        {
         "id": 6,
         "name": "الأنعام",
         "transliteration": "Al-An'am",
         "translation": "The Cattle",
         "type": "meccan",
         "total_verses": 165,
         "_deepnote_index_column": 5
        },
        {
         "id": 7,
         "name": "الأعراف",
         "transliteration": "Al-A'raf",
         "translation": "The Heights",
         "type": "meccan",
         "total_verses": 206,
         "_deepnote_index_column": 6
        },
        {
         "id": 8,
         "name": "الأنفال",
         "transliteration": "Al-Anfal",
         "translation": "The Spoils of War",
         "type": "medinan",
         "total_verses": 75,
         "_deepnote_index_column": 7
        },
        {
         "id": 9,
         "name": "التوبة",
         "transliteration": "At-Tawbah",
         "translation": "The Repentance",
         "type": "medinan",
         "total_verses": 129,
         "_deepnote_index_column": 8
        },
        {
         "id": 10,
         "name": "يونس",
         "transliteration": "Yunus",
         "translation": "Jonah",
         "type": "meccan",
         "total_verses": 109,
         "_deepnote_index_column": 9
        }
       ]
      },
      "text/plain": "      id      name transliteration         translation     type  total_verses\n0      1   الفاتحة      Al-Fatihah          The Opener   meccan             7\n1      2    البقرة      Al-Baqarah             The Cow  medinan           286\n2      3  آل عمران      Ali 'Imran     Family of Imran  medinan           200\n3      4    النساء         An-Nisa           The Women  medinan           176\n4      5   المائدة      Al-Ma'idah    The Table Spread  medinan           120\n..   ...       ...             ...                 ...      ...           ...\n109  110     النصر         An-Nasr  The Divine Support  medinan             3\n110  111     المسد        Al-Masad      The Palm Fiber   meccan             5\n111  112   الإخلاص       Al-Ikhlas       The Sincerity   meccan             4\n112  113     الفلق        Al-Falaq        The Daybreak   meccan             5\n113  114     الناس          An-Nas             Mankind   meccan             6\n\n[114 rows x 6 columns]",
      "text/html": "<div>\n<style scoped>\n    .dataframe tbody tr th:only-of-type {\n        vertical-align: middle;\n    }\n\n    .dataframe tbody tr th {\n        vertical-align: top;\n    }\n\n    .dataframe thead th {\n        text-align: right;\n    }\n</style>\n<table border=\"1\" class=\"dataframe\">\n  <thead>\n    <tr style=\"text-align: right;\">\n      <th></th>\n      <th>id</th>\n      <th>name</th>\n      <th>transliteration</th>\n      <th>translation</th>\n      <th>type</th>\n      <th>total_verses</th>\n    </tr>\n  </thead>\n  <tbody>\n    <tr>\n      <th>0</th>\n      <td>1</td>\n      <td>الفاتحة</td>\n      <td>Al-Fatihah</td>\n      <td>The Opener</td>\n      <td>meccan</td>\n      <td>7</td>\n    </tr>\n    <tr>\n      <th>1</th>\n      <td>2</td>\n      <td>البقرة</td>\n      <td>Al-Baqarah</td>\n      <td>The Cow</td>\n      <td>medinan</td>\n      <td>286</td>\n    </tr>\n    <tr>\n      <th>2</th>\n      <td>3</td>\n      <td>آل عمران</td>\n      <td>Ali 'Imran</td>\n      <td>Family of Imran</td>\n      <td>medinan</td>\n      <td>200</td>\n    </tr>\n    <tr>\n      <th>3</th>\n      <td>4</td>\n      <td>النساء</td>\n      <td>An-Nisa</td>\n      <td>The Women</td>\n      <td>medinan</td>\n      <td>176</td>\n    </tr>\n    <tr>\n      <th>4</th>\n      <td>5</td>\n      <td>المائدة</td>\n      <td>Al-Ma'idah</td>\n      <td>The Table Spread</td>\n      <td>medinan</td>\n      <td>120</td>\n    </tr>\n    <tr>\n      <th>...</th>\n      <td>...</td>\n      <td>...</td>\n      <td>...</td>\n      <td>...</td>\n      <td>...</td>\n      <td>...</td>\n    </tr>\n    <tr>\n      <th>109</th>\n      <td>110</td>\n      <td>النصر</td>\n      <td>An-Nasr</td>\n      <td>The Divine Support</td>\n      <td>medinan</td>\n      <td>3</td>\n    </tr>\n    <tr>\n      <th>110</th>\n      <td>111</td>\n      <td>المسد</td>\n      <td>Al-Masad</td>\n      <td>The Palm Fiber</td>\n      <td>meccan</td>\n      <td>5</td>\n    </tr>\n    <tr>\n      <th>111</th>\n      <td>112</td>\n      <td>الإخلاص</td>\n      <td>Al-Ikhlas</td>\n      <td>The Sincerity</td>\n      <td>meccan</td>\n      <td>4</td>\n    </tr>\n    <tr>\n      <th>112</th>\n      <td>113</td>\n      <td>الفلق</td>\n      <td>Al-Falaq</td>\n      <td>The Daybreak</td>\n      <td>meccan</td>\n      <td>5</td>\n    </tr>\n    <tr>\n      <th>113</th>\n      <td>114</td>\n      <td>الناس</td>\n      <td>An-Nas</td>\n      <td>Mankind</td>\n      <td>meccan</td>\n      <td>6</td>\n    </tr>\n  </tbody>\n</table>\n<p>114 rows × 6 columns</p>\n</div>"
     },
     "metadata": {}
    }
   ]
  },
  {
   "cell_type": "markdown",
   "source": "## Reading Single Chapter with verses",
   "metadata": {
    "formattedRanges": [],
    "cell_id": "1f0f40042b7647f5bb0bef6706716b04",
    "tags": [],
    "is_collapsed": false,
    "deepnote_app_coordinates": {
     "x": 0,
     "y": 25,
     "w": 12,
     "h": 5
    },
    "deepnote_cell_type": "text-cell-h2"
   }
  },
  {
   "cell_type": "code",
   "metadata": {
    "cell_id": "20fc02f42d3644f7a72ef5ff2e2e61d9",
    "tags": [],
    "deepnote_to_be_reexecuted": false,
    "source_hash": "6c8080b9",
    "execution_start": 1657515770405,
    "execution_millis": 275,
    "deepnote_app_coordinates": {
     "x": 0,
     "y": 31,
     "w": 12,
     "h": 5
    },
    "deepnote_cell_type": "code",
    "deepnote_cell_height": 513
   },
   "source": "# Dataset: Single Chapter with verses\nc1 = pd.read_json('https://projectq.io/data/source/chapters/1.json')\nc1",
   "execution_count": 2,
   "outputs": [
    {
     "output_type": "execute_result",
     "execution_count": 2,
     "data": {
      "application/vnd.deepnote.dataframe.v3+json": {
       "column_count": 7,
       "row_count": 7,
       "columns": [
        {
         "name": "id",
         "dtype": "int64",
         "stats": {
          "unique_count": 1,
          "nan_count": 0,
          "min": "1",
          "max": "1",
          "histogram": [
           {
            "bin_start": 0.5,
            "bin_end": 0.6,
            "count": 0
           },
           {
            "bin_start": 0.6,
            "bin_end": 0.7,
            "count": 0
           },
           {
            "bin_start": 0.7,
            "bin_end": 0.8,
            "count": 0
           },
           {
            "bin_start": 0.8,
            "bin_end": 0.9,
            "count": 0
           },
           {
            "bin_start": 0.9,
            "bin_end": 1,
            "count": 0
           },
           {
            "bin_start": 1,
            "bin_end": 1.1,
            "count": 7
           },
           {
            "bin_start": 1.1,
            "bin_end": 1.2000000000000002,
            "count": 0
           },
           {
            "bin_start": 1.2000000000000002,
            "bin_end": 1.3,
            "count": 0
           },
           {
            "bin_start": 1.3,
            "bin_end": 1.4,
            "count": 0
           },
           {
            "bin_start": 1.4,
            "bin_end": 1.5,
            "count": 0
           }
          ]
         }
        },
        {
         "name": "name",
         "dtype": "object",
         "stats": {
          "unique_count": 1,
          "nan_count": 0,
          "categories": [
           {
            "name": "الفاتحة",
            "count": 7
           }
          ]
         }
        },
        {
         "name": "transliteration",
         "dtype": "object",
         "stats": {
          "unique_count": 1,
          "nan_count": 0,
          "categories": [
           {
            "name": "Al-Fatihah",
            "count": 7
           }
          ]
         }
        },
        {
         "name": "translation",
         "dtype": "object",
         "stats": {
          "unique_count": 1,
          "nan_count": 0,
          "categories": [
           {
            "name": "The Opener",
            "count": 7
           }
          ]
         }
        },
        {
         "name": "type",
         "dtype": "object",
         "stats": {
          "unique_count": 1,
          "nan_count": 0,
          "categories": [
           {
            "name": "meccan",
            "count": 7
           }
          ]
         }
        },
        {
         "name": "total_verses",
         "dtype": "int64",
         "stats": {
          "unique_count": 1,
          "nan_count": 0,
          "min": "7",
          "max": "7",
          "histogram": [
           {
            "bin_start": 6.5,
            "bin_end": 6.6,
            "count": 0
           },
           {
            "bin_start": 6.6,
            "bin_end": 6.7,
            "count": 0
           },
           {
            "bin_start": 6.7,
            "bin_end": 6.8,
            "count": 0
           },
           {
            "bin_start": 6.8,
            "bin_end": 6.9,
            "count": 0
           },
           {
            "bin_start": 6.9,
            "bin_end": 7,
            "count": 0
           },
           {
            "bin_start": 7,
            "bin_end": 7.1,
            "count": 7
           },
           {
            "bin_start": 7.1,
            "bin_end": 7.2,
            "count": 0
           },
           {
            "bin_start": 7.2,
            "bin_end": 7.3,
            "count": 0
           },
           {
            "bin_start": 7.3,
            "bin_end": 7.4,
            "count": 0
           },
           {
            "bin_start": 7.4,
            "bin_end": 7.5,
            "count": 0
           }
          ]
         }
        },
        {
         "name": "verses",
         "dtype": "object",
         "stats": {
          "unique_count": 7,
          "nan_count": 0,
          "categories": [
           {
            "name": "{'id': 1, 'text': 'بِسۡمِ ٱللَّهِ ٱلرَّحۡمَٰنِ ٱلرَّحِيمِ', 'translation': 'In the name of Allah, the Entirely Merciful, the Especially Merciful', 'transliteration': 'Bismi Allahi alrrahmani alrraheemi'}",
            "count": 1
           },
           {
            "name": "{'id': 2, 'text': 'ٱلۡحَمۡدُ لِلَّهِ رَبِّ ٱلۡعَٰلَمِينَ', 'translation': '[All] praise is [due] to Allah, Lord of the worlds', 'transliteration': 'Alhamdu lillahi rabbi alAAalameena'}",
            "count": 1
           },
           {
            "name": "5 others",
            "count": 5
           }
          ]
         }
        },
        {
         "name": "_deepnote_index_column",
         "dtype": "int64"
        }
       ],
       "rows": [
        {
         "id": 1,
         "name": "الفاتحة",
         "transliteration": "Al-Fatihah",
         "translation": "The Opener",
         "type": "meccan",
         "total_verses": 7,
         "verses": "{'id': 1, 'text': 'بِسۡمِ ٱللَّهِ ٱلرَّحۡمَٰنِ ٱلرَّحِيمِ', 'translation': 'In the name of Allah, the Entirely Merciful, the Especially Merciful', 'transliteration': 'Bismi Allahi alrrahmani alrraheemi'}",
         "_deepnote_index_column": 0
        },
        {
         "id": 1,
         "name": "الفاتحة",
         "transliteration": "Al-Fatihah",
         "translation": "The Opener",
         "type": "meccan",
         "total_verses": 7,
         "verses": "{'id': 2, 'text': 'ٱلۡحَمۡدُ لِلَّهِ رَبِّ ٱلۡعَٰلَمِينَ', 'translation': '[All] praise is [due] to Allah, Lord of the worlds', 'transliteration': 'Alhamdu lillahi rabbi alAAalameena'}",
         "_deepnote_index_column": 1
        },
        {
         "id": 1,
         "name": "الفاتحة",
         "transliteration": "Al-Fatihah",
         "translation": "The Opener",
         "type": "meccan",
         "total_verses": 7,
         "verses": "{'id': 3, 'text': 'ٱلرَّحۡمَٰنِ ٱلرَّحِيمِ', 'translation': 'The Entirely Merciful, the Especially Merciful', 'transliteration': 'Alrrahmani alrraheemi'}",
         "_deepnote_index_column": 2
        },
        {
         "id": 1,
         "name": "الفاتحة",
         "transliteration": "Al-Fatihah",
         "translation": "The Opener",
         "type": "meccan",
         "total_verses": 7,
         "verses": "{'id': 4, 'text': 'مَٰلِكِ يَوۡمِ ٱلدِّينِ', 'translation': 'Sovereign of the Day of Recompense', 'transliteration': 'Maliki yawmi alddeeni'}",
         "_deepnote_index_column": 3
        },
        {
         "id": 1,
         "name": "الفاتحة",
         "transliteration": "Al-Fatihah",
         "translation": "The Opener",
         "type": "meccan",
         "total_verses": 7,
         "verses": "{'id': 5, 'text': 'إِيَّاكَ نَعۡبُدُ وَإِيَّاكَ نَسۡتَعِينُ', 'translation': 'It is You we worship and You we ask for help', 'transliteration': 'Iyyaka naAAbudu waiyyaka nastaAAeenu'}",
         "_deepnote_index_column": 4
        },
        {
         "id": 1,
         "name": "الفاتحة",
         "transliteration": "Al-Fatihah",
         "translation": "The Opener",
         "type": "meccan",
         "total_verses": 7,
         "verses": "{'id': 6, 'text': 'ٱهۡدِنَا ٱلصِّرَٰطَ ٱلۡمُسۡتَقِيمَ', 'translation': 'Guide us to the straight path', 'transliteration': 'Ihdina alssirata almustaqeema'}",
         "_deepnote_index_column": 5
        },
        {
         "id": 1,
         "name": "الفاتحة",
         "transliteration": "Al-Fatihah",
         "translation": "The Opener",
         "type": "meccan",
         "total_verses": 7,
         "verses": "{'id': 7, 'text': 'صِرَٰطَ ٱلَّذِينَ أَنۡعَمۡتَ عَلَيۡهِمۡ غَيۡرِ ٱلۡمَغۡضُوبِ عَلَيۡهِمۡ وَلَا ٱلضَّآلِّينَ', 'translation': 'The path of those upon whom You have bestowed favor, not of those who have evoked [Your] anger or of those who are astray', 'transliteration': 'Sirata allatheena anAAamta AAalayhim ghayri almaghdoobi AAalayhim wala alddalleena'}",
         "_deepnote_index_column": 6
        }
       ]
      },
      "text/plain": "   id     name transliteration translation    type  total_verses  \\\n0   1  الفاتحة      Al-Fatihah  The Opener  meccan             7   \n1   1  الفاتحة      Al-Fatihah  The Opener  meccan             7   \n2   1  الفاتحة      Al-Fatihah  The Opener  meccan             7   \n3   1  الفاتحة      Al-Fatihah  The Opener  meccan             7   \n4   1  الفاتحة      Al-Fatihah  The Opener  meccan             7   \n5   1  الفاتحة      Al-Fatihah  The Opener  meccan             7   \n6   1  الفاتحة      Al-Fatihah  The Opener  meccan             7   \n\n                                              verses  \n0  {'id': 1, 'text': 'بِسۡمِ ٱللَّهِ ٱلرَّحۡمَٰنِ...  \n1  {'id': 2, 'text': 'ٱلۡحَمۡدُ لِلَّهِ رَبِّ ٱلۡ...  \n2  {'id': 3, 'text': 'ٱلرَّحۡمَٰنِ ٱلرَّحِيمِ', '...  \n3  {'id': 4, 'text': 'مَٰلِكِ يَوۡمِ ٱلدِّينِ', '...  \n4  {'id': 5, 'text': 'إِيَّاكَ نَعۡبُدُ وَإِيَّاك...  \n5  {'id': 6, 'text': 'ٱهۡدِنَا ٱلصِّرَٰطَ ٱلۡمُسۡ...  \n6  {'id': 7, 'text': 'صِرَٰطَ ٱلَّذِينَ أَنۡعَمۡت...  ",
      "text/html": "<div>\n<style scoped>\n    .dataframe tbody tr th:only-of-type {\n        vertical-align: middle;\n    }\n\n    .dataframe tbody tr th {\n        vertical-align: top;\n    }\n\n    .dataframe thead th {\n        text-align: right;\n    }\n</style>\n<table border=\"1\" class=\"dataframe\">\n  <thead>\n    <tr style=\"text-align: right;\">\n      <th></th>\n      <th>id</th>\n      <th>name</th>\n      <th>transliteration</th>\n      <th>translation</th>\n      <th>type</th>\n      <th>total_verses</th>\n      <th>verses</th>\n    </tr>\n  </thead>\n  <tbody>\n    <tr>\n      <th>0</th>\n      <td>1</td>\n      <td>الفاتحة</td>\n      <td>Al-Fatihah</td>\n      <td>The Opener</td>\n      <td>meccan</td>\n      <td>7</td>\n      <td>{'id': 1, 'text': 'بِسۡمِ ٱللَّهِ ٱلرَّحۡمَٰنِ...</td>\n    </tr>\n    <tr>\n      <th>1</th>\n      <td>1</td>\n      <td>الفاتحة</td>\n      <td>Al-Fatihah</td>\n      <td>The Opener</td>\n      <td>meccan</td>\n      <td>7</td>\n      <td>{'id': 2, 'text': 'ٱلۡحَمۡدُ لِلَّهِ رَبِّ ٱلۡ...</td>\n    </tr>\n    <tr>\n      <th>2</th>\n      <td>1</td>\n      <td>الفاتحة</td>\n      <td>Al-Fatihah</td>\n      <td>The Opener</td>\n      <td>meccan</td>\n      <td>7</td>\n      <td>{'id': 3, 'text': 'ٱلرَّحۡمَٰنِ ٱلرَّحِيمِ', '...</td>\n    </tr>\n    <tr>\n      <th>3</th>\n      <td>1</td>\n      <td>الفاتحة</td>\n      <td>Al-Fatihah</td>\n      <td>The Opener</td>\n      <td>meccan</td>\n      <td>7</td>\n      <td>{'id': 4, 'text': 'مَٰلِكِ يَوۡمِ ٱلدِّينِ', '...</td>\n    </tr>\n    <tr>\n      <th>4</th>\n      <td>1</td>\n      <td>الفاتحة</td>\n      <td>Al-Fatihah</td>\n      <td>The Opener</td>\n      <td>meccan</td>\n      <td>7</td>\n      <td>{'id': 5, 'text': 'إِيَّاكَ نَعۡبُدُ وَإِيَّاك...</td>\n    </tr>\n    <tr>\n      <th>5</th>\n      <td>1</td>\n      <td>الفاتحة</td>\n      <td>Al-Fatihah</td>\n      <td>The Opener</td>\n      <td>meccan</td>\n      <td>7</td>\n      <td>{'id': 6, 'text': 'ٱهۡدِنَا ٱلصِّرَٰطَ ٱلۡمُسۡ...</td>\n    </tr>\n    <tr>\n      <th>6</th>\n      <td>1</td>\n      <td>الفاتحة</td>\n      <td>Al-Fatihah</td>\n      <td>The Opener</td>\n      <td>meccan</td>\n      <td>7</td>\n      <td>{'id': 7, 'text': 'صِرَٰطَ ٱلَّذِينَ أَنۡعَمۡت...</td>\n    </tr>\n  </tbody>\n</table>\n</div>"
     },
     "metadata": {}
    }
   ]
  },
  {
   "cell_type": "markdown",
   "source": "### Expanding Verses Column",
   "metadata": {
    "formattedRanges": [],
    "cell_id": "0b4484f94387415bb43b5a9bead428ec",
    "tags": [],
    "is_collapsed": false,
    "deepnote_app_coordinates": {
     "x": 0,
     "y": 37,
     "w": 12,
     "h": 5
    },
    "deepnote_cell_type": "text-cell-h3"
   }
  },
  {
   "cell_type": "code",
   "metadata": {
    "cell_id": "4b314f862e7b4f588d77c019bb14eeb5",
    "tags": [],
    "deepnote_to_be_reexecuted": false,
    "source_hash": "6e6111e9",
    "execution_start": 1657515770667,
    "execution_millis": 63,
    "deepnote_app_coordinates": {
     "x": 0,
     "y": 43,
     "w": 12,
     "h": 5
    },
    "deepnote_cell_type": "code",
    "deepnote_cell_height": 549
   },
   "source": "# Expanding verses column\nc1 = c1.join(pd.json_normalize(c1.verses), rsuffix=\"_of_verse\")\n# dropping verses columns\nc1.drop(columns=['verses'], inplace=True)\nc1",
   "execution_count": 3,
   "outputs": [
    {
     "output_type": "execute_result",
     "execution_count": 3,
     "data": {
      "application/vnd.deepnote.dataframe.v3+json": {
       "column_count": 10,
       "row_count": 7,
       "columns": [
        {
         "name": "id",
         "dtype": "int64",
         "stats": {
          "unique_count": 1,
          "nan_count": 0,
          "min": "1",
          "max": "1",
          "histogram": [
           {
            "bin_start": 0.5,
            "bin_end": 0.6,
            "count": 0
           },
           {
            "bin_start": 0.6,
            "bin_end": 0.7,
            "count": 0
           },
           {
            "bin_start": 0.7,
            "bin_end": 0.8,
            "count": 0
           },
           {
            "bin_start": 0.8,
            "bin_end": 0.9,
            "count": 0
           },
           {
            "bin_start": 0.9,
            "bin_end": 1,
            "count": 0
           },
           {
            "bin_start": 1,
            "bin_end": 1.1,
            "count": 7
           },
           {
            "bin_start": 1.1,
            "bin_end": 1.2000000000000002,
            "count": 0
           },
           {
            "bin_start": 1.2000000000000002,
            "bin_end": 1.3,
            "count": 0
           },
           {
            "bin_start": 1.3,
            "bin_end": 1.4,
            "count": 0
           },
           {
            "bin_start": 1.4,
            "bin_end": 1.5,
            "count": 0
           }
          ]
         }
        },
        {
         "name": "name",
         "dtype": "object",
         "stats": {
          "unique_count": 1,
          "nan_count": 0,
          "categories": [
           {
            "name": "الفاتحة",
            "count": 7
           }
          ]
         }
        },
        {
         "name": "transliteration",
         "dtype": "object",
         "stats": {
          "unique_count": 1,
          "nan_count": 0,
          "categories": [
           {
            "name": "Al-Fatihah",
            "count": 7
           }
          ]
         }
        },
        {
         "name": "translation",
         "dtype": "object",
         "stats": {
          "unique_count": 1,
          "nan_count": 0,
          "categories": [
           {
            "name": "The Opener",
            "count": 7
           }
          ]
         }
        },
        {
         "name": "type",
         "dtype": "object",
         "stats": {
          "unique_count": 1,
          "nan_count": 0,
          "categories": [
           {
            "name": "meccan",
            "count": 7
           }
          ]
         }
        },
        {
         "name": "total_verses",
         "dtype": "int64",
         "stats": {
          "unique_count": 1,
          "nan_count": 0,
          "min": "7",
          "max": "7",
          "histogram": [
           {
            "bin_start": 6.5,
            "bin_end": 6.6,
            "count": 0
           },
           {
            "bin_start": 6.6,
            "bin_end": 6.7,
            "count": 0
           },
           {
            "bin_start": 6.7,
            "bin_end": 6.8,
            "count": 0
           },
           {
            "bin_start": 6.8,
            "bin_end": 6.9,
            "count": 0
           },
           {
            "bin_start": 6.9,
            "bin_end": 7,
            "count": 0
           },
           {
            "bin_start": 7,
            "bin_end": 7.1,
            "count": 7
           },
           {
            "bin_start": 7.1,
            "bin_end": 7.2,
            "count": 0
           },
           {
            "bin_start": 7.2,
            "bin_end": 7.3,
            "count": 0
           },
           {
            "bin_start": 7.3,
            "bin_end": 7.4,
            "count": 0
           },
           {
            "bin_start": 7.4,
            "bin_end": 7.5,
            "count": 0
           }
          ]
         }
        },
        {
         "name": "id_of_verse",
         "dtype": "int64",
         "stats": {
          "unique_count": 7,
          "nan_count": 0,
          "min": "1",
          "max": "7",
          "histogram": [
           {
            "bin_start": 1,
            "bin_end": 1.6,
            "count": 1
           },
           {
            "bin_start": 1.6,
            "bin_end": 2.2,
            "count": 1
           },
           {
            "bin_start": 2.2,
            "bin_end": 2.8,
            "count": 0
           },
           {
            "bin_start": 2.8,
            "bin_end": 3.4,
            "count": 1
           },
           {
            "bin_start": 3.4,
            "bin_end": 4,
            "count": 0
           },
           {
            "bin_start": 4,
            "bin_end": 4.6,
            "count": 1
           },
           {
            "bin_start": 4.6,
            "bin_end": 5.2,
            "count": 1
           },
           {
            "bin_start": 5.2,
            "bin_end": 5.8,
            "count": 0
           },
           {
            "bin_start": 5.8,
            "bin_end": 6.3999999999999995,
            "count": 1
           },
           {
            "bin_start": 6.3999999999999995,
            "bin_end": 7,
            "count": 1
           }
          ]
         }
        },
        {
         "name": "text",
         "dtype": "object",
         "stats": {
          "unique_count": 7,
          "nan_count": 0,
          "categories": [
           {
            "name": "بِسۡمِ ٱللَّهِ ٱلرَّحۡمَٰنِ ٱلرَّحِيمِ",
            "count": 1
           },
           {
            "name": "ٱلۡحَمۡدُ لِلَّهِ رَبِّ ٱلۡعَٰلَمِينَ",
            "count": 1
           },
           {
            "name": "5 others",
            "count": 5
           }
          ]
         }
        },
        {
         "name": "translation_of_verse",
         "dtype": "object",
         "stats": {
          "unique_count": 7,
          "nan_count": 0,
          "categories": [
           {
            "name": "In the name of Allah, the Entirely Merciful, the Especially Merciful",
            "count": 1
           },
           {
            "name": "[All] praise is [due] to Allah, Lord of the worlds",
            "count": 1
           },
           {
            "name": "5 others",
            "count": 5
           }
          ]
         }
        },
        {
         "name": "transliteration_of_verse",
         "dtype": "object",
         "stats": {
          "unique_count": 7,
          "nan_count": 0,
          "categories": [
           {
            "name": "Bismi Allahi alrrahmani alrraheemi",
            "count": 1
           },
           {
            "name": "Alhamdu lillahi rabbi alAAalameena",
            "count": 1
           },
           {
            "name": "5 others",
            "count": 5
           }
          ]
         }
        },
        {
         "name": "_deepnote_index_column",
         "dtype": "int64"
        }
       ],
       "rows": [
        {
         "id": 1,
         "name": "الفاتحة",
         "transliteration": "Al-Fatihah",
         "translation": "The Opener",
         "type": "meccan",
         "total_verses": 7,
         "id_of_verse": 1,
         "text": "بِسۡمِ ٱللَّهِ ٱلرَّحۡمَٰنِ ٱلرَّحِيمِ",
         "translation_of_verse": "In the name of Allah, the Entirely Merciful, the Especially Merciful",
         "transliteration_of_verse": "Bismi Allahi alrrahmani alrraheemi",
         "_deepnote_index_column": 0
        },
        {
         "id": 1,
         "name": "الفاتحة",
         "transliteration": "Al-Fatihah",
         "translation": "The Opener",
         "type": "meccan",
         "total_verses": 7,
         "id_of_verse": 2,
         "text": "ٱلۡحَمۡدُ لِلَّهِ رَبِّ ٱلۡعَٰلَمِينَ",
         "translation_of_verse": "[All] praise is [due] to Allah, Lord of the worlds",
         "transliteration_of_verse": "Alhamdu lillahi rabbi alAAalameena",
         "_deepnote_index_column": 1
        },
        {
         "id": 1,
         "name": "الفاتحة",
         "transliteration": "Al-Fatihah",
         "translation": "The Opener",
         "type": "meccan",
         "total_verses": 7,
         "id_of_verse": 3,
         "text": "ٱلرَّحۡمَٰنِ ٱلرَّحِيمِ",
         "translation_of_verse": "The Entirely Merciful, the Especially Merciful",
         "transliteration_of_verse": "Alrrahmani alrraheemi",
         "_deepnote_index_column": 2
        },
        {
         "id": 1,
         "name": "الفاتحة",
         "transliteration": "Al-Fatihah",
         "translation": "The Opener",
         "type": "meccan",
         "total_verses": 7,
         "id_of_verse": 4,
         "text": "مَٰلِكِ يَوۡمِ ٱلدِّينِ",
         "translation_of_verse": "Sovereign of the Day of Recompense",
         "transliteration_of_verse": "Maliki yawmi alddeeni",
         "_deepnote_index_column": 3
        },
        {
         "id": 1,
         "name": "الفاتحة",
         "transliteration": "Al-Fatihah",
         "translation": "The Opener",
         "type": "meccan",
         "total_verses": 7,
         "id_of_verse": 5,
         "text": "إِيَّاكَ نَعۡبُدُ وَإِيَّاكَ نَسۡتَعِينُ",
         "translation_of_verse": "It is You we worship and You we ask for help",
         "transliteration_of_verse": "Iyyaka naAAbudu waiyyaka nastaAAeenu",
         "_deepnote_index_column": 4
        },
        {
         "id": 1,
         "name": "الفاتحة",
         "transliteration": "Al-Fatihah",
         "translation": "The Opener",
         "type": "meccan",
         "total_verses": 7,
         "id_of_verse": 6,
         "text": "ٱهۡدِنَا ٱلصِّرَٰطَ ٱلۡمُسۡتَقِيمَ",
         "translation_of_verse": "Guide us to the straight path",
         "transliteration_of_verse": "Ihdina alssirata almustaqeema",
         "_deepnote_index_column": 5
        },
        {
         "id": 1,
         "name": "الفاتحة",
         "transliteration": "Al-Fatihah",
         "translation": "The Opener",
         "type": "meccan",
         "total_verses": 7,
         "id_of_verse": 7,
         "text": "صِرَٰطَ ٱلَّذِينَ أَنۡعَمۡتَ عَلَيۡهِمۡ غَيۡرِ ٱلۡمَغۡضُوبِ عَلَيۡهِمۡ وَلَا ٱلضَّآلِّينَ",
         "translation_of_verse": "The path of those upon whom You have bestowed favor, not of those who have evoked [Your] anger or of those who are astray",
         "transliteration_of_verse": "Sirata allatheena anAAamta AAalayhim ghayri almaghdoobi AAalayhim wala alddalleena",
         "_deepnote_index_column": 6
        }
       ]
      },
      "text/plain": "   id     name transliteration translation    type  total_verses  id_of_verse  \\\n0   1  الفاتحة      Al-Fatihah  The Opener  meccan             7            1   \n1   1  الفاتحة      Al-Fatihah  The Opener  meccan             7            2   \n2   1  الفاتحة      Al-Fatihah  The Opener  meccan             7            3   \n3   1  الفاتحة      Al-Fatihah  The Opener  meccan             7            4   \n4   1  الفاتحة      Al-Fatihah  The Opener  meccan             7            5   \n5   1  الفاتحة      Al-Fatihah  The Opener  meccan             7            6   \n6   1  الفاتحة      Al-Fatihah  The Opener  meccan             7            7   \n\n                                                text  \\\n0             بِسۡمِ ٱللَّهِ ٱلرَّحۡمَٰنِ ٱلرَّحِيمِ   \n1              ٱلۡحَمۡدُ لِلَّهِ رَبِّ ٱلۡعَٰلَمِينَ   \n2                            ٱلرَّحۡمَٰنِ ٱلرَّحِيمِ   \n3                            مَٰلِكِ يَوۡمِ ٱلدِّينِ   \n4           إِيَّاكَ نَعۡبُدُ وَإِيَّاكَ نَسۡتَعِينُ   \n5                 ٱهۡدِنَا ٱلصِّرَٰطَ ٱلۡمُسۡتَقِيمَ   \n6  صِرَٰطَ ٱلَّذِينَ أَنۡعَمۡتَ عَلَيۡهِمۡ غَيۡرِ...   \n\n                                translation_of_verse  \\\n0  In the name of Allah, the Entirely Merciful, t...   \n1  [All] praise is [due] to Allah, Lord of the wo...   \n2     The Entirely Merciful, the Especially Merciful   \n3                 Sovereign of the Day of Recompense   \n4       It is You we worship and You we ask for help   \n5                      Guide us to the straight path   \n6  The path of those upon whom You have bestowed ...   \n\n                            transliteration_of_verse  \n0                 Bismi Allahi alrrahmani alrraheemi  \n1                 Alhamdu lillahi rabbi alAAalameena  \n2                              Alrrahmani alrraheemi  \n3                              Maliki yawmi alddeeni  \n4               Iyyaka naAAbudu waiyyaka nastaAAeenu  \n5                      Ihdina alssirata almustaqeema  \n6  Sirata allatheena anAAamta AAalayhim ghayri al...  ",
      "text/html": "<div>\n<style scoped>\n    .dataframe tbody tr th:only-of-type {\n        vertical-align: middle;\n    }\n\n    .dataframe tbody tr th {\n        vertical-align: top;\n    }\n\n    .dataframe thead th {\n        text-align: right;\n    }\n</style>\n<table border=\"1\" class=\"dataframe\">\n  <thead>\n    <tr style=\"text-align: right;\">\n      <th></th>\n      <th>id</th>\n      <th>name</th>\n      <th>transliteration</th>\n      <th>translation</th>\n      <th>type</th>\n      <th>total_verses</th>\n      <th>id_of_verse</th>\n      <th>text</th>\n      <th>translation_of_verse</th>\n      <th>transliteration_of_verse</th>\n    </tr>\n  </thead>\n  <tbody>\n    <tr>\n      <th>0</th>\n      <td>1</td>\n      <td>الفاتحة</td>\n      <td>Al-Fatihah</td>\n      <td>The Opener</td>\n      <td>meccan</td>\n      <td>7</td>\n      <td>1</td>\n      <td>بِسۡمِ ٱللَّهِ ٱلرَّحۡمَٰنِ ٱلرَّحِيمِ</td>\n      <td>In the name of Allah, the Entirely Merciful, t...</td>\n      <td>Bismi Allahi alrrahmani alrraheemi</td>\n    </tr>\n    <tr>\n      <th>1</th>\n      <td>1</td>\n      <td>الفاتحة</td>\n      <td>Al-Fatihah</td>\n      <td>The Opener</td>\n      <td>meccan</td>\n      <td>7</td>\n      <td>2</td>\n      <td>ٱلۡحَمۡدُ لِلَّهِ رَبِّ ٱلۡعَٰلَمِينَ</td>\n      <td>[All] praise is [due] to Allah, Lord of the wo...</td>\n      <td>Alhamdu lillahi rabbi alAAalameena</td>\n    </tr>\n    <tr>\n      <th>2</th>\n      <td>1</td>\n      <td>الفاتحة</td>\n      <td>Al-Fatihah</td>\n      <td>The Opener</td>\n      <td>meccan</td>\n      <td>7</td>\n      <td>3</td>\n      <td>ٱلرَّحۡمَٰنِ ٱلرَّحِيمِ</td>\n      <td>The Entirely Merciful, the Especially Merciful</td>\n      <td>Alrrahmani alrraheemi</td>\n    </tr>\n    <tr>\n      <th>3</th>\n      <td>1</td>\n      <td>الفاتحة</td>\n      <td>Al-Fatihah</td>\n      <td>The Opener</td>\n      <td>meccan</td>\n      <td>7</td>\n      <td>4</td>\n      <td>مَٰلِكِ يَوۡمِ ٱلدِّينِ</td>\n      <td>Sovereign of the Day of Recompense</td>\n      <td>Maliki yawmi alddeeni</td>\n    </tr>\n    <tr>\n      <th>4</th>\n      <td>1</td>\n      <td>الفاتحة</td>\n      <td>Al-Fatihah</td>\n      <td>The Opener</td>\n      <td>meccan</td>\n      <td>7</td>\n      <td>5</td>\n      <td>إِيَّاكَ نَعۡبُدُ وَإِيَّاكَ نَسۡتَعِينُ</td>\n      <td>It is You we worship and You we ask for help</td>\n      <td>Iyyaka naAAbudu waiyyaka nastaAAeenu</td>\n    </tr>\n    <tr>\n      <th>5</th>\n      <td>1</td>\n      <td>الفاتحة</td>\n      <td>Al-Fatihah</td>\n      <td>The Opener</td>\n      <td>meccan</td>\n      <td>7</td>\n      <td>6</td>\n      <td>ٱهۡدِنَا ٱلصِّرَٰطَ ٱلۡمُسۡتَقِيمَ</td>\n      <td>Guide us to the straight path</td>\n      <td>Ihdina alssirata almustaqeema</td>\n    </tr>\n    <tr>\n      <th>6</th>\n      <td>1</td>\n      <td>الفاتحة</td>\n      <td>Al-Fatihah</td>\n      <td>The Opener</td>\n      <td>meccan</td>\n      <td>7</td>\n      <td>7</td>\n      <td>صِرَٰطَ ٱلَّذِينَ أَنۡعَمۡتَ عَلَيۡهِمۡ غَيۡرِ...</td>\n      <td>The path of those upon whom You have bestowed ...</td>\n      <td>Sirata allatheena anAAamta AAalayhim ghayri al...</td>\n    </tr>\n  </tbody>\n</table>\n</div>"
     },
     "metadata": {}
    }
   ]
  },
  {
   "cell_type": "markdown",
   "source": "## Reading Individual Verses with Multilingual Translations",
   "metadata": {
    "formattedRanges": [],
    "cell_id": "f01c8b93d14f487a9e68604f8d19a460",
    "tags": [],
    "is_collapsed": false,
    "deepnote_app_coordinates": {
     "x": 0,
     "y": 49,
     "w": 12,
     "h": 5
    },
    "deepnote_cell_type": "text-cell-h2"
   }
  },
  {
   "cell_type": "code",
   "metadata": {
    "cell_id": "b1a7b3d49b0943d58557ee737953f51d",
    "tags": [],
    "deepnote_to_be_reexecuted": false,
    "source_hash": "f59a1b3a",
    "execution_start": 1657515770733,
    "execution_millis": 277,
    "deepnote_app_coordinates": {
     "x": 0,
     "y": 55,
     "w": 12,
     "h": 5
    },
    "deepnote_cell_type": "code",
    "deepnote_cell_height": 636,
    "deepnote_output_heights": [
     136.359375
    ]
   },
   "source": "# Dataset: Individual Verses\nv527 = pd.read_json('https://projectq.io/data/source/verses/527.json')\nv527",
   "execution_count": 4,
   "outputs": [
    {
     "output_type": "execute_result",
     "execution_count": 4,
     "data": {
      "application/vnd.deepnote.dataframe.v3+json": {
       "column_count": 6,
       "row_count": 13,
       "columns": [
        {
         "name": "id",
         "dtype": "int64",
         "stats": {
          "unique_count": 1,
          "nan_count": 0,
          "min": "527",
          "max": "527",
          "histogram": [
           {
            "bin_start": 526.5,
            "bin_end": 526.6,
            "count": 0
           },
           {
            "bin_start": 526.6,
            "bin_end": 526.7,
            "count": 0
           },
           {
            "bin_start": 526.7,
            "bin_end": 526.8,
            "count": 0
           },
           {
            "bin_start": 526.8,
            "bin_end": 526.9,
            "count": 0
           },
           {
            "bin_start": 526.9,
            "bin_end": 527,
            "count": 0
           },
           {
            "bin_start": 527,
            "bin_end": 527.1,
            "count": 13
           },
           {
            "bin_start": 527.1,
            "bin_end": 527.2,
            "count": 0
           },
           {
            "bin_start": 527.2,
            "bin_end": 527.3,
            "count": 0
           },
           {
            "bin_start": 527.3,
            "bin_end": 527.4,
            "count": 0
           },
           {
            "bin_start": 527.4,
            "bin_end": 527.5,
            "count": 0
           }
          ]
         }
        },
        {
         "name": "number",
         "dtype": "int64",
         "stats": {
          "unique_count": 1,
          "nan_count": 0,
          "min": "34",
          "max": "34",
          "histogram": [
           {
            "bin_start": 33.5,
            "bin_end": 33.6,
            "count": 0
           },
           {
            "bin_start": 33.6,
            "bin_end": 33.7,
            "count": 0
           },
           {
            "bin_start": 33.7,
            "bin_end": 33.8,
            "count": 0
           },
           {
            "bin_start": 33.8,
            "bin_end": 33.9,
            "count": 0
           },
           {
            "bin_start": 33.9,
            "bin_end": 34,
            "count": 0
           },
           {
            "bin_start": 34,
            "bin_end": 34.1,
            "count": 13
           },
           {
            "bin_start": 34.1,
            "bin_end": 34.2,
            "count": 0
           },
           {
            "bin_start": 34.2,
            "bin_end": 34.3,
            "count": 0
           },
           {
            "bin_start": 34.3,
            "bin_end": 34.4,
            "count": 0
           },
           {
            "bin_start": 34.4,
            "bin_end": 34.5,
            "count": 0
           }
          ]
         }
        },
        {
         "name": "text",
         "dtype": "object",
         "stats": {
          "unique_count": 1,
          "nan_count": 0,
          "categories": [
           {
            "name": "ٱلرِّجَالُ قَوَّـٰمُونَ عَلَى ٱلنِّسَآءِ بِمَا فَضَّلَ ٱللَّهُ بَعۡضَهُمۡ عَلَىٰ بَعۡضٖ وَبِمَآ أَنفَقُواْ مِنۡ أَمۡوَٰلِهِمۡۚ فَٱلصَّـٰلِحَٰتُ قَٰنِتَٰتٌ حَٰفِظَٰتٞ لِّلۡغَيۡبِ بِمَا حَفِظَ ٱللَّهُۚ وَٱلَّـٰتِي تَخَافُونَ نُشُوزَهُنَّ فَعِظُوهُنَّ وَٱهۡجُرُوهُنَّ فِي ٱلۡمَضَاجِعِ وَٱضۡرِبُوهُنَّۖ فَإِنۡ أَطَعۡنَكُمۡ فَلَا تَبۡغُواْ عَلَيۡهِنَّ سَبِيلًاۗ إِنَّ ٱللَّهَ كَانَ عَلِيّٗا كَبِيرٗا",
            "count": 13
           }
          ]
         }
        },
        {
         "name": "translations",
         "dtype": "object",
         "stats": {
          "unique_count": 9,
          "nan_count": 4,
          "categories": [
           {
            "name": "Men are in charge of women by [right of] what Allah has given one over the other and what they spend [for maintenance] from their wealth. So righteous women are devoutly obedient, guarding in [the husband's] absence what Allah would have them guard. But those [wives] from whom you fear arrogance - [first] advise them; [then if they persist], forsake them in bed; and [finally], strike them. But if they obey you [once more], seek no means against them. Indeed, Allah is ever Exalted and Grand",
            "count": 1
           },
           {
            "name": "8 others",
            "count": 8
           },
           {
            "name": "Missing",
            "count": 4
           }
          ]
         }
        },
        {
         "name": "transliteration",
         "dtype": "object",
         "stats": {
          "unique_count": 1,
          "nan_count": 0,
          "categories": [
           {
            "name": "Alrrijalu qawwamoona AAala alnnisai bima faddala Allahu baAAdahum AAala baAAdin wabima anfaqoo min amwalihim faalssalihatu qanitatun hafithatun lilghaybi bima hafitha Allahu waallatee takhafoona nushoozahunna faAAithoohunna waohjuroohunna fee almadajiAAi waidriboohunna fain ataAAnakum fala tabghoo AAalayhinna sabeelan inna Allaha kana AAaliyyan kabeeran",
            "count": 13
           }
          ]
         }
        },
        {
         "name": "chapter",
         "dtype": "object",
         "stats": {
          "unique_count": 13,
          "nan_count": 8,
          "categories": [
           {
            "name": "4",
            "count": 1
           },
           {
            "name": "4 others",
            "count": 4
           },
           {
            "name": "Missing",
            "count": 8
           }
          ]
         }
        },
        {
         "name": "_deepnote_index_column",
         "dtype": "object"
        }
       ],
       "rows": [
        {
         "id": 527,
         "number": 34,
         "text": "ٱلرِّجَالُ قَوَّـٰمُونَ عَلَى ٱلنِّسَآءِ بِمَا فَضَّلَ ٱللَّهُ بَعۡضَهُمۡ عَلَىٰ بَعۡضٖ وَبِمَآ أَنفَقُواْ مِنۡ أَمۡوَٰلِهِمۡۚ فَٱلصَّـٰلِحَٰتُ قَٰنِتَٰتٌ حَٰفِظَٰتٞ لِّلۡغَيۡبِ بِمَا حَفِظَ ٱللَّهُۚ وَٱلَّـٰتِي تَخَافُونَ نُشُوزَهُنَّ فَعِظُوهُنَّ وَٱهۡجُرُوهُنَّ فِي ٱلۡمَضَاجِعِ وَٱضۡرِبُوهُنَّۖ فَإِنۡ أَطَعۡنَكُمۡ فَلَا تَبۡغُواْ عَلَيۡهِنَّ سَبِيلًاۗ إِنَّ ٱللَّهَ كَانَ عَلِيّٗا كَبِيرٗا",
         "translations": "Men are in charge of women by [right of] what Allah has given one over the other and what they spend [for maintenance] from their wealth. So righteous women are devoutly obedient, guarding in [the husband's] absence what Allah would have them guard. But those [wives] from whom you fear arrogance - [first] advise them; [then if they persist], forsake them in bed; and [finally], strike them. But if they obey you [once more], seek no means against them. Indeed, Allah is ever Exalted and Grand",
         "transliteration": "Alrrijalu qawwamoona AAala alnnisai bima faddala Allahu baAAdahum AAala baAAdin wabima anfaqoo min amwalihim faalssalihatu qanitatun hafithatun lilghaybi bima hafitha Allahu waallatee takhafoona nushoozahunna faAAithoohunna waohjuroohunna fee almadajiAAi waidriboohunna fain ataAAnakum fala tabghoo AAalayhinna sabeelan inna Allaha kana AAaliyyan kabeeran",
         "chapter": "nan",
         "_deepnote_index_column": "en"
        },
        {
         "id": 527,
         "number": 34,
         "text": "ٱلرِّجَالُ قَوَّـٰمُونَ عَلَى ٱلنِّسَآءِ بِمَا فَضَّلَ ٱللَّهُ بَعۡضَهُمۡ عَلَىٰ بَعۡضٖ وَبِمَآ أَنفَقُواْ مِنۡ أَمۡوَٰلِهِمۡۚ فَٱلصَّـٰلِحَٰتُ قَٰنِتَٰتٌ حَٰفِظَٰتٞ لِّلۡغَيۡبِ بِمَا حَفِظَ ٱللَّهُۚ وَٱلَّـٰتِي تَخَافُونَ نُشُوزَهُنَّ فَعِظُوهُنَّ وَٱهۡجُرُوهُنَّ فِي ٱلۡمَضَاجِعِ وَٱضۡرِبُوهُنَّۖ فَإِنۡ أَطَعۡنَكُمۡ فَلَا تَبۡغُواْ عَلَيۡهِنَّ سَبِيلًاۗ إِنَّ ٱللَّهَ كَانَ عَلِيّٗا كَبِيرٗا",
         "translations": "Los hombres son responsables del cuidado de las mujeres debido a las diferencias [físicas] que Dios ha puesto entre ellos, y por su obligación de mantenerlas con sus bienes materiales. Las mujeres piadosas e íntegras obedecen a Dios y en ausencia de su marido se mantienen fieles, tal como Dios manda. A aquellas de quienes teman maltrato y animadversión, exhórtenlas, tomen distancia no compartiendo el lecho, y por último pongan un límite físico; si les obedecen [en lo que Dios ordena], no les reclamen ni recriminen más. Dios es Sublime, Grande",
         "transliteration": "Alrrijalu qawwamoona AAala alnnisai bima faddala Allahu baAAdahum AAala baAAdin wabima anfaqoo min amwalihim faalssalihatu qanitatun hafithatun lilghaybi bima hafitha Allahu waallatee takhafoona nushoozahunna faAAithoohunna waohjuroohunna fee almadajiAAi waidriboohunna fain ataAAnakum fala tabghoo AAalayhinna sabeelan inna Allaha kana AAaliyyan kabeeran",
         "chapter": "nan",
         "_deepnote_index_column": "es"
        },
        {
         "id": 527,
         "number": 34,
         "text": "ٱلرِّجَالُ قَوَّـٰمُونَ عَلَى ٱلنِّسَآءِ بِمَا فَضَّلَ ٱللَّهُ بَعۡضَهُمۡ عَلَىٰ بَعۡضٖ وَبِمَآ أَنفَقُواْ مِنۡ أَمۡوَٰلِهِمۡۚ فَٱلصَّـٰلِحَٰتُ قَٰنِتَٰتٌ حَٰفِظَٰتٞ لِّلۡغَيۡبِ بِمَا حَفِظَ ٱللَّهُۚ وَٱلَّـٰتِي تَخَافُونَ نُشُوزَهُنَّ فَعِظُوهُنَّ وَٱهۡجُرُوهُنَّ فِي ٱلۡمَضَاجِعِ وَٱضۡرِبُوهُنَّۖ فَإِنۡ أَطَعۡنَكُمۡ فَلَا تَبۡغُواْ عَلَيۡهِنَّ سَبِيلًاۗ إِنَّ ٱللَّهَ كَانَ عَلِيّٗا كَبِيرٗا",
         "translations": "Les hommes ont autorité sur les femmes, en raison des faveurs qu'Allah accorde à ceux-là sur celles-ci, et aussi à cause des dépenses qu'ils font de leurs biens. Les femmes vertueuses sont obéissantes (à leurs maris), et protègent ce qui doit être protégé, pendant l'absence de leurs époux, avec la protection d'Allah. Et quant à celles dont vous craignez la désobéissance, exhortez-les, éloignez-vous d'elles dans leurs lits et frappez-les. Si elles arrivent à vous obéir, alors ne cherchez plus de voie contre elles, car Allah est certes, Haut et Grand",
         "transliteration": "Alrrijalu qawwamoona AAala alnnisai bima faddala Allahu baAAdahum AAala baAAdin wabima anfaqoo min amwalihim faalssalihatu qanitatun hafithatun lilghaybi bima hafitha Allahu waallatee takhafoona nushoozahunna faAAithoohunna waohjuroohunna fee almadajiAAi waidriboohunna fain ataAAnakum fala tabghoo AAalayhinna sabeelan inna Allaha kana AAaliyyan kabeeran",
         "chapter": "nan",
         "_deepnote_index_column": "fr"
        },
        {
         "id": 527,
         "number": 34,
         "text": "ٱلرِّجَالُ قَوَّـٰمُونَ عَلَى ٱلنِّسَآءِ بِمَا فَضَّلَ ٱللَّهُ بَعۡضَهُمۡ عَلَىٰ بَعۡضٖ وَبِمَآ أَنفَقُواْ مِنۡ أَمۡوَٰلِهِمۡۚ فَٱلصَّـٰلِحَٰتُ قَٰنِتَٰتٌ حَٰفِظَٰتٞ لِّلۡغَيۡبِ بِمَا حَفِظَ ٱللَّهُۚ وَٱلَّـٰتِي تَخَافُونَ نُشُوزَهُنَّ فَعِظُوهُنَّ وَٱهۡجُرُوهُنَّ فِي ٱلۡمَضَاجِعِ وَٱضۡرِبُوهُنَّۖ فَإِنۡ أَطَعۡنَكُمۡ فَلَا تَبۡغُواْ عَلَيۡهِنَّ سَبِيلًاۗ إِنَّ ٱللَّهَ كَانَ عَلِيّٗا كَبِيرٗا",
         "translations": "Laki-laki (suami) itu pelindung bagi perempuan (istri), karena Allah telah melebihkan sebagian mereka (laki-laki) atas sebagian yang lain (perempuan), dan karena mereka (laki-laki) telah memberikan nafkah dari hartanya. Maka perempuan-perempuan yang saleh, adalah mereka yang taat (kepada Allah) dan menjaga diri ketika (suaminya) tidak ada, karena Allah telah menjaga (mereka).191) Perempuan-perempuan yang kamu khawatirkan akan nusyuz,192) hendaklah kamu beri nasihat kepada mereka, tinggalkanlah mereka di tempat tidur (pisah ranjang), dan (kalau perlu) pukullah mereka. Tetapi jika mereka menaatimu, maka janganlah kamu mencari-cari alasan untuk menyusahkannya. Sungguh, Allah Mahatinggi, Mahabesar",
         "transliteration": "Alrrijalu qawwamoona AAala alnnisai bima faddala Allahu baAAdahum AAala baAAdin wabima anfaqoo min amwalihim faalssalihatu qanitatun hafithatun lilghaybi bima hafitha Allahu waallatee takhafoona nushoozahunna faAAithoohunna waohjuroohunna fee almadajiAAi waidriboohunna fain ataAAnakum fala tabghoo AAalayhinna sabeelan inna Allaha kana AAaliyyan kabeeran",
         "chapter": "4",
         "_deepnote_index_column": "id"
        },
        {
         "id": 527,
         "number": 34,
         "text": "ٱلرِّجَالُ قَوَّـٰمُونَ عَلَى ٱلنِّسَآءِ بِمَا فَضَّلَ ٱللَّهُ بَعۡضَهُمۡ عَلَىٰ بَعۡضٖ وَبِمَآ أَنفَقُواْ مِنۡ أَمۡوَٰلِهِمۡۚ فَٱلصَّـٰلِحَٰتُ قَٰنِتَٰتٌ حَٰفِظَٰتٞ لِّلۡغَيۡبِ بِمَا حَفِظَ ٱللَّهُۚ وَٱلَّـٰتِي تَخَافُونَ نُشُوزَهُنَّ فَعِظُوهُنَّ وَٱهۡجُرُوهُنَّ فِي ٱلۡمَضَاجِعِ وَٱضۡرِبُوهُنَّۖ فَإِنۡ أَطَعۡنَكُمۡ فَلَا تَبۡغُواْ عَلَيۡهِنَّ سَبِيلًاۗ إِنَّ ٱللَّهَ كَانَ عَلِيّٗا كَبِيرٗا",
         "translations": "Мужчины являются попечителями женщин, потому что Аллах дал одним из них преимущество перед другими, и потому что они расходуют из своего имущества. Праведные женщины покорны и хранят то, что положено хранить, в отсутствие мужей, благодаря заботе Аллаха. А тех женщин, непокорности которых вы опасаетесь, увещевайте, избегайте на супружеском ложе и побивайте. Если же они будут покорны вам, то не ищите пути против них. Воистину, Аллах - Возвышенный, Большой",
         "transliteration": "Alrrijalu qawwamoona AAala alnnisai bima faddala Allahu baAAdahum AAala baAAdin wabima anfaqoo min amwalihim faalssalihatu qanitatun hafithatun lilghaybi bima hafitha Allahu waallatee takhafoona nushoozahunna faAAithoohunna waohjuroohunna fee almadajiAAi waidriboohunna fain ataAAnakum fala tabghoo AAalayhinna sabeelan inna Allaha kana AAaliyyan kabeeran",
         "chapter": "nan",
         "_deepnote_index_column": "ru"
        },
        {
         "id": 527,
         "number": 34,
         "text": "ٱلرِّجَالُ قَوَّـٰمُونَ عَلَى ٱلنِّسَآءِ بِمَا فَضَّلَ ٱللَّهُ بَعۡضَهُمۡ عَلَىٰ بَعۡضٖ وَبِمَآ أَنفَقُواْ مِنۡ أَمۡوَٰلِهِمۡۚ فَٱلصَّـٰلِحَٰتُ قَٰنِتَٰتٌ حَٰفِظَٰتٞ لِّلۡغَيۡبِ بِمَا حَفِظَ ٱللَّهُۚ وَٱلَّـٰتِي تَخَافُونَ نُشُوزَهُنَّ فَعِظُوهُنَّ وَٱهۡجُرُوهُنَّ فِي ٱلۡمَضَاجِعِ وَٱضۡرِبُوهُنَّۖ فَإِنۡ أَطَعۡنَكُمۡ فَلَا تَبۡغُواْ عَلَيۡهِنَّ سَبِيلًاۗ إِنَّ ٱللَّهَ كَانَ عَلِيّٗا كَبِيرٗا",
         "translations": "MÄNNEN SKALL ha ansvar för och omsorg om kvinnorna med [den styrka och] de andra företräden som Gud har gett dem, och i egenskap av [kvinnornas] försörjare. Rättfärdiga kvinnor förrättar ödmjukt sin andakt [inför Gud] och döljer [för andra] det som Gud har dolt. Om ni ser tecken på illvilja hos dem, förmana dem då och varna dem och [om detta inte hjälper] håll er borta från deras nattläger och [som sista utväg] tillrättavisa dem handgripligen. Om de sedan visar sig medgörliga, sök då inte sak med dem. Gud är upphöjd, stor [i försvaret av de svagare]",
         "transliteration": "Alrrijalu qawwamoona AAala alnnisai bima faddala Allahu baAAdahum AAala baAAdin wabima anfaqoo min amwalihim faalssalihatu qanitatun hafithatun lilghaybi bima hafitha Allahu waallatee takhafoona nushoozahunna faAAithoohunna waohjuroohunna fee almadajiAAi waidriboohunna fain ataAAnakum fala tabghoo AAalayhinna sabeelan inna Allaha kana AAaliyyan kabeeran",
         "chapter": "nan",
         "_deepnote_index_column": "sv"
        },
        {
         "id": 527,
         "number": 34,
         "text": "ٱلرِّجَالُ قَوَّـٰمُونَ عَلَى ٱلنِّسَآءِ بِمَا فَضَّلَ ٱللَّهُ بَعۡضَهُمۡ عَلَىٰ بَعۡضٖ وَبِمَآ أَنفَقُواْ مِنۡ أَمۡوَٰلِهِمۡۚ فَٱلصَّـٰلِحَٰتُ قَٰنِتَٰتٌ حَٰفِظَٰتٞ لِّلۡغَيۡبِ بِمَا حَفِظَ ٱللَّهُۚ وَٱلَّـٰتِي تَخَافُونَ نُشُوزَهُنَّ فَعِظُوهُنَّ وَٱهۡجُرُوهُنَّ فِي ٱلۡمَضَاجِعِ وَٱضۡرِبُوهُنَّۖ فَإِنۡ أَطَعۡنَكُمۡ فَلَا تَبۡغُواْ عَلَيۡهِنَّ سَبِيلًاۗ إِنَّ ٱللَّهَ كَانَ عَلِيّٗا كَبِيرٗا",
         "translations": "Allah'ın kimini kimine üstün kılmasından ötürü ve erkeklerin, mallarından sarfetmelerinden dolayı erkekler kadınlar üzerine hakimdirler. İyi kadınlar, gönülden boyun eğenler ve Allah'ın korunmasını emrettiğini, kocasının bulunmadığı zaman da koruyanlardır. Serkeşlik etmelerinden endişelendiğiniz kadınlara öğüt verin, yataklarında onları yalnız bırakın, nihayet dövün. Size itaat ediyorlarsa aleyhlerine yol aramayın. Doğrusu Allah Yüce'dir, Büyük'tür",
         "transliteration": "Alrrijalu qawwamoona AAala alnnisai bima faddala Allahu baAAdahum AAala baAAdin wabima anfaqoo min amwalihim faalssalihatu qanitatun hafithatun lilghaybi bima hafitha Allahu waallatee takhafoona nushoozahunna faAAithoohunna waohjuroohunna fee almadajiAAi waidriboohunna fain ataAAnakum fala tabghoo AAalayhinna sabeelan inna Allaha kana AAaliyyan kabeeran",
         "chapter": "nan",
         "_deepnote_index_column": "tr"
        },
        {
         "id": 527,
         "number": 34,
         "text": "ٱلرِّجَالُ قَوَّـٰمُونَ عَلَى ٱلنِّسَآءِ بِمَا فَضَّلَ ٱللَّهُ بَعۡضَهُمۡ عَلَىٰ بَعۡضٖ وَبِمَآ أَنفَقُواْ مِنۡ أَمۡوَٰلِهِمۡۚ فَٱلصَّـٰلِحَٰتُ قَٰنِتَٰتٌ حَٰفِظَٰتٞ لِّلۡغَيۡبِ بِمَا حَفِظَ ٱللَّهُۚ وَٱلَّـٰتِي تَخَافُونَ نُشُوزَهُنَّ فَعِظُوهُنَّ وَٱهۡجُرُوهُنَّ فِي ٱلۡمَضَاجِعِ وَٱضۡرِبُوهُنَّۖ فَإِنۡ أَطَعۡنَكُمۡ فَلَا تَبۡغُواْ عَلَيۡهِنَّ سَبِيلًاۗ إِنَّ ٱللَّهَ كَانَ عَلِيّٗا كَبِيرٗا",
         "translations": "مرد عورتوں پر قوام ہیں، اس بنا پر کہ اللہ نے اُن میں سے ایک کو دوسرے پر فضیلت دی ہے، اور اس بنا پر کہ مرد اپنے مال خرچ کرتے ہیں پس جو صالح عورتیں ہیں وہ اطاعت شعار ہوتی ہیں اور مردوں کے پیچھے اللہ کی حفاظت و نگرانی میں اُن کے حقوق کی حفاظت کرتی ہیں اور جن عورتوں سے تمہیں سرکشی کا اندیشہ ہو انہیں سمجھاؤ، خواب گاہوں میں اُن سے علیحدہ رہو اور مارو، پھر اگر تم وہ تمہاری مطیع ہو جائیں تو خواہ مخواہ ان پر دست درازی کے لیے بہانے تلاش نہ کرو، یقین رکھو کہ اوپر اللہ موجود ہے جو بڑا اور بالا تر ہے",
         "transliteration": "Alrrijalu qawwamoona AAala alnnisai bima faddala Allahu baAAdahum AAala baAAdin wabima anfaqoo min amwalihim faalssalihatu qanitatun hafithatun lilghaybi bima hafitha Allahu waallatee takhafoona nushoozahunna faAAithoohunna waohjuroohunna fee almadajiAAi waidriboohunna fain ataAAnakum fala tabghoo AAalayhinna sabeelan inna Allaha kana AAaliyyan kabeeran",
         "chapter": "nan",
         "_deepnote_index_column": "ur"
        },
        {
         "id": 527,
         "number": 34,
         "text": "ٱلرِّجَالُ قَوَّـٰمُونَ عَلَى ٱلنِّسَآءِ بِمَا فَضَّلَ ٱللَّهُ بَعۡضَهُمۡ عَلَىٰ بَعۡضٖ وَبِمَآ أَنفَقُواْ مِنۡ أَمۡوَٰلِهِمۡۚ فَٱلصَّـٰلِحَٰتُ قَٰنِتَٰتٌ حَٰفِظَٰتٞ لِّلۡغَيۡبِ بِمَا حَفِظَ ٱللَّهُۚ وَٱلَّـٰتِي تَخَافُونَ نُشُوزَهُنَّ فَعِظُوهُنَّ وَٱهۡجُرُوهُنَّ فِي ٱلۡمَضَاجِعِ وَٱضۡرِبُوهُنَّۖ فَإِنۡ أَطَعۡنَكُمۡ فَلَا تَبۡغُواْ عَلَيۡهِنَّ سَبِيلًاۗ إِنَّ ٱللَّهَ كَانَ عَلِيّٗا كَبِيرٗا",
         "translations": "男人是维护妇女的，因为安拉使他们比她们更优越，又因为他们所费的财产。贤淑的女子是服从的，是借安拉的保佑而保守隐微的。你们怕她们执拗的妇女，你们可以劝戒她们，可以和她们同床异被，可以打她们。如果她们服从你们，那么，你们不要再想法欺负她们。安拉确是至高的主，确是至大的。",
         "transliteration": "Alrrijalu qawwamoona AAala alnnisai bima faddala Allahu baAAdahum AAala baAAdin wabima anfaqoo min amwalihim faalssalihatu qanitatun hafithatun lilghaybi bima hafitha Allahu waallatee takhafoona nushoozahunna faAAithoohunna waohjuroohunna fee almadajiAAi waidriboohunna fain ataAAnakum fala tabghoo AAalayhinna sabeelan inna Allaha kana AAaliyyan kabeeran",
         "chapter": "nan",
         "_deepnote_index_column": "zh"
        },
        {
         "id": 527,
         "number": 34,
         "text": "ٱلرِّجَالُ قَوَّـٰمُونَ عَلَى ٱلنِّسَآءِ بِمَا فَضَّلَ ٱللَّهُ بَعۡضَهُمۡ عَلَىٰ بَعۡضٖ وَبِمَآ أَنفَقُواْ مِنۡ أَمۡوَٰلِهِمۡۚ فَٱلصَّـٰلِحَٰتُ قَٰنِتَٰتٌ حَٰفِظَٰتٞ لِّلۡغَيۡبِ بِمَا حَفِظَ ٱللَّهُۚ وَٱلَّـٰتِي تَخَافُونَ نُشُوزَهُنَّ فَعِظُوهُنَّ وَٱهۡجُرُوهُنَّ فِي ٱلۡمَضَاجِعِ وَٱضۡرِبُوهُنَّۖ فَإِنۡ أَطَعۡنَكُمۡ فَلَا تَبۡغُواْ عَلَيۡهِنَّ سَبِيلًاۗ إِنَّ ٱللَّهَ كَانَ عَلِيّٗا كَبِيرٗا",
         "translations": "nan",
         "transliteration": "Alrrijalu qawwamoona AAala alnnisai bima faddala Allahu baAAdahum AAala baAAdin wabima anfaqoo min amwalihim faalssalihatu qanitatun hafithatun lilghaybi bima hafitha Allahu waallatee takhafoona nushoozahunna faAAithoohunna waohjuroohunna fee almadajiAAi waidriboohunna fain ataAAnakum fala tabghoo AAalayhinna sabeelan inna Allaha kana AAaliyyan kabeeran",
         "chapter": "النساء",
         "_deepnote_index_column": "name"
        }
       ]
      },
      "text/plain": "                  id  number  \\\nen               527      34   \nes               527      34   \nfr               527      34   \nid               527      34   \nru               527      34   \nsv               527      34   \ntr               527      34   \nur               527      34   \nzh               527      34   \nname             527      34   \ntransliteration  527      34   \ntranslations     527      34   \ntype             527      34   \n\n                                                              text  \\\nen               ٱلرِّجَالُ قَوَّـٰمُونَ عَلَى ٱلنِّسَآءِ بِمَ...   \nes               ٱلرِّجَالُ قَوَّـٰمُونَ عَلَى ٱلنِّسَآءِ بِمَ...   \nfr               ٱلرِّجَالُ قَوَّـٰمُونَ عَلَى ٱلنِّسَآءِ بِمَ...   \nid               ٱلرِّجَالُ قَوَّـٰمُونَ عَلَى ٱلنِّسَآءِ بِمَ...   \nru               ٱلرِّجَالُ قَوَّـٰمُونَ عَلَى ٱلنِّسَآءِ بِمَ...   \nsv               ٱلرِّجَالُ قَوَّـٰمُونَ عَلَى ٱلنِّسَآءِ بِمَ...   \ntr               ٱلرِّجَالُ قَوَّـٰمُونَ عَلَى ٱلنِّسَآءِ بِمَ...   \nur               ٱلرِّجَالُ قَوَّـٰمُونَ عَلَى ٱلنِّسَآءِ بِمَ...   \nzh               ٱلرِّجَالُ قَوَّـٰمُونَ عَلَى ٱلنِّسَآءِ بِمَ...   \nname             ٱلرِّجَالُ قَوَّـٰمُونَ عَلَى ٱلنِّسَآءِ بِمَ...   \ntransliteration  ٱلرِّجَالُ قَوَّـٰمُونَ عَلَى ٱلنِّسَآءِ بِمَ...   \ntranslations     ٱلرِّجَالُ قَوَّـٰمُونَ عَلَى ٱلنِّسَآءِ بِمَ...   \ntype             ٱلرِّجَالُ قَوَّـٰمُونَ عَلَى ٱلنِّسَآءِ بِمَ...   \n\n                                                      translations  \\\nen               Men are in charge of women by [right of] what ...   \nes               Los hombres son responsables del cuidado de la...   \nfr               Les hommes ont autorité sur les femmes, en rai...   \nid               Laki-laki (suami) itu pelindung bagi perempuan...   \nru               Мужчины являются попечителями женщин, потому ч...   \nsv               MÄNNEN SKALL ha ansvar för och omsorg om kvinn...   \ntr               Allah'ın kimini kimine üstün kılmasından ötürü...   \nur               مرد عورتوں پر قوام ہیں، اس بنا پر کہ اللہ نے ا...   \nzh               男人是维护妇女的，因为安拉使他们比她们更优越，又因为他们所费的财产。贤淑的女子是服从的，是借...   \nname                                                           NaN   \ntransliteration                                                NaN   \ntranslations                                                   NaN   \ntype                                                           NaN   \n\n                                                   transliteration  \\\nen               Alrrijalu qawwamoona AAala alnnisai bima fadda...   \nes               Alrrijalu qawwamoona AAala alnnisai bima fadda...   \nfr               Alrrijalu qawwamoona AAala alnnisai bima fadda...   \nid               Alrrijalu qawwamoona AAala alnnisai bima fadda...   \nru               Alrrijalu qawwamoona AAala alnnisai bima fadda...   \nsv               Alrrijalu qawwamoona AAala alnnisai bima fadda...   \ntr               Alrrijalu qawwamoona AAala alnnisai bima fadda...   \nur               Alrrijalu qawwamoona AAala alnnisai bima fadda...   \nzh               Alrrijalu qawwamoona AAala alnnisai bima fadda...   \nname             Alrrijalu qawwamoona AAala alnnisai bima fadda...   \ntransliteration  Alrrijalu qawwamoona AAala alnnisai bima fadda...   \ntranslations     Alrrijalu qawwamoona AAala alnnisai bima fadda...   \ntype             Alrrijalu qawwamoona AAala alnnisai bima fadda...   \n\n                                                           chapter  \nen                                                             NaN  \nes                                                             NaN  \nfr                                                             NaN  \nid                                                               4  \nru                                                             NaN  \nsv                                                             NaN  \ntr                                                             NaN  \nur                                                             NaN  \nzh                                                             NaN  \nname                                                        النساء  \ntransliteration                                            An-Nisa  \ntranslations     {'en': 'The Women', 'es': 'Las Mujeres', 'fr':...  \ntype                                                       medinan  ",
      "text/html": "<div>\n<style scoped>\n    .dataframe tbody tr th:only-of-type {\n        vertical-align: middle;\n    }\n\n    .dataframe tbody tr th {\n        vertical-align: top;\n    }\n\n    .dataframe thead th {\n        text-align: right;\n    }\n</style>\n<table border=\"1\" class=\"dataframe\">\n  <thead>\n    <tr style=\"text-align: right;\">\n      <th></th>\n      <th>id</th>\n      <th>number</th>\n      <th>text</th>\n      <th>translations</th>\n      <th>transliteration</th>\n      <th>chapter</th>\n    </tr>\n  </thead>\n  <tbody>\n    <tr>\n      <th>en</th>\n      <td>527</td>\n      <td>34</td>\n      <td>ٱلرِّجَالُ قَوَّـٰمُونَ عَلَى ٱلنِّسَآءِ بِمَ...</td>\n      <td>Men are in charge of women by [right of] what ...</td>\n      <td>Alrrijalu qawwamoona AAala alnnisai bima fadda...</td>\n      <td>NaN</td>\n    </tr>\n    <tr>\n      <th>es</th>\n      <td>527</td>\n      <td>34</td>\n      <td>ٱلرِّجَالُ قَوَّـٰمُونَ عَلَى ٱلنِّسَآءِ بِمَ...</td>\n      <td>Los hombres son responsables del cuidado de la...</td>\n      <td>Alrrijalu qawwamoona AAala alnnisai bima fadda...</td>\n      <td>NaN</td>\n    </tr>\n    <tr>\n      <th>fr</th>\n      <td>527</td>\n      <td>34</td>\n      <td>ٱلرِّجَالُ قَوَّـٰمُونَ عَلَى ٱلنِّسَآءِ بِمَ...</td>\n      <td>Les hommes ont autorité sur les femmes, en rai...</td>\n      <td>Alrrijalu qawwamoona AAala alnnisai bima fadda...</td>\n      <td>NaN</td>\n    </tr>\n    <tr>\n      <th>id</th>\n      <td>527</td>\n      <td>34</td>\n      <td>ٱلرِّجَالُ قَوَّـٰمُونَ عَلَى ٱلنِّسَآءِ بِمَ...</td>\n      <td>Laki-laki (suami) itu pelindung bagi perempuan...</td>\n      <td>Alrrijalu qawwamoona AAala alnnisai bima fadda...</td>\n      <td>4</td>\n    </tr>\n    <tr>\n      <th>ru</th>\n      <td>527</td>\n      <td>34</td>\n      <td>ٱلرِّجَالُ قَوَّـٰمُونَ عَلَى ٱلنِّسَآءِ بِمَ...</td>\n      <td>Мужчины являются попечителями женщин, потому ч...</td>\n      <td>Alrrijalu qawwamoona AAala alnnisai bima fadda...</td>\n      <td>NaN</td>\n    </tr>\n    <tr>\n      <th>sv</th>\n      <td>527</td>\n      <td>34</td>\n      <td>ٱلرِّجَالُ قَوَّـٰمُونَ عَلَى ٱلنِّسَآءِ بِمَ...</td>\n      <td>MÄNNEN SKALL ha ansvar för och omsorg om kvinn...</td>\n      <td>Alrrijalu qawwamoona AAala alnnisai bima fadda...</td>\n      <td>NaN</td>\n    </tr>\n    <tr>\n      <th>tr</th>\n      <td>527</td>\n      <td>34</td>\n      <td>ٱلرِّجَالُ قَوَّـٰمُونَ عَلَى ٱلنِّسَآءِ بِمَ...</td>\n      <td>Allah'ın kimini kimine üstün kılmasından ötürü...</td>\n      <td>Alrrijalu qawwamoona AAala alnnisai bima fadda...</td>\n      <td>NaN</td>\n    </tr>\n    <tr>\n      <th>ur</th>\n      <td>527</td>\n      <td>34</td>\n      <td>ٱلرِّجَالُ قَوَّـٰمُونَ عَلَى ٱلنِّسَآءِ بِمَ...</td>\n      <td>مرد عورتوں پر قوام ہیں، اس بنا پر کہ اللہ نے ا...</td>\n      <td>Alrrijalu qawwamoona AAala alnnisai bima fadda...</td>\n      <td>NaN</td>\n    </tr>\n    <tr>\n      <th>zh</th>\n      <td>527</td>\n      <td>34</td>\n      <td>ٱلرِّجَالُ قَوَّـٰمُونَ عَلَى ٱلنِّسَآءِ بِمَ...</td>\n      <td>男人是维护妇女的，因为安拉使他们比她们更优越，又因为他们所费的财产。贤淑的女子是服从的，是借...</td>\n      <td>Alrrijalu qawwamoona AAala alnnisai bima fadda...</td>\n      <td>NaN</td>\n    </tr>\n    <tr>\n      <th>name</th>\n      <td>527</td>\n      <td>34</td>\n      <td>ٱلرِّجَالُ قَوَّـٰمُونَ عَلَى ٱلنِّسَآءِ بِمَ...</td>\n      <td>NaN</td>\n      <td>Alrrijalu qawwamoona AAala alnnisai bima fadda...</td>\n      <td>النساء</td>\n    </tr>\n    <tr>\n      <th>transliteration</th>\n      <td>527</td>\n      <td>34</td>\n      <td>ٱلرِّجَالُ قَوَّـٰمُونَ عَلَى ٱلنِّسَآءِ بِمَ...</td>\n      <td>NaN</td>\n      <td>Alrrijalu qawwamoona AAala alnnisai bima fadda...</td>\n      <td>An-Nisa</td>\n    </tr>\n    <tr>\n      <th>translations</th>\n      <td>527</td>\n      <td>34</td>\n      <td>ٱلرِّجَالُ قَوَّـٰمُونَ عَلَى ٱلنِّسَآءِ بِمَ...</td>\n      <td>NaN</td>\n      <td>Alrrijalu qawwamoona AAala alnnisai bima fadda...</td>\n      <td>{'en': 'The Women', 'es': 'Las Mujeres', 'fr':...</td>\n    </tr>\n    <tr>\n      <th>type</th>\n      <td>527</td>\n      <td>34</td>\n      <td>ٱلرِّجَالُ قَوَّـٰمُونَ عَلَى ٱلنِّسَآءِ بِمَ...</td>\n      <td>NaN</td>\n      <td>Alrrijalu qawwamoona AAala alnnisai bima fadda...</td>\n      <td>medinan</td>\n    </tr>\n  </tbody>\n</table>\n</div>"
     },
     "metadata": {}
    }
   ]
  },
  {
   "cell_type": "markdown",
   "source": "### Filtering to single translation",
   "metadata": {
    "formattedRanges": [],
    "cell_id": "2c31290878ea489a9e3928f26d28caee",
    "tags": [],
    "is_collapsed": false,
    "deepnote_app_coordinates": {
     "x": 0,
     "y": 61,
     "w": 12,
     "h": 5
    },
    "deepnote_cell_type": "text-cell-h3"
   }
  },
  {
   "cell_type": "code",
   "metadata": {
    "cell_id": "5569cb8d28f04ed680babbdf458f3b1d",
    "tags": [],
    "deepnote_to_be_reexecuted": false,
    "source_hash": "cadd6cb",
    "execution_start": 1657515771023,
    "execution_millis": 23,
    "deepnote_app_coordinates": {
     "x": 0,
     "y": 67,
     "w": 12,
     "h": 5
    },
    "deepnote_cell_type": "code",
    "deepnote_cell_height": 231
   },
   "source": "v527.loc[['en']]",
   "execution_count": 5,
   "outputs": [
    {
     "output_type": "execute_result",
     "execution_count": 5,
     "data": {
      "application/vnd.deepnote.dataframe.v3+json": {
       "column_count": 6,
       "row_count": 1,
       "columns": [
        {
         "name": "id",
         "dtype": "int64",
         "stats": {
          "unique_count": 1,
          "nan_count": 0,
          "min": "527",
          "max": "527",
          "histogram": [
           {
            "bin_start": 526.5,
            "bin_end": 526.6,
            "count": 0
           },
           {
            "bin_start": 526.6,
            "bin_end": 526.7,
            "count": 0
           },
           {
            "bin_start": 526.7,
            "bin_end": 526.8,
            "count": 0
           },
           {
            "bin_start": 526.8,
            "bin_end": 526.9,
            "count": 0
           },
           {
            "bin_start": 526.9,
            "bin_end": 527,
            "count": 0
           },
           {
            "bin_start": 527,
            "bin_end": 527.1,
            "count": 1
           },
           {
            "bin_start": 527.1,
            "bin_end": 527.2,
            "count": 0
           },
           {
            "bin_start": 527.2,
            "bin_end": 527.3,
            "count": 0
           },
           {
            "bin_start": 527.3,
            "bin_end": 527.4,
            "count": 0
           },
           {
            "bin_start": 527.4,
            "bin_end": 527.5,
            "count": 0
           }
          ]
         }
        },
        {
         "name": "number",
         "dtype": "int64",
         "stats": {
          "unique_count": 1,
          "nan_count": 0,
          "min": "34",
          "max": "34",
          "histogram": [
           {
            "bin_start": 33.5,
            "bin_end": 33.6,
            "count": 0
           },
           {
            "bin_start": 33.6,
            "bin_end": 33.7,
            "count": 0
           },
           {
            "bin_start": 33.7,
            "bin_end": 33.8,
            "count": 0
           },
           {
            "bin_start": 33.8,
            "bin_end": 33.9,
            "count": 0
           },
           {
            "bin_start": 33.9,
            "bin_end": 34,
            "count": 0
           },
           {
            "bin_start": 34,
            "bin_end": 34.1,
            "count": 1
           },
           {
            "bin_start": 34.1,
            "bin_end": 34.2,
            "count": 0
           },
           {
            "bin_start": 34.2,
            "bin_end": 34.3,
            "count": 0
           },
           {
            "bin_start": 34.3,
            "bin_end": 34.4,
            "count": 0
           },
           {
            "bin_start": 34.4,
            "bin_end": 34.5,
            "count": 0
           }
          ]
         }
        },
        {
         "name": "text",
         "dtype": "object",
         "stats": {
          "unique_count": 1,
          "nan_count": 0,
          "categories": [
           {
            "name": "ٱلرِّجَالُ قَوَّـٰمُونَ عَلَى ٱلنِّسَآءِ بِمَا فَضَّلَ ٱللَّهُ بَعۡضَهُمۡ عَلَىٰ بَعۡضٖ وَبِمَآ أَنفَقُواْ مِنۡ أَمۡوَٰلِهِمۡۚ فَٱلصَّـٰلِحَٰتُ قَٰنِتَٰتٌ حَٰفِظَٰتٞ لِّلۡغَيۡبِ بِمَا حَفِظَ ٱللَّهُۚ وَٱلَّـٰتِي تَخَافُونَ نُشُوزَهُنَّ فَعِظُوهُنَّ وَٱهۡجُرُوهُنَّ فِي ٱلۡمَضَاجِعِ وَٱضۡرِبُوهُنَّۖ فَإِنۡ أَطَعۡنَكُمۡ فَلَا تَبۡغُواْ عَلَيۡهِنَّ سَبِيلًاۗ إِنَّ ٱللَّهَ كَانَ عَلِيّٗا كَبِيرٗا",
            "count": 1
           }
          ]
         }
        },
        {
         "name": "translations",
         "dtype": "object",
         "stats": {
          "unique_count": 1,
          "nan_count": 0,
          "categories": [
           {
            "name": "Men are in charge of women by [right of] what Allah has given one over the other and what they spend [for maintenance] from their wealth. So righteous women are devoutly obedient, guarding in [the husband's] absence what Allah would have them guard. But those [wives] from whom you fear arrogance - [first] advise them; [then if they persist], forsake them in bed; and [finally], strike them. But if they obey you [once more], seek no means against them. Indeed, Allah is ever Exalted and Grand",
            "count": 1
           }
          ]
         }
        },
        {
         "name": "transliteration",
         "dtype": "object",
         "stats": {
          "unique_count": 1,
          "nan_count": 0,
          "categories": [
           {
            "name": "Alrrijalu qawwamoona AAala alnnisai bima faddala Allahu baAAdahum AAala baAAdin wabima anfaqoo min amwalihim faalssalihatu qanitatun hafithatun lilghaybi bima hafitha Allahu waallatee takhafoona nushoozahunna faAAithoohunna waohjuroohunna fee almadajiAAi waidriboohunna fain ataAAnakum fala tabghoo AAalayhinna sabeelan inna Allaha kana AAaliyyan kabeeran",
            "count": 1
           }
          ]
         }
        },
        {
         "name": "chapter",
         "dtype": "object",
         "stats": {
          "unique_count": 0,
          "nan_count": 1,
          "categories": [
           {
            "name": "Missing",
            "count": 1
           }
          ]
         }
        },
        {
         "name": "_deepnote_index_column",
         "dtype": "object"
        }
       ],
       "rows": [
        {
         "id": 527,
         "number": 34,
         "text": "ٱلرِّجَالُ قَوَّـٰمُونَ عَلَى ٱلنِّسَآءِ بِمَا فَضَّلَ ٱللَّهُ بَعۡضَهُمۡ عَلَىٰ بَعۡضٖ وَبِمَآ أَنفَقُواْ مِنۡ أَمۡوَٰلِهِمۡۚ فَٱلصَّـٰلِحَٰتُ قَٰنِتَٰتٌ حَٰفِظَٰتٞ لِّلۡغَيۡبِ بِمَا حَفِظَ ٱللَّهُۚ وَٱلَّـٰتِي تَخَافُونَ نُشُوزَهُنَّ فَعِظُوهُنَّ وَٱهۡجُرُوهُنَّ فِي ٱلۡمَضَاجِعِ وَٱضۡرِبُوهُنَّۖ فَإِنۡ أَطَعۡنَكُمۡ فَلَا تَبۡغُواْ عَلَيۡهِنَّ سَبِيلًاۗ إِنَّ ٱللَّهَ كَانَ عَلِيّٗا كَبِيرٗا",
         "translations": "Men are in charge of women by [right of] what Allah has given one over the other and what they spend [for maintenance] from their wealth. So righteous women are devoutly obedient, guarding in [the husband's] absence what Allah would have them guard. But those [wives] from whom you fear arrogance - [first] advise them; [then if they persist], forsake them in bed; and [finally], strike them. But if they obey you [once more], seek no means against them. Indeed, Allah is ever Exalted and Grand",
         "transliteration": "Alrrijalu qawwamoona AAala alnnisai bima faddala Allahu baAAdahum AAala baAAdin wabima anfaqoo min amwalihim faalssalihatu qanitatun hafithatun lilghaybi bima hafitha Allahu waallatee takhafoona nushoozahunna faAAithoohunna waohjuroohunna fee almadajiAAi waidriboohunna fain ataAAnakum fala tabghoo AAalayhinna sabeelan inna Allaha kana AAaliyyan kabeeran",
         "chapter": "nan",
         "_deepnote_index_column": "en"
        }
       ]
      },
      "text/plain": "     id  number                                               text  \\\nen  527      34  ٱلرِّجَالُ قَوَّـٰمُونَ عَلَى ٱلنِّسَآءِ بِمَ...   \n\n                                         translations  \\\nen  Men are in charge of women by [right of] what ...   \n\n                                      transliteration chapter  \nen  Alrrijalu qawwamoona AAala alnnisai bima fadda...     NaN  ",
      "text/html": "<div>\n<style scoped>\n    .dataframe tbody tr th:only-of-type {\n        vertical-align: middle;\n    }\n\n    .dataframe tbody tr th {\n        vertical-align: top;\n    }\n\n    .dataframe thead th {\n        text-align: right;\n    }\n</style>\n<table border=\"1\" class=\"dataframe\">\n  <thead>\n    <tr style=\"text-align: right;\">\n      <th></th>\n      <th>id</th>\n      <th>number</th>\n      <th>text</th>\n      <th>translations</th>\n      <th>transliteration</th>\n      <th>chapter</th>\n    </tr>\n  </thead>\n  <tbody>\n    <tr>\n      <th>en</th>\n      <td>527</td>\n      <td>34</td>\n      <td>ٱلرِّجَالُ قَوَّـٰمُونَ عَلَى ٱلنِّسَآءِ بِمَ...</td>\n      <td>Men are in charge of women by [right of] what ...</td>\n      <td>Alrrijalu qawwamoona AAala alnnisai bima fadda...</td>\n      <td>NaN</td>\n    </tr>\n  </tbody>\n</table>\n</div>"
     },
     "metadata": {}
    }
   ]
  },
  {
   "cell_type": "markdown",
   "source": "## Reading All Verses with Extended Translations",
   "metadata": {
    "formattedRanges": [],
    "cell_id": "1a83ae8d66e444aa8154b7c90e3e3268",
    "tags": [],
    "is_collapsed": false,
    "deepnote_app_coordinates": {
     "x": 0,
     "y": 73,
     "w": 12,
     "h": 5
    },
    "deepnote_cell_type": "text-cell-h2"
   }
  },
  {
   "cell_type": "code",
   "metadata": {
    "cell_id": "7fee412a9fb44a7abdbd661877646bf8",
    "tags": [],
    "deepnote_to_be_reexecuted": false,
    "source_hash": "f2e4f894",
    "execution_start": 1657515771045,
    "execution_millis": 508,
    "deepnote_app_coordinates": {
     "x": 0,
     "y": 79,
     "w": 12,
     "h": 5
    },
    "deepnote_cell_type": "code",
    "deepnote_cell_height": 636
   },
   "source": "# Dataset: Verses with Extended Translations\nverses = pd.read_json('https://projectq.io/data/source/verses.json')\nverses",
   "execution_count": 6,
   "outputs": [
    {
     "output_type": "execute_result",
     "execution_count": 6,
     "data": {
      "application/vnd.deepnote.dataframe.v3+json": {
       "column_count": 8,
       "row_count": 6236,
       "columns": [
        {
         "name": "id",
         "dtype": "int64",
         "stats": {
          "unique_count": 6236,
          "nan_count": 0,
          "min": "1",
          "max": "6236",
          "histogram": [
           {
            "bin_start": 1,
            "bin_end": 624.5,
            "count": 624
           },
           {
            "bin_start": 624.5,
            "bin_end": 1248,
            "count": 623
           },
           {
            "bin_start": 1248,
            "bin_end": 1871.5,
            "count": 624
           },
           {
            "bin_start": 1871.5,
            "bin_end": 2495,
            "count": 623
           },
           {
            "bin_start": 2495,
            "bin_end": 3118.5,
            "count": 624
           },
           {
            "bin_start": 3118.5,
            "bin_end": 3742,
            "count": 623
           },
           {
            "bin_start": 3742,
            "bin_end": 4365.5,
            "count": 624
           },
           {
            "bin_start": 4365.5,
            "bin_end": 4989,
            "count": 623
           },
           {
            "bin_start": 4989,
            "bin_end": 5612.5,
            "count": 624
           },
           {
            "bin_start": 5612.5,
            "bin_end": 6236,
            "count": 624
           }
          ]
         }
        },
        {
         "name": "chapter",
         "dtype": "int64",
         "stats": {
          "unique_count": 114,
          "nan_count": 0,
          "min": "1",
          "max": "114",
          "histogram": [
           {
            "bin_start": 1,
            "bin_end": 12.3,
            "count": 1707
           },
           {
            "bin_start": 12.3,
            "bin_end": 23.6,
            "count": 1084
           },
           {
            "bin_start": 23.6,
            "bin_end": 34.900000000000006,
            "count": 869
           },
           {
            "bin_start": 34.900000000000006,
            "bin_end": 46.2,
            "count": 885
           },
           {
            "bin_start": 46.2,
            "bin_end": 57.5,
            "count": 559
           },
           {
            "bin_start": 57.5,
            "bin_end": 68.80000000000001,
            "count": 219
           },
           {
            "bin_start": 68.80000000000001,
            "bin_end": 80.10000000000001,
            "count": 477
           },
           {
            "bin_start": 80.10000000000001,
            "bin_end": 91.4,
            "count": 258
           },
           {
            "bin_start": 91.4,
            "bin_end": 102.7,
            "count": 118
           },
           {
            "bin_start": 102.7,
            "bin_end": 114,
            "count": 60
           }
          ]
         }
        },
        {
         "name": "verse",
         "dtype": "int64",
         "stats": {
          "unique_count": 286,
          "nan_count": 0,
          "min": "1",
          "max": "286",
          "histogram": [
           {
            "bin_start": 1,
            "bin_end": 29.5,
            "count": 2580
           },
           {
            "bin_start": 29.5,
            "bin_end": 58,
            "count": 1482
           },
           {
            "bin_start": 58,
            "bin_end": 86.5,
            "count": 925
           },
           {
            "bin_start": 86.5,
            "bin_end": 115,
            "count": 536
           },
           {
            "bin_start": 115,
            "bin_end": 143.5,
            "count": 272
           },
           {
            "bin_start": 143.5,
            "bin_end": 172,
            "count": 190
           },
           {
            "bin_start": 172,
            "bin_end": 200.5,
            "count": 132
           },
           {
            "bin_start": 200.5,
            "bin_end": 229,
            "count": 61
           },
           {
            "bin_start": 229,
            "bin_end": 257.5,
            "count": 29
           },
           {
            "bin_start": 257.5,
            "bin_end": 286,
            "count": 29
           }
          ]
         }
        },
        {
         "name": "Sahih_International",
         "dtype": "object",
         "stats": {
          "unique_count": 6111,
          "nan_count": 0,
          "categories": [
           {
            "name": "So which of the favors of your Lord would you deny?",
            "count": 24
           },
           {
            "name": "Woe, that Day, to the deniers.",
            "count": 10
           },
           {
            "name": "6109 others",
            "count": 6202
           }
          ]
         }
        },
        {
         "name": "Yusuf_Ali",
         "dtype": "object",
         "stats": {
          "unique_count": 6155,
          "nan_count": 0,
          "categories": [
           {
            "name": "Then which of the favours of your Lord will ye deny?",
            "count": 23
           },
           {
            "name": "Ah woe, that Day, to the Rejecters of Truth!",
            "count": 9
           },
           {
            "name": "6153 others",
            "count": 6204
           }
          ]
         }
        },
        {
         "name": "Shakir",
         "dtype": "object",
         "stats": {
          "unique_count": 6142,
          "nan_count": 0,
          "categories": [
           {
            "name": "Which then of the bounties of your Lord will you deny?",
            "count": 31
           },
           {
            "name": "Woe on that day to the rejecters.",
            "count": 10
           },
           {
            "name": "6140 others",
            "count": 6195
           }
          ]
         }
        },
        {
         "name": "Muhammad_Sarwar",
         "dtype": "object",
         "stats": {
          "unique_count": 6168,
          "nan_count": 0,
          "categories": [
           {
            "name": "(Jinn and mankind) - which of the favors of your Lord would you then deny?",
            "count": 15
           },
           {
            "name": "(Jinn and mankind) - which of the favors of your Lord do you then deny?",
            "count": 8
           },
           {
            "name": "6166 others",
            "count": 6213
           }
          ]
         }
        },
        {
         "name": "Mohsin_Khan",
         "dtype": "object",
         "stats": {
          "unique_count": 6162,
          "nan_count": 0,
          "categories": [
           {
            "name": "Then which of the Blessings of your Lord will you both (jinns and men) deny?",
            "count": 31
           },
           {
            "name": "Woe that Day to the deniers (of the Day of Resurrection)!",
            "count": 10
           },
           {
            "name": "6160 others",
            "count": 6195
           }
          ]
         }
        },
        {
         "name": "_deepnote_index_column",
         "dtype": "int64"
        }
       ],
       "rows": [
        {
         "id": 1,
         "chapter": 1,
         "verse": 1,
         "Sahih_International": "In the name of Allah , the Entirely Merciful, the Especially Merciful.",
         "Yusuf_Ali": "In the name of Allah, Most Gracious, Most Merciful.",
         "Shakir": "In the name of Allah, the Beneficent, the Merciful.",
         "Muhammad_Sarwar": "In the Name of Allah, the Beneficent, the Merciful",
         "Mohsin_Khan": "In the Name of Allah, the Most Beneficent, the Most Merciful.",
         "_deepnote_index_column": 0
        },
        {
         "id": 2,
         "chapter": 1,
         "verse": 2,
         "Sahih_International": "[All] praise is [due] to Allah , Lord of the worlds -",
         "Yusuf_Ali": "Praise be to Allah, the Cherisher and Sustainer of the worlds;",
         "Shakir": "All praise is due to Allah, the Lord of the Worlds.",
         "Muhammad_Sarwar": "All praise belongs to God, Lord of the Universe,",
         "Mohsin_Khan": "All the praises and thanks be to Allah, the Lord of the 'Alamin (mankind, jinns and all that exists).",
         "_deepnote_index_column": 1
        },
        {
         "id": 3,
         "chapter": 1,
         "verse": 3,
         "Sahih_International": "The Entirely Merciful, the Especially Merciful,",
         "Yusuf_Ali": "Most Gracious, Most Merciful;",
         "Shakir": "The Beneficent, the Merciful.",
         "Muhammad_Sarwar": "the Beneficent, the Merciful",
         "Mohsin_Khan": "The Most Beneficent, the Most Merciful.",
         "_deepnote_index_column": 2
        },
        {
         "id": 4,
         "chapter": 1,
         "verse": 4,
         "Sahih_International": "Sovereign of the Day of Recompense.",
         "Yusuf_Ali": "Master of the Day of Judgment.",
         "Shakir": "Master of the Day of Judgment.",
         "Muhammad_Sarwar": "and Master of the Day of Judgment",
         "Mohsin_Khan": "The Only Owner (and the Only Ruling Judge) of the Day of Recompense (i.e. the Day of Resurrection)",
         "_deepnote_index_column": 3
        },
        {
         "id": 5,
         "chapter": 1,
         "verse": 5,
         "Sahih_International": "It is You we worship and You we ask for help.",
         "Yusuf_Ali": "Thee do we worship, and Thine aid we seek.",
         "Shakir": "Thee do we serve and Thee do we beseech for help.",
         "Muhammad_Sarwar": "(Lord), You alone We do worship and from You alone we do seek assistance",
         "Mohsin_Khan": "You (Alone) we worship, and You (Alone) we ask for help (for each and everything).",
         "_deepnote_index_column": 4
        },
        {
         "id": 6,
         "chapter": 1,
         "verse": 6,
         "Sahih_International": "Guide us to the straight path -",
         "Yusuf_Ali": "Show us the straight way,",
         "Shakir": "Keep us on the right path.",
         "Muhammad_Sarwar": "(Lord), guide us to the right path,",
         "Mohsin_Khan": "Guide us to the Straight Way",
         "_deepnote_index_column": 5
        },
        {
         "id": 7,
         "chapter": 1,
         "verse": 7,
         "Sahih_International": "The path of those upon whom You have bestowed favor, not of those who have evoked [Your] anger or of those who are astray.",
         "Yusuf_Ali": "The way of those on whom Thou hast bestowed Thy Grace, those whose (portion) is not wrath, and who go not astray.",
         "Shakir": "The path of those upon whom Thou hast bestowed favors. Not (the path) of those upon whom Thy wrath is brought down, nor of those who go astray.",
         "Muhammad_Sarwar": "the path of those to whom You have granted blessings, those who are neither subject to Your anger nor have gone astray.",
         "Mohsin_Khan": "The Way of those on whom You have bestowed Your Grace , not (the way) of those who earned Your Anger (such as the Jews), nor of those who went astray (such as the Christians).",
         "_deepnote_index_column": 6
        },
        {
         "id": 8,
         "chapter": 2,
         "verse": 1,
         "Sahih_International": "Alif, Lam, Meem.",
         "Yusuf_Ali": "A.L.M.",
         "Shakir": "Alif Lam Mim.",
         "Muhammad_Sarwar": "Alif. Lam. Mim.",
         "Mohsin_Khan": "Alif-Lam-Mim. [These letters are one of the miracles of the Quran and none but Allah (Alone) knows their meanings].",
         "_deepnote_index_column": 7
        },
        {
         "id": 9,
         "chapter": 2,
         "verse": 2,
         "Sahih_International": "This is the Book about which there is no doubt, a guidance for those conscious of Allah -",
         "Yusuf_Ali": "This is the Book; in it is guidance sure, without doubt, to those who fear Allah;",
         "Shakir": "This Book, there is no doubt in it, is a guide to those who guard (against evil).",
         "Muhammad_Sarwar": "There is no doubt that this book is a guide for the pious;",
         "Mohsin_Khan": "This is the Book (the Quran), whereof there is no doubt, a guidance to those who are Al-Muttaqun [the pious and righteous persons who fear Allah much (abstain from all kinds of sins and evil deeds which He has forbidden) and love Allah much (perform all kinds of good deeds which He has ordained)].",
         "_deepnote_index_column": 8
        },
        {
         "id": 10,
         "chapter": 2,
         "verse": 3,
         "Sahih_International": "Who believe in the unseen, establish prayer, and spend out of what We have provided for them,",
         "Yusuf_Ali": "Who believe in the Unseen, are steadfast in prayer, and spend out of what We have provided for them;",
         "Shakir": "Those who believe in the unseen and keep up prayer and spend out of what We have given them.",
         "Muhammad_Sarwar": "the pious who believe in the unseen, attend to prayer, give in charity part of what We have granted them;",
         "Mohsin_Khan": "Who believe in the Ghaib and perform As-Salat (Iqamat-as-Salat), and spend out of what we have provided for them [i.e. give Zakat , spend on themselves, their parents, their children, their wives, etc., and also give charity to the poor and also in Allah's Cause - Jihad, etc.].",
         "_deepnote_index_column": 9
        }
       ]
      },
      "text/plain": "        id  chapter  verse                                Sahih_International  \\\n0        1        1      1  In the name of Allah , the Entirely Merciful, ...   \n1        2        1      2  [All] praise is [due] to Allah , Lord of the w...   \n2        3        1      3    The Entirely Merciful, the Especially Merciful,   \n3        4        1      4                Sovereign of the Day of Recompense.   \n4        5        1      5      It is You we worship and You we ask for help.   \n...    ...      ...    ...                                                ...   \n6231  6232      114      2                          The Sovereign of mankind.   \n6232  6233      114      3                                The God of mankind,   \n6233  6234      114      4        From the evil of the retreating whisperer -   \n6234  6235      114      5  Who whispers [evil] into the breasts of mankind -   \n6235  6236      114      6                  From among the jinn and mankind.\"   \n\n                                              Yusuf_Ali  \\\n0     In the name of Allah, Most Gracious, Most Merc...   \n1     Praise be to Allah, the Cherisher and Sustaine...   \n2                         Most Gracious, Most Merciful;   \n3                        Master of the Day of Judgment.   \n4            Thee do we worship, and Thine aid we seek.   \n...                                                 ...   \n6231                    The King (or Ruler) of Mankind,   \n6232                    The god (or judge) of Mankind,-   \n6233  From the mischief of the Whisperer (of Evil), ...   \n6234  (The same) who whispers into the hearts of Man...   \n6235                         Among Jinns and among men.   \n\n                                                 Shakir  \\\n0     In the name of Allah, the Beneficent, the Merc...   \n1     All praise is due to Allah, the Lord of the Wo...   \n2                         The Beneficent, the Merciful.   \n3                        Master of the Day of Judgment.   \n4     Thee do we serve and Thee do we beseech for help.   \n...                                                 ...   \n6231                                   The King of men,   \n6232                                    The god of men,   \n6233  From the evil of the whisperings of the slinki...   \n6234               Who whispers into the hearts of men,   \n6235                   From among the jinn and the men.   \n\n                                        Muhammad_Sarwar  \\\n0     In the Name of Allah, the Beneficent, the Merc...   \n1      All praise belongs to God, Lord of the Universe,   \n2                          the Beneficent, the Merciful   \n3                     and Master of the Day of Judgment   \n4     (Lord), You alone We do worship and from You a...   \n...                                                 ...   \n6231                               the King of mankind,   \n6232                                the Lord of mankind   \n6233  against the evil of the temptations of the sat...   \n6234                           of jinn and human beings   \n6235  who induce temptation into the hearts of mankind.   \n\n                                            Mohsin_Khan  \n0     In the Name of Allah, the Most Beneficent, the...  \n1     All the praises and thanks be to Allah, the Lo...  \n2               The Most Beneficent, the Most Merciful.  \n3     The Only Owner (and the Only Ruling Judge) of ...  \n4     You (Alone) we worship, and You (Alone) we ask...  \n...                                                 ...  \n6231                              \"The King of mankind,  \n6232                        \"The Ilah (God) of mankind,  \n6233  \"From the evil of the whisperer (devil who whi...  \n6234           \"Who whispers in the breasts of mankind,  \n6235                                \"Of jinns and men.\"  \n\n[6236 rows x 8 columns]",
      "text/html": "<div>\n<style scoped>\n    .dataframe tbody tr th:only-of-type {\n        vertical-align: middle;\n    }\n\n    .dataframe tbody tr th {\n        vertical-align: top;\n    }\n\n    .dataframe thead th {\n        text-align: right;\n    }\n</style>\n<table border=\"1\" class=\"dataframe\">\n  <thead>\n    <tr style=\"text-align: right;\">\n      <th></th>\n      <th>id</th>\n      <th>chapter</th>\n      <th>verse</th>\n      <th>Sahih_International</th>\n      <th>Yusuf_Ali</th>\n      <th>Shakir</th>\n      <th>Muhammad_Sarwar</th>\n      <th>Mohsin_Khan</th>\n    </tr>\n  </thead>\n  <tbody>\n    <tr>\n      <th>0</th>\n      <td>1</td>\n      <td>1</td>\n      <td>1</td>\n      <td>In the name of Allah , the Entirely Merciful, ...</td>\n      <td>In the name of Allah, Most Gracious, Most Merc...</td>\n      <td>In the name of Allah, the Beneficent, the Merc...</td>\n      <td>In the Name of Allah, the Beneficent, the Merc...</td>\n      <td>In the Name of Allah, the Most Beneficent, the...</td>\n    </tr>\n    <tr>\n      <th>1</th>\n      <td>2</td>\n      <td>1</td>\n      <td>2</td>\n      <td>[All] praise is [due] to Allah , Lord of the w...</td>\n      <td>Praise be to Allah, the Cherisher and Sustaine...</td>\n      <td>All praise is due to Allah, the Lord of the Wo...</td>\n      <td>All praise belongs to God, Lord of the Universe,</td>\n      <td>All the praises and thanks be to Allah, the Lo...</td>\n    </tr>\n    <tr>\n      <th>2</th>\n      <td>3</td>\n      <td>1</td>\n      <td>3</td>\n      <td>The Entirely Merciful, the Especially Merciful,</td>\n      <td>Most Gracious, Most Merciful;</td>\n      <td>The Beneficent, the Merciful.</td>\n      <td>the Beneficent, the Merciful</td>\n      <td>The Most Beneficent, the Most Merciful.</td>\n    </tr>\n    <tr>\n      <th>3</th>\n      <td>4</td>\n      <td>1</td>\n      <td>4</td>\n      <td>Sovereign of the Day of Recompense.</td>\n      <td>Master of the Day of Judgment.</td>\n      <td>Master of the Day of Judgment.</td>\n      <td>and Master of the Day of Judgment</td>\n      <td>The Only Owner (and the Only Ruling Judge) of ...</td>\n    </tr>\n    <tr>\n      <th>4</th>\n      <td>5</td>\n      <td>1</td>\n      <td>5</td>\n      <td>It is You we worship and You we ask for help.</td>\n      <td>Thee do we worship, and Thine aid we seek.</td>\n      <td>Thee do we serve and Thee do we beseech for help.</td>\n      <td>(Lord), You alone We do worship and from You a...</td>\n      <td>You (Alone) we worship, and You (Alone) we ask...</td>\n    </tr>\n    <tr>\n      <th>...</th>\n      <td>...</td>\n      <td>...</td>\n      <td>...</td>\n      <td>...</td>\n      <td>...</td>\n      <td>...</td>\n      <td>...</td>\n      <td>...</td>\n    </tr>\n    <tr>\n      <th>6231</th>\n      <td>6232</td>\n      <td>114</td>\n      <td>2</td>\n      <td>The Sovereign of mankind.</td>\n      <td>The King (or Ruler) of Mankind,</td>\n      <td>The King of men,</td>\n      <td>the King of mankind,</td>\n      <td>\"The King of mankind,</td>\n    </tr>\n    <tr>\n      <th>6232</th>\n      <td>6233</td>\n      <td>114</td>\n      <td>3</td>\n      <td>The God of mankind,</td>\n      <td>The god (or judge) of Mankind,-</td>\n      <td>The god of men,</td>\n      <td>the Lord of mankind</td>\n      <td>\"The Ilah (God) of mankind,</td>\n    </tr>\n    <tr>\n      <th>6233</th>\n      <td>6234</td>\n      <td>114</td>\n      <td>4</td>\n      <td>From the evil of the retreating whisperer -</td>\n      <td>From the mischief of the Whisperer (of Evil), ...</td>\n      <td>From the evil of the whisperings of the slinki...</td>\n      <td>against the evil of the temptations of the sat...</td>\n      <td>\"From the evil of the whisperer (devil who whi...</td>\n    </tr>\n    <tr>\n      <th>6234</th>\n      <td>6235</td>\n      <td>114</td>\n      <td>5</td>\n      <td>Who whispers [evil] into the breasts of mankind -</td>\n      <td>(The same) who whispers into the hearts of Man...</td>\n      <td>Who whispers into the hearts of men,</td>\n      <td>of jinn and human beings</td>\n      <td>\"Who whispers in the breasts of mankind,</td>\n    </tr>\n    <tr>\n      <th>6235</th>\n      <td>6236</td>\n      <td>114</td>\n      <td>6</td>\n      <td>From among the jinn and mankind.\"</td>\n      <td>Among Jinns and among men.</td>\n      <td>From among the jinn and the men.</td>\n      <td>who induce temptation into the hearts of mankind.</td>\n      <td>\"Of jinns and men.\"</td>\n    </tr>\n  </tbody>\n</table>\n<p>6236 rows × 8 columns</p>\n</div>"
     },
     "metadata": {}
    }
   ]
  },
  {
   "cell_type": "markdown",
   "source": "### Filtering on single Verse",
   "metadata": {
    "formattedRanges": [],
    "cell_id": "a91206225e6f4d4699928a38e68ac46c",
    "tags": [],
    "is_collapsed": false,
    "deepnote_app_coordinates": {
     "x": 0,
     "y": 97,
     "w": 12,
     "h": 5
    },
    "deepnote_cell_type": "text-cell-h3"
   }
  },
  {
   "cell_type": "code",
   "metadata": {
    "cell_id": "49d8edaeee1248ae8f17cd12eca28292",
    "tags": [],
    "deepnote_to_be_reexecuted": false,
    "source_hash": "843db445",
    "execution_start": 1657515771563,
    "execution_millis": 64,
    "deepnote_app_coordinates": {
     "x": 0,
     "y": 85,
     "w": 12,
     "h": 5
    },
    "deepnote_cell_type": "code",
    "deepnote_cell_height": 231
   },
   "source": "verses[verses.id==527]",
   "execution_count": 7,
   "outputs": [
    {
     "output_type": "execute_result",
     "execution_count": 7,
     "data": {
      "application/vnd.deepnote.dataframe.v3+json": {
       "column_count": 8,
       "row_count": 1,
       "columns": [
        {
         "name": "id",
         "dtype": "int64",
         "stats": {
          "unique_count": 1,
          "nan_count": 0,
          "min": "527",
          "max": "527",
          "histogram": [
           {
            "bin_start": 526.5,
            "bin_end": 526.6,
            "count": 0
           },
           {
            "bin_start": 526.6,
            "bin_end": 526.7,
            "count": 0
           },
           {
            "bin_start": 526.7,
            "bin_end": 526.8,
            "count": 0
           },
           {
            "bin_start": 526.8,
            "bin_end": 526.9,
            "count": 0
           },
           {
            "bin_start": 526.9,
            "bin_end": 527,
            "count": 0
           },
           {
            "bin_start": 527,
            "bin_end": 527.1,
            "count": 1
           },
           {
            "bin_start": 527.1,
            "bin_end": 527.2,
            "count": 0
           },
           {
            "bin_start": 527.2,
            "bin_end": 527.3,
            "count": 0
           },
           {
            "bin_start": 527.3,
            "bin_end": 527.4,
            "count": 0
           },
           {
            "bin_start": 527.4,
            "bin_end": 527.5,
            "count": 0
           }
          ]
         }
        },
        {
         "name": "chapter",
         "dtype": "int64",
         "stats": {
          "unique_count": 1,
          "nan_count": 0,
          "min": "4",
          "max": "4",
          "histogram": [
           {
            "bin_start": 3.5,
            "bin_end": 3.6,
            "count": 0
           },
           {
            "bin_start": 3.6,
            "bin_end": 3.7,
            "count": 0
           },
           {
            "bin_start": 3.7,
            "bin_end": 3.8,
            "count": 0
           },
           {
            "bin_start": 3.8,
            "bin_end": 3.9,
            "count": 0
           },
           {
            "bin_start": 3.9,
            "bin_end": 4,
            "count": 0
           },
           {
            "bin_start": 4,
            "bin_end": 4.1,
            "count": 1
           },
           {
            "bin_start": 4.1,
            "bin_end": 4.2,
            "count": 0
           },
           {
            "bin_start": 4.2,
            "bin_end": 4.3,
            "count": 0
           },
           {
            "bin_start": 4.3,
            "bin_end": 4.4,
            "count": 0
           },
           {
            "bin_start": 4.4,
            "bin_end": 4.5,
            "count": 0
           }
          ]
         }
        },
        {
         "name": "verse",
         "dtype": "int64",
         "stats": {
          "unique_count": 1,
          "nan_count": 0,
          "min": "34",
          "max": "34",
          "histogram": [
           {
            "bin_start": 33.5,
            "bin_end": 33.6,
            "count": 0
           },
           {
            "bin_start": 33.6,
            "bin_end": 33.7,
            "count": 0
           },
           {
            "bin_start": 33.7,
            "bin_end": 33.8,
            "count": 0
           },
           {
            "bin_start": 33.8,
            "bin_end": 33.9,
            "count": 0
           },
           {
            "bin_start": 33.9,
            "bin_end": 34,
            "count": 0
           },
           {
            "bin_start": 34,
            "bin_end": 34.1,
            "count": 1
           },
           {
            "bin_start": 34.1,
            "bin_end": 34.2,
            "count": 0
           },
           {
            "bin_start": 34.2,
            "bin_end": 34.3,
            "count": 0
           },
           {
            "bin_start": 34.3,
            "bin_end": 34.4,
            "count": 0
           },
           {
            "bin_start": 34.4,
            "bin_end": 34.5,
            "count": 0
           }
          ]
         }
        },
        {
         "name": "Sahih_International",
         "dtype": "object",
         "stats": {
          "unique_count": 1,
          "nan_count": 0,
          "categories": [
           {
            "name": "Men are in charge of women by [right of] what Allah has given one over the other and what they spend [for maintenance] from their wealth. So righteous women are devoutly obedient, guarding in [the husband's] absence what Allah would have them guard. But those [wives] from whom you fear arrogance - [first] advise them; [then if they persist], forsake them in bed; and [finally], strike them. But if they obey you [once more], seek no means against them. Indeed, Allah is ever Exalted and Grand.",
            "count": 1
           }
          ]
         }
        },
        {
         "name": "Yusuf_Ali",
         "dtype": "object",
         "stats": {
          "unique_count": 1,
          "nan_count": 0,
          "categories": [
           {
            "name": "Men are the protectors and maintainers of women, because Allah has given the one more (strength) than the other, and because they support them from their means. Therefore the righteous women are devoutly obedient, and guard in (the husband's) absence what Allah would have them guard. As to those women on whose part ye fear disloyalty and ill-conduct, admonish them (first), (Next), refuse to share their beds, (And last) beat them (lightly); but if they return to obedience, seek not against them Means (of annoyance): For Allah is Most High, great (above you all).",
            "count": 1
           }
          ]
         }
        },
        {
         "name": "Shakir",
         "dtype": "object",
         "stats": {
          "unique_count": 1,
          "nan_count": 0,
          "categories": [
           {
            "name": "Men are the maintainers of women because Allah has made some of them to excel others and because they spend out of their property; the good women are therefore obedient, guarding the unseen as Allah has guarded; and (as to) those on whose part you fear desertion, admonish them, and leave them alone in the sleeping-places and beat them; then if they obey you, do not seek a way against them; surely Allah is High, Great.",
            "count": 1
           }
          ]
         }
        },
        {
         "name": "Muhammad_Sarwar",
         "dtype": "object",
         "stats": {
          "unique_count": 1,
          "nan_count": 0,
          "categories": [
           {
            "name": "Men are the protectors of women because of the greater preference that God has given to some of them and because they financially support them. Among virtuous women are those who are steadfast in prayer and dependable in keeping the secrets that God has protected. Admonish women who disobey (God's laws), do not sleep with them and beat them. If they obey (the laws of God), do not try to find fault in them. God is High and Supreme.",
            "count": 1
           }
          ]
         }
        },
        {
         "name": "Mohsin_Khan",
         "dtype": "object",
         "stats": {
          "unique_count": 1,
          "nan_count": 0,
          "categories": [
           {
            "name": "Men are the protectors and maintainers of women, because Allah has made one of them to excel the other, and because they spend (to support them) from their means. Therefore the righteous women are devoutly obedient (to Allah and to their husbands), and guard in the husband's absence what Allah orders them to guard (e.g. their chastity, their husband's property, etc.). As to those women on whose part you see ill­conduct, admonish them (first), (next), refuse to share their beds, (and last) beat them (lightly, if it is useful), but if they return to obedience, seek not against them means (of annoyance). Surely, Allah is Ever Most High, Most Great.",
            "count": 1
           }
          ]
         }
        },
        {
         "name": "_deepnote_index_column",
         "dtype": "int64"
        }
       ],
       "rows": [
        {
         "id": 527,
         "chapter": 4,
         "verse": 34,
         "Sahih_International": "Men are in charge of women by [right of] what Allah has given one over the other and what they spend [for maintenance] from their wealth. So righteous women are devoutly obedient, guarding in [the husband's] absence what Allah would have them guard. But those [wives] from whom you fear arrogance - [first] advise them; [then if they persist], forsake them in bed; and [finally], strike them. But if they obey you [once more], seek no means against them. Indeed, Allah is ever Exalted and Grand.",
         "Yusuf_Ali": "Men are the protectors and maintainers of women, because Allah has given the one more (strength) than the other, and because they support them from their means. Therefore the righteous women are devoutly obedient, and guard in (the husband's) absence what Allah would have them guard. As to those women on whose part ye fear disloyalty and ill-conduct, admonish them (first), (Next), refuse to share their beds, (And last) beat them (lightly); but if they return to obedience, seek not against them Means (of annoyance): For Allah is Most High, great (above you all).",
         "Shakir": "Men are the maintainers of women because Allah has made some of them to excel others and because they spend out of their property; the good women are therefore obedient, guarding the unseen as Allah has guarded; and (as to) those on whose part you fear desertion, admonish them, and leave them alone in the sleeping-places and beat them; then if they obey you, do not seek a way against them; surely Allah is High, Great.",
         "Muhammad_Sarwar": "Men are the protectors of women because of the greater preference that God has given to some of them and because they financially support them. Among virtuous women are those who are steadfast in prayer and dependable in keeping the secrets that God has protected. Admonish women who disobey (God's laws), do not sleep with them and beat them. If they obey (the laws of God), do not try to find fault in them. God is High and Supreme.",
         "Mohsin_Khan": "Men are the protectors and maintainers of women, because Allah has made one of them to excel the other, and because they spend (to support them) from their means. Therefore the righteous women are devoutly obedient (to Allah and to their husbands), and guard in the husband's absence what Allah orders them to guard (e.g. their chastity, their husband's property, etc.). As to those women on whose part you see ill­conduct, admonish them (first), (next), refuse to share their beds, (and last) beat them (lightly, if it is useful), but if they return to obedience, seek not against them means (of annoyance). Surely, Allah is Ever Most High, Most Great.",
         "_deepnote_index_column": 526
        }
       ]
      },
      "text/plain": "      id  chapter  verse                                Sahih_International  \\\n526  527        4     34  Men are in charge of women by [right of] what ...   \n\n                                             Yusuf_Ali  \\\n526  Men are the protectors and maintainers of wome...   \n\n                                                Shakir  \\\n526  Men are the maintainers of women because Allah...   \n\n                                       Muhammad_Sarwar  \\\n526  Men are the protectors of women because of the...   \n\n                                           Mohsin_Khan  \n526  Men are the protectors and maintainers of wome...  ",
      "text/html": "<div>\n<style scoped>\n    .dataframe tbody tr th:only-of-type {\n        vertical-align: middle;\n    }\n\n    .dataframe tbody tr th {\n        vertical-align: top;\n    }\n\n    .dataframe thead th {\n        text-align: right;\n    }\n</style>\n<table border=\"1\" class=\"dataframe\">\n  <thead>\n    <tr style=\"text-align: right;\">\n      <th></th>\n      <th>id</th>\n      <th>chapter</th>\n      <th>verse</th>\n      <th>Sahih_International</th>\n      <th>Yusuf_Ali</th>\n      <th>Shakir</th>\n      <th>Muhammad_Sarwar</th>\n      <th>Mohsin_Khan</th>\n    </tr>\n  </thead>\n  <tbody>\n    <tr>\n      <th>526</th>\n      <td>527</td>\n      <td>4</td>\n      <td>34</td>\n      <td>Men are in charge of women by [right of] what ...</td>\n      <td>Men are the protectors and maintainers of wome...</td>\n      <td>Men are the maintainers of women because Allah...</td>\n      <td>Men are the protectors of women because of the...</td>\n      <td>Men are the protectors and maintainers of wome...</td>\n    </tr>\n  </tbody>\n</table>\n</div>"
     },
     "metadata": {}
    }
   ]
  },
  {
   "cell_type": "markdown",
   "source": "<a style='text-decoration:none;line-height:16px;display:flex;color:#5B5B62;padding:10px;justify-content:end;' href='https://deepnote.com?utm_source=created-in-deepnote-cell&projectId=bde230b6-0e7f-496d-9e8b-b7ffaeec8999' target=\"_blank\">\n<img alt='Created in deepnote.com' style='display:inline;max-height:16px;margin:0px;margin-right:7.5px;' src='data:image/svg+xml;base64,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' > </img>\nCreated in <span style='font-weight:600;margin-left:4px;'>Deepnote</span></a>",
   "metadata": {
    "tags": [],
    "created_in_deepnote_cell": true,
    "deepnote_cell_type": "markdown"
   }
  }
 ],
 "nbformat": 4,
 "nbformat_minor": 2,
 "metadata": {
  "orig_nbformat": 2,
  "deepnote": {},
  "deepnote_notebook_id": "f93e8e6b-efbd-41d8-9bcd-8dff25a050d7",
  "deepnote_execution_queue": [],
  "deepnote_app_layout": "article"
 }
}